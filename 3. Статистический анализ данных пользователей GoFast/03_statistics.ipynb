{
 "cells": [
  {
   "cell_type": "markdown",
   "id": "5612411e",
   "metadata": {},
   "source": [
    "# Анализ данных сервиса аренды самокатов GoFast\n",
    "\n",
    "## Описание:\n",
    "- Задачей является анализ данных о пользователях и их поездках для выявления паттернов, проверки гипотез и предоставления рекомендаций для развития бизнеса.\n",
    "\n",
    "## Цель:\n",
    "- Провести статистический анализ данных пользователей GoFast с целью выявления трендов, проверки гипотез и предоставления рекомендаций для увеличения эффективности бизнеса.\n",
    "\n",
    "## Описание данных:\n",
    "Пользователи (users_go.csv)\n",
    "- user_id: уникальный идентификатор пользователя\n",
    "- name: имя пользователя\n",
    "- age: возраст\n",
    "- city: город\n",
    "- subscription_type: тип подписки (free, ultra)\n",
    "\n",
    "Поездки (rides_go.csv)\n",
    "- user_id: уникальный идентификатор пользователя\n",
    "- distance: расстояние поездки в метрах\n",
    "- duration: продолжительность поездки в минутах\n",
    "- date: дата совершения поездки\n",
    "\n",
    "Подписки (subscriptions_go.csv)\n",
    "- subscription_type: тип подписки\n",
    "- minute_price: стоимость одной минуты поездки\n",
    "- start_ride_price: стоимость начала поездки\n",
    "- subscription_fee: стоимость ежемесячного платежа\n",
    "\n",
    "# Краткий план работы:\n",
    "Загрузка данных\n",
    "- 1.1 Считать CSV-файлы и изучить общую информацию о данных.\n",
    "\n",
    "Предобработка данных\n",
    "- 2.1 Привести столбец date к типу даты.\n",
    "- 2.2 Создать столбец с номером месяца на основе столбца date.\n",
    "- 2.3 Обработать пропущенные значения и дубликаты.\n",
    "\n",
    "Исследовательский анализ данных\n",
    "- 3.1 Описать и визуализировать информацию о пользователях и поездках.\n",
    "- 3.2 Анализировать частоту встречаемости городов, соотношение пользователей с подпиской и без, возраст пользователей, расстояние и продолжительность поездок.\n",
    "\n",
    "Объединение данных\n",
    "- 4.1 Объединить данные о пользователях, поездках и подписках.\n",
    "- 4.2 Создать датафреймы для пользователей без подписки и с подпиской.\n",
    "- 4.3 Визуализировать информацию о расстоянии и времени поездок для обеих категорий пользователей.\n",
    "\n",
    "Подсчёт выручки\n",
    "- 5.1 Создать датафрейм с агрегированными данными о поездках.\n",
    "- 5.2 Добавить столбец с помесячной выручкой на основе условий оплаты.\n",
    "\n",
    "Проверка гипотез\n",
    "- 6.1 Проверить гипотезу о том, тратят ли пользователи с подпиской больше времени на поездки.\n",
    "- 6.2 Проверить гипотезу о том, что среднее расстояние поездок для пользователей с подпиской не превышает 3130 метров.\n",
    "- 6.3 Проверить гипотезу о том, что помесячная выручка от пользователей с подпиской выше, чем от пользователей без подписки.\n",
    "- 6.4 Определить необходимый тест для проверки гипотезы о снижении обращений в техподдержку после обновления серверов.\n",
    "\n",
    "Общий вывод\n",
    "- 7.1 Краткий вывод с результатами"
   ]
  },
  {
   "cell_type": "markdown",
   "id": "709d55e9",
   "metadata": {},
   "source": [
    "<div class=\"alert alert-success\">\n",
    "<h2> Комментарий ревьюера 😊 v_2 <a class=\"tocSkip\"> </h2>\n",
    "\n",
    "Отличное введение к проекту)"
   ]
  },
  {
   "cell_type": "code",
   "execution_count": 1,
   "id": "72576667",
   "metadata": {},
   "outputs": [],
   "source": [
    "import pandas as pd\n",
    "import matplotlib.pyplot as plt\n",
    "import seaborn as sns\n",
    "import plotly.express as px\n",
    "import numpy as np\n",
    "from scipy import stats as st"
   ]
  },
  {
   "cell_type": "markdown",
   "id": "bd2e269c",
   "metadata": {},
   "source": [
    "<div class=\"alert alert-success\">\n",
    "<h2> Комментарий ревьюера 😊<a class=\"tocSkip\"> </h2>\n",
    "\n",
    "Молодец, что загружаешь все библиотеки в начале проекта. Так сложней случайно удалить ячейку с загрузкой нужной библиотеки и сделать код не работающим. А получатель отчета сразу поймет, какие библиотеки ты используешь и какие ему нужно установить для запуска проекта.\n",
    "\n",
    "</div>"
   ]
  },
  {
   "cell_type": "markdown",
   "id": "c42cbe00",
   "metadata": {},
   "source": [
    "# Шаг 1. Загрузка данных"
   ]
  },
  {
   "cell_type": "markdown",
   "id": "19f74531",
   "metadata": {},
   "source": [
    "## Таблица с пользователями"
   ]
  },
  {
   "cell_type": "code",
   "execution_count": 2,
   "id": "eff9f206",
   "metadata": {},
   "outputs": [],
   "source": [
    "try:\n",
    "    data_users = pd.read_csv('/datasets/users_go.csv')\n",
    "except:\n",
    "    data_users = pd.read_csv('https://code.s3.yandex.net/datasets/users_go.csv')"
   ]
  },
  {
   "cell_type": "code",
   "execution_count": 3,
   "id": "dfc055ef",
   "metadata": {},
   "outputs": [
    {
     "name": "stdout",
     "output_type": "stream",
     "text": [
      "<class 'pandas.core.frame.DataFrame'>\n",
      "RangeIndex: 1565 entries, 0 to 1564\n",
      "Data columns (total 5 columns):\n",
      " #   Column             Non-Null Count  Dtype \n",
      "---  ------             --------------  ----- \n",
      " 0   user_id            1565 non-null   int64 \n",
      " 1   name               1565 non-null   object\n",
      " 2   age                1565 non-null   int64 \n",
      " 3   city               1565 non-null   object\n",
      " 4   subscription_type  1565 non-null   object\n",
      "dtypes: int64(2), object(3)\n",
      "memory usage: 61.3+ KB\n"
     ]
    }
   ],
   "source": [
    "data_users.info()"
   ]
  },
  {
   "cell_type": "code",
   "execution_count": 4,
   "id": "ffee56b6",
   "metadata": {},
   "outputs": [
    {
     "data": {
      "image/png": "[encoded data removed]",
      "text/plain": [
       "<Figure size 432x288 with 1 Axes>"
      ]
     },
     "metadata": {
      "needs_background": "light"
     },
     "output_type": "display_data"
    }
   ],
   "source": [
    "plt.hist(data_users['age'], bins = 10)\n",
    "plt.title('Возраст пользователей')\n",
    "plt.xlabel('Возраст')\n",
    "plt.ylabel('Количество пользователей')\n",
    "plt.grid()\n",
    "plt.show()"
   ]
  },
  {
   "cell_type": "code",
   "execution_count": 5,
   "id": "83b318b4",
   "metadata": {},
   "outputs": [
    {
     "data": {
      "text/plain": [
       "Пятигорск         226\n",
       "Екатеринбург      206\n",
       "Ростов-на-Дону    202\n",
       "Краснодар         196\n",
       "Сочи              192\n",
       "Омск              186\n",
       "Тюмень            185\n",
       "Москва            172\n",
       "Name: city, dtype: int64"
      ]
     },
     "execution_count": 5,
     "metadata": {},
     "output_type": "execute_result"
    }
   ],
   "source": [
    "count_users_by_city = data_users['city'].value_counts()\n",
    "count_users_by_city"
   ]
  },
  {
   "cell_type": "code",
   "execution_count": 6,
   "id": "0c482771",
   "metadata": {},
   "outputs": [
    {
     "data": {
      "image/png": "[encoded data removed]",
      "text/plain": [
       "<Figure size 504x504 with 1 Axes>"
      ]
     },
     "metadata": {},
     "output_type": "display_data"
    }
   ],
   "source": [
    "data_users['city'].value_counts().plot(\n",
    "    kind = 'pie', \n",
    "    y = count_users_by_city,\n",
    "    autopct = '%1.0f%%',\n",
    "    figsize=(7,7), \n",
    "    title = 'Распределение пользователей по городам');"
   ]
  },
  {
   "cell_type": "code",
   "execution_count": 7,
   "id": "5eb5b0d4",
   "metadata": {},
   "outputs": [
    {
     "data": {
      "text/plain": [
       "free     846\n",
       "ultra    719\n",
       "Name: subscription_type, dtype: int64"
      ]
     },
     "execution_count": 7,
     "metadata": {},
     "output_type": "execute_result"
    }
   ],
   "source": [
    "count_sub = data_users['subscription_type'].value_counts()\n",
    "count_sub"
   ]
  },
  {
   "cell_type": "code",
   "execution_count": 8,
   "id": "f3246e88",
   "metadata": {},
   "outputs": [
    {
     "data": {
      "image/png": "[encoded data removed]",
      "text/plain": [
       "<Figure size 360x360 with 1 Axes>"
      ]
     },
     "metadata": {},
     "output_type": "display_data"
    }
   ],
   "source": [
    "\n",
    "data_users['subscription_type'].value_counts().plot(\n",
    "    kind = 'pie', \n",
    "    y = count_sub, \n",
    "    autopct = '%1.0f%%', \n",
    "    figsize=(5,5),\n",
    "    title = 'Процентное соотношение пользователей в зависимости от тарифа');"
   ]
  },
  {
   "cell_type": "code",
   "execution_count": 9,
   "id": "1c1c782e",
   "metadata": {},
   "outputs": [
    {
     "data": {
      "text/html": [
       "<div>\n",
       "<style scoped>\n",
       "    .dataframe tbody tr th:only-of-type {\n",
       "        vertical-align: middle;\n",
       "    }\n",
       "\n",
       "    .dataframe tbody tr th {\n",
       "        vertical-align: top;\n",
       "    }\n",
       "\n",
       "    .dataframe thead th {\n",
       "        text-align: right;\n",
       "    }\n",
       "</style>\n",
       "<table border=\"1\" class=\"dataframe\">\n",
       "  <thead>\n",
       "    <tr style=\"text-align: right;\">\n",
       "      <th></th>\n",
       "      <th>user_id</th>\n",
       "      <th>name</th>\n",
       "      <th>age</th>\n",
       "      <th>city</th>\n",
       "      <th>subscription_type</th>\n",
       "    </tr>\n",
       "  </thead>\n",
       "  <tbody>\n",
       "    <tr>\n",
       "      <th>0</th>\n",
       "      <td>1</td>\n",
       "      <td>Кира</td>\n",
       "      <td>22</td>\n",
       "      <td>Тюмень</td>\n",
       "      <td>ultra</td>\n",
       "    </tr>\n",
       "    <tr>\n",
       "      <th>1</th>\n",
       "      <td>2</td>\n",
       "      <td>Станислав</td>\n",
       "      <td>31</td>\n",
       "      <td>Омск</td>\n",
       "      <td>ultra</td>\n",
       "    </tr>\n",
       "    <tr>\n",
       "      <th>2</th>\n",
       "      <td>3</td>\n",
       "      <td>Алексей</td>\n",
       "      <td>20</td>\n",
       "      <td>Москва</td>\n",
       "      <td>ultra</td>\n",
       "    </tr>\n",
       "    <tr>\n",
       "      <th>3</th>\n",
       "      <td>4</td>\n",
       "      <td>Константин</td>\n",
       "      <td>26</td>\n",
       "      <td>Ростов-на-Дону</td>\n",
       "      <td>ultra</td>\n",
       "    </tr>\n",
       "    <tr>\n",
       "      <th>4</th>\n",
       "      <td>5</td>\n",
       "      <td>Адель</td>\n",
       "      <td>28</td>\n",
       "      <td>Омск</td>\n",
       "      <td>ultra</td>\n",
       "    </tr>\n",
       "    <tr>\n",
       "      <th>5</th>\n",
       "      <td>6</td>\n",
       "      <td>Регина</td>\n",
       "      <td>25</td>\n",
       "      <td>Краснодар</td>\n",
       "      <td>ultra</td>\n",
       "    </tr>\n",
       "    <tr>\n",
       "      <th>6</th>\n",
       "      <td>7</td>\n",
       "      <td>Игорь</td>\n",
       "      <td>23</td>\n",
       "      <td>Омск</td>\n",
       "      <td>ultra</td>\n",
       "    </tr>\n",
       "    <tr>\n",
       "      <th>7</th>\n",
       "      <td>8</td>\n",
       "      <td>Юрий</td>\n",
       "      <td>23</td>\n",
       "      <td>Краснодар</td>\n",
       "      <td>ultra</td>\n",
       "    </tr>\n",
       "    <tr>\n",
       "      <th>8</th>\n",
       "      <td>9</td>\n",
       "      <td>Ян</td>\n",
       "      <td>21</td>\n",
       "      <td>Пятигорск</td>\n",
       "      <td>ultra</td>\n",
       "    </tr>\n",
       "    <tr>\n",
       "      <th>9</th>\n",
       "      <td>10</td>\n",
       "      <td>Валерий</td>\n",
       "      <td>18</td>\n",
       "      <td>Екатеринбург</td>\n",
       "      <td>ultra</td>\n",
       "    </tr>\n",
       "  </tbody>\n",
       "</table>\n",
       "</div>"
      ],
      "text/plain": [
       "   user_id        name  age            city subscription_type\n",
       "0        1        Кира   22          Тюмень             ultra\n",
       "1        2   Станислав   31            Омск             ultra\n",
       "2        3     Алексей   20          Москва             ultra\n",
       "3        4  Константин   26  Ростов-на-Дону             ultra\n",
       "4        5       Адель   28            Омск             ultra\n",
       "5        6      Регина   25       Краснодар             ultra\n",
       "6        7       Игорь   23            Омск             ultra\n",
       "7        8        Юрий   23       Краснодар             ultra\n",
       "8        9          Ян   21       Пятигорск             ultra\n",
       "9       10     Валерий   18    Екатеринбург             ultra"
      ]
     },
     "execution_count": 9,
     "metadata": {},
     "output_type": "execute_result"
    }
   ],
   "source": [
    "data_users.head(10)"
   ]
  },
  {
   "cell_type": "markdown",
   "id": "8a64d931",
   "metadata": {},
   "source": [
    "## Таблица с поездками"
   ]
  },
  {
   "cell_type": "code",
   "execution_count": 10,
   "id": "8713234e",
   "metadata": {},
   "outputs": [],
   "source": [
    "try:\n",
    "    data_riders = pd.read_csv('/datasets/rides_go.csv')\n",
    "except:\n",
    "    data_riders = pd.read_csv('https://code.s3.yandex.net/datasets/rides_go.csv')"
   ]
  },
  {
   "cell_type": "code",
   "execution_count": 11,
   "id": "a37c6cc0",
   "metadata": {},
   "outputs": [
    {
     "name": "stdout",
     "output_type": "stream",
     "text": [
      "<class 'pandas.core.frame.DataFrame'>\n",
      "RangeIndex: 18068 entries, 0 to 18067\n",
      "Data columns (total 4 columns):\n",
      " #   Column    Non-Null Count  Dtype  \n",
      "---  ------    --------------  -----  \n",
      " 0   user_id   18068 non-null  int64  \n",
      " 1   distance  18068 non-null  float64\n",
      " 2   duration  18068 non-null  float64\n",
      " 3   date      18068 non-null  object \n",
      "dtypes: float64(2), int64(1), object(1)\n",
      "memory usage: 564.8+ KB\n"
     ]
    }
   ],
   "source": [
    "data_riders.info()"
   ]
  },
  {
   "cell_type": "code",
   "execution_count": 12,
   "id": "09f4146d",
   "metadata": {},
   "outputs": [],
   "source": [
    "top_riders = data_riders['user_id'].value_counts().sort_values(ascending=False)"
   ]
  },
  {
   "cell_type": "code",
   "execution_count": 13,
   "id": "3211da0e",
   "metadata": {},
   "outputs": [
    {
     "data": {
      "text/plain": [
       "1236    27\n",
       "1063    26\n",
       "783     26\n",
       "1204    24\n",
       "1149    23\n",
       "716     23\n",
       "1531    23\n",
       "1030    23\n",
       "1252    22\n",
       "919     22\n",
       "Name: user_id, dtype: int64"
      ]
     },
     "execution_count": 13,
     "metadata": {},
     "output_type": "execute_result"
    }
   ],
   "source": [
    "top_riders.head(10)"
   ]
  },
  {
   "cell_type": "code",
   "execution_count": 14,
   "id": "d3f963ef",
   "metadata": {},
   "outputs": [],
   "source": [
    "total_distance_by_user = data_riders.groupby(['user_id']).sum(numeric_only = True)"
   ]
  },
  {
   "cell_type": "code",
   "execution_count": 15,
   "id": "7381e14b",
   "metadata": {},
   "outputs": [
    {
     "data": {
      "text/html": [
       "<div>\n",
       "<style scoped>\n",
       "    .dataframe tbody tr th:only-of-type {\n",
       "        vertical-align: middle;\n",
       "    }\n",
       "\n",
       "    .dataframe tbody tr th {\n",
       "        vertical-align: top;\n",
       "    }\n",
       "\n",
       "    .dataframe thead th {\n",
       "        text-align: right;\n",
       "    }\n",
       "</style>\n",
       "<table border=\"1\" class=\"dataframe\">\n",
       "  <thead>\n",
       "    <tr style=\"text-align: right;\">\n",
       "      <th></th>\n",
       "      <th>distance</th>\n",
       "      <th>duration</th>\n",
       "    </tr>\n",
       "    <tr>\n",
       "      <th>user_id</th>\n",
       "      <th></th>\n",
       "      <th></th>\n",
       "    </tr>\n",
       "  </thead>\n",
       "  <tbody>\n",
       "    <tr>\n",
       "      <th>1</th>\n",
       "      <td>34070.182066</td>\n",
       "      <td>204.604909</td>\n",
       "    </tr>\n",
       "    <tr>\n",
       "      <th>2</th>\n",
       "      <td>33964.058614</td>\n",
       "      <td>197.644279</td>\n",
       "    </tr>\n",
       "    <tr>\n",
       "      <th>3</th>\n",
       "      <td>36907.597866</td>\n",
       "      <td>233.193513</td>\n",
       "    </tr>\n",
       "    <tr>\n",
       "      <th>4</th>\n",
       "      <td>44837.189916</td>\n",
       "      <td>288.563581</td>\n",
       "    </tr>\n",
       "    <tr>\n",
       "      <th>5</th>\n",
       "      <td>35556.949649</td>\n",
       "      <td>174.073932</td>\n",
       "    </tr>\n",
       "    <tr>\n",
       "      <th>6</th>\n",
       "      <td>34078.606693</td>\n",
       "      <td>203.299077</td>\n",
       "    </tr>\n",
       "    <tr>\n",
       "      <th>7</th>\n",
       "      <td>48707.479147</td>\n",
       "      <td>258.371222</td>\n",
       "    </tr>\n",
       "    <tr>\n",
       "      <th>8</th>\n",
       "      <td>15754.261455</td>\n",
       "      <td>90.681387</td>\n",
       "    </tr>\n",
       "    <tr>\n",
       "      <th>9</th>\n",
       "      <td>23730.942270</td>\n",
       "      <td>129.790228</td>\n",
       "    </tr>\n",
       "    <tr>\n",
       "      <th>10</th>\n",
       "      <td>29528.226111</td>\n",
       "      <td>171.863879</td>\n",
       "    </tr>\n",
       "  </tbody>\n",
       "</table>\n",
       "</div>"
      ],
      "text/plain": [
       "             distance    duration\n",
       "user_id                          \n",
       "1        34070.182066  204.604909\n",
       "2        33964.058614  197.644279\n",
       "3        36907.597866  233.193513\n",
       "4        44837.189916  288.563581\n",
       "5        35556.949649  174.073932\n",
       "6        34078.606693  203.299077\n",
       "7        48707.479147  258.371222\n",
       "8        15754.261455   90.681387\n",
       "9        23730.942270  129.790228\n",
       "10       29528.226111  171.863879"
      ]
     },
     "execution_count": 15,
     "metadata": {},
     "output_type": "execute_result"
    }
   ],
   "source": [
    "total_distance_by_user.head(10)"
   ]
  },
  {
   "cell_type": "code",
   "execution_count": 16,
   "id": "0dc5fa9e",
   "metadata": {},
   "outputs": [
    {
     "data": {
      "text/html": [
       "<div>\n",
       "<style scoped>\n",
       "    .dataframe tbody tr th:only-of-type {\n",
       "        vertical-align: middle;\n",
       "    }\n",
       "\n",
       "    .dataframe tbody tr th {\n",
       "        vertical-align: top;\n",
       "    }\n",
       "\n",
       "    .dataframe thead th {\n",
       "        text-align: right;\n",
       "    }\n",
       "</style>\n",
       "<table border=\"1\" class=\"dataframe\">\n",
       "  <thead>\n",
       "    <tr style=\"text-align: right;\">\n",
       "      <th></th>\n",
       "      <th>user_id</th>\n",
       "      <th>distance</th>\n",
       "      <th>duration</th>\n",
       "      <th>date</th>\n",
       "    </tr>\n",
       "  </thead>\n",
       "  <tbody>\n",
       "    <tr>\n",
       "      <th>0</th>\n",
       "      <td>1</td>\n",
       "      <td>4409.919140</td>\n",
       "      <td>25.599769</td>\n",
       "      <td>2021-01-01</td>\n",
       "    </tr>\n",
       "    <tr>\n",
       "      <th>1</th>\n",
       "      <td>1</td>\n",
       "      <td>2617.592153</td>\n",
       "      <td>15.816871</td>\n",
       "      <td>2021-01-18</td>\n",
       "    </tr>\n",
       "    <tr>\n",
       "      <th>2</th>\n",
       "      <td>1</td>\n",
       "      <td>754.159807</td>\n",
       "      <td>6.232113</td>\n",
       "      <td>2021-04-20</td>\n",
       "    </tr>\n",
       "    <tr>\n",
       "      <th>3</th>\n",
       "      <td>1</td>\n",
       "      <td>2694.783254</td>\n",
       "      <td>18.511000</td>\n",
       "      <td>2021-08-11</td>\n",
       "    </tr>\n",
       "    <tr>\n",
       "      <th>4</th>\n",
       "      <td>1</td>\n",
       "      <td>4028.687306</td>\n",
       "      <td>26.265803</td>\n",
       "      <td>2021-08-28</td>\n",
       "    </tr>\n",
       "    <tr>\n",
       "      <th>5</th>\n",
       "      <td>1</td>\n",
       "      <td>2770.890808</td>\n",
       "      <td>16.650138</td>\n",
       "      <td>2021-10-09</td>\n",
       "    </tr>\n",
       "    <tr>\n",
       "      <th>6</th>\n",
       "      <td>1</td>\n",
       "      <td>3039.020292</td>\n",
       "      <td>14.927879</td>\n",
       "      <td>2021-10-19</td>\n",
       "    </tr>\n",
       "    <tr>\n",
       "      <th>7</th>\n",
       "      <td>1</td>\n",
       "      <td>2842.118050</td>\n",
       "      <td>23.117468</td>\n",
       "      <td>2021-11-06</td>\n",
       "    </tr>\n",
       "    <tr>\n",
       "      <th>8</th>\n",
       "      <td>1</td>\n",
       "      <td>3412.690668</td>\n",
       "      <td>15.238072</td>\n",
       "      <td>2021-11-14</td>\n",
       "    </tr>\n",
       "    <tr>\n",
       "      <th>9</th>\n",
       "      <td>1</td>\n",
       "      <td>748.690645</td>\n",
       "      <td>15.041884</td>\n",
       "      <td>2021-11-22</td>\n",
       "    </tr>\n",
       "  </tbody>\n",
       "</table>\n",
       "</div>"
      ],
      "text/plain": [
       "   user_id     distance   duration        date\n",
       "0        1  4409.919140  25.599769  2021-01-01\n",
       "1        1  2617.592153  15.816871  2021-01-18\n",
       "2        1   754.159807   6.232113  2021-04-20\n",
       "3        1  2694.783254  18.511000  2021-08-11\n",
       "4        1  4028.687306  26.265803  2021-08-28\n",
       "5        1  2770.890808  16.650138  2021-10-09\n",
       "6        1  3039.020292  14.927879  2021-10-19\n",
       "7        1  2842.118050  23.117468  2021-11-06\n",
       "8        1  3412.690668  15.238072  2021-11-14\n",
       "9        1   748.690645  15.041884  2021-11-22"
      ]
     },
     "execution_count": 16,
     "metadata": {},
     "output_type": "execute_result"
    }
   ],
   "source": [
    "data_riders.head(10)"
   ]
  },
  {
   "cell_type": "markdown",
   "id": "61617e90",
   "metadata": {},
   "source": [
    "## Таблица с подписками:"
   ]
  },
  {
   "cell_type": "code",
   "execution_count": 17,
   "id": "a2ddc9a0",
   "metadata": {},
   "outputs": [],
   "source": [
    "try:\n",
    "    data_sub = pd.read_csv('/datasets/subscriptions_go.csv')\n",
    "except:\n",
    "    data_sub = pd.read_csv('https://code.s3.yandex.net/datasets/subscriptions_go.csv')"
   ]
  },
  {
   "cell_type": "code",
   "execution_count": 18,
   "id": "88014ecc",
   "metadata": {},
   "outputs": [
    {
     "name": "stdout",
     "output_type": "stream",
     "text": [
      "<class 'pandas.core.frame.DataFrame'>\n",
      "RangeIndex: 2 entries, 0 to 1\n",
      "Data columns (total 4 columns):\n",
      " #   Column             Non-Null Count  Dtype \n",
      "---  ------             --------------  ----- \n",
      " 0   subscription_type  2 non-null      object\n",
      " 1   minute_price       2 non-null      int64 \n",
      " 2   start_ride_price   2 non-null      int64 \n",
      " 3   subscription_fee   2 non-null      int64 \n",
      "dtypes: int64(3), object(1)\n",
      "memory usage: 192.0+ bytes\n"
     ]
    }
   ],
   "source": [
    "data_sub.info()"
   ]
  },
  {
   "cell_type": "code",
   "execution_count": 19,
   "id": "86183502",
   "metadata": {},
   "outputs": [
    {
     "data": {
      "text/html": [
       "<div>\n",
       "<style scoped>\n",
       "    .dataframe tbody tr th:only-of-type {\n",
       "        vertical-align: middle;\n",
       "    }\n",
       "\n",
       "    .dataframe tbody tr th {\n",
       "        vertical-align: top;\n",
       "    }\n",
       "\n",
       "    .dataframe thead th {\n",
       "        text-align: right;\n",
       "    }\n",
       "</style>\n",
       "<table border=\"1\" class=\"dataframe\">\n",
       "  <thead>\n",
       "    <tr style=\"text-align: right;\">\n",
       "      <th></th>\n",
       "      <th>subscription_type</th>\n",
       "      <th>minute_price</th>\n",
       "      <th>start_ride_price</th>\n",
       "      <th>subscription_fee</th>\n",
       "    </tr>\n",
       "  </thead>\n",
       "  <tbody>\n",
       "    <tr>\n",
       "      <th>0</th>\n",
       "      <td>free</td>\n",
       "      <td>8</td>\n",
       "      <td>50</td>\n",
       "      <td>0</td>\n",
       "    </tr>\n",
       "    <tr>\n",
       "      <th>1</th>\n",
       "      <td>ultra</td>\n",
       "      <td>6</td>\n",
       "      <td>0</td>\n",
       "      <td>199</td>\n",
       "    </tr>\n",
       "  </tbody>\n",
       "</table>\n",
       "</div>"
      ],
      "text/plain": [
       "  subscription_type  minute_price  start_ride_price  subscription_fee\n",
       "0              free             8                50                 0\n",
       "1             ultra             6                 0               199"
      ]
     },
     "execution_count": 19,
     "metadata": {},
     "output_type": "execute_result"
    }
   ],
   "source": [
    "data_sub.head()"
   ]
  },
  {
   "cell_type": "markdown",
   "id": "b0508434",
   "metadata": {},
   "source": [
    "Вывод:\n",
    "\n",
    "Загрузили и рассмотрели данные\n",
    "\n",
    "Основные пользователи - люди от 20 до 30 лет\n",
    "Распределение пользователей по городам +- одинаковое:\n",
    "Наибольшее количество пользователей в Пятигорске\n",
    "Наименьшее в Москве\n",
    "Преобладают пользователи с бесплатным тарифом (54%)"
   ]
  },
  {
   "cell_type": "markdown",
   "id": "e95ebca7",
   "metadata": {},
   "source": [
    "# Шаг 2. Предобработка данных"
   ]
  },
  {
   "cell_type": "markdown",
   "id": "f24f9592",
   "metadata": {},
   "source": [
    "# Рассмотрим количество пропусков в таблицах"
   ]
  },
  {
   "cell_type": "markdown",
   "id": "2bd9fa0c",
   "metadata": {},
   "source": [
    "## Таблица с пользователями"
   ]
  },
  {
   "cell_type": "code",
   "execution_count": 20,
   "id": "af6d202c",
   "metadata": {},
   "outputs": [
    {
     "data": {
      "text/plain": [
       "user_id              0\n",
       "name                 0\n",
       "age                  0\n",
       "city                 0\n",
       "subscription_type    0\n",
       "dtype: int64"
      ]
     },
     "execution_count": 20,
     "metadata": {},
     "output_type": "execute_result"
    }
   ],
   "source": [
    "data_users.isna().sum()"
   ]
  },
  {
   "cell_type": "markdown",
   "id": "74e9bb9f",
   "metadata": {},
   "source": [
    "## Таблица с поездками"
   ]
  },
  {
   "cell_type": "code",
   "execution_count": 21,
   "id": "a48df0f3",
   "metadata": {},
   "outputs": [
    {
     "data": {
      "text/plain": [
       "user_id     0\n",
       "distance    0\n",
       "duration    0\n",
       "date        0\n",
       "dtype: int64"
      ]
     },
     "execution_count": 21,
     "metadata": {},
     "output_type": "execute_result"
    }
   ],
   "source": [
    "data_riders.isna().sum()"
   ]
  },
  {
   "cell_type": "markdown",
   "id": "9fe6a3be",
   "metadata": {},
   "source": [
    "## Таблица с тарифными планами"
   ]
  },
  {
   "cell_type": "code",
   "execution_count": 22,
   "id": "c2364e8e",
   "metadata": {},
   "outputs": [
    {
     "data": {
      "text/plain": [
       "subscription_type    0\n",
       "minute_price         0\n",
       "start_ride_price     0\n",
       "subscription_fee     0\n",
       "dtype: int64"
      ]
     },
     "execution_count": 22,
     "metadata": {},
     "output_type": "execute_result"
    }
   ],
   "source": [
    "data_sub.isna().sum()"
   ]
  },
  {
   "cell_type": "markdown",
   "id": "550980e7",
   "metadata": {},
   "source": [
    "# Рассмотрим столбцы и поменяем тип данных там, где это возможно"
   ]
  },
  {
   "cell_type": "markdown",
   "id": "75d0858b",
   "metadata": {},
   "source": [
    "## Отредактируем столбец '' Date \""
   ]
  },
  {
   "cell_type": "code",
   "execution_count": 23,
   "id": "fe9ac621",
   "metadata": {},
   "outputs": [],
   "source": [
    "data_riders['date'] = pd.to_datetime(data_riders['date'], format = '%Y-%m-%d')"
   ]
  },
  {
   "cell_type": "code",
   "execution_count": 24,
   "id": "48f87577",
   "metadata": {},
   "outputs": [
    {
     "data": {
      "text/plain": [
       "0   2021-01-01\n",
       "1   2021-01-18\n",
       "2   2021-04-20\n",
       "3   2021-08-11\n",
       "4   2021-08-28\n",
       "5   2021-10-09\n",
       "6   2021-10-19\n",
       "7   2021-11-06\n",
       "8   2021-11-14\n",
       "9   2021-11-22\n",
       "Name: date, dtype: datetime64[ns]"
      ]
     },
     "execution_count": 24,
     "metadata": {},
     "output_type": "execute_result"
    }
   ],
   "source": [
    "data_riders['date'].head(10)"
   ]
  },
  {
   "cell_type": "markdown",
   "id": "1637705b",
   "metadata": {},
   "source": [
    "Теперь добавим месяцы:"
   ]
  },
  {
   "cell_type": "code",
   "execution_count": 25,
   "id": "82c95613",
   "metadata": {},
   "outputs": [
    {
     "data": {
      "text/plain": [
       "array([2021])"
      ]
     },
     "execution_count": 25,
     "metadata": {},
     "output_type": "execute_result"
    }
   ],
   "source": [
    "# Проверим, данные за какой период нам предоставлены:\n",
    "data_riders['date'].dt.year.unique()\n",
    "\n",
    "#Все за один год - всё нормально"
   ]
  },
  {
   "cell_type": "code",
   "execution_count": 26,
   "id": "a3f13110",
   "metadata": {},
   "outputs": [],
   "source": [
    "data_riders['month'] = data_riders['date'].dt.month"
   ]
  },
  {
   "cell_type": "code",
   "execution_count": 27,
   "id": "2e07a05d",
   "metadata": {},
   "outputs": [
    {
     "data": {
      "text/plain": [
       "0     1\n",
       "1     1\n",
       "2     4\n",
       "3     8\n",
       "4     8\n",
       "5    10\n",
       "6    10\n",
       "7    11\n",
       "8    11\n",
       "9    11\n",
       "Name: month, dtype: int64"
      ]
     },
     "execution_count": 27,
     "metadata": {},
     "output_type": "execute_result"
    }
   ],
   "source": [
    "# Проверим:\n",
    "data_riders['month'].head(10)"
   ]
  },
  {
   "cell_type": "markdown",
   "id": "ddad30bb",
   "metadata": {},
   "source": [
    "<div class=\"alert alert-success\">\n",
    "<h2> Комментарий ревьюера 😊<a class=\"tocSkip\"> </h2>\n",
    "    \n",
    "Молодец, что проверяешь за какой период представлены данные."
   ]
  },
  {
   "cell_type": "markdown",
   "id": "100934d5",
   "metadata": {},
   "source": [
    "# Обрабокта дубликатов"
   ]
  },
  {
   "cell_type": "markdown",
   "id": "efd8b8a2",
   "metadata": {},
   "source": [
    "## Таблица с пользователями"
   ]
  },
  {
   "cell_type": "code",
   "execution_count": 28,
   "id": "63b9c5fa",
   "metadata": {},
   "outputs": [
    {
     "data": {
      "text/plain": [
       "31"
      ]
     },
     "execution_count": 28,
     "metadata": {},
     "output_type": "execute_result"
    }
   ],
   "source": [
    "data_users.duplicated().sum()"
   ]
  },
  {
   "cell_type": "code",
   "execution_count": 29,
   "id": "4f09b1b4",
   "metadata": {},
   "outputs": [],
   "source": [
    "data_users.drop_duplicates(inplace=True)"
   ]
  },
  {
   "cell_type": "code",
   "execution_count": 30,
   "id": "00e74577",
   "metadata": {},
   "outputs": [
    {
     "data": {
      "text/plain": [
       "0"
      ]
     },
     "execution_count": 30,
     "metadata": {},
     "output_type": "execute_result"
    }
   ],
   "source": [
    "data_users.duplicated().sum()"
   ]
  },
  {
   "cell_type": "markdown",
   "id": "d1577380",
   "metadata": {},
   "source": [
    "## Таблица с поездками"
   ]
  },
  {
   "cell_type": "code",
   "execution_count": 31,
   "id": "87012f0b",
   "metadata": {},
   "outputs": [
    {
     "data": {
      "text/plain": [
       "0"
      ]
     },
     "execution_count": 31,
     "metadata": {},
     "output_type": "execute_result"
    }
   ],
   "source": [
    "data_riders.duplicated().sum()"
   ]
  },
  {
   "cell_type": "markdown",
   "id": "1979421f",
   "metadata": {},
   "source": [
    "Вывод:\n",
    "\n",
    "Пропущенных данных в таблицах нет\n",
    "\n",
    "Дубликаты имеются среди пользователей, удалили строки-дубликаты\n",
    "\n",
    "Добавили столбец month с номер месяца"
   ]
  },
  {
   "cell_type": "markdown",
   "id": "23a442e8",
   "metadata": {},
   "source": [
    "<div class=\"alert alert-success\">\n",
    "<h2> Комментарий ревьюера 😊 <a class=\"tocSkip\"> </h2>\n",
    "\n",
    "Блок предобработки выполнен хорошо: необходимые столбцы добавлены, типы скорректированы, есть проверка на пропуски и дубликаты, молодец)\n",
    "</div>"
   ]
  },
  {
   "cell_type": "markdown",
   "id": "212593c7",
   "metadata": {},
   "source": [
    "# Шаг 3. Исследовательский анализ данных"
   ]
  },
  {
   "cell_type": "markdown",
   "id": "6de4b555",
   "metadata": {},
   "source": [
    "## Частота появления городов"
   ]
  },
  {
   "cell_type": "code",
   "execution_count": 32,
   "id": "6bf288b5",
   "metadata": {},
   "outputs": [
    {
     "data": {
      "text/plain": [
       "Пятигорск         219\n",
       "Екатеринбург      204\n",
       "Ростов-на-Дону    198\n",
       "Краснодар         193\n",
       "Сочи              189\n",
       "Омск              183\n",
       "Тюмень            180\n",
       "Москва            168\n",
       "Name: city, dtype: int64"
      ]
     },
     "execution_count": 32,
     "metadata": {},
     "output_type": "execute_result"
    }
   ],
   "source": [
    "count_users_by_city = data_users['city'].value_counts()\n",
    "count_users_by_city"
   ]
  },
  {
   "cell_type": "code",
   "execution_count": 33,
   "id": "e15d61c3",
   "metadata": {},
   "outputs": [
    {
     "data": {
      "text/plain": [
       "Пятигорск         14.0\n",
       "Екатеринбург      13.0\n",
       "Ростов-на-Дону    13.0\n",
       "Краснодар         13.0\n",
       "Сочи              12.0\n",
       "Омск              12.0\n",
       "Тюмень            12.0\n",
       "Москва            11.0\n",
       "Name: city, dtype: float64"
      ]
     },
     "execution_count": 33,
     "metadata": {},
     "output_type": "execute_result"
    }
   ],
   "source": [
    "count_users_by_city['rate'] = round(data_users['city'].value_counts() / count_users_by_city.sum(), 2) * 100\n",
    "count_users_by_city['rate']"
   ]
  },
  {
   "cell_type": "code",
   "execution_count": 34,
   "id": "c95af996",
   "metadata": {},
   "outputs": [
    {
     "data": {
      "image/png": "[encoded data removed]",
      "text/plain": [
       "<Figure size 720x432 with 1 Axes>"
      ]
     },
     "metadata": {
      "needs_background": "light"
     },
     "output_type": "display_data"
    }
   ],
   "source": [
    "count_users_by_city = data_users['city'].value_counts()\n",
    "\n",
    "count_users_by_city.plot(kind='bar', figsize=(10, 6), color='skyblue')\n",
    "\n",
    "plt.title('Распределение пользователей по городам')\n",
    "plt.xlabel('Город')\n",
    "plt.ylabel('Количество пользователей')\n",
    "plt.xticks(rotation=45, ha='right')  # Поворот названий городов для улучшения читаемости\n",
    "\n",
    "for index, value in enumerate(count_users_by_city):\n",
    "    plt.text(index, value + 0.1, str(value), ha='center', va='bottom')\n",
    "\n",
    "plt.show()"
   ]
  },
  {
   "cell_type": "markdown",
   "id": "364feacb",
   "metadata": {},
   "source": [
    "## Соотношение пользователей с подпиской и без подписки:"
   ]
  },
  {
   "cell_type": "code",
   "execution_count": 35,
   "id": "1454fc5c",
   "metadata": {},
   "outputs": [
    {
     "data": {
      "text/plain": [
       "free     835\n",
       "ultra    699\n",
       "Name: subscription_type, dtype: int64"
      ]
     },
     "execution_count": 35,
     "metadata": {},
     "output_type": "execute_result"
    }
   ],
   "source": [
    "count_sub = data_users['subscription_type'].value_counts()\n",
    "count_sub"
   ]
  },
  {
   "cell_type": "code",
   "execution_count": 36,
   "id": "13da7b8e",
   "metadata": {},
   "outputs": [
    {
     "data": {
      "image/png": "[encoded data removed]",
      "text/plain": [
       "<Figure size 360x360 with 1 Axes>"
      ]
     },
     "metadata": {},
     "output_type": "display_data"
    }
   ],
   "source": [
    "data_users['subscription_type'].value_counts().plot(\n",
    "    kind = 'pie', \n",
    "    y = count_sub, \n",
    "    autopct = '%1.0f%%', \n",
    "    figsize=(5,5),\n",
    "    title = 'Процентное соотношение пользователей в зависимости от тарифа');"
   ]
  },
  {
   "cell_type": "markdown",
   "id": "5f69e8cb",
   "metadata": {},
   "source": [
    "## Возраст пользователей"
   ]
  },
  {
   "cell_type": "markdown",
   "id": "2602a75d",
   "metadata": {},
   "source": [
    "Младшие"
   ]
  },
  {
   "cell_type": "code",
   "execution_count": 37,
   "id": "aebcd28b",
   "metadata": {},
   "outputs": [
    {
     "data": {
      "text/plain": [
       "664     12\n",
       "66      12\n",
       "727     12\n",
       "34      12\n",
       "235     13\n",
       "1249    13\n",
       "314     13\n",
       "83      13\n",
       "553     13\n",
       "1241    13\n",
       "Name: age, dtype: int64"
      ]
     },
     "execution_count": 37,
     "metadata": {},
     "output_type": "execute_result"
    }
   ],
   "source": [
    "data_users['age'].sort_values().head(10)"
   ]
  },
  {
   "cell_type": "markdown",
   "id": "160d416e",
   "metadata": {},
   "source": [
    "Старшие"
   ]
  },
  {
   "cell_type": "code",
   "execution_count": 38,
   "id": "e69b94fa",
   "metadata": {},
   "outputs": [
    {
     "data": {
      "text/plain": [
       "1201    43\n",
       "961     39\n",
       "804     38\n",
       "453     38\n",
       "383     38\n",
       "205     37\n",
       "848     37\n",
       "721     36\n",
       "1491    36\n",
       "644     36\n",
       "Name: age, dtype: int64"
      ]
     },
     "execution_count": 38,
     "metadata": {},
     "output_type": "execute_result"
    }
   ],
   "source": [
    "data_users['age'].sort_values(ascending=False).head(10)"
   ]
  },
  {
   "cell_type": "code",
   "execution_count": 39,
   "id": "c314eff1",
   "metadata": {},
   "outputs": [
    {
     "data": {
      "image/png": "[encoded data removed]",
      "text/plain": [
       "<Figure size 432x288 with 1 Axes>"
      ]
     },
     "metadata": {
      "needs_background": "light"
     },
     "output_type": "display_data"
    }
   ],
   "source": [
    "plt.hist(data_users['age'], bins = 10)\n",
    "plt.title('Возраст пользователей')\n",
    "plt.xlabel('Возраст')\n",
    "plt.ylabel('Количество пользователей')\n",
    "plt.grid()\n",
    "plt.show()"
   ]
  },
  {
   "cell_type": "markdown",
   "id": "82625c0d",
   "metadata": {},
   "source": [
    "## Расстояние, преодолеваемое пользователем за 1 поездку"
   ]
  },
  {
   "cell_type": "markdown",
   "id": "2f80a89b",
   "metadata": {},
   "source": [
    "Длинные:"
   ]
  },
  {
   "cell_type": "code",
   "execution_count": 40,
   "id": "60ebe1ae",
   "metadata": {},
   "outputs": [
    {
     "data": {
      "text/plain": [
       "11555     0.86\n",
       "9541      2.57\n",
       "13690     4.33\n",
       "8658      6.78\n",
       "7841      7.10\n",
       "8906     11.28\n",
       "8324     12.23\n",
       "13940    15.00\n",
       "15626    15.37\n",
       "11862    15.63\n",
       "Name: distance, dtype: float64"
      ]
     },
     "execution_count": 40,
     "metadata": {},
     "output_type": "execute_result"
    }
   ],
   "source": [
    "round(data_riders['distance'].sort_values(), 2).head(10)"
   ]
  },
  {
   "cell_type": "markdown",
   "id": "adcf0449",
   "metadata": {},
   "source": [
    "Короткие:"
   ]
  },
  {
   "cell_type": "code",
   "execution_count": 41,
   "id": "f7b98681",
   "metadata": {},
   "outputs": [
    {
     "data": {
      "text/plain": [
       "16309    7211.01\n",
       "16484    7066.00\n",
       "15580    6908.49\n",
       "17171    6760.94\n",
       "17242    6724.93\n",
       "10341    6671.97\n",
       "11385    6601.20\n",
       "12086    6538.94\n",
       "10915    6535.39\n",
       "11319    6503.60\n",
       "Name: distance, dtype: float64"
      ]
     },
     "execution_count": 41,
     "metadata": {},
     "output_type": "execute_result"
    }
   ],
   "source": [
    "round(data_riders['distance'].sort_values(ascending=False), 2).head(10)"
   ]
  },
  {
   "cell_type": "code",
   "execution_count": 42,
   "id": "bfcea36d",
   "metadata": {},
   "outputs": [
    {
     "data": {
      "image/png": "[encoded data removed]",
      "text/plain": [
       "<Figure size 432x288 with 1 Axes>"
      ]
     },
     "metadata": {
      "needs_background": "light"
     },
     "output_type": "display_data"
    }
   ],
   "source": [
    "sns.boxplot(x=data_riders['distance'], color='blue')\n",
    "plt.title('Расстояние, преодоленное за одну поездку')\n",
    "plt.xlabel('Расстояние, м')\n",
    "_ = plt.xlim(0, 8000)"
   ]
  },
  {
   "cell_type": "markdown",
   "id": "253922b5",
   "metadata": {},
   "source": [
    "## Продолжительность поездок"
   ]
  },
  {
   "cell_type": "markdown",
   "id": "96f7d162",
   "metadata": {},
   "source": [
    "Долгие:"
   ]
  },
  {
   "cell_type": "code",
   "execution_count": 43,
   "id": "5a33496c",
   "metadata": {},
   "outputs": [
    {
     "data": {
      "text/plain": [
       "4215    40.823963\n",
       "4709    39.873856\n",
       "2623    39.526602\n",
       "1998    38.352763\n",
       "6453    38.265229\n",
       "143     38.125729\n",
       "3729    37.014141\n",
       "499     36.906491\n",
       "6348    36.809310\n",
       "4653    36.622595\n",
       "Name: duration, dtype: float64"
      ]
     },
     "execution_count": 43,
     "metadata": {},
     "output_type": "execute_result"
    }
   ],
   "source": [
    "data_riders['duration'].sort_values(ascending=False).head(10)"
   ]
  },
  {
   "cell_type": "markdown",
   "id": "cb90d5ab",
   "metadata": {},
   "source": [
    "Быстрые:"
   ]
  },
  {
   "cell_type": "code",
   "execution_count": 44,
   "id": "6012dcfe",
   "metadata": {},
   "outputs": [
    {
     "data": {
      "text/plain": [
       "12013    0.5\n",
       "17314    0.5\n",
       "15029    0.5\n",
       "7437     0.5\n",
       "12967    0.5\n",
       "15015    0.5\n",
       "13012    0.5\n",
       "7508     0.5\n",
       "16589    0.5\n",
       "9049     0.5\n",
       "Name: duration, dtype: float64"
      ]
     },
     "execution_count": 44,
     "metadata": {},
     "output_type": "execute_result"
    }
   ],
   "source": [
    "data_riders['duration'].sort_values().head(10)"
   ]
  },
  {
   "cell_type": "markdown",
   "id": "eb238ad0",
   "metadata": {},
   "source": [
    "Общее время поездок и дистанция для каждого пользователя:"
   ]
  },
  {
   "cell_type": "code",
   "execution_count": 45,
   "id": "e34eb546",
   "metadata": {},
   "outputs": [
    {
     "data": {
      "text/html": [
       "<div>\n",
       "<style scoped>\n",
       "    .dataframe tbody tr th:only-of-type {\n",
       "        vertical-align: middle;\n",
       "    }\n",
       "\n",
       "    .dataframe tbody tr th {\n",
       "        vertical-align: top;\n",
       "    }\n",
       "\n",
       "    .dataframe thead th {\n",
       "        text-align: right;\n",
       "    }\n",
       "</style>\n",
       "<table border=\"1\" class=\"dataframe\">\n",
       "  <thead>\n",
       "    <tr style=\"text-align: right;\">\n",
       "      <th></th>\n",
       "      <th>distance</th>\n",
       "      <th>duration</th>\n",
       "      <th>month</th>\n",
       "    </tr>\n",
       "    <tr>\n",
       "      <th>user_id</th>\n",
       "      <th></th>\n",
       "      <th></th>\n",
       "      <th></th>\n",
       "    </tr>\n",
       "  </thead>\n",
       "  <tbody>\n",
       "    <tr>\n",
       "      <th>1</th>\n",
       "      <td>34070.182066</td>\n",
       "      <td>204.604909</td>\n",
       "      <td>99</td>\n",
       "    </tr>\n",
       "    <tr>\n",
       "      <th>2</th>\n",
       "      <td>33964.058614</td>\n",
       "      <td>197.644279</td>\n",
       "      <td>67</td>\n",
       "    </tr>\n",
       "    <tr>\n",
       "      <th>3</th>\n",
       "      <td>36907.597866</td>\n",
       "      <td>233.193513</td>\n",
       "      <td>66</td>\n",
       "    </tr>\n",
       "    <tr>\n",
       "      <th>4</th>\n",
       "      <td>44837.189916</td>\n",
       "      <td>288.563581</td>\n",
       "      <td>107</td>\n",
       "    </tr>\n",
       "    <tr>\n",
       "      <th>5</th>\n",
       "      <td>35556.949649</td>\n",
       "      <td>174.073932</td>\n",
       "      <td>51</td>\n",
       "    </tr>\n",
       "    <tr>\n",
       "      <th>...</th>\n",
       "      <td>...</td>\n",
       "      <td>...</td>\n",
       "      <td>...</td>\n",
       "    </tr>\n",
       "    <tr>\n",
       "      <th>1530</th>\n",
       "      <td>46758.469822</td>\n",
       "      <td>292.366839</td>\n",
       "      <td>104</td>\n",
       "    </tr>\n",
       "    <tr>\n",
       "      <th>1531</th>\n",
       "      <td>67054.794222</td>\n",
       "      <td>408.192206</td>\n",
       "      <td>142</td>\n",
       "    </tr>\n",
       "    <tr>\n",
       "      <th>1532</th>\n",
       "      <td>33902.203192</td>\n",
       "      <td>212.160144</td>\n",
       "      <td>111</td>\n",
       "    </tr>\n",
       "    <tr>\n",
       "      <th>1533</th>\n",
       "      <td>36890.192211</td>\n",
       "      <td>240.580297</td>\n",
       "      <td>65</td>\n",
       "    </tr>\n",
       "    <tr>\n",
       "      <th>1534</th>\n",
       "      <td>41898.442847</td>\n",
       "      <td>229.835127</td>\n",
       "      <td>100</td>\n",
       "    </tr>\n",
       "  </tbody>\n",
       "</table>\n",
       "<p>1534 rows × 3 columns</p>\n",
       "</div>"
      ],
      "text/plain": [
       "             distance    duration  month\n",
       "user_id                                 \n",
       "1        34070.182066  204.604909     99\n",
       "2        33964.058614  197.644279     67\n",
       "3        36907.597866  233.193513     66\n",
       "4        44837.189916  288.563581    107\n",
       "5        35556.949649  174.073932     51\n",
       "...               ...         ...    ...\n",
       "1530     46758.469822  292.366839    104\n",
       "1531     67054.794222  408.192206    142\n",
       "1532     33902.203192  212.160144    111\n",
       "1533     36890.192211  240.580297     65\n",
       "1534     41898.442847  229.835127    100\n",
       "\n",
       "[1534 rows x 3 columns]"
      ]
     },
     "execution_count": 45,
     "metadata": {},
     "output_type": "execute_result"
    }
   ],
   "source": [
    "data_riders.groupby(['user_id']).sum(numeric_only = True)"
   ]
  },
  {
   "cell_type": "code",
   "execution_count": 46,
   "id": "bc31d361",
   "metadata": {},
   "outputs": [
    {
     "data": {
      "image/png": "[encoded data removed]",
      "text/plain": [
       "<Figure size 432x288 with 1 Axes>"
      ]
     },
     "metadata": {
      "needs_background": "light"
     },
     "output_type": "display_data"
    }
   ],
   "source": [
    "sns.boxplot(x = data_riders['duration'], color='blue')\n",
    "plt.title('Время, проведенное в поездке')\n",
    "plt.xlabel('Время, минуты')\n",
    "_ = plt.xlim(0, 45)"
   ]
  },
  {
   "cell_type": "markdown",
   "id": "93aaa099",
   "metadata": {},
   "source": [
    "Вывод:\n",
    "\n",
    "Частота встречаемости городов\n",
    "\n",
    "Количество пользователей по городам распределено примерно одинаково, нет выдающихся значений. Лидером по количеству пользователей является Пятигорск - 219 пользователей. Меньше всего пользователей в Москве - 168. Связано это скорее всего с тем, что Пятигорск по размерам в несколько раз меньше Москвы, т.е. в Пятигорске удобнее брать самокат, чтобы куда-то добраться.\n",
    "\n",
    "Соотношение пользователей с подпиской и без подписки\n",
    "\n",
    "Пользователей, использующих бесплатную подписку больше - 835 человек, что является ~54% от общего числа пользователей. На платной подписке сидит 699 пользователей, что соответственно является ~46%.\n",
    "\n",
    "Возраст пользователей\n",
    "\n",
    "Самыми младшими являются пользователи 12, 13 лет.\n",
    "Самыми старшими - 43, 39.\n",
    "В целом, пользователи приложения укладываются в промежуток от 20 до 30 лет.\n",
    "\n",
    "Расстояние, которое пользователь преодолел за одну поездку\n",
    "\n",
    "Самая короткая дистанция - 0.86 км\n",
    "Самая длинная - 7.2 км\n",
    "В основном пользователи проезжают от 2.5 км до 4 км.\n",
    "\n",
    "Продолжительность поездок\n",
    "\n",
    "Самые короткие поездки - по пол минуты. Выглядят крайне странно, возможно пользователи просто передумали пользоваться самокатом. Либо же техническая неинсправность самого самоката.\n",
    "Самая длинная поездка заняла 40 минут.\n",
    "В основном же длительность поездки состовляет 13 - 22 минут."
   ]
  },
  {
   "cell_type": "markdown",
   "id": "7f424c92",
   "metadata": {},
   "source": [
    "<div class=\"alert alert-success\">\n",
    "<h2> Комментарий ревьюера 😊<a class=\"tocSkip\"> </h2>\n",
    "\n",
    "Хорошая работа по исследовательскому анализу)"
   ]
  },
  {
   "cell_type": "markdown",
   "id": "4ef51331",
   "metadata": {},
   "source": [
    "# Шаг 4. Объединение данных"
   ]
  },
  {
   "cell_type": "markdown",
   "id": "141389ee",
   "metadata": {},
   "source": [
    "## Объединим данные"
   ]
  },
  {
   "cell_type": "code",
   "execution_count": 47,
   "id": "071d72ed",
   "metadata": {},
   "outputs": [
    {
     "data": {
      "text/html": [
       "<div>\n",
       "<style scoped>\n",
       "    .dataframe tbody tr th:only-of-type {\n",
       "        vertical-align: middle;\n",
       "    }\n",
       "\n",
       "    .dataframe tbody tr th {\n",
       "        vertical-align: top;\n",
       "    }\n",
       "\n",
       "    .dataframe thead th {\n",
       "        text-align: right;\n",
       "    }\n",
       "</style>\n",
       "<table border=\"1\" class=\"dataframe\">\n",
       "  <thead>\n",
       "    <tr style=\"text-align: right;\">\n",
       "      <th></th>\n",
       "      <th>user_id</th>\n",
       "      <th>name</th>\n",
       "      <th>age</th>\n",
       "      <th>city</th>\n",
       "      <th>subscription_type</th>\n",
       "      <th>distance</th>\n",
       "      <th>duration</th>\n",
       "      <th>date</th>\n",
       "      <th>month</th>\n",
       "      <th>minute_price</th>\n",
       "      <th>start_ride_price</th>\n",
       "      <th>subscription_fee</th>\n",
       "    </tr>\n",
       "  </thead>\n",
       "  <tbody>\n",
       "    <tr>\n",
       "      <th>0</th>\n",
       "      <td>1</td>\n",
       "      <td>Кира</td>\n",
       "      <td>22</td>\n",
       "      <td>Тюмень</td>\n",
       "      <td>ultra</td>\n",
       "      <td>4409.919140</td>\n",
       "      <td>25.599769</td>\n",
       "      <td>2021-01-01</td>\n",
       "      <td>1</td>\n",
       "      <td>6</td>\n",
       "      <td>0</td>\n",
       "      <td>199</td>\n",
       "    </tr>\n",
       "    <tr>\n",
       "      <th>1</th>\n",
       "      <td>1</td>\n",
       "      <td>Кира</td>\n",
       "      <td>22</td>\n",
       "      <td>Тюмень</td>\n",
       "      <td>ultra</td>\n",
       "      <td>2617.592153</td>\n",
       "      <td>15.816871</td>\n",
       "      <td>2021-01-18</td>\n",
       "      <td>1</td>\n",
       "      <td>6</td>\n",
       "      <td>0</td>\n",
       "      <td>199</td>\n",
       "    </tr>\n",
       "    <tr>\n",
       "      <th>2</th>\n",
       "      <td>1</td>\n",
       "      <td>Кира</td>\n",
       "      <td>22</td>\n",
       "      <td>Тюмень</td>\n",
       "      <td>ultra</td>\n",
       "      <td>754.159807</td>\n",
       "      <td>6.232113</td>\n",
       "      <td>2021-04-20</td>\n",
       "      <td>4</td>\n",
       "      <td>6</td>\n",
       "      <td>0</td>\n",
       "      <td>199</td>\n",
       "    </tr>\n",
       "    <tr>\n",
       "      <th>3</th>\n",
       "      <td>1</td>\n",
       "      <td>Кира</td>\n",
       "      <td>22</td>\n",
       "      <td>Тюмень</td>\n",
       "      <td>ultra</td>\n",
       "      <td>2694.783254</td>\n",
       "      <td>18.511000</td>\n",
       "      <td>2021-08-11</td>\n",
       "      <td>8</td>\n",
       "      <td>6</td>\n",
       "      <td>0</td>\n",
       "      <td>199</td>\n",
       "    </tr>\n",
       "    <tr>\n",
       "      <th>4</th>\n",
       "      <td>1</td>\n",
       "      <td>Кира</td>\n",
       "      <td>22</td>\n",
       "      <td>Тюмень</td>\n",
       "      <td>ultra</td>\n",
       "      <td>4028.687306</td>\n",
       "      <td>26.265803</td>\n",
       "      <td>2021-08-28</td>\n",
       "      <td>8</td>\n",
       "      <td>6</td>\n",
       "      <td>0</td>\n",
       "      <td>199</td>\n",
       "    </tr>\n",
       "    <tr>\n",
       "      <th>...</th>\n",
       "      <td>...</td>\n",
       "      <td>...</td>\n",
       "      <td>...</td>\n",
       "      <td>...</td>\n",
       "      <td>...</td>\n",
       "      <td>...</td>\n",
       "      <td>...</td>\n",
       "      <td>...</td>\n",
       "      <td>...</td>\n",
       "      <td>...</td>\n",
       "      <td>...</td>\n",
       "      <td>...</td>\n",
       "    </tr>\n",
       "    <tr>\n",
       "      <th>18063</th>\n",
       "      <td>1534</td>\n",
       "      <td>Альберт</td>\n",
       "      <td>25</td>\n",
       "      <td>Краснодар</td>\n",
       "      <td>free</td>\n",
       "      <td>3781.098080</td>\n",
       "      <td>19.822962</td>\n",
       "      <td>2021-11-04</td>\n",
       "      <td>11</td>\n",
       "      <td>8</td>\n",
       "      <td>50</td>\n",
       "      <td>0</td>\n",
       "    </tr>\n",
       "    <tr>\n",
       "      <th>18064</th>\n",
       "      <td>1534</td>\n",
       "      <td>Альберт</td>\n",
       "      <td>25</td>\n",
       "      <td>Краснодар</td>\n",
       "      <td>free</td>\n",
       "      <td>2840.423057</td>\n",
       "      <td>21.409799</td>\n",
       "      <td>2021-11-16</td>\n",
       "      <td>11</td>\n",
       "      <td>8</td>\n",
       "      <td>50</td>\n",
       "      <td>0</td>\n",
       "    </tr>\n",
       "    <tr>\n",
       "      <th>18065</th>\n",
       "      <td>1534</td>\n",
       "      <td>Альберт</td>\n",
       "      <td>25</td>\n",
       "      <td>Краснодар</td>\n",
       "      <td>free</td>\n",
       "      <td>3826.185507</td>\n",
       "      <td>18.435051</td>\n",
       "      <td>2021-11-18</td>\n",
       "      <td>11</td>\n",
       "      <td>8</td>\n",
       "      <td>50</td>\n",
       "      <td>0</td>\n",
       "    </tr>\n",
       "    <tr>\n",
       "      <th>18066</th>\n",
       "      <td>1534</td>\n",
       "      <td>Альберт</td>\n",
       "      <td>25</td>\n",
       "      <td>Краснодар</td>\n",
       "      <td>free</td>\n",
       "      <td>2902.308661</td>\n",
       "      <td>16.674362</td>\n",
       "      <td>2021-11-27</td>\n",
       "      <td>11</td>\n",
       "      <td>8</td>\n",
       "      <td>50</td>\n",
       "      <td>0</td>\n",
       "    </tr>\n",
       "    <tr>\n",
       "      <th>18067</th>\n",
       "      <td>1534</td>\n",
       "      <td>Альберт</td>\n",
       "      <td>25</td>\n",
       "      <td>Краснодар</td>\n",
       "      <td>free</td>\n",
       "      <td>2371.711192</td>\n",
       "      <td>15.893917</td>\n",
       "      <td>2021-12-29</td>\n",
       "      <td>12</td>\n",
       "      <td>8</td>\n",
       "      <td>50</td>\n",
       "      <td>0</td>\n",
       "    </tr>\n",
       "  </tbody>\n",
       "</table>\n",
       "<p>18068 rows × 12 columns</p>\n",
       "</div>"
      ],
      "text/plain": [
       "       user_id     name  age       city subscription_type     distance  \\\n",
       "0            1     Кира   22     Тюмень             ultra  4409.919140   \n",
       "1            1     Кира   22     Тюмень             ultra  2617.592153   \n",
       "2            1     Кира   22     Тюмень             ultra   754.159807   \n",
       "3            1     Кира   22     Тюмень             ultra  2694.783254   \n",
       "4            1     Кира   22     Тюмень             ultra  4028.687306   \n",
       "...        ...      ...  ...        ...               ...          ...   \n",
       "18063     1534  Альберт   25  Краснодар              free  3781.098080   \n",
       "18064     1534  Альберт   25  Краснодар              free  2840.423057   \n",
       "18065     1534  Альберт   25  Краснодар              free  3826.185507   \n",
       "18066     1534  Альберт   25  Краснодар              free  2902.308661   \n",
       "18067     1534  Альберт   25  Краснодар              free  2371.711192   \n",
       "\n",
       "        duration       date  month  minute_price  start_ride_price  \\\n",
       "0      25.599769 2021-01-01      1             6                 0   \n",
       "1      15.816871 2021-01-18      1             6                 0   \n",
       "2       6.232113 2021-04-20      4             6                 0   \n",
       "3      18.511000 2021-08-11      8             6                 0   \n",
       "4      26.265803 2021-08-28      8             6                 0   \n",
       "...          ...        ...    ...           ...               ...   \n",
       "18063  19.822962 2021-11-04     11             8                50   \n",
       "18064  21.409799 2021-11-16     11             8                50   \n",
       "18065  18.435051 2021-11-18     11             8                50   \n",
       "18066  16.674362 2021-11-27     11             8                50   \n",
       "18067  15.893917 2021-12-29     12             8                50   \n",
       "\n",
       "       subscription_fee  \n",
       "0                   199  \n",
       "1                   199  \n",
       "2                   199  \n",
       "3                   199  \n",
       "4                   199  \n",
       "...                 ...  \n",
       "18063                 0  \n",
       "18064                 0  \n",
       "18065                 0  \n",
       "18066                 0  \n",
       "18067                 0  \n",
       "\n",
       "[18068 rows x 12 columns]"
      ]
     },
     "execution_count": 47,
     "metadata": {},
     "output_type": "execute_result"
    }
   ],
   "source": [
    "full_data = data_users.merge(data_riders)\n",
    "full_data = full_data.merge(data_sub)\n",
    "full_data"
   ]
  },
  {
   "cell_type": "code",
   "execution_count": 48,
   "id": "9c5172ff",
   "metadata": {},
   "outputs": [
    {
     "name": "stdout",
     "output_type": "stream",
     "text": [
      "(18068, 12)\n"
     ]
    }
   ],
   "source": [
    "# Проверка размерности\n",
    "print(full_data.shape)"
   ]
  },
  {
   "cell_type": "code",
   "execution_count": 49,
   "id": "8cdc6efb",
   "metadata": {},
   "outputs": [
    {
     "name": "stdout",
     "output_type": "stream",
     "text": [
      "user_id              0\n",
      "name                 0\n",
      "age                  0\n",
      "city                 0\n",
      "subscription_type    0\n",
      "distance             0\n",
      "duration             0\n",
      "date                 0\n",
      "month                0\n",
      "minute_price         0\n",
      "start_ride_price     0\n",
      "subscription_fee     0\n",
      "dtype: int64\n"
     ]
    }
   ],
   "source": [
    "# Проверка на пропуски\n",
    "print(full_data.isnull().sum())"
   ]
  },
  {
   "cell_type": "code",
   "execution_count": 50,
   "id": "f350eb89",
   "metadata": {},
   "outputs": [
    {
     "data": {
      "text/html": [
       "<div>\n",
       "<style scoped>\n",
       "    .dataframe tbody tr th:only-of-type {\n",
       "        vertical-align: middle;\n",
       "    }\n",
       "\n",
       "    .dataframe tbody tr th {\n",
       "        vertical-align: top;\n",
       "    }\n",
       "\n",
       "    .dataframe thead th {\n",
       "        text-align: right;\n",
       "    }\n",
       "</style>\n",
       "<table border=\"1\" class=\"dataframe\">\n",
       "  <thead>\n",
       "    <tr style=\"text-align: right;\">\n",
       "      <th></th>\n",
       "      <th>user_id</th>\n",
       "      <th>name</th>\n",
       "      <th>age</th>\n",
       "      <th>city</th>\n",
       "      <th>subscription_type</th>\n",
       "      <th>distance</th>\n",
       "      <th>duration</th>\n",
       "      <th>date</th>\n",
       "      <th>month</th>\n",
       "      <th>minute_price</th>\n",
       "      <th>start_ride_price</th>\n",
       "      <th>subscription_fee</th>\n",
       "    </tr>\n",
       "  </thead>\n",
       "  <tbody>\n",
       "    <tr>\n",
       "      <th>6500</th>\n",
       "      <td>700</td>\n",
       "      <td>Айдар</td>\n",
       "      <td>22</td>\n",
       "      <td>Омск</td>\n",
       "      <td>free</td>\n",
       "      <td>2515.690719</td>\n",
       "      <td>14.944286</td>\n",
       "      <td>2021-01-02</td>\n",
       "      <td>1</td>\n",
       "      <td>8</td>\n",
       "      <td>50</td>\n",
       "      <td>0</td>\n",
       "    </tr>\n",
       "    <tr>\n",
       "      <th>6501</th>\n",
       "      <td>700</td>\n",
       "      <td>Айдар</td>\n",
       "      <td>22</td>\n",
       "      <td>Омск</td>\n",
       "      <td>free</td>\n",
       "      <td>846.932642</td>\n",
       "      <td>16.234663</td>\n",
       "      <td>2021-02-01</td>\n",
       "      <td>2</td>\n",
       "      <td>8</td>\n",
       "      <td>50</td>\n",
       "      <td>0</td>\n",
       "    </tr>\n",
       "    <tr>\n",
       "      <th>6502</th>\n",
       "      <td>700</td>\n",
       "      <td>Айдар</td>\n",
       "      <td>22</td>\n",
       "      <td>Омск</td>\n",
       "      <td>free</td>\n",
       "      <td>4004.434142</td>\n",
       "      <td>20.016628</td>\n",
       "      <td>2021-02-04</td>\n",
       "      <td>2</td>\n",
       "      <td>8</td>\n",
       "      <td>50</td>\n",
       "      <td>0</td>\n",
       "    </tr>\n",
       "    <tr>\n",
       "      <th>6503</th>\n",
       "      <td>700</td>\n",
       "      <td>Айдар</td>\n",
       "      <td>22</td>\n",
       "      <td>Омск</td>\n",
       "      <td>free</td>\n",
       "      <td>1205.911290</td>\n",
       "      <td>9.782872</td>\n",
       "      <td>2021-02-10</td>\n",
       "      <td>2</td>\n",
       "      <td>8</td>\n",
       "      <td>50</td>\n",
       "      <td>0</td>\n",
       "    </tr>\n",
       "    <tr>\n",
       "      <th>6504</th>\n",
       "      <td>700</td>\n",
       "      <td>Айдар</td>\n",
       "      <td>22</td>\n",
       "      <td>Омск</td>\n",
       "      <td>free</td>\n",
       "      <td>3047.379435</td>\n",
       "      <td>17.427673</td>\n",
       "      <td>2021-02-14</td>\n",
       "      <td>2</td>\n",
       "      <td>8</td>\n",
       "      <td>50</td>\n",
       "      <td>0</td>\n",
       "    </tr>\n",
       "    <tr>\n",
       "      <th>...</th>\n",
       "      <td>...</td>\n",
       "      <td>...</td>\n",
       "      <td>...</td>\n",
       "      <td>...</td>\n",
       "      <td>...</td>\n",
       "      <td>...</td>\n",
       "      <td>...</td>\n",
       "      <td>...</td>\n",
       "      <td>...</td>\n",
       "      <td>...</td>\n",
       "      <td>...</td>\n",
       "      <td>...</td>\n",
       "    </tr>\n",
       "    <tr>\n",
       "      <th>18063</th>\n",
       "      <td>1534</td>\n",
       "      <td>Альберт</td>\n",
       "      <td>25</td>\n",
       "      <td>Краснодар</td>\n",
       "      <td>free</td>\n",
       "      <td>3781.098080</td>\n",
       "      <td>19.822962</td>\n",
       "      <td>2021-11-04</td>\n",
       "      <td>11</td>\n",
       "      <td>8</td>\n",
       "      <td>50</td>\n",
       "      <td>0</td>\n",
       "    </tr>\n",
       "    <tr>\n",
       "      <th>18064</th>\n",
       "      <td>1534</td>\n",
       "      <td>Альберт</td>\n",
       "      <td>25</td>\n",
       "      <td>Краснодар</td>\n",
       "      <td>free</td>\n",
       "      <td>2840.423057</td>\n",
       "      <td>21.409799</td>\n",
       "      <td>2021-11-16</td>\n",
       "      <td>11</td>\n",
       "      <td>8</td>\n",
       "      <td>50</td>\n",
       "      <td>0</td>\n",
       "    </tr>\n",
       "    <tr>\n",
       "      <th>18065</th>\n",
       "      <td>1534</td>\n",
       "      <td>Альберт</td>\n",
       "      <td>25</td>\n",
       "      <td>Краснодар</td>\n",
       "      <td>free</td>\n",
       "      <td>3826.185507</td>\n",
       "      <td>18.435051</td>\n",
       "      <td>2021-11-18</td>\n",
       "      <td>11</td>\n",
       "      <td>8</td>\n",
       "      <td>50</td>\n",
       "      <td>0</td>\n",
       "    </tr>\n",
       "    <tr>\n",
       "      <th>18066</th>\n",
       "      <td>1534</td>\n",
       "      <td>Альберт</td>\n",
       "      <td>25</td>\n",
       "      <td>Краснодар</td>\n",
       "      <td>free</td>\n",
       "      <td>2902.308661</td>\n",
       "      <td>16.674362</td>\n",
       "      <td>2021-11-27</td>\n",
       "      <td>11</td>\n",
       "      <td>8</td>\n",
       "      <td>50</td>\n",
       "      <td>0</td>\n",
       "    </tr>\n",
       "    <tr>\n",
       "      <th>18067</th>\n",
       "      <td>1534</td>\n",
       "      <td>Альберт</td>\n",
       "      <td>25</td>\n",
       "      <td>Краснодар</td>\n",
       "      <td>free</td>\n",
       "      <td>2371.711192</td>\n",
       "      <td>15.893917</td>\n",
       "      <td>2021-12-29</td>\n",
       "      <td>12</td>\n",
       "      <td>8</td>\n",
       "      <td>50</td>\n",
       "      <td>0</td>\n",
       "    </tr>\n",
       "  </tbody>\n",
       "</table>\n",
       "<p>11568 rows × 12 columns</p>\n",
       "</div>"
      ],
      "text/plain": [
       "       user_id     name  age       city subscription_type     distance  \\\n",
       "6500       700    Айдар   22       Омск              free  2515.690719   \n",
       "6501       700    Айдар   22       Омск              free   846.932642   \n",
       "6502       700    Айдар   22       Омск              free  4004.434142   \n",
       "6503       700    Айдар   22       Омск              free  1205.911290   \n",
       "6504       700    Айдар   22       Омск              free  3047.379435   \n",
       "...        ...      ...  ...        ...               ...          ...   \n",
       "18063     1534  Альберт   25  Краснодар              free  3781.098080   \n",
       "18064     1534  Альберт   25  Краснодар              free  2840.423057   \n",
       "18065     1534  Альберт   25  Краснодар              free  3826.185507   \n",
       "18066     1534  Альберт   25  Краснодар              free  2902.308661   \n",
       "18067     1534  Альберт   25  Краснодар              free  2371.711192   \n",
       "\n",
       "        duration       date  month  minute_price  start_ride_price  \\\n",
       "6500   14.944286 2021-01-02      1             8                50   \n",
       "6501   16.234663 2021-02-01      2             8                50   \n",
       "6502   20.016628 2021-02-04      2             8                50   \n",
       "6503    9.782872 2021-02-10      2             8                50   \n",
       "6504   17.427673 2021-02-14      2             8                50   \n",
       "...          ...        ...    ...           ...               ...   \n",
       "18063  19.822962 2021-11-04     11             8                50   \n",
       "18064  21.409799 2021-11-16     11             8                50   \n",
       "18065  18.435051 2021-11-18     11             8                50   \n",
       "18066  16.674362 2021-11-27     11             8                50   \n",
       "18067  15.893917 2021-12-29     12             8                50   \n",
       "\n",
       "       subscription_fee  \n",
       "6500                  0  \n",
       "6501                  0  \n",
       "6502                  0  \n",
       "6503                  0  \n",
       "6504                  0  \n",
       "...                 ...  \n",
       "18063                 0  \n",
       "18064                 0  \n",
       "18065                 0  \n",
       "18066                 0  \n",
       "18067                 0  \n",
       "\n",
       "[11568 rows x 12 columns]"
      ]
     },
     "execution_count": 50,
     "metadata": {},
     "output_type": "execute_result"
    }
   ],
   "source": [
    "free_sub = full_data.query(\"`subscription_type` == 'free'\")\n",
    "free_sub"
   ]
  },
  {
   "cell_type": "markdown",
   "id": "282b3042",
   "metadata": {},
   "source": [
    "## Визуализируем информацию о бесплатном тарифе"
   ]
  },
  {
   "cell_type": "code",
   "execution_count": 51,
   "id": "c0dd5c88",
   "metadata": {},
   "outputs": [
    {
     "data": {
      "image/png": "[encoded data removed]",
      "text/plain": [
       "<Figure size 432x288 with 1 Axes>"
      ]
     },
     "metadata": {
      "needs_background": "light"
     },
     "output_type": "display_data"
    },
    {
     "data": {
      "text/plain": [
       "<Figure size 1440x1440 with 0 Axes>"
      ]
     },
     "metadata": {},
     "output_type": "display_data"
    }
   ],
   "source": [
    "# О расстоянии\n",
    "plt.hist(free_sub['distance'], bins=40, range = (0, 7000))\n",
    "plt.title('Расстояние, бесплатный тариф')\n",
    "plt.xlabel('Расстояние, м')\n",
    "plt.ylabel('Количество поездок')\n",
    "plt.figure(figsize=(20,20))\n",
    "plt.show()"
   ]
  },
  {
   "cell_type": "code",
   "execution_count": 52,
   "id": "4a53f27e",
   "metadata": {},
   "outputs": [
    {
     "data": {
      "image/png": "[encoded data removed]",
      "text/plain": [
       "<Figure size 432x288 with 1 Axes>"
      ]
     },
     "metadata": {
      "needs_background": "light"
     },
     "output_type": "display_data"
    },
    {
     "data": {
      "text/plain": [
       "<Figure size 1440x1440 with 0 Axes>"
      ]
     },
     "metadata": {},
     "output_type": "display_data"
    }
   ],
   "source": [
    "# О времени\n",
    "plt.hist(free_sub['duration'], bins=30, range = (0, 35))\n",
    "plt.title('Время, бесплатный тариф')\n",
    "plt.xlabel('Время поездки, минуты')\n",
    "plt.ylabel('Количество поездок')\n",
    "plt.figure(figsize=(20,20))\n",
    "plt.show()"
   ]
  },
  {
   "cell_type": "markdown",
   "id": "f8290226",
   "metadata": {},
   "source": [
    "## Создадим датафрейм с данными о пользователях с подпиской"
   ]
  },
  {
   "cell_type": "code",
   "execution_count": 53,
   "id": "d0a81635",
   "metadata": {},
   "outputs": [
    {
     "data": {
      "text/html": [
       "<div>\n",
       "<style scoped>\n",
       "    .dataframe tbody tr th:only-of-type {\n",
       "        vertical-align: middle;\n",
       "    }\n",
       "\n",
       "    .dataframe tbody tr th {\n",
       "        vertical-align: top;\n",
       "    }\n",
       "\n",
       "    .dataframe thead th {\n",
       "        text-align: right;\n",
       "    }\n",
       "</style>\n",
       "<table border=\"1\" class=\"dataframe\">\n",
       "  <thead>\n",
       "    <tr style=\"text-align: right;\">\n",
       "      <th></th>\n",
       "      <th>user_id</th>\n",
       "      <th>name</th>\n",
       "      <th>age</th>\n",
       "      <th>city</th>\n",
       "      <th>subscription_type</th>\n",
       "      <th>distance</th>\n",
       "      <th>duration</th>\n",
       "      <th>date</th>\n",
       "      <th>month</th>\n",
       "      <th>minute_price</th>\n",
       "      <th>start_ride_price</th>\n",
       "      <th>subscription_fee</th>\n",
       "    </tr>\n",
       "  </thead>\n",
       "  <tbody>\n",
       "    <tr>\n",
       "      <th>0</th>\n",
       "      <td>1</td>\n",
       "      <td>Кира</td>\n",
       "      <td>22</td>\n",
       "      <td>Тюмень</td>\n",
       "      <td>ultra</td>\n",
       "      <td>4409.919140</td>\n",
       "      <td>25.599769</td>\n",
       "      <td>2021-01-01</td>\n",
       "      <td>1</td>\n",
       "      <td>6</td>\n",
       "      <td>0</td>\n",
       "      <td>199</td>\n",
       "    </tr>\n",
       "    <tr>\n",
       "      <th>1</th>\n",
       "      <td>1</td>\n",
       "      <td>Кира</td>\n",
       "      <td>22</td>\n",
       "      <td>Тюмень</td>\n",
       "      <td>ultra</td>\n",
       "      <td>2617.592153</td>\n",
       "      <td>15.816871</td>\n",
       "      <td>2021-01-18</td>\n",
       "      <td>1</td>\n",
       "      <td>6</td>\n",
       "      <td>0</td>\n",
       "      <td>199</td>\n",
       "    </tr>\n",
       "    <tr>\n",
       "      <th>2</th>\n",
       "      <td>1</td>\n",
       "      <td>Кира</td>\n",
       "      <td>22</td>\n",
       "      <td>Тюмень</td>\n",
       "      <td>ultra</td>\n",
       "      <td>754.159807</td>\n",
       "      <td>6.232113</td>\n",
       "      <td>2021-04-20</td>\n",
       "      <td>4</td>\n",
       "      <td>6</td>\n",
       "      <td>0</td>\n",
       "      <td>199</td>\n",
       "    </tr>\n",
       "    <tr>\n",
       "      <th>3</th>\n",
       "      <td>1</td>\n",
       "      <td>Кира</td>\n",
       "      <td>22</td>\n",
       "      <td>Тюмень</td>\n",
       "      <td>ultra</td>\n",
       "      <td>2694.783254</td>\n",
       "      <td>18.511000</td>\n",
       "      <td>2021-08-11</td>\n",
       "      <td>8</td>\n",
       "      <td>6</td>\n",
       "      <td>0</td>\n",
       "      <td>199</td>\n",
       "    </tr>\n",
       "    <tr>\n",
       "      <th>4</th>\n",
       "      <td>1</td>\n",
       "      <td>Кира</td>\n",
       "      <td>22</td>\n",
       "      <td>Тюмень</td>\n",
       "      <td>ultra</td>\n",
       "      <td>4028.687306</td>\n",
       "      <td>26.265803</td>\n",
       "      <td>2021-08-28</td>\n",
       "      <td>8</td>\n",
       "      <td>6</td>\n",
       "      <td>0</td>\n",
       "      <td>199</td>\n",
       "    </tr>\n",
       "    <tr>\n",
       "      <th>...</th>\n",
       "      <td>...</td>\n",
       "      <td>...</td>\n",
       "      <td>...</td>\n",
       "      <td>...</td>\n",
       "      <td>...</td>\n",
       "      <td>...</td>\n",
       "      <td>...</td>\n",
       "      <td>...</td>\n",
       "      <td>...</td>\n",
       "      <td>...</td>\n",
       "      <td>...</td>\n",
       "      <td>...</td>\n",
       "    </tr>\n",
       "    <tr>\n",
       "      <th>6495</th>\n",
       "      <td>699</td>\n",
       "      <td>Оксана</td>\n",
       "      <td>22</td>\n",
       "      <td>Москва</td>\n",
       "      <td>ultra</td>\n",
       "      <td>3973.046497</td>\n",
       "      <td>24.671163</td>\n",
       "      <td>2021-08-29</td>\n",
       "      <td>8</td>\n",
       "      <td>6</td>\n",
       "      <td>0</td>\n",
       "      <td>199</td>\n",
       "    </tr>\n",
       "    <tr>\n",
       "      <th>6496</th>\n",
       "      <td>699</td>\n",
       "      <td>Оксана</td>\n",
       "      <td>22</td>\n",
       "      <td>Москва</td>\n",
       "      <td>ultra</td>\n",
       "      <td>3288.702563</td>\n",
       "      <td>15.892886</td>\n",
       "      <td>2021-09-12</td>\n",
       "      <td>9</td>\n",
       "      <td>6</td>\n",
       "      <td>0</td>\n",
       "      <td>199</td>\n",
       "    </tr>\n",
       "    <tr>\n",
       "      <th>6497</th>\n",
       "      <td>699</td>\n",
       "      <td>Оксана</td>\n",
       "      <td>22</td>\n",
       "      <td>Москва</td>\n",
       "      <td>ultra</td>\n",
       "      <td>3076.159348</td>\n",
       "      <td>14.389525</td>\n",
       "      <td>2021-09-26</td>\n",
       "      <td>9</td>\n",
       "      <td>6</td>\n",
       "      <td>0</td>\n",
       "      <td>199</td>\n",
       "    </tr>\n",
       "    <tr>\n",
       "      <th>6498</th>\n",
       "      <td>699</td>\n",
       "      <td>Оксана</td>\n",
       "      <td>22</td>\n",
       "      <td>Москва</td>\n",
       "      <td>ultra</td>\n",
       "      <td>4707.845501</td>\n",
       "      <td>15.839579</td>\n",
       "      <td>2021-10-17</td>\n",
       "      <td>10</td>\n",
       "      <td>6</td>\n",
       "      <td>0</td>\n",
       "      <td>199</td>\n",
       "    </tr>\n",
       "    <tr>\n",
       "      <th>6499</th>\n",
       "      <td>699</td>\n",
       "      <td>Оксана</td>\n",
       "      <td>22</td>\n",
       "      <td>Москва</td>\n",
       "      <td>ultra</td>\n",
       "      <td>3202.890770</td>\n",
       "      <td>25.217345</td>\n",
       "      <td>2021-12-03</td>\n",
       "      <td>12</td>\n",
       "      <td>6</td>\n",
       "      <td>0</td>\n",
       "      <td>199</td>\n",
       "    </tr>\n",
       "  </tbody>\n",
       "</table>\n",
       "<p>6500 rows × 12 columns</p>\n",
       "</div>"
      ],
      "text/plain": [
       "      user_id    name  age    city subscription_type     distance   duration  \\\n",
       "0           1    Кира   22  Тюмень             ultra  4409.919140  25.599769   \n",
       "1           1    Кира   22  Тюмень             ultra  2617.592153  15.816871   \n",
       "2           1    Кира   22  Тюмень             ultra   754.159807   6.232113   \n",
       "3           1    Кира   22  Тюмень             ultra  2694.783254  18.511000   \n",
       "4           1    Кира   22  Тюмень             ultra  4028.687306  26.265803   \n",
       "...       ...     ...  ...     ...               ...          ...        ...   \n",
       "6495      699  Оксана   22  Москва             ultra  3973.046497  24.671163   \n",
       "6496      699  Оксана   22  Москва             ultra  3288.702563  15.892886   \n",
       "6497      699  Оксана   22  Москва             ultra  3076.159348  14.389525   \n",
       "6498      699  Оксана   22  Москва             ultra  4707.845501  15.839579   \n",
       "6499      699  Оксана   22  Москва             ultra  3202.890770  25.217345   \n",
       "\n",
       "           date  month  minute_price  start_ride_price  subscription_fee  \n",
       "0    2021-01-01      1             6                 0               199  \n",
       "1    2021-01-18      1             6                 0               199  \n",
       "2    2021-04-20      4             6                 0               199  \n",
       "3    2021-08-11      8             6                 0               199  \n",
       "4    2021-08-28      8             6                 0               199  \n",
       "...         ...    ...           ...               ...               ...  \n",
       "6495 2021-08-29      8             6                 0               199  \n",
       "6496 2021-09-12      9             6                 0               199  \n",
       "6497 2021-09-26      9             6                 0               199  \n",
       "6498 2021-10-17     10             6                 0               199  \n",
       "6499 2021-12-03     12             6                 0               199  \n",
       "\n",
       "[6500 rows x 12 columns]"
      ]
     },
     "execution_count": 53,
     "metadata": {},
     "output_type": "execute_result"
    }
   ],
   "source": [
    "ultra_sub = full_data.query(\"`subscription_type` == 'ultra'\")\n",
    "ultra_sub"
   ]
  },
  {
   "cell_type": "markdown",
   "id": "01ddf538",
   "metadata": {},
   "source": [
    "## Визуализируем информацию о платном тарифе"
   ]
  },
  {
   "cell_type": "code",
   "execution_count": 54,
   "id": "d8f031e2",
   "metadata": {},
   "outputs": [
    {
     "data": {
      "image/png": "[encoded data removed]",
      "text/plain": [
       "<Figure size 432x288 with 1 Axes>"
      ]
     },
     "metadata": {
      "needs_background": "light"
     },
     "output_type": "display_data"
    },
    {
     "data": {
      "text/plain": [
       "<Figure size 1440x1440 with 0 Axes>"
      ]
     },
     "metadata": {},
     "output_type": "display_data"
    }
   ],
   "source": [
    "# О расстоянии\n",
    "plt.hist(ultra_sub['distance'], bins=40, range = (0, 6000))\n",
    "plt.title('Расстояние, платный тариф')\n",
    "plt.xlabel('Расстояние, м')\n",
    "plt.ylabel('Количество поездок')\n",
    "plt.figure(figsize=(20,20))\n",
    "plt.show()"
   ]
  },
  {
   "cell_type": "code",
   "execution_count": 55,
   "id": "46fbfd2d",
   "metadata": {},
   "outputs": [
    {
     "data": {
      "image/png": "[encoded data removed]",
      "text/plain": [
       "<Figure size 432x288 with 1 Axes>"
      ]
     },
     "metadata": {
      "needs_background": "light"
     },
     "output_type": "display_data"
    },
    {
     "data": {
      "text/plain": [
       "<Figure size 1440x1440 with 0 Axes>"
      ]
     },
     "metadata": {},
     "output_type": "display_data"
    }
   ],
   "source": [
    "# О времени\n",
    "plt.hist(ultra_sub['duration'], bins=30, range = (0, 35))\n",
    "plt.title('Время, платный тариф')\n",
    "plt.xlabel('Время поездки, минуты')\n",
    "plt.ylabel('Количество поездок')\n",
    "plt.figure(figsize=(20,20))\n",
    "plt.show()"
   ]
  },
  {
   "cell_type": "markdown",
   "id": "d13ea127",
   "metadata": {},
   "source": [
    "Вывод:\n",
    "\n",
    "Объединили данные о пользователях, поездках и тарифах в один датафрейм - full_data.\n",
    "\n",
    "Выделили два датафрейма на основе full_data:\n",
    "\n",
    "free_sub - Информация о пользователях с бесплатным тарифом\n",
    "ultra_sub - Информация о пользователях с платным тарифом\n",
    "Визуализировали информацию о расстоянии и времени для каждого из тарифов.\n",
    "\n",
    "Для бесплатного тарифа время поездки составляет от 10 до 30 минут, и проезжают от 2 до 5 км, есть пользователи, которые проехали даже 6, 6.5 км.\n",
    "\n",
    "Платный тариф. В основном время укладывается в промежуток от 15 до 25 минут. Пик расстояния приходится на 3км.\n",
    "\n",
    "Таким образом, можно сделать вывод, что пользователи с бесплатным тарифом в целом совершают более долгие поездки, а также проезжают большее расстояние, чем пользователи на платном тарифе."
   ]
  },
  {
   "cell_type": "markdown",
   "id": "680b87b4",
   "metadata": {},
   "source": [
    "<div class=\"alert alert-success\">\n",
    "<h2> Комментарий ревьюера 😊<a class=\"tocSkip\"> </h2>\n",
    "\n",
    "Молодец, что обращаешь внимание на сходства или различия профилей пользователей с платной и бесплатной подписками."
   ]
  },
  {
   "cell_type": "markdown",
   "id": "402d620f",
   "metadata": {},
   "source": [
    "# Шаг 5. Подсчёт выручки"
   ]
  },
  {
   "cell_type": "markdown",
   "id": "aa95f51d",
   "metadata": {},
   "source": [
    "## Найдем суммарное расстояние, количество поeздок и суммарное время (user/month)"
   ]
  },
  {
   "cell_type": "code",
   "execution_count": 56,
   "id": "13474271",
   "metadata": {},
   "outputs": [],
   "source": [
    "full_data['duration'] = np.ceil(full_data['duration'])"
   ]
  },
  {
   "cell_type": "code",
   "execution_count": 57,
   "id": "d7e4c42b",
   "metadata": {},
   "outputs": [],
   "source": [
    "total_data = pd.pivot_table(full_data,\n",
    "                           index=['month', 'user_id'],\n",
    "                           values = ['distance', 'duration', 'name', 'subscription_type'],\n",
    "                           aggfunc = {'distance': sum, \n",
    "                                      'duration' : sum, \n",
    "                                      'name' : len, \n",
    "                                      'subscription_type' : min})"
   ]
  },
  {
   "cell_type": "code",
   "execution_count": 58,
   "id": "f1cb5046",
   "metadata": {},
   "outputs": [
    {
     "name": "stdout",
     "output_type": "stream",
     "text": [
      "distance             0\n",
      "duration             0\n",
      "name                 0\n",
      "subscription_type    0\n",
      "dtype: int64\n"
     ]
    }
   ],
   "source": [
    "print(total_data.isnull().sum())"
   ]
  },
  {
   "cell_type": "code",
   "execution_count": 59,
   "id": "0ccdc733",
   "metadata": {},
   "outputs": [],
   "source": [
    "total_data.rename(columns = {'name' : 'count_tips'}, inplace = True)"
   ]
  },
  {
   "cell_type": "markdown",
   "id": "b9cd3ece",
   "metadata": {},
   "source": [
    "<div class=\"alert alert-success\">\n",
    "<h2> Комментарий ревьюера 😊<a class=\"tocSkip\"> </h2>\n",
    "\n",
    "Хорошая работа со сводной таблицей!)"
   ]
  },
  {
   "cell_type": "code",
   "execution_count": 60,
   "id": "1f4ba1e1",
   "metadata": {},
   "outputs": [
    {
     "data": {
      "text/html": [
       "<div>\n",
       "<style scoped>\n",
       "    .dataframe tbody tr th:only-of-type {\n",
       "        vertical-align: middle;\n",
       "    }\n",
       "\n",
       "    .dataframe tbody tr th {\n",
       "        vertical-align: top;\n",
       "    }\n",
       "\n",
       "    .dataframe thead th {\n",
       "        text-align: right;\n",
       "    }\n",
       "</style>\n",
       "<table border=\"1\" class=\"dataframe\">\n",
       "  <thead>\n",
       "    <tr style=\"text-align: right;\">\n",
       "      <th></th>\n",
       "      <th></th>\n",
       "      <th>distance</th>\n",
       "      <th>duration</th>\n",
       "      <th>count_tips</th>\n",
       "      <th>subscription_type</th>\n",
       "    </tr>\n",
       "    <tr>\n",
       "      <th>month</th>\n",
       "      <th>user_id</th>\n",
       "      <th></th>\n",
       "      <th></th>\n",
       "      <th></th>\n",
       "      <th></th>\n",
       "    </tr>\n",
       "  </thead>\n",
       "  <tbody>\n",
       "    <tr>\n",
       "      <th rowspan=\"20\" valign=\"top\">1</th>\n",
       "      <th>1</th>\n",
       "      <td>7027.511294</td>\n",
       "      <td>42.0</td>\n",
       "      <td>2</td>\n",
       "      <td>ultra</td>\n",
       "    </tr>\n",
       "    <tr>\n",
       "      <th>1061</th>\n",
       "      <td>12637.249630</td>\n",
       "      <td>43.0</td>\n",
       "      <td>3</td>\n",
       "      <td>free</td>\n",
       "    </tr>\n",
       "    <tr>\n",
       "      <th>1063</th>\n",
       "      <td>3276.362299</td>\n",
       "      <td>10.0</td>\n",
       "      <td>1</td>\n",
       "      <td>free</td>\n",
       "    </tr>\n",
       "    <tr>\n",
       "      <th>1064</th>\n",
       "      <td>5297.324649</td>\n",
       "      <td>15.0</td>\n",
       "      <td>1</td>\n",
       "      <td>free</td>\n",
       "    </tr>\n",
       "    <tr>\n",
       "      <th>1065</th>\n",
       "      <td>14547.099333</td>\n",
       "      <td>99.0</td>\n",
       "      <td>4</td>\n",
       "      <td>free</td>\n",
       "    </tr>\n",
       "    <tr>\n",
       "      <th>1066</th>\n",
       "      <td>2809.064949</td>\n",
       "      <td>19.0</td>\n",
       "      <td>1</td>\n",
       "      <td>free</td>\n",
       "    </tr>\n",
       "    <tr>\n",
       "      <th>1067</th>\n",
       "      <td>3864.900780</td>\n",
       "      <td>22.0</td>\n",
       "      <td>1</td>\n",
       "      <td>free</td>\n",
       "    </tr>\n",
       "    <tr>\n",
       "      <th>1069</th>\n",
       "      <td>7007.076943</td>\n",
       "      <td>53.0</td>\n",
       "      <td>3</td>\n",
       "      <td>free</td>\n",
       "    </tr>\n",
       "    <tr>\n",
       "      <th>1071</th>\n",
       "      <td>3635.094136</td>\n",
       "      <td>15.0</td>\n",
       "      <td>1</td>\n",
       "      <td>free</td>\n",
       "    </tr>\n",
       "    <tr>\n",
       "      <th>1072</th>\n",
       "      <td>2498.615999</td>\n",
       "      <td>11.0</td>\n",
       "      <td>1</td>\n",
       "      <td>free</td>\n",
       "    </tr>\n",
       "    <tr>\n",
       "      <th>1073</th>\n",
       "      <td>2945.802455</td>\n",
       "      <td>16.0</td>\n",
       "      <td>1</td>\n",
       "      <td>free</td>\n",
       "    </tr>\n",
       "    <tr>\n",
       "      <th>1074</th>\n",
       "      <td>2814.793386</td>\n",
       "      <td>22.0</td>\n",
       "      <td>1</td>\n",
       "      <td>free</td>\n",
       "    </tr>\n",
       "    <tr>\n",
       "      <th>1075</th>\n",
       "      <td>5746.745124</td>\n",
       "      <td>29.0</td>\n",
       "      <td>3</td>\n",
       "      <td>free</td>\n",
       "    </tr>\n",
       "    <tr>\n",
       "      <th>1077</th>\n",
       "      <td>114.036199</td>\n",
       "      <td>13.0</td>\n",
       "      <td>1</td>\n",
       "      <td>free</td>\n",
       "    </tr>\n",
       "    <tr>\n",
       "      <th>1078</th>\n",
       "      <td>3748.219563</td>\n",
       "      <td>19.0</td>\n",
       "      <td>1</td>\n",
       "      <td>free</td>\n",
       "    </tr>\n",
       "    <tr>\n",
       "      <th>1082</th>\n",
       "      <td>7250.124895</td>\n",
       "      <td>30.0</td>\n",
       "      <td>2</td>\n",
       "      <td>free</td>\n",
       "    </tr>\n",
       "    <tr>\n",
       "      <th>1083</th>\n",
       "      <td>5848.881463</td>\n",
       "      <td>31.0</td>\n",
       "      <td>2</td>\n",
       "      <td>free</td>\n",
       "    </tr>\n",
       "    <tr>\n",
       "      <th>1084</th>\n",
       "      <td>4615.097141</td>\n",
       "      <td>25.0</td>\n",
       "      <td>1</td>\n",
       "      <td>free</td>\n",
       "    </tr>\n",
       "    <tr>\n",
       "      <th>1085</th>\n",
       "      <td>11410.546346</td>\n",
       "      <td>63.0</td>\n",
       "      <td>3</td>\n",
       "      <td>free</td>\n",
       "    </tr>\n",
       "    <tr>\n",
       "      <th>1086</th>\n",
       "      <td>4044.280322</td>\n",
       "      <td>18.0</td>\n",
       "      <td>1</td>\n",
       "      <td>free</td>\n",
       "    </tr>\n",
       "  </tbody>\n",
       "</table>\n",
       "</div>"
      ],
      "text/plain": [
       "                   distance  duration  count_tips subscription_type\n",
       "month user_id                                                      \n",
       "1     1         7027.511294      42.0           2             ultra\n",
       "      1061     12637.249630      43.0           3              free\n",
       "      1063      3276.362299      10.0           1              free\n",
       "      1064      5297.324649      15.0           1              free\n",
       "      1065     14547.099333      99.0           4              free\n",
       "      1066      2809.064949      19.0           1              free\n",
       "      1067      3864.900780      22.0           1              free\n",
       "      1069      7007.076943      53.0           3              free\n",
       "      1071      3635.094136      15.0           1              free\n",
       "      1072      2498.615999      11.0           1              free\n",
       "      1073      2945.802455      16.0           1              free\n",
       "      1074      2814.793386      22.0           1              free\n",
       "      1075      5746.745124      29.0           3              free\n",
       "      1077       114.036199      13.0           1              free\n",
       "      1078      3748.219563      19.0           1              free\n",
       "      1082      7250.124895      30.0           2              free\n",
       "      1083      5848.881463      31.0           2              free\n",
       "      1084      4615.097141      25.0           1              free\n",
       "      1085     11410.546346      63.0           3              free\n",
       "      1086      4044.280322      18.0           1              free"
      ]
     },
     "execution_count": 60,
     "metadata": {},
     "output_type": "execute_result"
    }
   ],
   "source": [
    "total_data.sort_values(by='month').head(20)"
   ]
  },
  {
   "cell_type": "code",
   "execution_count": 61,
   "id": "b65d8938",
   "metadata": {},
   "outputs": [
    {
     "data": {
      "text/html": [
       "<div>\n",
       "<style scoped>\n",
       "    .dataframe tbody tr th:only-of-type {\n",
       "        vertical-align: middle;\n",
       "    }\n",
       "\n",
       "    .dataframe tbody tr th {\n",
       "        vertical-align: top;\n",
       "    }\n",
       "\n",
       "    .dataframe thead th {\n",
       "        text-align: right;\n",
       "    }\n",
       "</style>\n",
       "<table border=\"1\" class=\"dataframe\">\n",
       "  <thead>\n",
       "    <tr style=\"text-align: right;\">\n",
       "      <th></th>\n",
       "      <th></th>\n",
       "      <th>distance</th>\n",
       "      <th>duration</th>\n",
       "      <th>count_tips</th>\n",
       "      <th>subscription_type</th>\n",
       "    </tr>\n",
       "    <tr>\n",
       "      <th>month</th>\n",
       "      <th>user_id</th>\n",
       "      <th></th>\n",
       "      <th></th>\n",
       "      <th></th>\n",
       "      <th></th>\n",
       "    </tr>\n",
       "  </thead>\n",
       "  <tbody>\n",
       "    <tr>\n",
       "      <th>1</th>\n",
       "      <th>1</th>\n",
       "      <td>7027.511294</td>\n",
       "      <td>42.0</td>\n",
       "      <td>2</td>\n",
       "      <td>ultra</td>\n",
       "    </tr>\n",
       "    <tr>\n",
       "      <th>4</th>\n",
       "      <th>1</th>\n",
       "      <td>754.159807</td>\n",
       "      <td>7.0</td>\n",
       "      <td>1</td>\n",
       "      <td>ultra</td>\n",
       "    </tr>\n",
       "    <tr>\n",
       "      <th>8</th>\n",
       "      <th>1</th>\n",
       "      <td>6723.470560</td>\n",
       "      <td>46.0</td>\n",
       "      <td>2</td>\n",
       "      <td>ultra</td>\n",
       "    </tr>\n",
       "    <tr>\n",
       "      <th>10</th>\n",
       "      <th>1</th>\n",
       "      <td>5809.911100</td>\n",
       "      <td>32.0</td>\n",
       "      <td>2</td>\n",
       "      <td>ultra</td>\n",
       "    </tr>\n",
       "    <tr>\n",
       "      <th>11</th>\n",
       "      <th>1</th>\n",
       "      <td>7003.499363</td>\n",
       "      <td>56.0</td>\n",
       "      <td>3</td>\n",
       "      <td>ultra</td>\n",
       "    </tr>\n",
       "    <tr>\n",
       "      <th>12</th>\n",
       "      <th>1</th>\n",
       "      <td>6751.629942</td>\n",
       "      <td>28.0</td>\n",
       "      <td>2</td>\n",
       "      <td>ultra</td>\n",
       "    </tr>\n",
       "  </tbody>\n",
       "</table>\n",
       "</div>"
      ],
      "text/plain": [
       "                  distance  duration  count_tips subscription_type\n",
       "month user_id                                                     \n",
       "1     1        7027.511294      42.0           2             ultra\n",
       "4     1         754.159807       7.0           1             ultra\n",
       "8     1        6723.470560      46.0           2             ultra\n",
       "10    1        5809.911100      32.0           2             ultra\n",
       "11    1        7003.499363      56.0           3             ultra\n",
       "12    1        6751.629942      28.0           2             ultra"
      ]
     },
     "execution_count": 61,
     "metadata": {},
     "output_type": "execute_result"
    }
   ],
   "source": [
    "total_data.query('user_id == 1')"
   ]
  },
  {
   "cell_type": "markdown",
   "id": "59ee56b5",
   "metadata": {},
   "source": [
    "## Помесячная выручка:"
   ]
  },
  {
   "cell_type": "code",
   "execution_count": 62,
   "id": "3cc969bf",
   "metadata": {},
   "outputs": [],
   "source": [
    "def revenue(row):\n",
    "    if row['subscription_type'] == 'ultra':\n",
    "        return 6 * row['duration'] + 199\n",
    "    elif row['subscription_type'] == 'free':\n",
    "        return 8 * row['duration'] + 50 * row['count_tips']\n",
    "    else:\n",
    "        return 'Not such sub'"
   ]
  },
  {
   "cell_type": "code",
   "execution_count": 63,
   "id": "cc511ef2",
   "metadata": {},
   "outputs": [],
   "source": [
    "total_data['revenue_per_month'] = total_data.apply(revenue, axis=1)"
   ]
  },
  {
   "cell_type": "code",
   "execution_count": 64,
   "id": "f419488e",
   "metadata": {},
   "outputs": [
    {
     "data": {
      "text/plain": [
       "month  user_id\n",
       "1      1          451.0\n",
       "       3          277.0\n",
       "       5          277.0\n",
       "       7          367.0\n",
       "       12         397.0\n",
       "       13         451.0\n",
       "       14         409.0\n",
       "       15         433.0\n",
       "       20         373.0\n",
       "       22         277.0\n",
       "       25         301.0\n",
       "       26         367.0\n",
       "       30         349.0\n",
       "       32         349.0\n",
       "       35         541.0\n",
       "       42         337.0\n",
       "       43         487.0\n",
       "       44         313.0\n",
       "       45         361.0\n",
       "       46         319.0\n",
       "Name: revenue_per_month, dtype: float64"
      ]
     },
     "execution_count": 64,
     "metadata": {},
     "output_type": "execute_result"
    }
   ],
   "source": [
    "total_data['revenue_per_month'].head(20)"
   ]
  },
  {
   "cell_type": "code",
   "execution_count": 65,
   "id": "a255a843",
   "metadata": {},
   "outputs": [
    {
     "data": {
      "text/html": [
       "<div>\n",
       "<style scoped>\n",
       "    .dataframe tbody tr th:only-of-type {\n",
       "        vertical-align: middle;\n",
       "    }\n",
       "\n",
       "    .dataframe tbody tr th {\n",
       "        vertical-align: top;\n",
       "    }\n",
       "\n",
       "    .dataframe thead th {\n",
       "        text-align: right;\n",
       "    }\n",
       "</style>\n",
       "<table border=\"1\" class=\"dataframe\">\n",
       "  <thead>\n",
       "    <tr style=\"text-align: right;\">\n",
       "      <th></th>\n",
       "      <th></th>\n",
       "      <th>distance</th>\n",
       "      <th>duration</th>\n",
       "      <th>count_tips</th>\n",
       "      <th>subscription_type</th>\n",
       "      <th>revenue_per_month</th>\n",
       "    </tr>\n",
       "    <tr>\n",
       "      <th>month</th>\n",
       "      <th>user_id</th>\n",
       "      <th></th>\n",
       "      <th></th>\n",
       "      <th></th>\n",
       "      <th></th>\n",
       "      <th></th>\n",
       "    </tr>\n",
       "  </thead>\n",
       "  <tbody>\n",
       "    <tr>\n",
       "      <th>1</th>\n",
       "      <th>1</th>\n",
       "      <td>7027.511294</td>\n",
       "      <td>42.0</td>\n",
       "      <td>2</td>\n",
       "      <td>ultra</td>\n",
       "      <td>451.0</td>\n",
       "    </tr>\n",
       "    <tr>\n",
       "      <th>4</th>\n",
       "      <th>1</th>\n",
       "      <td>754.159807</td>\n",
       "      <td>7.0</td>\n",
       "      <td>1</td>\n",
       "      <td>ultra</td>\n",
       "      <td>241.0</td>\n",
       "    </tr>\n",
       "    <tr>\n",
       "      <th>8</th>\n",
       "      <th>1</th>\n",
       "      <td>6723.470560</td>\n",
       "      <td>46.0</td>\n",
       "      <td>2</td>\n",
       "      <td>ultra</td>\n",
       "      <td>475.0</td>\n",
       "    </tr>\n",
       "    <tr>\n",
       "      <th>10</th>\n",
       "      <th>1</th>\n",
       "      <td>5809.911100</td>\n",
       "      <td>32.0</td>\n",
       "      <td>2</td>\n",
       "      <td>ultra</td>\n",
       "      <td>391.0</td>\n",
       "    </tr>\n",
       "    <tr>\n",
       "      <th>11</th>\n",
       "      <th>1</th>\n",
       "      <td>7003.499363</td>\n",
       "      <td>56.0</td>\n",
       "      <td>3</td>\n",
       "      <td>ultra</td>\n",
       "      <td>535.0</td>\n",
       "    </tr>\n",
       "    <tr>\n",
       "      <th>12</th>\n",
       "      <th>1</th>\n",
       "      <td>6751.629942</td>\n",
       "      <td>28.0</td>\n",
       "      <td>2</td>\n",
       "      <td>ultra</td>\n",
       "      <td>367.0</td>\n",
       "    </tr>\n",
       "  </tbody>\n",
       "</table>\n",
       "</div>"
      ],
      "text/plain": [
       "                  distance  duration  count_tips subscription_type  \\\n",
       "month user_id                                                        \n",
       "1     1        7027.511294      42.0           2             ultra   \n",
       "4     1         754.159807       7.0           1             ultra   \n",
       "8     1        6723.470560      46.0           2             ultra   \n",
       "10    1        5809.911100      32.0           2             ultra   \n",
       "11    1        7003.499363      56.0           3             ultra   \n",
       "12    1        6751.629942      28.0           2             ultra   \n",
       "\n",
       "               revenue_per_month  \n",
       "month user_id                     \n",
       "1     1                    451.0  \n",
       "4     1                    241.0  \n",
       "8     1                    475.0  \n",
       "10    1                    391.0  \n",
       "11    1                    535.0  \n",
       "12    1                    367.0  "
      ]
     },
     "execution_count": 65,
     "metadata": {},
     "output_type": "execute_result"
    }
   ],
   "source": [
    "total_data.query('user_id == 1')"
   ]
  },
  {
   "cell_type": "markdown",
   "id": "8981d24c",
   "metadata": {},
   "source": [
    "Вывод:\n",
    "\n",
    "Создали новый датафрейм с агрегированными данными (total_data) на основе датафрейма с объединенными данными (full_data).\n",
    "\n",
    "Нашли суммарное расстояние, количество поездок и суммарное время для каждого пользователя за каждый месяц. Также добавили столбец с помесячной выручкой, которую принес каждый пользователь."
   ]
  },
  {
   "cell_type": "markdown",
   "id": "41545ac0",
   "metadata": {},
   "source": [
    "# Шаг 6. Проверка гипотез"
   ]
  },
  {
   "cell_type": "markdown",
   "id": "141616f7",
   "metadata": {},
   "source": [
    "## Тратят ли пользователи с подпиской больше времени на поездки?"
   ]
  },
  {
   "cell_type": "code",
   "execution_count": 66,
   "id": "238e79a1",
   "metadata": {},
   "outputs": [
    {
     "name": "stdout",
     "output_type": "stream",
     "text": [
      "1.2804098316645618e-34\n",
      "Отвергаем нулевую гипотезу\n"
     ]
    }
   ],
   "source": [
    "#H_0: Время пользователей на подписке ultra = время пользователей на подписке free\n",
    "#H_1: Время пользователей на подписке ultra > время пользователей на подписке free\n",
    "\n",
    "ultra = ultra_sub['duration'] \n",
    "\n",
    "free = free_sub['duration']\n",
    "\n",
    "results = st.ttest_ind(ultra, \n",
    "                       free,\n",
    "                       alternative = 'greater')\n",
    "\n",
    "alpha = 0.05\n",
    "\n",
    "print(results.pvalue)\n",
    "\n",
    "if results.pvalue < alpha:\n",
    "    print('Отвергаем нулевую гипотезу')\n",
    "else:\n",
    "    print('Не удалось отвергнуть нулевую гипотезу')"
   ]
  },
  {
   "cell_type": "markdown",
   "id": "c30825ee",
   "metadata": {},
   "source": [
    "<div class=\"alert alert-success\">\n",
    "<h2> Комментарий ревьюера 😊<a class=\"tocSkip\"> </h2>\n",
    "Гипотезы сформулированы верно и значение p-value интерпретировано правильно. Хорошая работа.\n",
    "</div>"
   ]
  },
  {
   "cell_type": "markdown",
   "id": "2b761d35",
   "metadata": {},
   "source": [
    "Отвергаем нулевую гипотезу!"
   ]
  },
  {
   "cell_type": "code",
   "execution_count": 67,
   "id": "3d226b51",
   "metadata": {},
   "outputs": [
    {
     "data": {
      "image/png": "[encoded data removed]",
      "text/plain": [
       "<Figure size 432x288 with 1 Axes>"
      ]
     },
     "metadata": {
      "needs_background": "light"
     },
     "output_type": "display_data"
    }
   ],
   "source": [
    "ax = sns.barplot(x = 'month',\n",
    "            y = 'duration',\n",
    "            hue = \"subscription_type\",\n",
    "            data = full_data,\n",
    "            palette = ['green', 'blue'])\n",
    "ax.set_title('Распределение продолжительности поездок по видам подписок и месяцам')\n",
    "ax.set(xlabel='Номер месяца', ylabel='Продолжительность поездок');"
   ]
  },
  {
   "cell_type": "markdown",
   "id": "95f38233",
   "metadata": {},
   "source": [
    "Вывод:\n",
    "\n",
    "Проверили гипотезу, отвергли гипотезу о том, что время поездки пользователей на тарифе ultra равно времени поездки пользователей на тарифе free"
   ]
  },
  {
   "cell_type": "markdown",
   "id": "d92fd8e8",
   "metadata": {},
   "source": [
    "## Пользователи с подпиской проезжают расстояние, не превышающее 3130 метров за одну поездку"
   ]
  },
  {
   "cell_type": "code",
   "execution_count": 68,
   "id": "ba064bb3",
   "metadata": {},
   "outputs": [
    {
     "name": "stdout",
     "output_type": "stream",
     "text": [
      "0.9195368847849785\n",
      "Не удалось отвергнуть нулевую гипотезу\n"
     ]
    }
   ],
   "source": [
    "#H_0: Расстояние пользователей на подписке ultra = 3130 метров\n",
    "#H_1: Расстояние пользователей на подписке ultra > 3130 метров\n",
    "\n",
    "ultra_dist = ultra_sub['distance']\n",
    "\n",
    "interested_value = 3130.0\n",
    "\n",
    "alpha = 0.05\n",
    "\n",
    "results = st.ttest_1samp(\n",
    "    ultra_dist, \n",
    "    interested_value,\n",
    "    alternative='greater')\n",
    "    \n",
    "print(results.pvalue)\n",
    "\n",
    "if (results.pvalue < alpha):\n",
    "    print('Отвергаем нулевую гипотезу')\n",
    "else:\n",
    "    print('Не удалось отвергнуть нулевую гипотезу')"
   ]
  },
  {
   "cell_type": "markdown",
   "id": "064bdcbb",
   "metadata": {},
   "source": [
    "Не удалось отвергнуть нулевую гипотезу!"
   ]
  },
  {
   "cell_type": "markdown",
   "id": "9014f828",
   "metadata": {},
   "source": [
    "Вывод:\n",
    "\n",
    "Проверили гипотезу, и мы не можем утверждать, что расстояние, которое проехали пользователи на тарифе ultra не превышает 3130 метров."
   ]
  },
  {
   "cell_type": "markdown",
   "id": "bd60bc20",
   "metadata": {},
   "source": [
    "## Помесячная выручка от пользователей с подпиской выше, чем выручка от пользователей без подписки"
   ]
  },
  {
   "cell_type": "code",
   "execution_count": 69,
   "id": "8fd77550",
   "metadata": {},
   "outputs": [
    {
     "name": "stdout",
     "output_type": "stream",
     "text": [
      "1.8850394384715216e-31\n",
      "Отвергаем нулевую гипотезу\n"
     ]
    }
   ],
   "source": [
    "#H_0: Выручка пользователей на подписке ultra = выручка пользователей на подписке free\n",
    "#H_1: Выручка пользователей на подписке ultra > выручка пользователей на подписке free\n",
    "\n",
    "ultra_per_mnth = total_data.loc[total_data.subscription_type == 'ultra', 'revenue_per_month'] \n",
    "\n",
    "free_per_mnth = total_data.loc[total_data.subscription_type == 'free', 'revenue_per_month'] \n",
    "\n",
    "\n",
    "results = st.ttest_ind(ultra_per_mnth, \n",
    "                       free_per_mnth,\n",
    "                       alternative = 'greater')\n",
    "\n",
    "alpha = .05\n",
    "\n",
    "print(results.pvalue)\n",
    "\n",
    "if results.pvalue < alpha:\n",
    "    print('Отвергаем нулевую гипотезу')\n",
    "else:\n",
    "    print('Не удалось отвергнуть нулевую гипотезу')"
   ]
  },
  {
   "cell_type": "markdown",
   "id": "eaaf95cf",
   "metadata": {},
   "source": [
    "Отвергаем нулевую гипотезу!"
   ]
  },
  {
   "cell_type": "markdown",
   "id": "9e235b63",
   "metadata": {},
   "source": [
    "Вывод:\n",
    "\n",
    "Проверили гипотезу, соответственно, мы можем утверждать, что выручка с пользователей на подписке ultra превышает выручку с пользователей на подписке free"
   ]
  },
  {
   "cell_type": "markdown",
   "id": "e52135ef",
   "metadata": {},
   "source": [
    "## Определим нужный для 6.4 метод"
   ]
  },
  {
   "cell_type": "markdown",
   "id": "e7b1aa9d",
   "metadata": {},
   "source": [
    "Будем использовать гипотезу о равенстве средних для зависимых (парных) выборок.\n",
    "\n",
    "Гипотезы будут сформулированы так:\n",
    "\n",
    "H0 : μ1 = μ2\n",
    "H1 : μ1 > μ2\n",
    "где μ1 и μ2 - средние значения количество обращений в техподдержку до и после изменения.\n",
    "\n",
    "Метод, который нужно использовать при сравнении: scipy.stats.ttest_rel()"
   ]
  },
  {
   "cell_type": "markdown",
   "id": "df1cb896",
   "metadata": {},
   "source": [
    "<div class=\"alert alert-success\">\n",
    "<h2> Комментарий ревьюера 😊<a class=\"tocSkip\"> </h2>\n",
    "\n",
    "Метод верный)"
   ]
  },
  {
   "cell_type": "markdown",
   "id": "c4f33769",
   "metadata": {},
   "source": [
    "# Шаг 7. Общий вывод"
   ]
  },
  {
   "cell_type": "markdown",
   "id": "04879556",
   "metadata": {},
   "source": [
    "# Загрузили 3 датафрейма:\n",
    "- C пользователями\n",
    "- C информацией о поездках\n",
    "- C информацией о подписках\n",
    "\n",
    "1. Дальше проверили данные на пропуски, их не оказалось ни в одной таблице.\n",
    "2. Поменяли тип данных у столбца date из датафрейма data_riders к типу даты.\n",
    "3. Также добавили столбец month с номером месяца.\n",
    "4. Удалили дубликаты строк из датафрейма с пользователями.\n",
    "\n",
    "# Провели исследовательский анализ данных:\n",
    "- Вывели, что количество пользователей по городам распределено примерно одинаково, нет выдающихся значений. Лидером по количеству пользователей является Пятигорск - 219 пользователей. Меньше всего пользователей в Москве - 168.\n",
    "- Пользователей, использующих бесплатную подписку больше - 835 человек, что является ~54% от общего числа пользователей. На платной подписке сидит 699 пользователей, что соответственно является ~46%.\n",
    "- Возраст пользователей укладывается в промежуток от 20 до 30 лет\n",
    "- В основном пользователи проезжают от 2.5 км до 4 км.\n",
    "- Чаще всего длительность поездки состовляет 13 - 22 минут\n",
    "- Объединили данные о пользователях, поездках и подписках в один датафрейм. На основе объединенного датафрейма создали еще 2 датафрейма:\n",
    "\n",
    "1. Для пользователей с ultra подпиской\n",
    "2. Для пользователей с free подпиской\n",
    "3. Дальше визуализировали информацию о расстоянии и времени поездки для пользоватей каждого тарифа.\n",
    "\n",
    "Бесплатный тариф.\n",
    "- Время поездки составляет от 10 до 30 минут, и проезжают от 2 до 5 км, есть пользователи, которые проехали даже 6, 6.5 км.\n",
    "\n",
    "Платный тариф.\n",
    "- В основном время укладывается в промежуток от 15 до 25 минут. Пик расстояния приходится на 3км.\n",
    "\n",
    "Нашли суммарное расстояние, количество поездок и суммарное время для каждого пользователя за каждый месяц - вывели все данные в отдельный датафрейм total_data. Добавили в датафрейм total_data столбец с помесячной выручкой revenue_per_month.\n",
    "\n",
    "# Проверили гипотезы:\n",
    "Пользователи с подпиской тратят больше времени на поездки, чем пользователи на бесплатном тарифе\n",
    "- Отвергли нулевую гипотезу\n",
    "\n",
    "Пользователи с подпиской проезжают расстояние, не превышающее 3130 метров за одну поездку\n",
    "- Не удалось отвергнуть нулевую гипотезу\n",
    "\n",
    "Помесячная выручка от пользователей с подпиской выше, чем выручка от пользователей без подписки\n",
    "- Отвергли нулевую гипотезу"
   ]
  }
 ],
 "metadata": {
  "ExecuteTimeLog": [
   {
    "duration": 46,
    "start_time": "2023-12-28T20:39:15.085Z"
   },
   {
    "duration": 1336,
    "start_time": "2023-12-28T20:39:20.208Z"
   },
   {
    "duration": 77,
    "start_time": "2023-12-28T20:39:21.546Z"
   },
   {
    "duration": 112,
    "start_time": "2023-12-28T20:39:21.624Z"
   },
   {
    "duration": 7,
    "start_time": "2023-12-28T20:39:59.293Z"
   },
   {
    "duration": 12,
    "start_time": "2023-12-28T20:40:14.847Z"
   },
   {
    "duration": 147,
    "start_time": "2023-12-28T20:40:36.109Z"
   },
   {
    "duration": 1203,
    "start_time": "2023-12-28T20:44:09.237Z"
   },
   {
    "duration": 30,
    "start_time": "2023-12-28T20:44:10.442Z"
   },
   {
    "duration": 10,
    "start_time": "2023-12-28T20:44:10.473Z"
   },
   {
    "duration": 145,
    "start_time": "2023-12-28T20:44:10.484Z"
   },
   {
    "duration": 5,
    "start_time": "2023-12-28T20:44:10.631Z"
   },
   {
    "duration": 149,
    "start_time": "2023-12-28T20:44:10.638Z"
   },
   {
    "duration": 6,
    "start_time": "2023-12-28T20:44:10.789Z"
   },
   {
    "duration": 100,
    "start_time": "2023-12-28T20:44:10.797Z"
   },
   {
    "duration": 11,
    "start_time": "2023-12-28T20:44:10.898Z"
   },
   {
    "duration": 69,
    "start_time": "2023-12-28T20:44:10.910Z"
   },
   {
    "duration": 11,
    "start_time": "2023-12-28T20:44:10.981Z"
   },
   {
    "duration": 12,
    "start_time": "2023-12-28T20:44:10.994Z"
   },
   {
    "duration": 6,
    "start_time": "2023-12-28T20:44:11.008Z"
   },
   {
    "duration": 6,
    "start_time": "2023-12-28T20:44:11.016Z"
   },
   {
    "duration": 8,
    "start_time": "2023-12-28T20:44:11.023Z"
   },
   {
    "duration": 1130,
    "start_time": "2023-12-28T20:45:27.207Z"
   },
   {
    "duration": 29,
    "start_time": "2023-12-28T20:45:28.340Z"
   },
   {
    "duration": 10,
    "start_time": "2023-12-28T20:45:28.370Z"
   },
   {
    "duration": 151,
    "start_time": "2023-12-28T20:45:28.381Z"
   },
   {
    "duration": 5,
    "start_time": "2023-12-28T20:45:28.534Z"
   },
   {
    "duration": 166,
    "start_time": "2023-12-28T20:45:28.541Z"
   },
   {
    "duration": 5,
    "start_time": "2023-12-28T20:45:28.709Z"
   },
   {
    "duration": 96,
    "start_time": "2023-12-28T20:45:28.715Z"
   },
   {
    "duration": 10,
    "start_time": "2023-12-28T20:45:28.812Z"
   },
   {
    "duration": 26,
    "start_time": "2023-12-28T20:45:28.824Z"
   },
   {
    "duration": 18,
    "start_time": "2023-12-28T20:45:28.852Z"
   },
   {
    "duration": 3,
    "start_time": "2023-12-28T20:45:28.872Z"
   },
   {
    "duration": 4,
    "start_time": "2023-12-28T20:45:28.877Z"
   },
   {
    "duration": 6,
    "start_time": "2023-12-28T20:45:28.883Z"
   },
   {
    "duration": 7,
    "start_time": "2023-12-28T20:45:28.891Z"
   },
   {
    "duration": 9,
    "start_time": "2023-12-28T20:45:28.900Z"
   },
   {
    "duration": 55,
    "start_time": "2023-12-28T20:45:28.910Z"
   },
   {
    "duration": 12,
    "start_time": "2023-12-28T20:45:28.966Z"
   },
   {
    "duration": 13,
    "start_time": "2023-12-28T20:45:28.980Z"
   },
   {
    "duration": 1191,
    "start_time": "2023-12-28T20:47:51.554Z"
   },
   {
    "duration": 29,
    "start_time": "2023-12-28T20:47:52.747Z"
   },
   {
    "duration": 10,
    "start_time": "2023-12-28T20:47:52.777Z"
   },
   {
    "duration": 144,
    "start_time": "2023-12-28T20:47:52.789Z"
   },
   {
    "duration": 5,
    "start_time": "2023-12-28T20:47:52.934Z"
   },
   {
    "duration": 145,
    "start_time": "2023-12-28T20:47:52.940Z"
   },
   {
    "duration": 5,
    "start_time": "2023-12-28T20:47:53.087Z"
   },
   {
    "duration": 89,
    "start_time": "2023-12-28T20:47:53.093Z"
   },
   {
    "duration": 9,
    "start_time": "2023-12-28T20:47:53.184Z"
   },
   {
    "duration": 27,
    "start_time": "2023-12-28T20:47:53.195Z"
   },
   {
    "duration": 11,
    "start_time": "2023-12-28T20:47:53.224Z"
   },
   {
    "duration": 10,
    "start_time": "2023-12-28T20:47:53.236Z"
   },
   {
    "duration": 18,
    "start_time": "2023-12-28T20:47:53.247Z"
   },
   {
    "duration": 8,
    "start_time": "2023-12-28T20:47:53.266Z"
   },
   {
    "duration": 7,
    "start_time": "2023-12-28T20:47:53.275Z"
   },
   {
    "duration": 8,
    "start_time": "2023-12-28T20:47:53.283Z"
   },
   {
    "duration": 17,
    "start_time": "2023-12-28T20:47:53.292Z"
   },
   {
    "duration": 9,
    "start_time": "2023-12-28T20:47:53.310Z"
   },
   {
    "duration": 6,
    "start_time": "2023-12-28T20:47:53.320Z"
   },
   {
    "duration": 2,
    "start_time": "2023-12-28T20:48:14.502Z"
   },
   {
    "duration": 29,
    "start_time": "2023-12-28T20:48:55.804Z"
   },
   {
    "duration": 1120,
    "start_time": "2023-12-28T20:48:58.300Z"
   },
   {
    "duration": 29,
    "start_time": "2023-12-28T20:48:59.422Z"
   },
   {
    "duration": 11,
    "start_time": "2023-12-28T20:48:59.454Z"
   },
   {
    "duration": 150,
    "start_time": "2023-12-28T20:48:59.467Z"
   },
   {
    "duration": 5,
    "start_time": "2023-12-28T20:48:59.619Z"
   },
   {
    "duration": 149,
    "start_time": "2023-12-28T20:48:59.626Z"
   },
   {
    "duration": 5,
    "start_time": "2023-12-28T20:48:59.777Z"
   },
   {
    "duration": 95,
    "start_time": "2023-12-28T20:48:59.784Z"
   },
   {
    "duration": 9,
    "start_time": "2023-12-28T20:48:59.881Z"
   },
   {
    "duration": 27,
    "start_time": "2023-12-28T20:48:59.891Z"
   },
   {
    "duration": 9,
    "start_time": "2023-12-28T20:48:59.920Z"
   },
   {
    "duration": 3,
    "start_time": "2023-12-28T20:48:59.931Z"
   },
   {
    "duration": 5,
    "start_time": "2023-12-28T20:48:59.936Z"
   },
   {
    "duration": 23,
    "start_time": "2023-12-28T20:48:59.942Z"
   },
   {
    "duration": 7,
    "start_time": "2023-12-28T20:48:59.967Z"
   },
   {
    "duration": 12,
    "start_time": "2023-12-28T20:48:59.975Z"
   },
   {
    "duration": 17,
    "start_time": "2023-12-28T20:48:59.988Z"
   },
   {
    "duration": 26,
    "start_time": "2023-12-28T20:49:00.007Z"
   },
   {
    "duration": 27,
    "start_time": "2023-12-28T20:49:00.034Z"
   },
   {
    "duration": 1177,
    "start_time": "2023-12-28T21:03:21.049Z"
   },
   {
    "duration": 29,
    "start_time": "2023-12-28T21:03:22.227Z"
   },
   {
    "duration": 10,
    "start_time": "2023-12-28T21:03:22.258Z"
   },
   {
    "duration": 154,
    "start_time": "2023-12-28T21:03:22.270Z"
   },
   {
    "duration": 5,
    "start_time": "2023-12-28T21:03:22.426Z"
   },
   {
    "duration": 151,
    "start_time": "2023-12-28T21:03:22.432Z"
   },
   {
    "duration": 5,
    "start_time": "2023-12-28T21:03:22.585Z"
   },
   {
    "duration": 106,
    "start_time": "2023-12-28T21:03:22.592Z"
   },
   {
    "duration": 9,
    "start_time": "2023-12-28T21:03:22.700Z"
   },
   {
    "duration": 32,
    "start_time": "2023-12-28T21:03:22.710Z"
   },
   {
    "duration": 11,
    "start_time": "2023-12-28T21:03:22.743Z"
   },
   {
    "duration": 15,
    "start_time": "2023-12-28T21:03:22.756Z"
   },
   {
    "duration": 15,
    "start_time": "2023-12-28T21:03:22.773Z"
   },
   {
    "duration": 14,
    "start_time": "2023-12-28T21:03:22.790Z"
   },
   {
    "duration": 26,
    "start_time": "2023-12-28T21:03:22.805Z"
   },
   {
    "duration": 22,
    "start_time": "2023-12-28T21:03:22.833Z"
   },
   {
    "duration": 16,
    "start_time": "2023-12-28T21:03:22.857Z"
   },
   {
    "duration": 17,
    "start_time": "2023-12-28T21:03:22.875Z"
   },
   {
    "duration": 27,
    "start_time": "2023-12-28T21:03:22.894Z"
   },
   {
    "duration": 31,
    "start_time": "2023-12-28T21:03:22.923Z"
   },
   {
    "duration": 22,
    "start_time": "2023-12-28T21:03:22.956Z"
   },
   {
    "duration": 7,
    "start_time": "2023-12-28T21:03:22.979Z"
   },
   {
    "duration": 25,
    "start_time": "2023-12-28T21:03:22.988Z"
   },
   {
    "duration": 19,
    "start_time": "2023-12-28T21:03:23.014Z"
   },
   {
    "duration": 6,
    "start_time": "2023-12-28T21:05:54.381Z"
   },
   {
    "duration": 5,
    "start_time": "2023-12-28T21:06:05.063Z"
   },
   {
    "duration": 5,
    "start_time": "2023-12-28T21:06:21.883Z"
   },
   {
    "duration": 5,
    "start_time": "2023-12-28T21:08:26.439Z"
   },
   {
    "duration": 6,
    "start_time": "2023-12-28T21:08:30.011Z"
   },
   {
    "duration": 7,
    "start_time": "2023-12-28T21:08:39.164Z"
   },
   {
    "duration": 1165,
    "start_time": "2023-12-28T21:09:54.466Z"
   },
   {
    "duration": 30,
    "start_time": "2023-12-28T21:09:55.632Z"
   },
   {
    "duration": 10,
    "start_time": "2023-12-28T21:09:55.664Z"
   },
   {
    "duration": 186,
    "start_time": "2023-12-28T21:09:55.676Z"
   },
   {
    "duration": 6,
    "start_time": "2023-12-28T21:09:55.864Z"
   },
   {
    "duration": 187,
    "start_time": "2023-12-28T21:09:55.872Z"
   },
   {
    "duration": 7,
    "start_time": "2023-12-28T21:09:56.061Z"
   },
   {
    "duration": 120,
    "start_time": "2023-12-28T21:09:56.070Z"
   },
   {
    "duration": 13,
    "start_time": "2023-12-28T21:09:56.192Z"
   },
   {
    "duration": 43,
    "start_time": "2023-12-28T21:09:56.206Z"
   },
   {
    "duration": 17,
    "start_time": "2023-12-28T21:09:56.251Z"
   },
   {
    "duration": 21,
    "start_time": "2023-12-28T21:09:56.269Z"
   },
   {
    "duration": 26,
    "start_time": "2023-12-28T21:09:56.292Z"
   },
   {
    "duration": 31,
    "start_time": "2023-12-28T21:09:56.321Z"
   },
   {
    "duration": 42,
    "start_time": "2023-12-28T21:09:56.353Z"
   },
   {
    "duration": 33,
    "start_time": "2023-12-28T21:09:56.396Z"
   },
   {
    "duration": 53,
    "start_time": "2023-12-28T21:09:56.431Z"
   },
   {
    "duration": 9,
    "start_time": "2023-12-28T21:09:56.485Z"
   },
   {
    "duration": 37,
    "start_time": "2023-12-28T21:09:56.495Z"
   },
   {
    "duration": 28,
    "start_time": "2023-12-28T21:09:56.533Z"
   },
   {
    "duration": 25,
    "start_time": "2023-12-28T21:09:56.562Z"
   },
   {
    "duration": 54,
    "start_time": "2023-12-28T21:09:56.588Z"
   },
   {
    "duration": 29,
    "start_time": "2023-12-28T21:09:56.644Z"
   },
   {
    "duration": 27,
    "start_time": "2023-12-28T21:09:56.674Z"
   },
   {
    "duration": 32,
    "start_time": "2023-12-28T21:09:56.702Z"
   },
   {
    "duration": 33,
    "start_time": "2023-12-28T21:09:56.736Z"
   },
   {
    "duration": 28,
    "start_time": "2023-12-28T21:09:56.770Z"
   },
   {
    "duration": 28,
    "start_time": "2023-12-28T21:09:56.799Z"
   },
   {
    "duration": 22,
    "start_time": "2023-12-28T21:09:56.828Z"
   },
   {
    "duration": 38,
    "start_time": "2023-12-28T21:09:56.851Z"
   },
   {
    "duration": 45,
    "start_time": "2023-12-28T21:09:56.890Z"
   },
   {
    "duration": 44,
    "start_time": "2023-12-29T17:08:12.612Z"
   },
   {
    "duration": 2,
    "start_time": "2023-12-29T17:09:59.762Z"
   },
   {
    "duration": 1351,
    "start_time": "2023-12-29T17:10:23.038Z"
   },
   {
    "duration": 78,
    "start_time": "2023-12-29T17:10:24.390Z"
   },
   {
    "duration": 10,
    "start_time": "2023-12-29T17:10:24.470Z"
   },
   {
    "duration": 148,
    "start_time": "2023-12-29T17:10:24.482Z"
   },
   {
    "duration": 6,
    "start_time": "2023-12-29T17:10:24.631Z"
   },
   {
    "duration": 145,
    "start_time": "2023-12-29T17:10:24.645Z"
   },
   {
    "duration": 4,
    "start_time": "2023-12-29T17:10:24.792Z"
   },
   {
    "duration": 110,
    "start_time": "2023-12-29T17:10:24.798Z"
   },
   {
    "duration": 9,
    "start_time": "2023-12-29T17:10:24.909Z"
   },
   {
    "duration": 65,
    "start_time": "2023-12-29T17:10:24.920Z"
   },
   {
    "duration": 11,
    "start_time": "2023-12-29T17:10:24.986Z"
   },
   {
    "duration": 3,
    "start_time": "2023-12-29T17:10:24.999Z"
   },
   {
    "duration": 6,
    "start_time": "2023-12-29T17:10:25.003Z"
   },
   {
    "duration": 7,
    "start_time": "2023-12-29T17:10:25.010Z"
   },
   {
    "duration": 7,
    "start_time": "2023-12-29T17:10:25.019Z"
   },
   {
    "duration": 21,
    "start_time": "2023-12-29T17:10:25.027Z"
   },
   {
    "duration": 88,
    "start_time": "2023-12-29T17:10:25.049Z"
   },
   {
    "duration": 9,
    "start_time": "2023-12-29T17:10:25.139Z"
   },
   {
    "duration": 35,
    "start_time": "2023-12-29T17:10:25.149Z"
   },
   {
    "duration": 30,
    "start_time": "2023-12-29T17:10:25.186Z"
   },
   {
    "duration": 41,
    "start_time": "2023-12-29T17:10:25.217Z"
   },
   {
    "duration": 12,
    "start_time": "2023-12-29T17:10:25.259Z"
   },
   {
    "duration": 38,
    "start_time": "2023-12-29T17:10:25.272Z"
   },
   {
    "duration": 21,
    "start_time": "2023-12-29T17:10:25.311Z"
   },
   {
    "duration": 14,
    "start_time": "2023-12-29T17:10:25.333Z"
   },
   {
    "duration": 28,
    "start_time": "2023-12-29T17:10:25.349Z"
   },
   {
    "duration": 23,
    "start_time": "2023-12-29T17:10:25.378Z"
   },
   {
    "duration": 23,
    "start_time": "2023-12-29T17:10:25.406Z"
   },
   {
    "duration": 37,
    "start_time": "2023-12-29T17:10:25.430Z"
   },
   {
    "duration": 7,
    "start_time": "2023-12-29T17:10:25.469Z"
   },
   {
    "duration": 18,
    "start_time": "2023-12-29T17:10:25.478Z"
   },
   {
    "duration": 123,
    "start_time": "2023-12-29T17:10:25.498Z"
   },
   {
    "duration": 0,
    "start_time": "2023-12-29T17:10:25.623Z"
   },
   {
    "duration": 0,
    "start_time": "2023-12-29T17:10:25.624Z"
   },
   {
    "duration": 0,
    "start_time": "2023-12-29T17:10:25.625Z"
   },
   {
    "duration": 0,
    "start_time": "2023-12-29T17:10:25.626Z"
   },
   {
    "duration": 0,
    "start_time": "2023-12-29T17:10:25.627Z"
   },
   {
    "duration": 0,
    "start_time": "2023-12-29T17:10:25.628Z"
   },
   {
    "duration": 0,
    "start_time": "2023-12-29T17:10:25.629Z"
   },
   {
    "duration": 0,
    "start_time": "2023-12-29T17:10:25.630Z"
   },
   {
    "duration": 0,
    "start_time": "2023-12-29T17:10:25.631Z"
   },
   {
    "duration": 0,
    "start_time": "2023-12-29T17:10:25.632Z"
   },
   {
    "duration": 0,
    "start_time": "2023-12-29T17:10:25.644Z"
   },
   {
    "duration": 0,
    "start_time": "2023-12-29T17:10:25.645Z"
   },
   {
    "duration": 0,
    "start_time": "2023-12-29T17:10:25.646Z"
   },
   {
    "duration": 0,
    "start_time": "2023-12-29T17:10:25.647Z"
   },
   {
    "duration": 0,
    "start_time": "2023-12-29T17:10:25.648Z"
   },
   {
    "duration": 0,
    "start_time": "2023-12-29T17:10:25.649Z"
   },
   {
    "duration": 0,
    "start_time": "2023-12-29T17:10:25.649Z"
   },
   {
    "duration": 0,
    "start_time": "2023-12-29T17:10:25.650Z"
   },
   {
    "duration": 0,
    "start_time": "2023-12-29T17:10:25.651Z"
   },
   {
    "duration": 0,
    "start_time": "2023-12-29T17:10:25.652Z"
   },
   {
    "duration": 0,
    "start_time": "2023-12-29T17:10:25.653Z"
   },
   {
    "duration": 0,
    "start_time": "2023-12-29T17:10:25.654Z"
   },
   {
    "duration": 0,
    "start_time": "2023-12-29T17:10:25.655Z"
   },
   {
    "duration": 0,
    "start_time": "2023-12-29T17:10:25.655Z"
   },
   {
    "duration": 1112,
    "start_time": "2023-12-29T17:12:00.203Z"
   },
   {
    "duration": 30,
    "start_time": "2023-12-29T17:12:01.317Z"
   },
   {
    "duration": 84,
    "start_time": "2023-12-29T17:12:01.348Z"
   },
   {
    "duration": 175,
    "start_time": "2023-12-29T17:12:01.434Z"
   },
   {
    "duration": 5,
    "start_time": "2023-12-29T17:12:01.610Z"
   },
   {
    "duration": 154,
    "start_time": "2023-12-29T17:12:01.617Z"
   },
   {
    "duration": 4,
    "start_time": "2023-12-29T17:12:01.773Z"
   },
   {
    "duration": 104,
    "start_time": "2023-12-29T17:12:01.778Z"
   },
   {
    "duration": 9,
    "start_time": "2023-12-29T17:12:01.884Z"
   },
   {
    "duration": 40,
    "start_time": "2023-12-29T17:12:01.895Z"
   },
   {
    "duration": 27,
    "start_time": "2023-12-29T17:12:01.937Z"
   },
   {
    "duration": 47,
    "start_time": "2023-12-29T17:12:01.965Z"
   },
   {
    "duration": 14,
    "start_time": "2023-12-29T17:12:02.014Z"
   },
   {
    "duration": 25,
    "start_time": "2023-12-29T17:12:02.029Z"
   },
   {
    "duration": 52,
    "start_time": "2023-12-29T17:12:02.055Z"
   },
   {
    "duration": 31,
    "start_time": "2023-12-29T17:12:02.108Z"
   },
   {
    "duration": 39,
    "start_time": "2023-12-29T17:12:02.141Z"
   },
   {
    "duration": 30,
    "start_time": "2023-12-29T17:12:02.181Z"
   },
   {
    "duration": 38,
    "start_time": "2023-12-29T17:12:02.212Z"
   },
   {
    "duration": 25,
    "start_time": "2023-12-29T17:12:02.251Z"
   },
   {
    "duration": 60,
    "start_time": "2023-12-29T17:12:02.277Z"
   },
   {
    "duration": 36,
    "start_time": "2023-12-29T17:12:02.339Z"
   },
   {
    "duration": 49,
    "start_time": "2023-12-29T17:12:02.376Z"
   },
   {
    "duration": 30,
    "start_time": "2023-12-29T17:12:02.427Z"
   },
   {
    "duration": 91,
    "start_time": "2023-12-29T17:12:02.458Z"
   },
   {
    "duration": 35,
    "start_time": "2023-12-29T17:12:02.550Z"
   },
   {
    "duration": 32,
    "start_time": "2023-12-29T17:12:02.587Z"
   },
   {
    "duration": 86,
    "start_time": "2023-12-29T17:12:02.622Z"
   },
   {
    "duration": 55,
    "start_time": "2023-12-29T17:12:02.710Z"
   },
   {
    "duration": 29,
    "start_time": "2023-12-29T17:12:02.767Z"
   },
   {
    "duration": 28,
    "start_time": "2023-12-29T17:12:02.798Z"
   },
   {
    "duration": 44,
    "start_time": "2023-12-29T17:12:02.827Z"
   },
   {
    "duration": 50,
    "start_time": "2023-12-29T17:12:02.872Z"
   },
   {
    "duration": 165,
    "start_time": "2023-12-29T17:12:02.924Z"
   },
   {
    "duration": 96,
    "start_time": "2023-12-29T17:12:03.090Z"
   },
   {
    "duration": 1,
    "start_time": "2023-12-29T17:12:03.187Z"
   },
   {
    "duration": 0,
    "start_time": "2023-12-29T17:12:03.189Z"
   },
   {
    "duration": 0,
    "start_time": "2023-12-29T17:12:03.190Z"
   },
   {
    "duration": 0,
    "start_time": "2023-12-29T17:12:03.191Z"
   },
   {
    "duration": 0,
    "start_time": "2023-12-29T17:12:03.192Z"
   },
   {
    "duration": 0,
    "start_time": "2023-12-29T17:12:03.194Z"
   },
   {
    "duration": 0,
    "start_time": "2023-12-29T17:12:03.195Z"
   },
   {
    "duration": 0,
    "start_time": "2023-12-29T17:12:03.196Z"
   },
   {
    "duration": 0,
    "start_time": "2023-12-29T17:12:03.197Z"
   },
   {
    "duration": 0,
    "start_time": "2023-12-29T17:12:03.198Z"
   },
   {
    "duration": 0,
    "start_time": "2023-12-29T17:12:03.199Z"
   },
   {
    "duration": 0,
    "start_time": "2023-12-29T17:12:03.200Z"
   },
   {
    "duration": 0,
    "start_time": "2023-12-29T17:12:03.201Z"
   },
   {
    "duration": 0,
    "start_time": "2023-12-29T17:12:03.202Z"
   },
   {
    "duration": 0,
    "start_time": "2023-12-29T17:12:03.203Z"
   },
   {
    "duration": 0,
    "start_time": "2023-12-29T17:12:03.204Z"
   },
   {
    "duration": 0,
    "start_time": "2023-12-29T17:12:03.205Z"
   },
   {
    "duration": 0,
    "start_time": "2023-12-29T17:12:03.206Z"
   },
   {
    "duration": 5,
    "start_time": "2023-12-29T17:12:24.959Z"
   },
   {
    "duration": 77,
    "start_time": "2023-12-29T17:12:25.907Z"
   },
   {
    "duration": 5,
    "start_time": "2023-12-29T17:12:27.103Z"
   },
   {
    "duration": 5,
    "start_time": "2023-12-29T17:12:27.527Z"
   },
   {
    "duration": 132,
    "start_time": "2023-12-29T17:12:27.946Z"
   },
   {
    "duration": 7,
    "start_time": "2023-12-29T17:12:29.339Z"
   },
   {
    "duration": 7,
    "start_time": "2023-12-29T17:12:30.193Z"
   },
   {
    "duration": 96,
    "start_time": "2023-12-29T17:12:30.567Z"
   },
   {
    "duration": 7,
    "start_time": "2023-12-29T17:12:31.657Z"
   },
   {
    "duration": 6,
    "start_time": "2023-12-29T17:12:32.473Z"
   },
   {
    "duration": 13,
    "start_time": "2023-12-29T17:12:32.541Z"
   },
   {
    "duration": 151,
    "start_time": "2023-12-29T17:12:32.722Z"
   },
   {
    "duration": 26,
    "start_time": "2023-12-29T17:12:34.018Z"
   },
   {
    "duration": 21,
    "start_time": "2023-12-29T17:12:34.198Z"
   },
   {
    "duration": 162,
    "start_time": "2023-12-29T17:12:34.625Z"
   },
   {
    "duration": 157,
    "start_time": "2023-12-29T17:12:35.009Z"
   },
   {
    "duration": 20,
    "start_time": "2023-12-29T17:12:35.590Z"
   },
   {
    "duration": 160,
    "start_time": "2023-12-29T17:12:35.909Z"
   },
   {
    "duration": 148,
    "start_time": "2023-12-29T17:12:36.344Z"
   },
   {
    "duration": 1160,
    "start_time": "2023-12-29T17:15:35.756Z"
   },
   {
    "duration": 29,
    "start_time": "2023-12-29T17:15:36.918Z"
   },
   {
    "duration": 10,
    "start_time": "2023-12-29T17:15:36.948Z"
   },
   {
    "duration": 153,
    "start_time": "2023-12-29T17:15:36.960Z"
   },
   {
    "duration": 5,
    "start_time": "2023-12-29T17:15:37.114Z"
   },
   {
    "duration": 159,
    "start_time": "2023-12-29T17:15:37.120Z"
   },
   {
    "duration": 5,
    "start_time": "2023-12-29T17:15:37.281Z"
   },
   {
    "duration": 91,
    "start_time": "2023-12-29T17:15:37.287Z"
   },
   {
    "duration": 10,
    "start_time": "2023-12-29T17:15:37.379Z"
   },
   {
    "duration": 43,
    "start_time": "2023-12-29T17:15:37.391Z"
   },
   {
    "duration": 11,
    "start_time": "2023-12-29T17:15:37.435Z"
   },
   {
    "duration": 19,
    "start_time": "2023-12-29T17:15:37.447Z"
   },
   {
    "duration": 25,
    "start_time": "2023-12-29T17:15:37.467Z"
   },
   {
    "duration": 25,
    "start_time": "2023-12-29T17:15:37.494Z"
   },
   {
    "duration": 9,
    "start_time": "2023-12-29T17:15:37.521Z"
   },
   {
    "duration": 10,
    "start_time": "2023-12-29T17:15:37.532Z"
   },
   {
    "duration": 20,
    "start_time": "2023-12-29T17:15:37.543Z"
   },
   {
    "duration": 12,
    "start_time": "2023-12-29T17:15:37.565Z"
   },
   {
    "duration": 15,
    "start_time": "2023-12-29T17:15:37.578Z"
   },
   {
    "duration": 15,
    "start_time": "2023-12-29T17:15:37.595Z"
   },
   {
    "duration": 10,
    "start_time": "2023-12-29T17:15:37.611Z"
   },
   {
    "duration": 24,
    "start_time": "2023-12-29T17:15:37.623Z"
   },
   {
    "duration": 20,
    "start_time": "2023-12-29T17:15:37.649Z"
   },
   {
    "duration": 15,
    "start_time": "2023-12-29T17:15:37.671Z"
   },
   {
    "duration": 14,
    "start_time": "2023-12-29T17:15:37.687Z"
   },
   {
    "duration": 7,
    "start_time": "2023-12-29T17:15:37.702Z"
   },
   {
    "duration": 19,
    "start_time": "2023-12-29T17:15:37.711Z"
   },
   {
    "duration": 8,
    "start_time": "2023-12-29T17:15:37.733Z"
   },
   {
    "duration": 7,
    "start_time": "2023-12-29T17:15:37.742Z"
   },
   {
    "duration": 18,
    "start_time": "2023-12-29T17:15:37.750Z"
   },
   {
    "duration": 10,
    "start_time": "2023-12-29T17:15:37.769Z"
   },
   {
    "duration": 5,
    "start_time": "2023-12-29T17:15:37.781Z"
   },
   {
    "duration": 12,
    "start_time": "2023-12-29T17:15:37.788Z"
   },
   {
    "duration": 150,
    "start_time": "2023-12-29T17:15:37.801Z"
   },
   {
    "duration": 6,
    "start_time": "2023-12-29T17:15:37.953Z"
   },
   {
    "duration": 98,
    "start_time": "2023-12-29T17:15:37.961Z"
   },
   {
    "duration": 5,
    "start_time": "2023-12-29T17:15:38.061Z"
   },
   {
    "duration": 5,
    "start_time": "2023-12-29T17:15:38.067Z"
   },
   {
    "duration": 162,
    "start_time": "2023-12-29T17:15:38.073Z"
   },
   {
    "duration": 14,
    "start_time": "2023-12-29T17:15:38.236Z"
   },
   {
    "duration": 9,
    "start_time": "2023-12-29T17:15:38.252Z"
   },
   {
    "duration": 114,
    "start_time": "2023-12-29T17:15:38.263Z"
   },
   {
    "duration": 7,
    "start_time": "2023-12-29T17:15:38.378Z"
   },
   {
    "duration": 6,
    "start_time": "2023-12-29T17:15:38.387Z"
   },
   {
    "duration": 16,
    "start_time": "2023-12-29T17:15:38.394Z"
   },
   {
    "duration": 174,
    "start_time": "2023-12-29T17:15:38.411Z"
   },
   {
    "duration": 27,
    "start_time": "2023-12-29T17:15:38.587Z"
   },
   {
    "duration": 31,
    "start_time": "2023-12-29T17:15:38.615Z"
   },
   {
    "duration": 179,
    "start_time": "2023-12-29T17:15:38.648Z"
   },
   {
    "duration": 168,
    "start_time": "2023-12-29T17:15:38.828Z"
   },
   {
    "duration": 18,
    "start_time": "2023-12-29T17:15:38.997Z"
   },
   {
    "duration": 172,
    "start_time": "2023-12-29T17:15:39.016Z"
   },
   {
    "duration": 169,
    "start_time": "2023-12-29T17:15:39.189Z"
   },
   {
    "duration": 831,
    "start_time": "2023-12-29T17:15:39.360Z"
   },
   {
    "duration": 3,
    "start_time": "2023-12-29T17:15:40.192Z"
   },
   {
    "duration": 7,
    "start_time": "2023-12-29T17:15:40.196Z"
   },
   {
    "duration": 26,
    "start_time": "2023-12-29T17:15:40.204Z"
   },
   {
    "duration": 15,
    "start_time": "2023-12-29T17:15:40.232Z"
   },
   {
    "duration": 28,
    "start_time": "2023-12-29T17:15:40.248Z"
   },
   {
    "duration": 151,
    "start_time": "2023-12-29T17:15:40.278Z"
   },
   {
    "duration": 6,
    "start_time": "2023-12-29T17:15:40.430Z"
   },
   {
    "duration": 17,
    "start_time": "2023-12-29T17:15:40.437Z"
   },
   {
    "duration": 51,
    "start_time": "2024-01-01T01:43:09.537Z"
   },
   {
    "duration": 1318,
    "start_time": "2024-01-01T01:53:43.923Z"
   },
   {
    "duration": 76,
    "start_time": "2024-01-01T01:53:45.242Z"
   },
   {
    "duration": 11,
    "start_time": "2024-01-01T01:53:45.320Z"
   },
   {
    "duration": 154,
    "start_time": "2024-01-01T01:53:45.332Z"
   },
   {
    "duration": 5,
    "start_time": "2024-01-01T01:53:45.488Z"
   },
   {
    "duration": 141,
    "start_time": "2024-01-01T01:53:45.495Z"
   },
   {
    "duration": 5,
    "start_time": "2024-01-01T01:53:45.637Z"
   },
   {
    "duration": 89,
    "start_time": "2024-01-01T01:53:45.643Z"
   },
   {
    "duration": 9,
    "start_time": "2024-01-01T01:53:45.733Z"
   },
   {
    "duration": 67,
    "start_time": "2024-01-01T01:53:45.745Z"
   },
   {
    "duration": 11,
    "start_time": "2024-01-01T01:53:45.813Z"
   },
   {
    "duration": 3,
    "start_time": "2024-01-01T01:53:45.825Z"
   },
   {
    "duration": 4,
    "start_time": "2024-01-01T01:53:45.830Z"
   },
   {
    "duration": 5,
    "start_time": "2024-01-01T01:53:45.836Z"
   },
   {
    "duration": 7,
    "start_time": "2024-01-01T01:53:45.843Z"
   },
   {
    "duration": 8,
    "start_time": "2024-01-01T01:53:45.851Z"
   },
   {
    "duration": 55,
    "start_time": "2024-01-01T01:53:45.860Z"
   },
   {
    "duration": 8,
    "start_time": "2024-01-01T01:53:45.917Z"
   },
   {
    "duration": 20,
    "start_time": "2024-01-01T01:53:45.927Z"
   },
   {
    "duration": 7,
    "start_time": "2024-01-01T01:53:45.948Z"
   },
   {
    "duration": 14,
    "start_time": "2024-01-01T01:53:45.956Z"
   },
   {
    "duration": 9,
    "start_time": "2024-01-01T01:53:45.971Z"
   },
   {
    "duration": 6,
    "start_time": "2024-01-01T01:53:45.982Z"
   },
   {
    "duration": 31,
    "start_time": "2024-01-01T01:53:45.989Z"
   },
   {
    "duration": 12,
    "start_time": "2024-01-01T01:53:46.022Z"
   },
   {
    "duration": 22,
    "start_time": "2024-01-01T01:53:46.036Z"
   },
   {
    "duration": 3,
    "start_time": "2024-01-01T01:53:46.059Z"
   },
   {
    "duration": 5,
    "start_time": "2024-01-01T01:53:46.067Z"
   },
   {
    "duration": 4,
    "start_time": "2024-01-01T01:53:46.073Z"
   },
   {
    "duration": 6,
    "start_time": "2024-01-01T01:53:46.078Z"
   },
   {
    "duration": 7,
    "start_time": "2024-01-01T01:53:46.085Z"
   },
   {
    "duration": 4,
    "start_time": "2024-01-01T01:53:46.093Z"
   },
   {
    "duration": 19,
    "start_time": "2024-01-01T01:53:46.098Z"
   },
   {
    "duration": 142,
    "start_time": "2024-01-01T01:53:46.118Z"
   },
   {
    "duration": 6,
    "start_time": "2024-01-01T01:53:46.261Z"
   },
   {
    "duration": 76,
    "start_time": "2024-01-01T01:53:46.268Z"
   },
   {
    "duration": 20,
    "start_time": "2024-01-01T01:53:46.345Z"
   },
   {
    "duration": 4,
    "start_time": "2024-01-01T01:53:46.367Z"
   },
   {
    "duration": 138,
    "start_time": "2024-01-01T01:53:46.372Z"
   },
   {
    "duration": 7,
    "start_time": "2024-01-01T01:53:46.511Z"
   },
   {
    "duration": 6,
    "start_time": "2024-01-01T01:53:46.520Z"
   },
   {
    "duration": 115,
    "start_time": "2024-01-01T01:53:46.528Z"
   },
   {
    "duration": 7,
    "start_time": "2024-01-01T01:53:46.645Z"
   },
   {
    "duration": 12,
    "start_time": "2024-01-01T01:53:46.653Z"
   },
   {
    "duration": 13,
    "start_time": "2024-01-01T01:53:46.667Z"
   },
   {
    "duration": 174,
    "start_time": "2024-01-01T01:53:46.682Z"
   },
   {
    "duration": 33,
    "start_time": "2024-01-01T01:53:46.857Z"
   },
   {
    "duration": 20,
    "start_time": "2024-01-01T01:53:46.891Z"
   },
   {
    "duration": 180,
    "start_time": "2024-01-01T01:53:46.913Z"
   },
   {
    "duration": 153,
    "start_time": "2024-01-01T01:53:47.094Z"
   },
   {
    "duration": 28,
    "start_time": "2024-01-01T01:53:47.248Z"
   },
   {
    "duration": 157,
    "start_time": "2024-01-01T01:53:47.277Z"
   },
   {
    "duration": 154,
    "start_time": "2024-01-01T01:53:47.435Z"
   },
   {
    "duration": 794,
    "start_time": "2024-01-01T01:53:47.591Z"
   },
   {
    "duration": 3,
    "start_time": "2024-01-01T01:53:48.387Z"
   },
   {
    "duration": 4,
    "start_time": "2024-01-01T01:53:48.392Z"
   },
   {
    "duration": 12,
    "start_time": "2024-01-01T01:53:48.397Z"
   },
   {
    "duration": 10,
    "start_time": "2024-01-01T01:53:48.411Z"
   },
   {
    "duration": 4,
    "start_time": "2024-01-01T01:53:48.422Z"
   },
   {
    "duration": 155,
    "start_time": "2024-01-01T01:53:48.427Z"
   },
   {
    "duration": 6,
    "start_time": "2024-01-01T01:53:48.583Z"
   },
   {
    "duration": 13,
    "start_time": "2024-01-01T01:53:48.591Z"
   },
   {
    "duration": 6,
    "start_time": "2024-01-01T01:53:48.605Z"
   },
   {
    "duration": 810,
    "start_time": "2024-01-01T01:53:48.612Z"
   },
   {
    "duration": 5,
    "start_time": "2024-01-01T01:53:49.424Z"
   },
   {
    "duration": 8,
    "start_time": "2024-01-01T01:53:49.431Z"
   },
   {
    "duration": 1447,
    "start_time": "2024-01-01T22:14:55.620Z"
   },
   {
    "duration": 77,
    "start_time": "2024-01-01T22:14:57.069Z"
   },
   {
    "duration": 11,
    "start_time": "2024-01-01T22:14:57.148Z"
   },
   {
    "duration": 167,
    "start_time": "2024-01-01T22:14:57.161Z"
   },
   {
    "duration": 6,
    "start_time": "2024-01-01T22:14:57.329Z"
   },
   {
    "duration": 151,
    "start_time": "2024-01-01T22:14:57.336Z"
   },
   {
    "duration": 5,
    "start_time": "2024-01-01T22:14:57.489Z"
   },
   {
    "duration": 99,
    "start_time": "2024-01-01T22:14:57.496Z"
   },
   {
    "duration": 18,
    "start_time": "2024-01-01T22:14:57.597Z"
   },
   {
    "duration": 66,
    "start_time": "2024-01-01T22:14:57.618Z"
   },
   {
    "duration": 11,
    "start_time": "2024-01-01T22:14:57.686Z"
   },
   {
    "duration": 6,
    "start_time": "2024-01-01T22:14:57.699Z"
   },
   {
    "duration": 6,
    "start_time": "2024-01-01T22:14:57.706Z"
   },
   {
    "duration": 29,
    "start_time": "2024-01-01T22:14:57.713Z"
   },
   {
    "duration": 9,
    "start_time": "2024-01-01T22:14:57.743Z"
   },
   {
    "duration": 15,
    "start_time": "2024-01-01T22:14:57.753Z"
   },
   {
    "duration": 56,
    "start_time": "2024-01-01T22:14:57.769Z"
   },
   {
    "duration": 9,
    "start_time": "2024-01-01T22:14:57.827Z"
   },
   {
    "duration": 9,
    "start_time": "2024-01-01T22:14:57.838Z"
   },
   {
    "duration": 6,
    "start_time": "2024-01-01T22:14:57.848Z"
   },
   {
    "duration": 7,
    "start_time": "2024-01-01T22:14:57.855Z"
   },
   {
    "duration": 8,
    "start_time": "2024-01-01T22:14:57.863Z"
   },
   {
    "duration": 13,
    "start_time": "2024-01-01T22:14:57.872Z"
   },
   {
    "duration": 7,
    "start_time": "2024-01-01T22:14:57.887Z"
   },
   {
    "duration": 6,
    "start_time": "2024-01-01T22:14:57.896Z"
   },
   {
    "duration": 13,
    "start_time": "2024-01-01T22:14:57.904Z"
   },
   {
    "duration": 14,
    "start_time": "2024-01-01T22:14:57.918Z"
   },
   {
    "duration": 6,
    "start_time": "2024-01-01T22:14:57.946Z"
   },
   {
    "duration": 22,
    "start_time": "2024-01-01T22:14:57.953Z"
   },
   {
    "duration": 6,
    "start_time": "2024-01-01T22:14:57.977Z"
   },
   {
    "duration": 19,
    "start_time": "2024-01-01T22:14:57.984Z"
   },
   {
    "duration": 8,
    "start_time": "2024-01-01T22:14:58.004Z"
   },
   {
    "duration": 12,
    "start_time": "2024-01-01T22:14:58.014Z"
   },
   {
    "duration": 162,
    "start_time": "2024-01-01T22:14:58.027Z"
   },
   {
    "duration": 5,
    "start_time": "2024-01-01T22:14:58.191Z"
   },
   {
    "duration": 97,
    "start_time": "2024-01-01T22:14:58.197Z"
   },
   {
    "duration": 5,
    "start_time": "2024-01-01T22:14:58.295Z"
   },
   {
    "duration": 13,
    "start_time": "2024-01-01T22:14:58.302Z"
   },
   {
    "duration": 156,
    "start_time": "2024-01-01T22:14:58.316Z"
   },
   {
    "duration": 8,
    "start_time": "2024-01-01T22:14:58.473Z"
   },
   {
    "duration": 7,
    "start_time": "2024-01-01T22:14:58.482Z"
   },
   {
    "duration": 118,
    "start_time": "2024-01-01T22:14:58.490Z"
   },
   {
    "duration": 7,
    "start_time": "2024-01-01T22:14:58.614Z"
   },
   {
    "duration": 8,
    "start_time": "2024-01-01T22:14:58.622Z"
   },
   {
    "duration": 13,
    "start_time": "2024-01-01T22:14:58.631Z"
   },
   {
    "duration": 193,
    "start_time": "2024-01-01T22:14:58.645Z"
   },
   {
    "duration": 30,
    "start_time": "2024-01-01T22:14:58.840Z"
   },
   {
    "duration": 20,
    "start_time": "2024-01-01T22:14:58.871Z"
   },
   {
    "duration": 194,
    "start_time": "2024-01-01T22:14:58.893Z"
   },
   {
    "duration": 170,
    "start_time": "2024-01-01T22:14:59.088Z"
   },
   {
    "duration": 19,
    "start_time": "2024-01-01T22:14:59.260Z"
   },
   {
    "duration": 185,
    "start_time": "2024-01-01T22:14:59.280Z"
   },
   {
    "duration": 176,
    "start_time": "2024-01-01T22:14:59.467Z"
   },
   {
    "duration": 828,
    "start_time": "2024-01-01T22:14:59.645Z"
   },
   {
    "duration": 3,
    "start_time": "2024-01-01T22:15:00.475Z"
   },
   {
    "duration": 35,
    "start_time": "2024-01-01T22:15:00.479Z"
   },
   {
    "duration": 40,
    "start_time": "2024-01-01T22:15:00.515Z"
   },
   {
    "duration": 34,
    "start_time": "2024-01-01T22:15:00.557Z"
   },
   {
    "duration": 22,
    "start_time": "2024-01-01T22:15:00.593Z"
   },
   {
    "duration": 199,
    "start_time": "2024-01-01T22:15:00.616Z"
   },
   {
    "duration": 6,
    "start_time": "2024-01-01T22:15:00.817Z"
   },
   {
    "duration": 37,
    "start_time": "2024-01-01T22:15:00.824Z"
   },
   {
    "duration": 20,
    "start_time": "2024-01-01T22:15:00.862Z"
   },
   {
    "duration": 856,
    "start_time": "2024-01-01T22:15:00.884Z"
   },
   {
    "duration": 5,
    "start_time": "2024-01-01T22:15:01.741Z"
   },
   {
    "duration": 46,
    "start_time": "2024-01-01T22:15:01.747Z"
   },
   {
    "duration": 1226,
    "start_time": "2024-01-01T22:16:44.473Z"
   },
   {
    "duration": 30,
    "start_time": "2024-01-01T22:16:45.701Z"
   },
   {
    "duration": 11,
    "start_time": "2024-01-01T22:16:45.732Z"
   },
   {
    "duration": 172,
    "start_time": "2024-01-01T22:16:45.745Z"
   },
   {
    "duration": 5,
    "start_time": "2024-01-01T22:16:45.918Z"
   },
   {
    "duration": 150,
    "start_time": "2024-01-01T22:16:45.925Z"
   },
   {
    "duration": 5,
    "start_time": "2024-01-01T22:16:46.077Z"
   },
   {
    "duration": 102,
    "start_time": "2024-01-01T22:16:46.083Z"
   },
   {
    "duration": 10,
    "start_time": "2024-01-01T22:16:46.186Z"
   },
   {
    "duration": 27,
    "start_time": "2024-01-01T22:16:46.199Z"
   },
   {
    "duration": 11,
    "start_time": "2024-01-01T22:16:46.228Z"
   },
   {
    "duration": 4,
    "start_time": "2024-01-01T22:16:46.241Z"
   },
   {
    "duration": 14,
    "start_time": "2024-01-01T22:16:46.246Z"
   },
   {
    "duration": 11,
    "start_time": "2024-01-01T22:16:46.262Z"
   },
   {
    "duration": 8,
    "start_time": "2024-01-01T22:16:46.275Z"
   },
   {
    "duration": 8,
    "start_time": "2024-01-01T22:16:46.285Z"
   },
   {
    "duration": 34,
    "start_time": "2024-01-01T22:16:46.295Z"
   },
   {
    "duration": 9,
    "start_time": "2024-01-01T22:16:46.331Z"
   },
   {
    "duration": 24,
    "start_time": "2024-01-01T22:16:46.342Z"
   },
   {
    "duration": 13,
    "start_time": "2024-01-01T22:16:46.368Z"
   },
   {
    "duration": 12,
    "start_time": "2024-01-01T22:16:46.383Z"
   },
   {
    "duration": 20,
    "start_time": "2024-01-01T22:16:46.396Z"
   },
   {
    "duration": 6,
    "start_time": "2024-01-01T22:16:46.418Z"
   },
   {
    "duration": 14,
    "start_time": "2024-01-01T22:16:46.426Z"
   },
   {
    "duration": 25,
    "start_time": "2024-01-01T22:16:46.441Z"
   },
   {
    "duration": 26,
    "start_time": "2024-01-01T22:16:46.468Z"
   },
   {
    "duration": 10,
    "start_time": "2024-01-01T22:16:46.495Z"
   },
   {
    "duration": 6,
    "start_time": "2024-01-01T22:16:46.508Z"
   },
   {
    "duration": 5,
    "start_time": "2024-01-01T22:16:46.515Z"
   },
   {
    "duration": 11,
    "start_time": "2024-01-01T22:16:46.521Z"
   },
   {
    "duration": 9,
    "start_time": "2024-01-01T22:16:46.534Z"
   },
   {
    "duration": 5,
    "start_time": "2024-01-01T22:16:46.545Z"
   },
   {
    "duration": 26,
    "start_time": "2024-01-01T22:16:46.551Z"
   },
   {
    "duration": 145,
    "start_time": "2024-01-01T22:16:46.579Z"
   },
   {
    "duration": 5,
    "start_time": "2024-01-01T22:16:46.725Z"
   },
   {
    "duration": 101,
    "start_time": "2024-01-01T22:16:46.731Z"
   },
   {
    "duration": 5,
    "start_time": "2024-01-01T22:16:46.834Z"
   },
   {
    "duration": 7,
    "start_time": "2024-01-01T22:16:46.840Z"
   },
   {
    "duration": 156,
    "start_time": "2024-01-01T22:16:46.848Z"
   },
   {
    "duration": 11,
    "start_time": "2024-01-01T22:16:47.006Z"
   },
   {
    "duration": 9,
    "start_time": "2024-01-01T22:16:47.018Z"
   },
   {
    "duration": 113,
    "start_time": "2024-01-01T22:16:47.028Z"
   },
   {
    "duration": 9,
    "start_time": "2024-01-01T22:16:47.143Z"
   },
   {
    "duration": 8,
    "start_time": "2024-01-01T22:16:47.153Z"
   },
   {
    "duration": 17,
    "start_time": "2024-01-01T22:16:47.163Z"
   },
   {
    "duration": 196,
    "start_time": "2024-01-01T22:16:47.182Z"
   },
   {
    "duration": 38,
    "start_time": "2024-01-01T22:16:47.380Z"
   },
   {
    "duration": 21,
    "start_time": "2024-01-01T22:16:47.419Z"
   },
   {
    "duration": 190,
    "start_time": "2024-01-01T22:16:47.442Z"
   },
   {
    "duration": 181,
    "start_time": "2024-01-01T22:16:47.634Z"
   },
   {
    "duration": 19,
    "start_time": "2024-01-01T22:16:47.816Z"
   },
   {
    "duration": 182,
    "start_time": "2024-01-01T22:16:47.837Z"
   },
   {
    "duration": 179,
    "start_time": "2024-01-01T22:16:48.020Z"
   },
   {
    "duration": 894,
    "start_time": "2024-01-01T22:16:48.201Z"
   },
   {
    "duration": 3,
    "start_time": "2024-01-01T22:16:49.096Z"
   },
   {
    "duration": 18,
    "start_time": "2024-01-01T22:16:49.101Z"
   },
   {
    "duration": 14,
    "start_time": "2024-01-01T22:16:49.120Z"
   },
   {
    "duration": 11,
    "start_time": "2024-01-01T22:16:49.136Z"
   },
   {
    "duration": 4,
    "start_time": "2024-01-01T22:16:49.148Z"
   },
   {
    "duration": 154,
    "start_time": "2024-01-01T22:16:49.153Z"
   },
   {
    "duration": 6,
    "start_time": "2024-01-01T22:16:49.309Z"
   },
   {
    "duration": 13,
    "start_time": "2024-01-01T22:16:49.317Z"
   },
   {
    "duration": 5,
    "start_time": "2024-01-01T22:16:49.331Z"
   },
   {
    "duration": 842,
    "start_time": "2024-01-01T22:16:49.338Z"
   },
   {
    "duration": 5,
    "start_time": "2024-01-01T22:16:50.181Z"
   },
   {
    "duration": 27,
    "start_time": "2024-01-01T22:16:50.187Z"
   },
   {
    "duration": 7,
    "start_time": "2024-01-01T22:28:58.895Z"
   },
   {
    "duration": 94,
    "start_time": "2024-01-02T03:15:22.305Z"
   },
   {
    "duration": 45,
    "start_time": "2024-01-02T03:15:43.995Z"
   },
   {
    "duration": 6,
    "start_time": "2024-01-02T03:15:49.656Z"
   },
   {
    "duration": 1414,
    "start_time": "2024-01-02T03:15:54.409Z"
   },
   {
    "duration": 77,
    "start_time": "2024-01-02T03:15:55.825Z"
   },
   {
    "duration": 11,
    "start_time": "2024-01-02T03:15:55.905Z"
   },
   {
    "duration": 160,
    "start_time": "2024-01-02T03:15:55.918Z"
   },
   {
    "duration": 5,
    "start_time": "2024-01-02T03:15:56.080Z"
   },
   {
    "duration": 148,
    "start_time": "2024-01-02T03:15:56.087Z"
   },
   {
    "duration": 5,
    "start_time": "2024-01-02T03:15:56.237Z"
   },
   {
    "duration": 100,
    "start_time": "2024-01-02T03:15:56.244Z"
   },
   {
    "duration": 9,
    "start_time": "2024-01-02T03:15:56.347Z"
   },
   {
    "duration": 67,
    "start_time": "2024-01-02T03:15:56.357Z"
   },
   {
    "duration": 11,
    "start_time": "2024-01-02T03:15:56.426Z"
   },
   {
    "duration": 8,
    "start_time": "2024-01-02T03:15:56.438Z"
   },
   {
    "duration": 7,
    "start_time": "2024-01-02T03:15:56.447Z"
   },
   {
    "duration": 9,
    "start_time": "2024-01-02T03:15:56.455Z"
   },
   {
    "duration": 9,
    "start_time": "2024-01-02T03:15:56.465Z"
   },
   {
    "duration": 13,
    "start_time": "2024-01-02T03:15:56.475Z"
   },
   {
    "duration": 55,
    "start_time": "2024-01-02T03:15:56.489Z"
   },
   {
    "duration": 9,
    "start_time": "2024-01-02T03:15:56.546Z"
   },
   {
    "duration": 8,
    "start_time": "2024-01-02T03:15:56.556Z"
   },
   {
    "duration": 5,
    "start_time": "2024-01-02T03:15:56.566Z"
   },
   {
    "duration": 7,
    "start_time": "2024-01-02T03:15:56.573Z"
   },
   {
    "duration": 5,
    "start_time": "2024-01-02T03:15:56.581Z"
   },
   {
    "duration": 7,
    "start_time": "2024-01-02T03:15:56.587Z"
   },
   {
    "duration": 5,
    "start_time": "2024-01-02T03:15:56.595Z"
   },
   {
    "duration": 18,
    "start_time": "2024-01-02T03:15:56.601Z"
   },
   {
    "duration": 7,
    "start_time": "2024-01-02T03:15:56.620Z"
   },
   {
    "duration": 6,
    "start_time": "2024-01-02T03:15:56.631Z"
   },
   {
    "duration": 17,
    "start_time": "2024-01-02T03:15:56.638Z"
   },
   {
    "duration": 13,
    "start_time": "2024-01-02T03:15:56.656Z"
   },
   {
    "duration": 6,
    "start_time": "2024-01-02T03:15:56.671Z"
   },
   {
    "duration": 24,
    "start_time": "2024-01-02T03:15:56.678Z"
   },
   {
    "duration": 9,
    "start_time": "2024-01-02T03:15:56.704Z"
   },
   {
    "duration": 27,
    "start_time": "2024-01-02T03:15:56.714Z"
   },
   {
    "duration": 147,
    "start_time": "2024-01-02T03:15:56.742Z"
   },
   {
    "duration": 6,
    "start_time": "2024-01-02T03:15:56.890Z"
   },
   {
    "duration": 96,
    "start_time": "2024-01-02T03:15:56.898Z"
   },
   {
    "duration": 5,
    "start_time": "2024-01-02T03:15:56.995Z"
   },
   {
    "duration": 5,
    "start_time": "2024-01-02T03:15:57.014Z"
   },
   {
    "duration": 167,
    "start_time": "2024-01-02T03:15:57.021Z"
   },
   {
    "duration": 8,
    "start_time": "2024-01-02T03:15:57.189Z"
   },
   {
    "duration": 21,
    "start_time": "2024-01-02T03:15:57.199Z"
   },
   {
    "duration": 109,
    "start_time": "2024-01-02T03:15:57.222Z"
   },
   {
    "duration": 7,
    "start_time": "2024-01-02T03:15:57.333Z"
   },
   {
    "duration": 6,
    "start_time": "2024-01-02T03:15:57.341Z"
   },
   {
    "duration": 12,
    "start_time": "2024-01-02T03:15:57.349Z"
   },
   {
    "duration": 189,
    "start_time": "2024-01-02T03:15:57.363Z"
   },
   {
    "duration": 28,
    "start_time": "2024-01-02T03:15:57.553Z"
   },
   {
    "duration": 32,
    "start_time": "2024-01-02T03:15:57.583Z"
   },
   {
    "duration": 175,
    "start_time": "2024-01-02T03:15:57.617Z"
   },
   {
    "duration": 179,
    "start_time": "2024-01-02T03:15:57.793Z"
   },
   {
    "duration": 19,
    "start_time": "2024-01-02T03:15:57.974Z"
   },
   {
    "duration": 205,
    "start_time": "2024-01-02T03:15:57.995Z"
   },
   {
    "duration": 170,
    "start_time": "2024-01-02T03:15:58.201Z"
   },
   {
    "duration": 854,
    "start_time": "2024-01-02T03:15:58.373Z"
   },
   {
    "duration": 3,
    "start_time": "2024-01-02T03:15:59.229Z"
   },
   {
    "duration": 6,
    "start_time": "2024-01-02T03:15:59.233Z"
   },
   {
    "duration": 19,
    "start_time": "2024-01-02T03:15:59.240Z"
   },
   {
    "duration": 11,
    "start_time": "2024-01-02T03:15:59.261Z"
   },
   {
    "duration": 3,
    "start_time": "2024-01-02T03:15:59.274Z"
   },
   {
    "duration": 154,
    "start_time": "2024-01-02T03:15:59.279Z"
   },
   {
    "duration": 6,
    "start_time": "2024-01-02T03:15:59.435Z"
   },
   {
    "duration": 23,
    "start_time": "2024-01-02T03:15:59.443Z"
   },
   {
    "duration": 5,
    "start_time": "2024-01-02T03:15:59.468Z"
   },
   {
    "duration": 782,
    "start_time": "2024-01-02T03:15:59.475Z"
   },
   {
    "duration": 5,
    "start_time": "2024-01-02T03:16:00.259Z"
   },
   {
    "duration": 43,
    "start_time": "2024-01-02T03:16:00.265Z"
   },
   {
    "duration": 1251,
    "start_time": "2024-01-02T03:17:17.998Z"
   },
   {
    "duration": 30,
    "start_time": "2024-01-02T03:17:19.250Z"
   },
   {
    "duration": 11,
    "start_time": "2024-01-02T03:17:19.281Z"
   },
   {
    "duration": 154,
    "start_time": "2024-01-02T03:17:19.294Z"
   },
   {
    "duration": 6,
    "start_time": "2024-01-02T03:17:19.449Z"
   },
   {
    "duration": 155,
    "start_time": "2024-01-02T03:17:19.456Z"
   },
   {
    "duration": 7,
    "start_time": "2024-01-02T03:17:19.612Z"
   },
   {
    "duration": 96,
    "start_time": "2024-01-02T03:17:19.620Z"
   },
   {
    "duration": 9,
    "start_time": "2024-01-02T03:17:19.718Z"
   },
   {
    "duration": 26,
    "start_time": "2024-01-02T03:17:19.729Z"
   },
   {
    "duration": 10,
    "start_time": "2024-01-02T03:17:19.757Z"
   },
   {
    "duration": 7,
    "start_time": "2024-01-02T03:17:19.769Z"
   },
   {
    "duration": 4,
    "start_time": "2024-01-02T03:17:19.778Z"
   },
   {
    "duration": 5,
    "start_time": "2024-01-02T03:17:19.783Z"
   },
   {
    "duration": 29,
    "start_time": "2024-01-02T03:17:19.789Z"
   },
   {
    "duration": 10,
    "start_time": "2024-01-02T03:17:19.819Z"
   },
   {
    "duration": 17,
    "start_time": "2024-01-02T03:17:19.831Z"
   },
   {
    "duration": 9,
    "start_time": "2024-01-02T03:17:19.850Z"
   },
   {
    "duration": 6,
    "start_time": "2024-01-02T03:17:19.860Z"
   },
   {
    "duration": 9,
    "start_time": "2024-01-02T03:17:19.868Z"
   },
   {
    "duration": 6,
    "start_time": "2024-01-02T03:17:19.878Z"
   },
   {
    "duration": 5,
    "start_time": "2024-01-02T03:17:19.885Z"
   },
   {
    "duration": 7,
    "start_time": "2024-01-02T03:17:19.915Z"
   },
   {
    "duration": 16,
    "start_time": "2024-01-02T03:17:19.923Z"
   },
   {
    "duration": 5,
    "start_time": "2024-01-02T03:17:19.941Z"
   },
   {
    "duration": 4,
    "start_time": "2024-01-02T03:17:19.948Z"
   },
   {
    "duration": 3,
    "start_time": "2024-01-02T03:17:19.954Z"
   },
   {
    "duration": 5,
    "start_time": "2024-01-02T03:17:19.961Z"
   },
   {
    "duration": 12,
    "start_time": "2024-01-02T03:17:19.967Z"
   },
   {
    "duration": 8,
    "start_time": "2024-01-02T03:17:19.980Z"
   },
   {
    "duration": 28,
    "start_time": "2024-01-02T03:17:19.989Z"
   },
   {
    "duration": 4,
    "start_time": "2024-01-02T03:17:20.019Z"
   },
   {
    "duration": 14,
    "start_time": "2024-01-02T03:17:20.025Z"
   },
   {
    "duration": 145,
    "start_time": "2024-01-02T03:17:20.040Z"
   },
   {
    "duration": 5,
    "start_time": "2024-01-02T03:17:20.187Z"
   },
   {
    "duration": 91,
    "start_time": "2024-01-02T03:17:20.193Z"
   },
   {
    "duration": 5,
    "start_time": "2024-01-02T03:17:20.285Z"
   },
   {
    "duration": 7,
    "start_time": "2024-01-02T03:17:20.291Z"
   },
   {
    "duration": 157,
    "start_time": "2024-01-02T03:17:20.299Z"
   },
   {
    "duration": 7,
    "start_time": "2024-01-02T03:17:20.458Z"
   },
   {
    "duration": 7,
    "start_time": "2024-01-02T03:17:20.466Z"
   },
   {
    "duration": 115,
    "start_time": "2024-01-02T03:17:20.475Z"
   },
   {
    "duration": 8,
    "start_time": "2024-01-02T03:17:20.591Z"
   },
   {
    "duration": 17,
    "start_time": "2024-01-02T03:17:20.600Z"
   },
   {
    "duration": 13,
    "start_time": "2024-01-02T03:17:20.618Z"
   },
   {
    "duration": 176,
    "start_time": "2024-01-02T03:17:20.632Z"
   },
   {
    "duration": 35,
    "start_time": "2024-01-02T03:17:20.814Z"
   },
   {
    "duration": 22,
    "start_time": "2024-01-02T03:17:20.851Z"
   },
   {
    "duration": 199,
    "start_time": "2024-01-02T03:17:20.875Z"
   },
   {
    "duration": 172,
    "start_time": "2024-01-02T03:17:21.076Z"
   },
   {
    "duration": 20,
    "start_time": "2024-01-02T03:17:21.250Z"
   },
   {
    "duration": 186,
    "start_time": "2024-01-02T03:17:21.272Z"
   },
   {
    "duration": 167,
    "start_time": "2024-01-02T03:17:21.459Z"
   },
   {
    "duration": 884,
    "start_time": "2024-01-02T03:17:21.627Z"
   },
   {
    "duration": 3,
    "start_time": "2024-01-02T03:17:22.514Z"
   },
   {
    "duration": 13,
    "start_time": "2024-01-02T03:17:22.519Z"
   },
   {
    "duration": 19,
    "start_time": "2024-01-02T03:17:22.534Z"
   },
   {
    "duration": 12,
    "start_time": "2024-01-02T03:17:22.554Z"
   },
   {
    "duration": 4,
    "start_time": "2024-01-02T03:17:22.567Z"
   },
   {
    "duration": 146,
    "start_time": "2024-01-02T03:17:22.572Z"
   },
   {
    "duration": 8,
    "start_time": "2024-01-02T03:17:22.719Z"
   },
   {
    "duration": 18,
    "start_time": "2024-01-02T03:17:22.728Z"
   },
   {
    "duration": 5,
    "start_time": "2024-01-02T03:17:22.747Z"
   },
   {
    "duration": 817,
    "start_time": "2024-01-02T03:17:22.754Z"
   },
   {
    "duration": 5,
    "start_time": "2024-01-02T03:17:23.572Z"
   },
   {
    "duration": 11,
    "start_time": "2024-01-02T03:17:23.579Z"
   },
   {
    "duration": 1249,
    "start_time": "2024-01-03T14:52:33.107Z"
   },
   {
    "duration": 100,
    "start_time": "2024-01-03T15:00:25.001Z"
   },
   {
    "duration": 1172,
    "start_time": "2024-01-03T15:00:30.679Z"
   },
   {
    "duration": 83,
    "start_time": "2024-01-03T15:00:31.852Z"
   },
   {
    "duration": 10,
    "start_time": "2024-01-03T15:00:31.937Z"
   },
   {
    "duration": 176,
    "start_time": "2024-01-03T15:00:31.949Z"
   },
   {
    "duration": 5,
    "start_time": "2024-01-03T15:00:32.126Z"
   },
   {
    "duration": 179,
    "start_time": "2024-01-03T15:00:32.132Z"
   },
   {
    "duration": 5,
    "start_time": "2024-01-03T15:00:32.312Z"
   },
   {
    "duration": 118,
    "start_time": "2024-01-03T15:00:32.318Z"
   },
   {
    "duration": 11,
    "start_time": "2024-01-03T15:00:32.438Z"
   },
   {
    "duration": 163,
    "start_time": "2024-01-03T15:00:32.451Z"
   },
   {
    "duration": 11,
    "start_time": "2024-01-03T15:00:32.616Z"
   },
   {
    "duration": 132,
    "start_time": "2024-01-03T15:00:32.628Z"
   },
   {
    "duration": 49,
    "start_time": "2024-01-03T15:00:32.762Z"
   },
   {
    "duration": 24,
    "start_time": "2024-01-03T15:00:32.812Z"
   },
   {
    "duration": 35,
    "start_time": "2024-01-03T15:00:32.837Z"
   },
   {
    "duration": 45,
    "start_time": "2024-01-03T15:00:32.873Z"
   },
   {
    "duration": 85,
    "start_time": "2024-01-03T15:00:32.919Z"
   },
   {
    "duration": 9,
    "start_time": "2024-01-03T15:00:33.007Z"
   },
   {
    "duration": 15,
    "start_time": "2024-01-03T15:00:33.018Z"
   },
   {
    "duration": 6,
    "start_time": "2024-01-03T15:00:33.035Z"
   },
   {
    "duration": 19,
    "start_time": "2024-01-03T15:00:33.042Z"
   },
   {
    "duration": 10,
    "start_time": "2024-01-03T15:00:33.063Z"
   },
   {
    "duration": 10,
    "start_time": "2024-01-03T15:00:33.075Z"
   },
   {
    "duration": 7,
    "start_time": "2024-01-03T15:00:33.086Z"
   },
   {
    "duration": 6,
    "start_time": "2024-01-03T15:00:33.095Z"
   },
   {
    "duration": 11,
    "start_time": "2024-01-03T15:00:33.102Z"
   },
   {
    "duration": 15,
    "start_time": "2024-01-03T15:00:33.114Z"
   },
   {
    "duration": 6,
    "start_time": "2024-01-03T15:00:33.133Z"
   },
   {
    "duration": 5,
    "start_time": "2024-01-03T15:00:33.140Z"
   },
   {
    "duration": 12,
    "start_time": "2024-01-03T15:00:33.146Z"
   },
   {
    "duration": 8,
    "start_time": "2024-01-03T15:00:33.159Z"
   },
   {
    "duration": 5,
    "start_time": "2024-01-03T15:00:33.169Z"
   },
   {
    "duration": 28,
    "start_time": "2024-01-03T15:00:33.175Z"
   },
   {
    "duration": 175,
    "start_time": "2024-01-03T15:00:33.206Z"
   },
   {
    "duration": 19,
    "start_time": "2024-01-03T15:00:33.383Z"
   },
   {
    "duration": 78,
    "start_time": "2024-01-03T15:00:33.404Z"
   },
   {
    "duration": 4,
    "start_time": "2024-01-03T15:00:33.484Z"
   },
   {
    "duration": 16,
    "start_time": "2024-01-03T15:00:33.493Z"
   },
   {
    "duration": 142,
    "start_time": "2024-01-03T15:00:33.510Z"
   },
   {
    "duration": 7,
    "start_time": "2024-01-03T15:00:33.654Z"
   },
   {
    "duration": 11,
    "start_time": "2024-01-03T15:00:33.662Z"
   },
   {
    "duration": 121,
    "start_time": "2024-01-03T15:00:33.674Z"
   },
   {
    "duration": 10,
    "start_time": "2024-01-03T15:00:33.801Z"
   },
   {
    "duration": 7,
    "start_time": "2024-01-03T15:00:33.813Z"
   },
   {
    "duration": 27,
    "start_time": "2024-01-03T15:00:33.822Z"
   },
   {
    "duration": 161,
    "start_time": "2024-01-03T15:00:33.850Z"
   },
   {
    "duration": 27,
    "start_time": "2024-01-03T15:00:34.012Z"
   },
   {
    "duration": 19,
    "start_time": "2024-01-03T15:00:34.040Z"
   },
   {
    "duration": 201,
    "start_time": "2024-01-03T15:00:34.060Z"
   },
   {
    "duration": 159,
    "start_time": "2024-01-03T15:00:34.262Z"
   },
   {
    "duration": 18,
    "start_time": "2024-01-03T15:00:34.422Z"
   },
   {
    "duration": 185,
    "start_time": "2024-01-03T15:00:34.441Z"
   },
   {
    "duration": 153,
    "start_time": "2024-01-03T15:00:34.627Z"
   },
   {
    "duration": 858,
    "start_time": "2024-01-03T15:00:34.781Z"
   },
   {
    "duration": 2,
    "start_time": "2024-01-03T15:00:35.641Z"
   },
   {
    "duration": 12,
    "start_time": "2024-01-03T15:00:35.644Z"
   },
   {
    "duration": 14,
    "start_time": "2024-01-03T15:00:35.657Z"
   },
   {
    "duration": 9,
    "start_time": "2024-01-03T15:00:35.672Z"
   },
   {
    "duration": 3,
    "start_time": "2024-01-03T15:00:35.682Z"
   },
   {
    "duration": 153,
    "start_time": "2024-01-03T15:00:35.686Z"
   },
   {
    "duration": 6,
    "start_time": "2024-01-03T15:00:35.840Z"
   },
   {
    "duration": 33,
    "start_time": "2024-01-03T15:00:35.847Z"
   },
   {
    "duration": 6,
    "start_time": "2024-01-03T15:00:35.881Z"
   },
   {
    "duration": 821,
    "start_time": "2024-01-03T15:00:35.889Z"
   },
   {
    "duration": 4,
    "start_time": "2024-01-03T15:00:36.712Z"
   },
   {
    "duration": 34,
    "start_time": "2024-01-03T15:00:36.717Z"
   },
   {
    "duration": 55,
    "start_time": "2024-01-03T15:02:09.707Z"
   },
   {
    "duration": 48,
    "start_time": "2024-01-03T15:02:14.915Z"
   },
   {
    "duration": 41,
    "start_time": "2024-01-03T15:02:17.105Z"
   },
   {
    "duration": 49,
    "start_time": "2024-01-03T15:02:28.399Z"
   },
   {
    "duration": 44,
    "start_time": "2024-01-03T15:03:17.930Z"
   },
   {
    "duration": 3,
    "start_time": "2024-01-03T15:04:25.500Z"
   },
   {
    "duration": 8,
    "start_time": "2024-01-03T15:04:26.411Z"
   },
   {
    "duration": 3,
    "start_time": "2024-01-03T15:04:41.153Z"
   },
   {
    "duration": 7,
    "start_time": "2024-01-03T15:04:42.413Z"
   },
   {
    "duration": 3,
    "start_time": "2024-01-03T15:07:05.300Z"
   },
   {
    "duration": 791,
    "start_time": "2024-01-03T15:07:05.772Z"
   },
   {
    "duration": 5,
    "start_time": "2024-01-03T15:07:06.564Z"
   },
   {
    "duration": 3,
    "start_time": "2024-01-03T15:07:43.861Z"
   },
   {
    "duration": 10,
    "start_time": "2024-01-03T15:07:49.800Z"
   },
   {
    "duration": 10,
    "start_time": "2024-01-03T15:07:54.778Z"
   },
   {
    "duration": 3,
    "start_time": "2024-01-03T15:08:03.006Z"
   },
   {
    "duration": 133,
    "start_time": "2024-01-03T15:08:03.921Z"
   },
   {
    "duration": 5,
    "start_time": "2024-01-03T15:08:04.584Z"
   },
   {
    "duration": 11,
    "start_time": "2024-01-03T15:08:05.631Z"
   },
   {
    "duration": 5,
    "start_time": "2024-01-03T15:13:04.347Z"
   },
   {
    "duration": 1187,
    "start_time": "2024-01-04T15:01:18.520Z"
   },
   {
    "duration": 75,
    "start_time": "2024-01-04T15:01:19.709Z"
   },
   {
    "duration": 10,
    "start_time": "2024-01-04T15:01:19.785Z"
   },
   {
    "duration": 151,
    "start_time": "2024-01-04T15:01:19.797Z"
   },
   {
    "duration": 5,
    "start_time": "2024-01-04T15:01:19.949Z"
   },
   {
    "duration": 151,
    "start_time": "2024-01-04T15:01:19.955Z"
   },
   {
    "duration": 5,
    "start_time": "2024-01-04T15:01:20.107Z"
   },
   {
    "duration": 87,
    "start_time": "2024-01-04T15:01:20.114Z"
   },
   {
    "duration": 10,
    "start_time": "2024-01-04T15:01:20.202Z"
   },
   {
    "duration": 67,
    "start_time": "2024-01-04T15:01:20.214Z"
   },
   {
    "duration": 11,
    "start_time": "2024-01-04T15:01:20.282Z"
   },
   {
    "duration": 9,
    "start_time": "2024-01-04T15:01:20.294Z"
   },
   {
    "duration": 7,
    "start_time": "2024-01-04T15:01:20.304Z"
   },
   {
    "duration": 15,
    "start_time": "2024-01-04T15:01:20.312Z"
   },
   {
    "duration": 20,
    "start_time": "2024-01-04T15:01:20.328Z"
   },
   {
    "duration": 28,
    "start_time": "2024-01-04T15:01:20.349Z"
   },
   {
    "duration": 54,
    "start_time": "2024-01-04T15:01:20.378Z"
   },
   {
    "duration": 8,
    "start_time": "2024-01-04T15:01:20.433Z"
   },
   {
    "duration": 11,
    "start_time": "2024-01-04T15:01:20.443Z"
   },
   {
    "duration": 9,
    "start_time": "2024-01-04T15:01:20.456Z"
   },
   {
    "duration": 40,
    "start_time": "2024-01-04T15:01:20.467Z"
   },
   {
    "duration": 15,
    "start_time": "2024-01-04T15:01:20.509Z"
   },
   {
    "duration": 26,
    "start_time": "2024-01-04T15:01:20.526Z"
   },
   {
    "duration": 7,
    "start_time": "2024-01-04T15:01:20.554Z"
   },
   {
    "duration": 6,
    "start_time": "2024-01-04T15:01:20.562Z"
   },
   {
    "duration": 5,
    "start_time": "2024-01-04T15:01:20.570Z"
   },
   {
    "duration": 5,
    "start_time": "2024-01-04T15:01:20.576Z"
   },
   {
    "duration": 4,
    "start_time": "2024-01-04T15:01:20.585Z"
   },
   {
    "duration": 4,
    "start_time": "2024-01-04T15:01:20.590Z"
   },
   {
    "duration": 21,
    "start_time": "2024-01-04T15:01:20.595Z"
   },
   {
    "duration": 12,
    "start_time": "2024-01-04T15:01:20.617Z"
   },
   {
    "duration": 4,
    "start_time": "2024-01-04T15:01:20.645Z"
   },
   {
    "duration": 9,
    "start_time": "2024-01-04T15:01:20.650Z"
   },
   {
    "duration": 162,
    "start_time": "2024-01-04T15:01:20.660Z"
   },
   {
    "duration": 5,
    "start_time": "2024-01-04T15:01:20.823Z"
   },
   {
    "duration": 90,
    "start_time": "2024-01-04T15:01:20.829Z"
   },
   {
    "duration": 5,
    "start_time": "2024-01-04T15:01:20.921Z"
   },
   {
    "duration": 18,
    "start_time": "2024-01-04T15:01:20.927Z"
   },
   {
    "duration": 127,
    "start_time": "2024-01-04T15:01:20.946Z"
   },
   {
    "duration": 7,
    "start_time": "2024-01-04T15:01:21.074Z"
   },
   {
    "duration": 26,
    "start_time": "2024-01-04T15:01:21.082Z"
   },
   {
    "duration": 95,
    "start_time": "2024-01-04T15:01:21.109Z"
   },
   {
    "duration": 6,
    "start_time": "2024-01-04T15:01:21.206Z"
   },
   {
    "duration": 6,
    "start_time": "2024-01-04T15:01:21.214Z"
   },
   {
    "duration": 24,
    "start_time": "2024-01-04T15:01:21.222Z"
   },
   {
    "duration": 153,
    "start_time": "2024-01-04T15:01:21.247Z"
   },
   {
    "duration": 25,
    "start_time": "2024-01-04T15:01:21.401Z"
   },
   {
    "duration": 2,
    "start_time": "2024-01-04T15:01:21.428Z"
   },
   {
    "duration": 15,
    "start_time": "2024-01-04T15:01:21.432Z"
   },
   {
    "duration": 21,
    "start_time": "2024-01-04T15:01:21.449Z"
   },
   {
    "duration": 176,
    "start_time": "2024-01-04T15:01:21.472Z"
   },
   {
    "duration": 155,
    "start_time": "2024-01-04T15:01:21.649Z"
   },
   {
    "duration": 17,
    "start_time": "2024-01-04T15:01:21.806Z"
   },
   {
    "duration": 168,
    "start_time": "2024-01-04T15:01:21.824Z"
   },
   {
    "duration": 146,
    "start_time": "2024-01-04T15:01:21.993Z"
   },
   {
    "duration": 89,
    "start_time": "2024-01-04T15:01:22.144Z"
   },
   {
    "duration": 0,
    "start_time": "2024-01-04T15:01:22.234Z"
   },
   {
    "duration": 0,
    "start_time": "2024-01-04T15:01:22.235Z"
   },
   {
    "duration": 0,
    "start_time": "2024-01-04T15:01:22.244Z"
   },
   {
    "duration": 0,
    "start_time": "2024-01-04T15:01:22.245Z"
   },
   {
    "duration": 0,
    "start_time": "2024-01-04T15:01:22.246Z"
   },
   {
    "duration": 0,
    "start_time": "2024-01-04T15:01:22.247Z"
   },
   {
    "duration": 0,
    "start_time": "2024-01-04T15:01:22.248Z"
   },
   {
    "duration": 0,
    "start_time": "2024-01-04T15:01:22.249Z"
   },
   {
    "duration": 0,
    "start_time": "2024-01-04T15:01:22.250Z"
   },
   {
    "duration": 0,
    "start_time": "2024-01-04T15:01:22.252Z"
   },
   {
    "duration": 0,
    "start_time": "2024-01-04T15:01:22.252Z"
   },
   {
    "duration": 0,
    "start_time": "2024-01-04T15:01:22.253Z"
   },
   {
    "duration": 0,
    "start_time": "2024-01-04T15:01:22.254Z"
   },
   {
    "duration": 1283,
    "start_time": "2024-01-04T15:04:16.824Z"
   },
   {
    "duration": 29,
    "start_time": "2024-01-04T15:04:18.108Z"
   },
   {
    "duration": 10,
    "start_time": "2024-01-04T15:04:18.139Z"
   },
   {
    "duration": 173,
    "start_time": "2024-01-04T15:04:18.151Z"
   },
   {
    "duration": 5,
    "start_time": "2024-01-04T15:04:18.325Z"
   },
   {
    "duration": 171,
    "start_time": "2024-01-04T15:04:18.332Z"
   },
   {
    "duration": 5,
    "start_time": "2024-01-04T15:04:18.505Z"
   },
   {
    "duration": 107,
    "start_time": "2024-01-04T15:04:18.511Z"
   },
   {
    "duration": 9,
    "start_time": "2024-01-04T15:04:18.620Z"
   },
   {
    "duration": 77,
    "start_time": "2024-01-04T15:04:18.631Z"
   },
   {
    "duration": 41,
    "start_time": "2024-01-04T15:04:18.710Z"
   },
   {
    "duration": 82,
    "start_time": "2024-01-04T15:04:18.753Z"
   },
   {
    "duration": 63,
    "start_time": "2024-01-04T15:04:18.836Z"
   },
   {
    "duration": 40,
    "start_time": "2024-01-04T15:04:18.901Z"
   },
   {
    "duration": 33,
    "start_time": "2024-01-04T15:04:18.943Z"
   },
   {
    "duration": 22,
    "start_time": "2024-01-04T15:04:18.977Z"
   },
   {
    "duration": 45,
    "start_time": "2024-01-04T15:04:19.000Z"
   },
   {
    "duration": 33,
    "start_time": "2024-01-04T15:04:19.047Z"
   },
   {
    "duration": 26,
    "start_time": "2024-01-04T15:04:19.082Z"
   },
   {
    "duration": 32,
    "start_time": "2024-01-04T15:04:19.109Z"
   },
   {
    "duration": 41,
    "start_time": "2024-01-04T15:04:19.142Z"
   },
   {
    "duration": 19,
    "start_time": "2024-01-04T15:04:19.184Z"
   },
   {
    "duration": 27,
    "start_time": "2024-01-04T15:04:19.205Z"
   },
   {
    "duration": 30,
    "start_time": "2024-01-04T15:04:19.233Z"
   },
   {
    "duration": 32,
    "start_time": "2024-01-04T15:04:19.264Z"
   },
   {
    "duration": 18,
    "start_time": "2024-01-04T15:04:19.298Z"
   },
   {
    "duration": 28,
    "start_time": "2024-01-04T15:04:19.318Z"
   },
   {
    "duration": 29,
    "start_time": "2024-01-04T15:04:19.350Z"
   },
   {
    "duration": 16,
    "start_time": "2024-01-04T15:04:19.381Z"
   },
   {
    "duration": 23,
    "start_time": "2024-01-04T15:04:19.399Z"
   },
   {
    "duration": 22,
    "start_time": "2024-01-04T15:04:19.423Z"
   },
   {
    "duration": 20,
    "start_time": "2024-01-04T15:04:19.447Z"
   },
   {
    "duration": 30,
    "start_time": "2024-01-04T15:04:19.469Z"
   },
   {
    "duration": 180,
    "start_time": "2024-01-04T15:04:19.501Z"
   },
   {
    "duration": 5,
    "start_time": "2024-01-04T15:04:19.682Z"
   },
   {
    "duration": 94,
    "start_time": "2024-01-04T15:04:19.688Z"
   },
   {
    "duration": 5,
    "start_time": "2024-01-04T15:04:19.784Z"
   },
   {
    "duration": 79,
    "start_time": "2024-01-04T15:04:19.791Z"
   },
   {
    "duration": 173,
    "start_time": "2024-01-04T15:04:19.872Z"
   },
   {
    "duration": 6,
    "start_time": "2024-01-04T15:04:20.047Z"
   },
   {
    "duration": 44,
    "start_time": "2024-01-04T15:04:20.055Z"
   },
   {
    "duration": 156,
    "start_time": "2024-01-04T15:04:20.100Z"
   },
   {
    "duration": 7,
    "start_time": "2024-01-04T15:04:20.258Z"
   },
   {
    "duration": 80,
    "start_time": "2024-01-04T15:04:20.266Z"
   },
   {
    "duration": 42,
    "start_time": "2024-01-04T15:04:20.348Z"
   },
   {
    "duration": 179,
    "start_time": "2024-01-04T15:04:20.392Z"
   },
   {
    "duration": 27,
    "start_time": "2024-01-04T15:04:20.572Z"
   },
   {
    "duration": 2,
    "start_time": "2024-01-04T15:04:20.601Z"
   },
   {
    "duration": 33,
    "start_time": "2024-01-04T15:04:20.604Z"
   },
   {
    "duration": 36,
    "start_time": "2024-01-04T15:04:20.638Z"
   },
   {
    "duration": 157,
    "start_time": "2024-01-04T15:04:20.676Z"
   },
   {
    "duration": 163,
    "start_time": "2024-01-04T15:04:20.834Z"
   },
   {
    "duration": 18,
    "start_time": "2024-01-04T15:04:20.999Z"
   },
   {
    "duration": 168,
    "start_time": "2024-01-04T15:04:21.018Z"
   },
   {
    "duration": 151,
    "start_time": "2024-01-04T15:04:21.188Z"
   },
   {
    "duration": 92,
    "start_time": "2024-01-04T15:04:21.345Z"
   },
   {
    "duration": 0,
    "start_time": "2024-01-04T15:04:21.445Z"
   },
   {
    "duration": 0,
    "start_time": "2024-01-04T15:04:21.446Z"
   },
   {
    "duration": 0,
    "start_time": "2024-01-04T15:04:21.447Z"
   },
   {
    "duration": 0,
    "start_time": "2024-01-04T15:04:21.448Z"
   },
   {
    "duration": 0,
    "start_time": "2024-01-04T15:04:21.449Z"
   },
   {
    "duration": 0,
    "start_time": "2024-01-04T15:04:21.450Z"
   },
   {
    "duration": 0,
    "start_time": "2024-01-04T15:04:21.451Z"
   },
   {
    "duration": 0,
    "start_time": "2024-01-04T15:04:21.451Z"
   },
   {
    "duration": 0,
    "start_time": "2024-01-04T15:04:21.453Z"
   },
   {
    "duration": 0,
    "start_time": "2024-01-04T15:04:21.454Z"
   },
   {
    "duration": 0,
    "start_time": "2024-01-04T15:04:21.456Z"
   },
   {
    "duration": 0,
    "start_time": "2024-01-04T15:04:21.456Z"
   },
   {
    "duration": 0,
    "start_time": "2024-01-04T15:04:21.457Z"
   },
   {
    "duration": 5,
    "start_time": "2024-01-04T15:05:13.668Z"
   },
   {
    "duration": 786,
    "start_time": "2024-01-04T15:05:15.656Z"
   },
   {
    "duration": 5,
    "start_time": "2024-01-04T15:05:37.307Z"
   },
   {
    "duration": 8,
    "start_time": "2024-01-04T15:06:26.122Z"
   },
   {
    "duration": 55,
    "start_time": "2024-01-04T15:27:41.427Z"
   },
   {
    "duration": 1487,
    "start_time": "2024-01-04T15:27:46.984Z"
   },
   {
    "duration": 78,
    "start_time": "2024-01-04T15:27:48.473Z"
   },
   {
    "duration": 17,
    "start_time": "2024-01-04T15:27:48.553Z"
   },
   {
    "duration": 190,
    "start_time": "2024-01-04T15:27:48.572Z"
   },
   {
    "duration": 6,
    "start_time": "2024-01-04T15:27:48.764Z"
   },
   {
    "duration": 186,
    "start_time": "2024-01-04T15:27:48.771Z"
   },
   {
    "duration": 6,
    "start_time": "2024-01-04T15:27:48.959Z"
   },
   {
    "duration": 112,
    "start_time": "2024-01-04T15:27:48.967Z"
   },
   {
    "duration": 12,
    "start_time": "2024-01-04T15:27:49.081Z"
   },
   {
    "duration": 72,
    "start_time": "2024-01-04T15:27:49.097Z"
   },
   {
    "duration": 17,
    "start_time": "2024-01-04T15:27:49.171Z"
   },
   {
    "duration": 13,
    "start_time": "2024-01-04T15:27:49.190Z"
   },
   {
    "duration": 19,
    "start_time": "2024-01-04T15:27:49.205Z"
   },
   {
    "duration": 11,
    "start_time": "2024-01-04T15:27:49.226Z"
   },
   {
    "duration": 20,
    "start_time": "2024-01-04T15:27:49.239Z"
   },
   {
    "duration": 21,
    "start_time": "2024-01-04T15:27:49.261Z"
   },
   {
    "duration": 70,
    "start_time": "2024-01-04T15:27:49.284Z"
   },
   {
    "duration": 11,
    "start_time": "2024-01-04T15:27:49.356Z"
   },
   {
    "duration": 20,
    "start_time": "2024-01-04T15:27:49.369Z"
   },
   {
    "duration": 12,
    "start_time": "2024-01-04T15:27:49.391Z"
   },
   {
    "duration": 22,
    "start_time": "2024-01-04T15:27:49.405Z"
   },
   {
    "duration": 10,
    "start_time": "2024-01-04T15:27:49.429Z"
   },
   {
    "duration": 21,
    "start_time": "2024-01-04T15:27:49.441Z"
   },
   {
    "duration": 33,
    "start_time": "2024-01-04T15:27:49.464Z"
   },
   {
    "duration": 21,
    "start_time": "2024-01-04T15:27:49.499Z"
   },
   {
    "duration": 21,
    "start_time": "2024-01-04T15:27:49.522Z"
   },
   {
    "duration": 18,
    "start_time": "2024-01-04T15:27:49.544Z"
   },
   {
    "duration": 10,
    "start_time": "2024-01-04T15:27:49.566Z"
   },
   {
    "duration": 11,
    "start_time": "2024-01-04T15:27:49.577Z"
   },
   {
    "duration": 9,
    "start_time": "2024-01-04T15:27:49.589Z"
   },
   {
    "duration": 11,
    "start_time": "2024-01-04T15:27:49.599Z"
   },
   {
    "duration": 10,
    "start_time": "2024-01-04T15:27:49.612Z"
   },
   {
    "duration": 21,
    "start_time": "2024-01-04T15:27:49.624Z"
   },
   {
    "duration": 214,
    "start_time": "2024-01-04T15:27:49.647Z"
   },
   {
    "duration": 6,
    "start_time": "2024-01-04T15:27:49.863Z"
   },
   {
    "duration": 102,
    "start_time": "2024-01-04T15:27:49.870Z"
   },
   {
    "duration": 7,
    "start_time": "2024-01-04T15:27:49.974Z"
   },
   {
    "duration": 34,
    "start_time": "2024-01-04T15:27:49.982Z"
   },
   {
    "duration": 170,
    "start_time": "2024-01-04T15:27:50.018Z"
   },
   {
    "duration": 8,
    "start_time": "2024-01-04T15:27:50.189Z"
   },
   {
    "duration": 24,
    "start_time": "2024-01-04T15:27:50.199Z"
   },
   {
    "duration": 126,
    "start_time": "2024-01-04T15:27:50.225Z"
   },
   {
    "duration": 8,
    "start_time": "2024-01-04T15:27:50.352Z"
   },
   {
    "duration": 12,
    "start_time": "2024-01-04T15:27:50.361Z"
   },
   {
    "duration": 25,
    "start_time": "2024-01-04T15:27:50.375Z"
   },
   {
    "duration": 199,
    "start_time": "2024-01-04T15:27:50.401Z"
   },
   {
    "duration": 42,
    "start_time": "2024-01-04T15:27:50.602Z"
   },
   {
    "duration": 4,
    "start_time": "2024-01-04T15:27:50.645Z"
   },
   {
    "duration": 28,
    "start_time": "2024-01-04T15:27:50.650Z"
   },
   {
    "duration": 29,
    "start_time": "2024-01-04T15:27:50.680Z"
   },
   {
    "duration": 223,
    "start_time": "2024-01-04T15:27:50.711Z"
   },
   {
    "duration": 221,
    "start_time": "2024-01-04T15:27:50.935Z"
   },
   {
    "duration": 23,
    "start_time": "2024-01-04T15:27:51.157Z"
   },
   {
    "duration": 198,
    "start_time": "2024-01-04T15:27:51.182Z"
   },
   {
    "duration": 187,
    "start_time": "2024-01-04T15:27:51.381Z"
   },
   {
    "duration": 107,
    "start_time": "2024-01-04T15:27:51.570Z"
   },
   {
    "duration": 0,
    "start_time": "2024-01-04T15:27:51.678Z"
   },
   {
    "duration": 0,
    "start_time": "2024-01-04T15:27:51.679Z"
   },
   {
    "duration": 0,
    "start_time": "2024-01-04T15:27:51.681Z"
   },
   {
    "duration": 0,
    "start_time": "2024-01-04T15:27:51.681Z"
   },
   {
    "duration": 0,
    "start_time": "2024-01-04T15:27:51.683Z"
   },
   {
    "duration": 0,
    "start_time": "2024-01-04T15:27:51.684Z"
   },
   {
    "duration": 0,
    "start_time": "2024-01-04T15:27:51.685Z"
   },
   {
    "duration": 0,
    "start_time": "2024-01-04T15:27:51.685Z"
   },
   {
    "duration": 0,
    "start_time": "2024-01-04T15:27:51.686Z"
   },
   {
    "duration": 0,
    "start_time": "2024-01-04T15:27:51.688Z"
   },
   {
    "duration": 0,
    "start_time": "2024-01-04T15:27:51.689Z"
   },
   {
    "duration": 0,
    "start_time": "2024-01-04T15:27:51.690Z"
   },
   {
    "duration": 0,
    "start_time": "2024-01-04T15:27:51.691Z"
   },
   {
    "duration": 917,
    "start_time": "2024-01-04T15:57:12.467Z"
   },
   {
    "duration": 3,
    "start_time": "2024-01-04T15:57:14.015Z"
   },
   {
    "duration": 7,
    "start_time": "2024-01-04T15:57:14.873Z"
   },
   {
    "duration": 4,
    "start_time": "2024-01-04T15:57:15.824Z"
   },
   {
    "duration": 4,
    "start_time": "2024-01-04T16:05:33.613Z"
   },
   {
    "duration": 942,
    "start_time": "2024-01-04T16:05:34.362Z"
   },
   {
    "duration": 6,
    "start_time": "2024-01-04T16:05:36.246Z"
   },
   {
    "duration": 4,
    "start_time": "2024-01-04T16:05:36.977Z"
   },
   {
    "duration": 1347,
    "start_time": "2024-01-04T16:07:11.404Z"
   },
   {
    "duration": 29,
    "start_time": "2024-01-04T16:07:12.753Z"
   },
   {
    "duration": 19,
    "start_time": "2024-01-04T16:07:12.783Z"
   },
   {
    "duration": 191,
    "start_time": "2024-01-04T16:07:12.804Z"
   },
   {
    "duration": 5,
    "start_time": "2024-01-04T16:07:12.997Z"
   },
   {
    "duration": 186,
    "start_time": "2024-01-04T16:07:13.004Z"
   },
   {
    "duration": 6,
    "start_time": "2024-01-04T16:07:13.192Z"
   },
   {
    "duration": 119,
    "start_time": "2024-01-04T16:07:13.200Z"
   },
   {
    "duration": 10,
    "start_time": "2024-01-04T16:07:13.322Z"
   },
   {
    "duration": 40,
    "start_time": "2024-01-04T16:07:13.335Z"
   },
   {
    "duration": 13,
    "start_time": "2024-01-04T16:07:13.377Z"
   },
   {
    "duration": 4,
    "start_time": "2024-01-04T16:07:13.392Z"
   },
   {
    "duration": 9,
    "start_time": "2024-01-04T16:07:13.397Z"
   },
   {
    "duration": 21,
    "start_time": "2024-01-04T16:07:13.408Z"
   },
   {
    "duration": 19,
    "start_time": "2024-01-04T16:07:13.431Z"
   },
   {
    "duration": 32,
    "start_time": "2024-01-04T16:07:13.452Z"
   },
   {
    "duration": 36,
    "start_time": "2024-01-04T16:07:13.485Z"
   },
   {
    "duration": 11,
    "start_time": "2024-01-04T16:07:13.522Z"
   },
   {
    "duration": 27,
    "start_time": "2024-01-04T16:07:13.534Z"
   },
   {
    "duration": 9,
    "start_time": "2024-01-04T16:07:13.562Z"
   },
   {
    "duration": 36,
    "start_time": "2024-01-04T16:07:13.573Z"
   },
   {
    "duration": 28,
    "start_time": "2024-01-04T16:07:13.610Z"
   },
   {
    "duration": 22,
    "start_time": "2024-01-04T16:07:13.639Z"
   },
   {
    "duration": 29,
    "start_time": "2024-01-04T16:07:13.662Z"
   },
   {
    "duration": 24,
    "start_time": "2024-01-04T16:07:13.692Z"
   },
   {
    "duration": 25,
    "start_time": "2024-01-04T16:07:13.718Z"
   },
   {
    "duration": 11,
    "start_time": "2024-01-04T16:07:13.744Z"
   },
   {
    "duration": 18,
    "start_time": "2024-01-04T16:07:13.759Z"
   },
   {
    "duration": 16,
    "start_time": "2024-01-04T16:07:13.779Z"
   },
   {
    "duration": 26,
    "start_time": "2024-01-04T16:07:13.796Z"
   },
   {
    "duration": 20,
    "start_time": "2024-01-04T16:07:13.824Z"
   },
   {
    "duration": 14,
    "start_time": "2024-01-04T16:07:13.846Z"
   },
   {
    "duration": 11,
    "start_time": "2024-01-04T16:07:13.862Z"
   },
   {
    "duration": 213,
    "start_time": "2024-01-04T16:07:13.874Z"
   },
   {
    "duration": 6,
    "start_time": "2024-01-04T16:07:14.089Z"
   },
   {
    "duration": 102,
    "start_time": "2024-01-04T16:07:14.097Z"
   },
   {
    "duration": 7,
    "start_time": "2024-01-04T16:07:14.201Z"
   },
   {
    "duration": 6,
    "start_time": "2024-01-04T16:07:14.221Z"
   },
   {
    "duration": 166,
    "start_time": "2024-01-04T16:07:14.229Z"
   },
   {
    "duration": 8,
    "start_time": "2024-01-04T16:07:14.398Z"
   },
   {
    "duration": 9,
    "start_time": "2024-01-04T16:07:14.422Z"
   },
   {
    "duration": 124,
    "start_time": "2024-01-04T16:07:14.433Z"
   },
   {
    "duration": 7,
    "start_time": "2024-01-04T16:07:14.558Z"
   },
   {
    "duration": 34,
    "start_time": "2024-01-04T16:07:14.567Z"
   },
   {
    "duration": 15,
    "start_time": "2024-01-04T16:07:14.602Z"
   },
   {
    "duration": 188,
    "start_time": "2024-01-04T16:07:14.618Z"
   },
   {
    "duration": 43,
    "start_time": "2024-01-04T16:07:14.808Z"
   },
   {
    "duration": 3,
    "start_time": "2024-01-04T16:07:14.853Z"
   },
   {
    "duration": 10,
    "start_time": "2024-01-04T16:07:14.857Z"
   },
   {
    "duration": 25,
    "start_time": "2024-01-04T16:07:14.868Z"
   },
   {
    "duration": 220,
    "start_time": "2024-01-04T16:07:14.895Z"
   },
   {
    "duration": 188,
    "start_time": "2024-01-04T16:07:15.123Z"
   },
   {
    "duration": 22,
    "start_time": "2024-01-04T16:07:15.321Z"
   },
   {
    "duration": 219,
    "start_time": "2024-01-04T16:07:15.345Z"
   },
   {
    "duration": 194,
    "start_time": "2024-01-04T16:07:15.566Z"
   },
   {
    "duration": 3,
    "start_time": "2024-01-04T16:07:15.762Z"
   },
   {
    "duration": 894,
    "start_time": "2024-01-04T16:07:15.767Z"
   },
   {
    "duration": 6,
    "start_time": "2024-01-04T16:07:16.663Z"
   },
   {
    "duration": 3,
    "start_time": "2024-01-04T16:07:16.671Z"
   },
   {
    "duration": 14,
    "start_time": "2024-01-04T16:07:16.676Z"
   },
   {
    "duration": 32,
    "start_time": "2024-01-04T16:07:16.691Z"
   },
   {
    "duration": 3,
    "start_time": "2024-01-04T16:07:16.725Z"
   },
   {
    "duration": 166,
    "start_time": "2024-01-04T16:07:16.730Z"
   },
   {
    "duration": 6,
    "start_time": "2024-01-04T16:07:16.897Z"
   },
   {
    "duration": 23,
    "start_time": "2024-01-04T16:07:16.904Z"
   },
   {
    "duration": 5,
    "start_time": "2024-01-04T16:07:16.929Z"
   },
   {
    "duration": 859,
    "start_time": "2024-01-04T16:07:16.936Z"
   },
   {
    "duration": 6,
    "start_time": "2024-01-04T16:07:17.796Z"
   },
   {
    "duration": 19,
    "start_time": "2024-01-04T16:07:17.803Z"
   },
   {
    "duration": 1171,
    "start_time": "2024-01-04T17:45:41.918Z"
   },
   {
    "duration": 28,
    "start_time": "2024-01-04T17:45:43.091Z"
   },
   {
    "duration": 10,
    "start_time": "2024-01-04T17:45:43.121Z"
   },
   {
    "duration": 151,
    "start_time": "2024-01-04T17:45:43.133Z"
   },
   {
    "duration": 5,
    "start_time": "2024-01-04T17:45:43.285Z"
   },
   {
    "duration": 135,
    "start_time": "2024-01-04T17:45:43.292Z"
   },
   {
    "duration": 4,
    "start_time": "2024-01-04T17:45:43.429Z"
   },
   {
    "duration": 89,
    "start_time": "2024-01-04T17:45:43.435Z"
   },
   {
    "duration": 21,
    "start_time": "2024-01-04T17:45:43.525Z"
   },
   {
    "duration": 25,
    "start_time": "2024-01-04T17:45:43.548Z"
   },
   {
    "duration": 11,
    "start_time": "2024-01-04T17:45:43.575Z"
   },
   {
    "duration": 4,
    "start_time": "2024-01-04T17:45:43.587Z"
   },
   {
    "duration": 20,
    "start_time": "2024-01-04T17:45:43.593Z"
   },
   {
    "duration": 12,
    "start_time": "2024-01-04T17:45:43.614Z"
   },
   {
    "duration": 12,
    "start_time": "2024-01-04T17:45:43.627Z"
   },
   {
    "duration": 13,
    "start_time": "2024-01-04T17:45:43.640Z"
   },
   {
    "duration": 19,
    "start_time": "2024-01-04T17:45:43.654Z"
   },
   {
    "duration": 8,
    "start_time": "2024-01-04T17:45:43.674Z"
   },
   {
    "duration": 6,
    "start_time": "2024-01-04T17:45:43.683Z"
   },
   {
    "duration": 6,
    "start_time": "2024-01-04T17:45:43.690Z"
   },
   {
    "duration": 11,
    "start_time": "2024-01-04T17:45:43.698Z"
   },
   {
    "duration": 9,
    "start_time": "2024-01-04T17:45:43.710Z"
   },
   {
    "duration": 6,
    "start_time": "2024-01-04T17:45:43.720Z"
   },
   {
    "duration": 5,
    "start_time": "2024-01-04T17:45:43.727Z"
   },
   {
    "duration": 12,
    "start_time": "2024-01-04T17:45:43.733Z"
   },
   {
    "duration": 5,
    "start_time": "2024-01-04T17:45:43.747Z"
   },
   {
    "duration": 4,
    "start_time": "2024-01-04T17:45:43.754Z"
   },
   {
    "duration": 5,
    "start_time": "2024-01-04T17:45:43.761Z"
   },
   {
    "duration": 5,
    "start_time": "2024-01-04T17:45:43.767Z"
   },
   {
    "duration": 5,
    "start_time": "2024-01-04T17:45:43.773Z"
   },
   {
    "duration": 7,
    "start_time": "2024-01-04T17:45:43.779Z"
   },
   {
    "duration": 7,
    "start_time": "2024-01-04T17:45:43.787Z"
   },
   {
    "duration": 8,
    "start_time": "2024-01-04T17:45:43.795Z"
   },
   {
    "duration": 169,
    "start_time": "2024-01-04T17:45:43.845Z"
   },
   {
    "duration": 5,
    "start_time": "2024-01-04T17:45:44.015Z"
   },
   {
    "duration": 92,
    "start_time": "2024-01-04T17:45:44.021Z"
   },
   {
    "duration": 4,
    "start_time": "2024-01-04T17:45:44.115Z"
   },
   {
    "duration": 5,
    "start_time": "2024-01-04T17:45:44.120Z"
   },
   {
    "duration": 147,
    "start_time": "2024-01-04T17:45:44.127Z"
   },
   {
    "duration": 6,
    "start_time": "2024-01-04T17:45:44.276Z"
   },
   {
    "duration": 7,
    "start_time": "2024-01-04T17:45:44.283Z"
   },
   {
    "duration": 110,
    "start_time": "2024-01-04T17:45:44.291Z"
   },
   {
    "duration": 6,
    "start_time": "2024-01-04T17:45:44.403Z"
   },
   {
    "duration": 12,
    "start_time": "2024-01-04T17:45:44.410Z"
   },
   {
    "duration": 23,
    "start_time": "2024-01-04T17:45:44.423Z"
   },
   {
    "duration": 155,
    "start_time": "2024-01-04T17:45:44.447Z"
   },
   {
    "duration": 26,
    "start_time": "2024-01-04T17:45:44.604Z"
   },
   {
    "duration": 2,
    "start_time": "2024-01-04T17:45:44.631Z"
   },
   {
    "duration": 6,
    "start_time": "2024-01-04T17:45:44.645Z"
   },
   {
    "duration": 18,
    "start_time": "2024-01-04T17:45:44.653Z"
   },
   {
    "duration": 173,
    "start_time": "2024-01-04T17:45:44.672Z"
   },
   {
    "duration": 149,
    "start_time": "2024-01-04T17:45:44.846Z"
   },
   {
    "duration": 17,
    "start_time": "2024-01-04T17:45:44.996Z"
   },
   {
    "duration": 184,
    "start_time": "2024-01-04T17:45:45.014Z"
   },
   {
    "duration": 151,
    "start_time": "2024-01-04T17:45:45.200Z"
   },
   {
    "duration": 3,
    "start_time": "2024-01-04T17:45:45.353Z"
   },
   {
    "duration": 821,
    "start_time": "2024-01-04T17:45:45.357Z"
   },
   {
    "duration": 5,
    "start_time": "2024-01-04T17:45:46.180Z"
   },
   {
    "duration": 13,
    "start_time": "2024-01-04T17:45:46.186Z"
   },
   {
    "duration": 16,
    "start_time": "2024-01-04T17:45:46.200Z"
   },
   {
    "duration": 10,
    "start_time": "2024-01-04T17:45:46.218Z"
   },
   {
    "duration": 54,
    "start_time": "2024-01-04T17:45:46.229Z"
   },
   {
    "duration": 130,
    "start_time": "2024-01-04T17:45:46.285Z"
   },
   {
    "duration": 6,
    "start_time": "2024-01-04T17:45:46.417Z"
   },
   {
    "duration": 22,
    "start_time": "2024-01-04T17:45:46.424Z"
   },
   {
    "duration": 5,
    "start_time": "2024-01-04T17:45:46.447Z"
   },
   {
    "duration": 731,
    "start_time": "2024-01-04T17:45:46.453Z"
   },
   {
    "duration": 5,
    "start_time": "2024-01-04T17:45:47.186Z"
   },
   {
    "duration": 13,
    "start_time": "2024-01-04T17:45:47.192Z"
   },
   {
    "duration": 5,
    "start_time": "2024-01-04T17:47:40.771Z"
   }
  ],
  "kernelspec": {
   "display_name": "Python 3 (ipykernel)",
   "language": "python",
   "name": "python3"
  },
  "language_info": {
   "codemirror_mode": {
    "name": "ipython",
    "version": 3
   },
   "file_extension": ".py",
   "mimetype": "text/x-python",
   "name": "python",
   "nbconvert_exporter": "python",
   "pygments_lexer": "ipython3",
   "version": "3.9.5"
  },
  "toc": {
   "base_numbering": 1,
   "nav_menu": {},
   "number_sections": true,
   "sideBar": true,
   "skip_h1_title": true,
   "title_cell": "Table of Contents",
   "title_sidebar": "Contents",
   "toc_cell": false,
   "toc_position": {},
   "toc_section_display": true,
   "toc_window_display": false
  }
 },
 "nbformat": 4,
 "nbformat_minor": 5
}
