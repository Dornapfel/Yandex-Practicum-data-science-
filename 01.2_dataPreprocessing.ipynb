{
 "cells": [
  {
   "cell_type": "markdown",
   "id": "e05bb99b",
   "metadata": {
    "deletable": false,
    "editable": false,
    "id": "c81daeeb"
   },
   "source": [
    "# Исследование надежности заемщиков\n"
   ]
  },
  {
   "cell_type": "markdown",
   "id": "461d6dce",
   "metadata": {
    "deletable": false,
    "editable": false,
    "id": "827c20bf"
   },
   "source": [
    "Во второй части проекта вы выполните шаги 3 и 4. Их вручную проверит ревьюер.\n",
    "Чтобы вам не пришлось писать код заново для шагов 1 и 2, мы добавили авторские решения в ячейки с кодом. \n",
    "\n"
   ]
  },
  {
   "cell_type": "markdown",
   "id": "9aaf7e63",
   "metadata": {
    "deletable": false,
    "editable": false,
    "id": "744d7639"
   },
   "source": [
    "## Откройте таблицу и изучите общую информацию о данных"
   ]
  },
  {
   "cell_type": "markdown",
   "id": "7cd19c87",
   "metadata": {
    "deletable": false,
    "editable": false,
    "id": "e7a14c31"
   },
   "source": [
    "**Задание 1. Импортируйте библиотеку pandas. Считайте данные из csv-файла в датафрейм и сохраните в переменную `data`. Путь к файлу:**\n",
    "\n",
    "`/datasets/data.csv`"
   ]
  },
  {
   "cell_type": "code",
   "execution_count": 1,
   "id": "ec4d3dfa",
   "metadata": {
    "deletable": false,
    "id": "7bcf75c9"
   },
   "outputs": [],
   "source": [
    "import pandas as pd\n",
    "\n",
    "try:\n",
    "    data = pd.read_csv('/datasets/data.csv')\n",
    "except:\n",
    "    data = pd.read_csv('https://code.s3.yandex.net/datasets/data.csv')"
   ]
  },
  {
   "cell_type": "markdown",
   "id": "46e01035",
   "metadata": {
    "deletable": false,
    "editable": false,
    "id": "b8038fe3"
   },
   "source": [
    "**Задание 2. Выведите первые 20 строчек датафрейма `data` на экран.**"
   ]
  },
  {
   "cell_type": "code",
   "execution_count": 2,
   "id": "b5920464",
   "metadata": {
    "deletable": false,
    "id": "2a7cab99",
    "outputId": "1a8f3ef2-d323-4ec2-ddf7-89670b5944c4"
   },
   "outputs": [
    {
     "data": {
      "text/html": [
       "<div>\n",
       "<style scoped>\n",
       "    .dataframe tbody tr th:only-of-type {\n",
       "        vertical-align: middle;\n",
       "    }\n",
       "\n",
       "    .dataframe tbody tr th {\n",
       "        vertical-align: top;\n",
       "    }\n",
       "\n",
       "    .dataframe thead th {\n",
       "        text-align: right;\n",
       "    }\n",
       "</style>\n",
       "<table border=\"1\" class=\"dataframe\">\n",
       "  <thead>\n",
       "    <tr style=\"text-align: right;\">\n",
       "      <th></th>\n",
       "      <th>children</th>\n",
       "      <th>days_employed</th>\n",
       "      <th>dob_years</th>\n",
       "      <th>education</th>\n",
       "      <th>education_id</th>\n",
       "      <th>family_status</th>\n",
       "      <th>family_status_id</th>\n",
       "      <th>gender</th>\n",
       "      <th>income_type</th>\n",
       "      <th>debt</th>\n",
       "      <th>total_income</th>\n",
       "      <th>purpose</th>\n",
       "    </tr>\n",
       "  </thead>\n",
       "  <tbody>\n",
       "    <tr>\n",
       "      <th>0</th>\n",
       "      <td>1</td>\n",
       "      <td>-8437.673028</td>\n",
       "      <td>42</td>\n",
       "      <td>высшее</td>\n",
       "      <td>0</td>\n",
       "      <td>женат / замужем</td>\n",
       "      <td>0</td>\n",
       "      <td>F</td>\n",
       "      <td>сотрудник</td>\n",
       "      <td>0</td>\n",
       "      <td>253875.639453</td>\n",
       "      <td>покупка жилья</td>\n",
       "    </tr>\n",
       "    <tr>\n",
       "      <th>1</th>\n",
       "      <td>1</td>\n",
       "      <td>-4024.803754</td>\n",
       "      <td>36</td>\n",
       "      <td>среднее</td>\n",
       "      <td>1</td>\n",
       "      <td>женат / замужем</td>\n",
       "      <td>0</td>\n",
       "      <td>F</td>\n",
       "      <td>сотрудник</td>\n",
       "      <td>0</td>\n",
       "      <td>112080.014102</td>\n",
       "      <td>приобретение автомобиля</td>\n",
       "    </tr>\n",
       "    <tr>\n",
       "      <th>2</th>\n",
       "      <td>0</td>\n",
       "      <td>-5623.422610</td>\n",
       "      <td>33</td>\n",
       "      <td>Среднее</td>\n",
       "      <td>1</td>\n",
       "      <td>женат / замужем</td>\n",
       "      <td>0</td>\n",
       "      <td>M</td>\n",
       "      <td>сотрудник</td>\n",
       "      <td>0</td>\n",
       "      <td>145885.952297</td>\n",
       "      <td>покупка жилья</td>\n",
       "    </tr>\n",
       "    <tr>\n",
       "      <th>3</th>\n",
       "      <td>3</td>\n",
       "      <td>-4124.747207</td>\n",
       "      <td>32</td>\n",
       "      <td>среднее</td>\n",
       "      <td>1</td>\n",
       "      <td>женат / замужем</td>\n",
       "      <td>0</td>\n",
       "      <td>M</td>\n",
       "      <td>сотрудник</td>\n",
       "      <td>0</td>\n",
       "      <td>267628.550329</td>\n",
       "      <td>дополнительное образование</td>\n",
       "    </tr>\n",
       "    <tr>\n",
       "      <th>4</th>\n",
       "      <td>0</td>\n",
       "      <td>340266.072047</td>\n",
       "      <td>53</td>\n",
       "      <td>среднее</td>\n",
       "      <td>1</td>\n",
       "      <td>гражданский брак</td>\n",
       "      <td>1</td>\n",
       "      <td>F</td>\n",
       "      <td>пенсионер</td>\n",
       "      <td>0</td>\n",
       "      <td>158616.077870</td>\n",
       "      <td>сыграть свадьбу</td>\n",
       "    </tr>\n",
       "    <tr>\n",
       "      <th>5</th>\n",
       "      <td>0</td>\n",
       "      <td>-926.185831</td>\n",
       "      <td>27</td>\n",
       "      <td>высшее</td>\n",
       "      <td>0</td>\n",
       "      <td>гражданский брак</td>\n",
       "      <td>1</td>\n",
       "      <td>M</td>\n",
       "      <td>компаньон</td>\n",
       "      <td>0</td>\n",
       "      <td>255763.565419</td>\n",
       "      <td>покупка жилья</td>\n",
       "    </tr>\n",
       "    <tr>\n",
       "      <th>6</th>\n",
       "      <td>0</td>\n",
       "      <td>-2879.202052</td>\n",
       "      <td>43</td>\n",
       "      <td>высшее</td>\n",
       "      <td>0</td>\n",
       "      <td>женат / замужем</td>\n",
       "      <td>0</td>\n",
       "      <td>F</td>\n",
       "      <td>компаньон</td>\n",
       "      <td>0</td>\n",
       "      <td>240525.971920</td>\n",
       "      <td>операции с жильем</td>\n",
       "    </tr>\n",
       "    <tr>\n",
       "      <th>7</th>\n",
       "      <td>0</td>\n",
       "      <td>-152.779569</td>\n",
       "      <td>50</td>\n",
       "      <td>СРЕДНЕЕ</td>\n",
       "      <td>1</td>\n",
       "      <td>женат / замужем</td>\n",
       "      <td>0</td>\n",
       "      <td>M</td>\n",
       "      <td>сотрудник</td>\n",
       "      <td>0</td>\n",
       "      <td>135823.934197</td>\n",
       "      <td>образование</td>\n",
       "    </tr>\n",
       "    <tr>\n",
       "      <th>8</th>\n",
       "      <td>2</td>\n",
       "      <td>-6929.865299</td>\n",
       "      <td>35</td>\n",
       "      <td>ВЫСШЕЕ</td>\n",
       "      <td>0</td>\n",
       "      <td>гражданский брак</td>\n",
       "      <td>1</td>\n",
       "      <td>F</td>\n",
       "      <td>сотрудник</td>\n",
       "      <td>0</td>\n",
       "      <td>95856.832424</td>\n",
       "      <td>на проведение свадьбы</td>\n",
       "    </tr>\n",
       "    <tr>\n",
       "      <th>9</th>\n",
       "      <td>0</td>\n",
       "      <td>-2188.756445</td>\n",
       "      <td>41</td>\n",
       "      <td>среднее</td>\n",
       "      <td>1</td>\n",
       "      <td>женат / замужем</td>\n",
       "      <td>0</td>\n",
       "      <td>M</td>\n",
       "      <td>сотрудник</td>\n",
       "      <td>0</td>\n",
       "      <td>144425.938277</td>\n",
       "      <td>покупка жилья для семьи</td>\n",
       "    </tr>\n",
       "    <tr>\n",
       "      <th>10</th>\n",
       "      <td>2</td>\n",
       "      <td>-4171.483647</td>\n",
       "      <td>36</td>\n",
       "      <td>высшее</td>\n",
       "      <td>0</td>\n",
       "      <td>женат / замужем</td>\n",
       "      <td>0</td>\n",
       "      <td>M</td>\n",
       "      <td>компаньон</td>\n",
       "      <td>0</td>\n",
       "      <td>113943.491460</td>\n",
       "      <td>покупка недвижимости</td>\n",
       "    </tr>\n",
       "    <tr>\n",
       "      <th>11</th>\n",
       "      <td>0</td>\n",
       "      <td>-792.701887</td>\n",
       "      <td>40</td>\n",
       "      <td>среднее</td>\n",
       "      <td>1</td>\n",
       "      <td>женат / замужем</td>\n",
       "      <td>0</td>\n",
       "      <td>F</td>\n",
       "      <td>сотрудник</td>\n",
       "      <td>0</td>\n",
       "      <td>77069.234271</td>\n",
       "      <td>покупка коммерческой недвижимости</td>\n",
       "    </tr>\n",
       "    <tr>\n",
       "      <th>12</th>\n",
       "      <td>0</td>\n",
       "      <td>NaN</td>\n",
       "      <td>65</td>\n",
       "      <td>среднее</td>\n",
       "      <td>1</td>\n",
       "      <td>гражданский брак</td>\n",
       "      <td>1</td>\n",
       "      <td>M</td>\n",
       "      <td>пенсионер</td>\n",
       "      <td>0</td>\n",
       "      <td>NaN</td>\n",
       "      <td>сыграть свадьбу</td>\n",
       "    </tr>\n",
       "    <tr>\n",
       "      <th>13</th>\n",
       "      <td>0</td>\n",
       "      <td>-1846.641941</td>\n",
       "      <td>54</td>\n",
       "      <td>неоконченное высшее</td>\n",
       "      <td>2</td>\n",
       "      <td>женат / замужем</td>\n",
       "      <td>0</td>\n",
       "      <td>F</td>\n",
       "      <td>сотрудник</td>\n",
       "      <td>0</td>\n",
       "      <td>130458.228857</td>\n",
       "      <td>приобретение автомобиля</td>\n",
       "    </tr>\n",
       "    <tr>\n",
       "      <th>14</th>\n",
       "      <td>0</td>\n",
       "      <td>-1844.956182</td>\n",
       "      <td>56</td>\n",
       "      <td>высшее</td>\n",
       "      <td>0</td>\n",
       "      <td>гражданский брак</td>\n",
       "      <td>1</td>\n",
       "      <td>F</td>\n",
       "      <td>компаньон</td>\n",
       "      <td>1</td>\n",
       "      <td>165127.911772</td>\n",
       "      <td>покупка жилой недвижимости</td>\n",
       "    </tr>\n",
       "    <tr>\n",
       "      <th>15</th>\n",
       "      <td>1</td>\n",
       "      <td>-972.364419</td>\n",
       "      <td>26</td>\n",
       "      <td>среднее</td>\n",
       "      <td>1</td>\n",
       "      <td>женат / замужем</td>\n",
       "      <td>0</td>\n",
       "      <td>F</td>\n",
       "      <td>сотрудник</td>\n",
       "      <td>0</td>\n",
       "      <td>116820.904450</td>\n",
       "      <td>строительство собственной недвижимости</td>\n",
       "    </tr>\n",
       "    <tr>\n",
       "      <th>16</th>\n",
       "      <td>0</td>\n",
       "      <td>-1719.934226</td>\n",
       "      <td>35</td>\n",
       "      <td>среднее</td>\n",
       "      <td>1</td>\n",
       "      <td>женат / замужем</td>\n",
       "      <td>0</td>\n",
       "      <td>F</td>\n",
       "      <td>сотрудник</td>\n",
       "      <td>0</td>\n",
       "      <td>289202.704229</td>\n",
       "      <td>недвижимость</td>\n",
       "    </tr>\n",
       "    <tr>\n",
       "      <th>17</th>\n",
       "      <td>0</td>\n",
       "      <td>-2369.999720</td>\n",
       "      <td>33</td>\n",
       "      <td>высшее</td>\n",
       "      <td>0</td>\n",
       "      <td>гражданский брак</td>\n",
       "      <td>1</td>\n",
       "      <td>M</td>\n",
       "      <td>сотрудник</td>\n",
       "      <td>0</td>\n",
       "      <td>90410.586745</td>\n",
       "      <td>строительство недвижимости</td>\n",
       "    </tr>\n",
       "    <tr>\n",
       "      <th>18</th>\n",
       "      <td>0</td>\n",
       "      <td>400281.136913</td>\n",
       "      <td>53</td>\n",
       "      <td>среднее</td>\n",
       "      <td>1</td>\n",
       "      <td>вдовец / вдова</td>\n",
       "      <td>2</td>\n",
       "      <td>F</td>\n",
       "      <td>пенсионер</td>\n",
       "      <td>0</td>\n",
       "      <td>56823.777243</td>\n",
       "      <td>на покупку подержанного автомобиля</td>\n",
       "    </tr>\n",
       "    <tr>\n",
       "      <th>19</th>\n",
       "      <td>0</td>\n",
       "      <td>-10038.818549</td>\n",
       "      <td>48</td>\n",
       "      <td>СРЕДНЕЕ</td>\n",
       "      <td>1</td>\n",
       "      <td>в разводе</td>\n",
       "      <td>3</td>\n",
       "      <td>F</td>\n",
       "      <td>сотрудник</td>\n",
       "      <td>0</td>\n",
       "      <td>242831.107982</td>\n",
       "      <td>на покупку своего автомобиля</td>\n",
       "    </tr>\n",
       "  </tbody>\n",
       "</table>\n",
       "</div>"
      ],
      "text/plain": [
       "    children  days_employed  dob_years            education  education_id  \\\n",
       "0          1   -8437.673028         42               высшее             0   \n",
       "1          1   -4024.803754         36              среднее             1   \n",
       "2          0   -5623.422610         33              Среднее             1   \n",
       "3          3   -4124.747207         32              среднее             1   \n",
       "4          0  340266.072047         53              среднее             1   \n",
       "5          0    -926.185831         27               высшее             0   \n",
       "6          0   -2879.202052         43               высшее             0   \n",
       "7          0    -152.779569         50              СРЕДНЕЕ             1   \n",
       "8          2   -6929.865299         35               ВЫСШЕЕ             0   \n",
       "9          0   -2188.756445         41              среднее             1   \n",
       "10         2   -4171.483647         36               высшее             0   \n",
       "11         0    -792.701887         40              среднее             1   \n",
       "12         0            NaN         65              среднее             1   \n",
       "13         0   -1846.641941         54  неоконченное высшее             2   \n",
       "14         0   -1844.956182         56               высшее             0   \n",
       "15         1    -972.364419         26              среднее             1   \n",
       "16         0   -1719.934226         35              среднее             1   \n",
       "17         0   -2369.999720         33               высшее             0   \n",
       "18         0  400281.136913         53              среднее             1   \n",
       "19         0  -10038.818549         48              СРЕДНЕЕ             1   \n",
       "\n",
       "       family_status  family_status_id gender income_type  debt  \\\n",
       "0    женат / замужем                 0      F   сотрудник     0   \n",
       "1    женат / замужем                 0      F   сотрудник     0   \n",
       "2    женат / замужем                 0      M   сотрудник     0   \n",
       "3    женат / замужем                 0      M   сотрудник     0   \n",
       "4   гражданский брак                 1      F   пенсионер     0   \n",
       "5   гражданский брак                 1      M   компаньон     0   \n",
       "6    женат / замужем                 0      F   компаньон     0   \n",
       "7    женат / замужем                 0      M   сотрудник     0   \n",
       "8   гражданский брак                 1      F   сотрудник     0   \n",
       "9    женат / замужем                 0      M   сотрудник     0   \n",
       "10   женат / замужем                 0      M   компаньон     0   \n",
       "11   женат / замужем                 0      F   сотрудник     0   \n",
       "12  гражданский брак                 1      M   пенсионер     0   \n",
       "13   женат / замужем                 0      F   сотрудник     0   \n",
       "14  гражданский брак                 1      F   компаньон     1   \n",
       "15   женат / замужем                 0      F   сотрудник     0   \n",
       "16   женат / замужем                 0      F   сотрудник     0   \n",
       "17  гражданский брак                 1      M   сотрудник     0   \n",
       "18    вдовец / вдова                 2      F   пенсионер     0   \n",
       "19         в разводе                 3      F   сотрудник     0   \n",
       "\n",
       "     total_income                                 purpose  \n",
       "0   253875.639453                           покупка жилья  \n",
       "1   112080.014102                 приобретение автомобиля  \n",
       "2   145885.952297                           покупка жилья  \n",
       "3   267628.550329              дополнительное образование  \n",
       "4   158616.077870                         сыграть свадьбу  \n",
       "5   255763.565419                           покупка жилья  \n",
       "6   240525.971920                       операции с жильем  \n",
       "7   135823.934197                             образование  \n",
       "8    95856.832424                   на проведение свадьбы  \n",
       "9   144425.938277                 покупка жилья для семьи  \n",
       "10  113943.491460                    покупка недвижимости  \n",
       "11   77069.234271       покупка коммерческой недвижимости  \n",
       "12            NaN                         сыграть свадьбу  \n",
       "13  130458.228857                 приобретение автомобиля  \n",
       "14  165127.911772              покупка жилой недвижимости  \n",
       "15  116820.904450  строительство собственной недвижимости  \n",
       "16  289202.704229                            недвижимость  \n",
       "17   90410.586745              строительство недвижимости  \n",
       "18   56823.777243      на покупку подержанного автомобиля  \n",
       "19  242831.107982            на покупку своего автомобиля  "
      ]
     },
     "execution_count": 2,
     "metadata": {},
     "output_type": "execute_result"
    }
   ],
   "source": [
    "data.head(20)"
   ]
  },
  {
   "cell_type": "markdown",
   "id": "2fe29862",
   "metadata": {
    "deletable": false,
    "editable": false,
    "id": "1c12e233"
   },
   "source": [
    "**Задание 3. Выведите основную информацию о датафрейме с помощью метода `info()`.**"
   ]
  },
  {
   "cell_type": "code",
   "execution_count": 3,
   "id": "78c4ac55",
   "metadata": {
    "deletable": false,
    "id": "2b757bca",
    "outputId": "15376089-8dad-46c9-b520-c05248d43158"
   },
   "outputs": [
    {
     "name": "stdout",
     "output_type": "stream",
     "text": [
      "<class 'pandas.core.frame.DataFrame'>\n",
      "RangeIndex: 21525 entries, 0 to 21524\n",
      "Data columns (total 12 columns):\n",
      " #   Column            Non-Null Count  Dtype  \n",
      "---  ------            --------------  -----  \n",
      " 0   children          21525 non-null  int64  \n",
      " 1   days_employed     19351 non-null  float64\n",
      " 2   dob_years         21525 non-null  int64  \n",
      " 3   education         21525 non-null  object \n",
      " 4   education_id      21525 non-null  int64  \n",
      " 5   family_status     21525 non-null  object \n",
      " 6   family_status_id  21525 non-null  int64  \n",
      " 7   gender            21525 non-null  object \n",
      " 8   income_type       21525 non-null  object \n",
      " 9   debt              21525 non-null  int64  \n",
      " 10  total_income      19351 non-null  float64\n",
      " 11  purpose           21525 non-null  object \n",
      "dtypes: float64(2), int64(5), object(5)\n",
      "memory usage: 2.0+ MB\n"
     ]
    }
   ],
   "source": [
    "data.info()"
   ]
  },
  {
   "cell_type": "markdown",
   "id": "17ed2602",
   "metadata": {
    "deletable": false,
    "editable": false,
    "id": "333ec665"
   },
   "source": [
    "## Предобработка данных"
   ]
  },
  {
   "cell_type": "markdown",
   "id": "d6c56768",
   "metadata": {
    "deletable": false,
    "editable": false,
    "id": "02d92d53"
   },
   "source": [
    "### Удаление пропусков"
   ]
  },
  {
   "cell_type": "markdown",
   "id": "999e2dc4",
   "metadata": {
    "deletable": false,
    "editable": false,
    "id": "cd84967c"
   },
   "source": [
    "**Задание 4. Выведите количество пропущенных значений для каждого столбца. Используйте комбинацию двух методов.**"
   ]
  },
  {
   "cell_type": "code",
   "execution_count": 4,
   "id": "1c6987d9",
   "metadata": {
    "deletable": false,
    "id": "7f9b2309",
    "outputId": "81f4d817-781c-465c-ed15-91ce4446810d"
   },
   "outputs": [
    {
     "data": {
      "text/plain": [
       "children               0\n",
       "days_employed       2174\n",
       "dob_years              0\n",
       "education              0\n",
       "education_id           0\n",
       "family_status          0\n",
       "family_status_id       0\n",
       "gender                 0\n",
       "income_type            0\n",
       "debt                   0\n",
       "total_income        2174\n",
       "purpose                0\n",
       "dtype: int64"
      ]
     },
     "execution_count": 4,
     "metadata": {},
     "output_type": "execute_result"
    }
   ],
   "source": [
    "data.isna().sum()"
   ]
  },
  {
   "cell_type": "markdown",
   "id": "0b72ca7f",
   "metadata": {
    "deletable": false,
    "editable": false,
    "id": "db86e27b"
   },
   "source": [
    "**Задание 5. В двух столбцах есть пропущенные значения. Один из них — `days_employed`. Пропуски в этом столбце вы обработаете на следующем этапе. Другой столбец с пропущенными значениями — `total_income` — хранит данные о доходах. На сумму дохода сильнее всего влияет тип занятости, поэтому заполнить пропуски в этом столбце нужно медианным значением по каждому типу из столбца `income_type`. Например, у человека с типом занятости `сотрудник` пропуск в столбце `total_income` должен быть заполнен медианным доходом среди всех записей с тем же типом.**"
   ]
  },
  {
   "cell_type": "code",
   "execution_count": 5,
   "id": "71c2ecf6",
   "metadata": {
    "deletable": false,
    "id": "42006a93"
   },
   "outputs": [],
   "source": [
    "for t in data['income_type'].unique():\n",
    "    data.loc[(data['income_type'] == t) & (data['total_income'].isna()), 'total_income'] = \\\n",
    "    data.loc[(data['income_type'] == t), 'total_income'].median()"
   ]
  },
  {
   "cell_type": "markdown",
   "id": "b87875d2",
   "metadata": {
    "deletable": false,
    "editable": false,
    "id": "89da5ece"
   },
   "source": [
    "### Обработка аномальных значений"
   ]
  },
  {
   "cell_type": "markdown",
   "id": "9b49f58f",
   "metadata": {
    "deletable": false,
    "editable": false,
    "id": "57964554"
   },
   "source": [
    "**Задание 6. В данных могут встречаться артефакты (аномалии) — значения, которые не отражают действительность и появились по какой-то ошибке. таким артефактом будет отрицательное количество дней трудового стажа в столбце `days_employed`. Для реальных данных это нормально. Обработайте значения в этом столбце: замените все отрицательные значения положительными с помощью метода `abs()`.**"
   ]
  },
  {
   "cell_type": "code",
   "execution_count": 6,
   "id": "5d3d28a0",
   "metadata": {
    "deletable": false,
    "id": "f6f055bf"
   },
   "outputs": [],
   "source": [
    "data['days_employed'] = data['days_employed'].abs()"
   ]
  },
  {
   "cell_type": "markdown",
   "id": "27ac9094",
   "metadata": {
    "deletable": false,
    "editable": false,
    "id": "6107dd2f"
   },
   "source": [
    "**Задание 7. Для каждого типа занятости выведите медианное значение трудового стажа `days_employed` в днях.**"
   ]
  },
  {
   "cell_type": "code",
   "execution_count": 7,
   "id": "5c27dc0c",
   "metadata": {
    "deletable": false,
    "id": "85a5faf6",
    "outputId": "801ef80e-522b-4668-f34e-565af7432bcf"
   },
   "outputs": [
    {
     "data": {
      "text/plain": [
       "income_type\n",
       "безработный        366413.652744\n",
       "в декрете            3296.759962\n",
       "госслужащий          2689.368353\n",
       "компаньон            1547.382223\n",
       "пенсионер          365213.306266\n",
       "предприниматель       520.848083\n",
       "сотрудник            1574.202821\n",
       "студент               578.751554\n",
       "Name: days_employed, dtype: float64"
      ]
     },
     "execution_count": 7,
     "metadata": {},
     "output_type": "execute_result"
    }
   ],
   "source": [
    "data.groupby('income_type')['days_employed'].agg('median')"
   ]
  },
  {
   "cell_type": "markdown",
   "id": "4021bf90",
   "metadata": {
    "deletable": false,
    "editable": false,
    "id": "38d1a030"
   },
   "source": [
    "У двух типов (безработные и пенсионеры) получатся аномально большие значения. Исправить такие значения сложно, поэтому оставьте их как есть. Тем более этот столбец не понадобится вам для исследования."
   ]
  },
  {
   "cell_type": "markdown",
   "id": "0956f4ed",
   "metadata": {
    "deletable": false,
    "editable": false,
    "id": "d8a9f147"
   },
   "source": [
    "**Задание 8. Выведите перечень уникальных значений столбца `children`.**"
   ]
  },
  {
   "cell_type": "code",
   "execution_count": 8,
   "id": "fa76b62a",
   "metadata": {
    "deletable": false,
    "id": "ef5056eb",
    "outputId": "6975b15c-7f95-4697-d16d-a0c79b657b03"
   },
   "outputs": [
    {
     "data": {
      "text/plain": [
       "array([ 1,  0,  3,  2, -1,  4, 20,  5])"
      ]
     },
     "execution_count": 8,
     "metadata": {},
     "output_type": "execute_result"
    }
   ],
   "source": [
    "data['children'].unique()"
   ]
  },
  {
   "cell_type": "markdown",
   "id": "56c30553",
   "metadata": {
    "deletable": false,
    "editable": false,
    "id": "40b9ebf2"
   },
   "source": [
    "**Задание 9. В столбце `children` есть два аномальных значения. Удалите строки, в которых встречаются такие аномальные значения из датафрейма `data`.**"
   ]
  },
  {
   "cell_type": "code",
   "execution_count": 9,
   "id": "a341e503",
   "metadata": {
    "deletable": false,
    "id": "3ff9801d"
   },
   "outputs": [],
   "source": [
    "data = data[(data['children'] != -1) & (data['children'] != 20)]"
   ]
  },
  {
   "cell_type": "markdown",
   "id": "5415de05",
   "metadata": {
    "deletable": false,
    "editable": false,
    "id": "bbc4d0ce"
   },
   "source": [
    "**Задание 10. Ещё раз выведите перечень уникальных значений столбца `children`, чтобы убедиться, что артефакты удалены.**"
   ]
  },
  {
   "cell_type": "code",
   "execution_count": 10,
   "id": "e8470153",
   "metadata": {
    "deletable": false,
    "id": "ad4fa8b7",
    "outputId": "b2097101-d49d-44d9-901b-32a65c9463d1"
   },
   "outputs": [
    {
     "data": {
      "text/plain": [
       "array([1, 0, 3, 2, 4, 5])"
      ]
     },
     "execution_count": 10,
     "metadata": {},
     "output_type": "execute_result"
    }
   ],
   "source": [
    "data['children'].unique()"
   ]
  },
  {
   "cell_type": "markdown",
   "id": "051c164f",
   "metadata": {
    "deletable": false,
    "editable": false,
    "id": "75440b63"
   },
   "source": [
    "### Удаление пропусков (продолжение)"
   ]
  },
  {
   "cell_type": "markdown",
   "id": "cc9999e4",
   "metadata": {
    "deletable": false,
    "editable": false,
    "id": "f4ea573f"
   },
   "source": [
    "**Задание 11. Заполните пропуски в столбце `days_employed` медианными значениями по каждого типа занятости `income_type`.**"
   ]
  },
  {
   "cell_type": "code",
   "execution_count": 11,
   "id": "49b39e58",
   "metadata": {
    "deletable": false,
    "id": "af6b1a7e"
   },
   "outputs": [],
   "source": [
    "for t in data['income_type'].unique():\n",
    "    data.loc[(data['income_type'] == t) & (data['days_employed'].isna()), 'days_employed'] = \\\n",
    "    data.loc[(data['income_type'] == t), 'days_employed'].median()"
   ]
  },
  {
   "cell_type": "markdown",
   "id": "dfca86c8",
   "metadata": {
    "deletable": false,
    "editable": false,
    "id": "2753f40d"
   },
   "source": [
    "**Задание 12. Убедитесь, что все пропуски заполнены. Проверьте себя и ещё раз выведите количество пропущенных значений для каждого столбца с помощью двух методов.**"
   ]
  },
  {
   "cell_type": "code",
   "execution_count": 12,
   "id": "6073a426",
   "metadata": {
    "deletable": false,
    "id": "55f78bc2",
    "outputId": "8da1e4e1-358e-4e87-98c9-f261bce0a7b2"
   },
   "outputs": [
    {
     "data": {
      "text/plain": [
       "children            0\n",
       "days_employed       0\n",
       "dob_years           0\n",
       "education           0\n",
       "education_id        0\n",
       "family_status       0\n",
       "family_status_id    0\n",
       "gender              0\n",
       "income_type         0\n",
       "debt                0\n",
       "total_income        0\n",
       "purpose             0\n",
       "dtype: int64"
      ]
     },
     "execution_count": 12,
     "metadata": {},
     "output_type": "execute_result"
    }
   ],
   "source": [
    "data.isna().sum()"
   ]
  },
  {
   "cell_type": "markdown",
   "id": "7a273a84",
   "metadata": {
    "deletable": false,
    "editable": false,
    "id": "ddc81e43"
   },
   "source": [
    "### Изменение типов данных"
   ]
  },
  {
   "cell_type": "markdown",
   "id": "f942c5aa",
   "metadata": {
    "deletable": false,
    "editable": false,
    "id": "42d19d24"
   },
   "source": [
    "**Задание 13. Замените вещественный тип данных в столбце `total_income` на целочисленный с помощью метода `astype()`.**"
   ]
  },
  {
   "cell_type": "code",
   "execution_count": 13,
   "id": "534cab43",
   "metadata": {
    "deletable": false,
    "id": "920b65ad"
   },
   "outputs": [],
   "source": [
    "data['total_income'] = data['total_income'].astype(int)"
   ]
  },
  {
   "cell_type": "markdown",
   "id": "a3c7ee5d",
   "metadata": {
    "deletable": false,
    "editable": false,
    "id": "80c420ba"
   },
   "source": [
    "### Обработка дубликатов"
   ]
  },
  {
   "cell_type": "markdown",
   "id": "fc7a2d54",
   "metadata": {
    "deletable": false,
    "editable": false
   },
   "source": [
    "**Задание 14. Обработайте неявные дубликаты в столбце `education`. В этом столбце есть одни и те же значения, но записанные по-разному: с использованием заглавных и строчных букв. Приведите их к нижнему регистру. Проверьте остальные столбцы.**"
   ]
  },
  {
   "cell_type": "code",
   "execution_count": 14,
   "id": "3afa46f5",
   "metadata": {
    "deletable": false
   },
   "outputs": [],
   "source": [
    "data['education'] = data['education'].str.lower()"
   ]
  },
  {
   "cell_type": "markdown",
   "id": "716a0b63",
   "metadata": {
    "deletable": false,
    "editable": false,
    "id": "dc587695"
   },
   "source": [
    "**Задание 15. Выведите на экран количество строк-дубликатов в данных. Если такие строки присутствуют, удалите их.**"
   ]
  },
  {
   "cell_type": "code",
   "execution_count": 15,
   "id": "edd12480",
   "metadata": {
    "deletable": false,
    "id": "3ee445e4",
    "outputId": "9684deba-1934-42d1-99e1-cda61740f822"
   },
   "outputs": [
    {
     "data": {
      "text/plain": [
       "71"
      ]
     },
     "execution_count": 15,
     "metadata": {},
     "output_type": "execute_result"
    }
   ],
   "source": [
    "data.duplicated().sum()"
   ]
  },
  {
   "cell_type": "code",
   "execution_count": 16,
   "id": "fd5f281f",
   "metadata": {
    "deletable": false,
    "id": "8575fe05"
   },
   "outputs": [],
   "source": [
    "data = data.drop_duplicates()"
   ]
  },
  {
   "cell_type": "markdown",
   "id": "4a85a029",
   "metadata": {
    "deletable": false,
    "editable": false,
    "id": "9904cf55"
   },
   "source": [
    "### Категоризация данных"
   ]
  },
  {
   "cell_type": "markdown",
   "id": "896db5eb",
   "metadata": {
    "deletable": false,
    "editable": false,
    "id": "72fcc8a2"
   },
   "source": [
    "**Задание 16. На основании диапазонов, указанных ниже, создайте в датафрейме `data` столбец `total_income_category` с категориями:**\n",
    "\n",
    "- 0–30000 — `'E'`;\n",
    "- 30001–50000 — `'D'`;\n",
    "- 50001–200000 — `'C'`;\n",
    "- 200001–1000000 — `'B'`;\n",
    "- 1000001 и выше — `'A'`.\n",
    "\n",
    "\n",
    "**Например, кредитополучателю с доходом 25000 нужно назначить категорию `'E'`, а клиенту, получающему 235000, — `'B'`. Используйте собственную функцию с именем `categorize_income()` и метод `apply()`.**"
   ]
  },
  {
   "cell_type": "code",
   "execution_count": 17,
   "id": "b2b819bc",
   "metadata": {
    "deletable": false,
    "id": "e1771346"
   },
   "outputs": [],
   "source": [
    "def categorize_income(income):\n",
    "    try:\n",
    "        if 0 <= income <= 30000:\n",
    "            return 'E'\n",
    "        elif 30001 <= income <= 50000:\n",
    "            return 'D'\n",
    "        elif 50001 <= income <= 200000:\n",
    "            return 'C'\n",
    "        elif 200001 <= income <= 1000000:\n",
    "            return 'B'\n",
    "        elif income >= 1000001:\n",
    "            return 'A'\n",
    "    except:\n",
    "        pass"
   ]
  },
  {
   "cell_type": "code",
   "execution_count": 18,
   "id": "834df3aa",
   "metadata": {
    "deletable": false,
    "id": "d5f3586d"
   },
   "outputs": [],
   "source": [
    "data['total_income_category'] = data['total_income'].apply(categorize_income)"
   ]
  },
  {
   "cell_type": "markdown",
   "id": "ad920c9d",
   "metadata": {
    "deletable": false,
    "editable": false,
    "id": "dde49b5c"
   },
   "source": [
    "**Задание 17. Выведите на экран перечень уникальных целей взятия кредита из столбца `purpose`.**"
   ]
  },
  {
   "cell_type": "code",
   "execution_count": 19,
   "id": "d045de7f",
   "metadata": {
    "deletable": false,
    "id": "f67ce9b3",
    "outputId": "673c12d9-7d7e-4ae0-9812-c622c89dd244"
   },
   "outputs": [
    {
     "data": {
      "text/plain": [
       "array(['покупка жилья', 'приобретение автомобиля',\n",
       "       'дополнительное образование', 'сыграть свадьбу',\n",
       "       'операции с жильем', 'образование', 'на проведение свадьбы',\n",
       "       'покупка жилья для семьи', 'покупка недвижимости',\n",
       "       'покупка коммерческой недвижимости', 'покупка жилой недвижимости',\n",
       "       'строительство собственной недвижимости', 'недвижимость',\n",
       "       'строительство недвижимости', 'на покупку подержанного автомобиля',\n",
       "       'на покупку своего автомобиля',\n",
       "       'операции с коммерческой недвижимостью',\n",
       "       'строительство жилой недвижимости', 'жилье',\n",
       "       'операции со своей недвижимостью', 'автомобили',\n",
       "       'заняться образованием', 'сделка с подержанным автомобилем',\n",
       "       'получение образования', 'автомобиль', 'свадьба',\n",
       "       'получение дополнительного образования', 'покупка своего жилья',\n",
       "       'операции с недвижимостью', 'получение высшего образования',\n",
       "       'свой автомобиль', 'сделка с автомобилем',\n",
       "       'профильное образование', 'высшее образование',\n",
       "       'покупка жилья для сдачи', 'на покупку автомобиля', 'ремонт жилью',\n",
       "       'заняться высшим образованием'], dtype=object)"
      ]
     },
     "execution_count": 19,
     "metadata": {},
     "output_type": "execute_result"
    }
   ],
   "source": [
    "data['purpose'].unique()"
   ]
  },
  {
   "cell_type": "markdown",
   "id": "b3e5ac48",
   "metadata": {
    "deletable": false,
    "editable": false,
    "id": "85d0aef0"
   },
   "source": [
    "**Задание 18. Создайте функцию, которая на основании данных из столбца `purpose` сформирует новый столбец `purpose_category`, в который войдут следующие категории:**\n",
    "\n",
    "- `'операции с автомобилем'`,\n",
    "- `'операции с недвижимостью'`,\n",
    "- `'проведение свадьбы'`,\n",
    "- `'получение образования'`.\n",
    "\n",
    "**Например, если в столбце `purpose` находится подстрока `'на покупку автомобиля'`, то в столбце `purpose_category` должна появиться строка `'операции с автомобилем'`.**\n",
    "\n",
    "**Используйте собственную функцию с именем `categorize_purpose()` и метод `apply()`. Изучите данные в столбце `purpose` и определите, какие подстроки помогут вам правильно определить категорию.**"
   ]
  },
  {
   "cell_type": "code",
   "execution_count": 20,
   "id": "24b702fb",
   "metadata": {
    "deletable": false,
    "id": "e149fab4"
   },
   "outputs": [],
   "source": [
    "def categorize_purpose(row):\n",
    "    try:\n",
    "        if 'автом' in row:\n",
    "            return 'операции с автомобилем'\n",
    "        elif 'жил' in row or 'недвиж' in row:\n",
    "            return 'операции с недвижимостью'\n",
    "        elif 'свад' in row:\n",
    "            return 'проведение свадьбы'\n",
    "        elif 'образов' in row:\n",
    "            return 'получение образования'\n",
    "    except:\n",
    "        return 'нет категории'"
   ]
  },
  {
   "cell_type": "code",
   "execution_count": 21,
   "id": "703a51cb",
   "metadata": {
    "deletable": false,
    "id": "bf36e69b"
   },
   "outputs": [],
   "source": [
    "data['purpose_category'] = data['purpose'].apply(categorize_purpose)"
   ]
  },
  {
   "cell_type": "markdown",
   "id": "29419d0c",
   "metadata": {
    "deletable": false,
    "editable": false,
    "id": "09b242bf"
   },
   "source": [
    "### Шаг 3. Исследуйте данные и ответьте на вопросы"
   ]
  },
  {
   "cell_type": "markdown",
   "id": "f4dbb671",
   "metadata": {
    "deletable": false,
    "editable": false,
    "id": "c5d66278"
   },
   "source": [
    "#### 3.1 Есть ли зависимость между количеством детей и возвратом кредита в срок?"
   ]
  },
  {
   "cell_type": "code",
   "execution_count": 22,
   "id": "7a8f7f3d",
   "metadata": {
    "deletable": false,
    "id": "2cacfc4a",
    "scrolled": false
   },
   "outputs": [
    {
     "name": "stdout",
     "output_type": "stream",
     "text": [
      "          total_count  percentage\n",
      "children                         \n",
      "0               14091    0.075438\n",
      "1                4808    0.092346\n",
      "2                2052    0.094542\n",
      "3                 330    0.081818\n",
      "4                  41    0.097561\n",
      "5                   9    0.000000\n"
     ]
    }
   ],
   "source": [
    "# Установим, что наличие задолженности(задержки) по кредиту в нашем датафрейме определяется значением \"1\" в соответствующем столбце \"debt\" (см. задание №2)\n",
    "# Тогда нужно создать сводную таблицу, в которой для каждой категории количества детей отображается общее количество записей и процент случаев задолженности по кредиту ('percentage').\n",
    "\n",
    "# Задаем значения для таблицы\n",
    "table_children = data.pivot_table(index='children', values='debt', aggfunc=['count', 'mean'])\n",
    "# Задаем названия её столбцов\n",
    "table_children.columns = ['total_count', 'percentage']\n",
    "\n",
    "# Выводим таблицу на экран\n",
    "print(table_children)"
   ]
  },
  {
   "cell_type": "markdown",
   "id": "e3779752",
   "metadata": {},
   "source": [
    "<div class=\"alert alert-success\">\n",
    "\n",
    "**Артём:** 👍 Молодец, что используешь сводную таблицу. \n",
    "\n",
    "</div>"
   ]
  },
  {
   "cell_type": "markdown",
   "id": "3525a04f",
   "metadata": {
    "deletable": false,
    "id": "3a6b99ec"
   },
   "source": [
    "**Вывод:**"
   ]
  },
  {
   "cell_type": "markdown",
   "id": "e6f9e26a",
   "metadata": {},
   "source": [
    "Как можно заметить, в сводной таблице минимальному значению в столбце percentage соответствует 6 строка таблицы, т.е при минимальной выборке из 9 человек с количеством детей равным 5, задолженностей по кредитам нет ни у кого.\n",
    "Но так как выборка несущественна, этот пункт в списке значений по возрастанию процента должников (percentage) можно просто игнорировать.\n",
    "\n",
    "На первом месте по возрастанию в столбце percentage идет 1 строка таблицы (0), т.е при самой объемной выборке в 14091 человека с количеством детей, равным 0 (без детей вообще) - чаще всего задолженностей по кредиту не имеется.\n",
    "\n",
    "Остальные же случаи c количеством детей больше 0 имеют больший процент задолженностей по кредиту, причем значения столбца \"percentage\" лишь увеличивается с увеличением количества детей (с исключением лишь при количестве детей равном 3), а значит можно сделать вывод, что есть прямая корреляция между количеством детей и возвратом кредита в срок"
   ]
  },
  {
   "cell_type": "markdown",
   "id": "91116a2d",
   "metadata": {},
   "source": [
    "<div class=\"alert alert-success\">\n",
    "\n",
    "**Артём:** 👍 Отлично.\n",
    "\n",
    "</div>"
   ]
  },
  {
   "cell_type": "markdown",
   "id": "eabd4395",
   "metadata": {
    "deletable": false,
    "editable": false,
    "id": "97be82ca"
   },
   "source": [
    "#### 3.2 Есть ли зависимость между семейным положением и возвратом кредита в срок?"
   ]
  },
  {
   "cell_type": "code",
   "execution_count": 23,
   "id": "605e7273",
   "metadata": {
    "deletable": false,
    "id": "dc3f7ee8"
   },
   "outputs": [
    {
     "name": "stdout",
     "output_type": "stream",
     "text": [
      "                       total_count  percentage  percentages\n",
      "family_status                                              \n",
      "женат / замужем              12261    0.075606    57.479724\n",
      "гражданский брак              4134    0.093130    19.380245\n",
      "Не женат / не замужем         2796    0.097639    13.107684\n",
      "в разводе                     1189    0.070648     5.574047\n",
      "вдовец / вдова                 951    0.066246     4.458300\n"
     ]
    }
   ],
   "source": [
    "# Ваш код будет здесь. Вы можете создавать новые ячейки.\n",
    "# С этим заданием можно справиться аналогичным с предыдущим способом:\n",
    "table_family_status = data.pivot_table(index='family_status', values='debt', aggfunc=['count', 'mean'])\n",
    "table_family_status.columns = ['total_count', 'percentage']\n",
    "table_family_status_sorted = table_family_status.sort_values(by='total_count', ascending=False)\n",
    "\n",
    "# Рассчитываем процентное соотношение клиентов с разным семейным положением:\n",
    "total = table_family_status_sorted['total_count'].sum()\n",
    "table_family_status_sorted['percentages'] = (table_family_status_sorted['total_count'] / total) * 100\n",
    "\n",
    "print(table_family_status_sorted)"
   ]
  },
  {
   "cell_type": "markdown",
   "id": "6e15408e",
   "metadata": {
    "deletable": false,
    "id": "1cef7837"
   },
   "source": [
    "**Вывод:** "
   ]
  },
  {
   "cell_type": "markdown",
   "id": "64792da9",
   "metadata": {},
   "source": [
    "При семейном положении \"женат/замужем\", которое составляет 57% выборки(столбец \"percentages\"), процент задолженности составляет 7.56%, категории \"в разводе\" и \"вдовец / вдова\" имеют более низкий процент задолженности (7.06% и 6.62% соответственно), что может свидетельствовать о более низком риске невозврата для этих категорий клиентов, категории \"гражданский брак\" и \"Не женат / не замужем\" имеют более высокий процент задолженности (9.31% и 9.76% соответственно), что может указывать на более высокий риск невозврата кредита для людей в этих категориях семейного положения.\n",
    "\n",
    "Таким образом, можно сказать, что существует определенная зависимость между семейным положением и возвратом кредита в срок"
   ]
  },
  {
   "cell_type": "markdown",
   "id": "aaaa6dbf",
   "metadata": {},
   "source": [
    "<div class=\"alert alert-success\">\n",
    "\n",
    "**Артём:** 👍 Верно.\n",
    "\n",
    "</div>"
   ]
  },
  {
   "cell_type": "markdown",
   "id": "e0f0fddf",
   "metadata": {
    "deletable": false,
    "editable": false,
    "id": "1e8b2fca"
   },
   "source": [
    "#### 3.3 Есть ли зависимость между уровнем дохода и возвратом кредита в срок?"
   ]
  },
  {
   "cell_type": "code",
   "execution_count": 24,
   "id": "9ffa2710",
   "metadata": {
    "deletable": false,
    "id": "cd7e3720"
   },
   "outputs": [
    {
     "name": "stdout",
     "output_type": "stream",
     "text": [
      "                 total_count  default_percentage\n",
      "income_category                                 \n",
      "Low                    11554            0.084213\n",
      "High                    9777            0.077631\n"
     ]
    }
   ],
   "source": [
    "# Ваш код будет здесь. Вы можете создавать новые ячейки.\n",
    "sorted_data = data.sort_values(by='total_income')\n",
    "\n",
    "\n",
    "# Создадим 2 категории дохода: высокий(больше 150к) и низкий(до 150к) (условно, так как объем выборки категорий примерно равен при таком распределении)\n",
    "filtered_data_greater_than_200k = sorted_data[sorted_data['total_income'] > 150000]\n",
    "\n",
    "filtered_data_less_than_200k = sorted_data[sorted_data['total_income'] < 150000]\n",
    "\n",
    "data['income_category'] = pd.cut(data['total_income'], bins=[-float('inf'), 150000, float('inf')], labels=['Low', 'High'], right=False)\n",
    "\n",
    "# Подсчет процента задолженностей в каждой категории\n",
    "table_income = data.pivot_table(index='income_category', values='debt', aggfunc=['count', 'mean'])\n",
    "table_income.columns = ['total_count', 'default_percentage']\n",
    "\n",
    "# Вывод таблицы\n",
    "print(table_income)"
   ]
  },
  {
   "cell_type": "markdown",
   "id": "3a25fae6",
   "metadata": {
    "deletable": false,
    "id": "e8593def"
   },
   "source": [
    "**Вывод:** "
   ]
  },
  {
   "cell_type": "markdown",
   "id": "c073203d",
   "metadata": {},
   "source": [
    "Клиенты с более высоким доходом чаще платят кредит в срок (7.7% должников по сравнению с 8.4%)"
   ]
  },
  {
   "cell_type": "markdown",
   "id": "38a3413c",
   "metadata": {
    "deletable": false,
    "editable": false,
    "id": "99ecbd1f"
   },
   "source": [
    "#### 3.4 Как разные цели кредита влияют на его возврат в срок?"
   ]
  },
  {
   "cell_type": "code",
   "execution_count": 25,
   "id": "bacc457a",
   "metadata": {
    "deletable": false,
    "id": "2b687290"
   },
   "outputs": [
    {
     "name": "stdout",
     "output_type": "stream",
     "text": [
      "                          total_count  default_percentage\n",
      "purpose_category                                         \n",
      "операции с автомобилем           4279            0.093480\n",
      "операции с недвижимостью        10751            0.072551\n",
      "получение образования            3988            0.092528\n",
      "проведение свадьбы               2313            0.079118\n"
     ]
    }
   ],
   "source": [
    "table_purpose = data.pivot_table(index='purpose_category', values='debt', aggfunc=['count', 'mean'])\n",
    "table_purpose.columns = ['total_count', 'default_percentage']\n",
    "print(table_purpose)"
   ]
  },
  {
   "cell_type": "markdown",
   "id": "999d2dd2",
   "metadata": {
    "deletable": false,
    "id": "b4bb2ce6"
   },
   "source": [
    "**Вывод:** "
   ]
  },
  {
   "cell_type": "markdown",
   "id": "9e883193",
   "metadata": {},
   "source": [
    "Заемщики, укажавшие цель \"операции с недвижимостью\" и \"проведение свадьбы\", имеют более низкий процент задолженности (примерно 7.26% и 7.91%). Заемщики, указавшие цель \"операции с автомобилем\" и \"получение образования\", имеют самый высокий процент задолженности (около 9.35% и 9.25%). Таким образом, можно сказать, что цель кредита может влиять на его возврат в срок"
   ]
  },
  {
   "cell_type": "markdown",
   "id": "db1b3a2c",
   "metadata": {},
   "source": [
    "<div class=\"alert alert-success\">\n",
    "\n",
    "**Артём:** 👍 Правильно.\n",
    "\n",
    "</div>"
   ]
  },
  {
   "cell_type": "markdown",
   "id": "288a40da",
   "metadata": {
    "deletable": false,
    "editable": false,
    "id": "09c3ac4c"
   },
   "source": [
    "#### 3.5 Приведите возможные причины появления пропусков в исходных данных."
   ]
  },
  {
   "cell_type": "markdown",
   "id": "eb9c4ad0",
   "metadata": {
    "deletable": false,
    "id": "9da2ceda"
   },
   "source": [
    "Неправильное заполнение данными, некорректные исходные данные, остутствие данных"
   ]
  },
  {
   "cell_type": "markdown",
   "id": "a4acc8ec",
   "metadata": {},
   "source": [
    "<div class=\"alert alert-success\">\n",
    "\n",
    "**Артём:** 👍 Согласен.\n",
    "\n",
    "</div>"
   ]
  },
  {
   "cell_type": "markdown",
   "id": "5996f4b8",
   "metadata": {
    "deletable": false,
    "editable": false,
    "id": "7b0487d6"
   },
   "source": [
    "#### 3.6 Объясните, почему заполнить пропуски медианным значением — лучшее решение для количественных переменных."
   ]
  },
  {
   "cell_type": "markdown",
   "id": "630a4b83",
   "metadata": {
    "deletable": false,
    "id": "7ecf2b8e"
   },
   "source": [
    "Когда у нас есть пропуски в числовых значениях, заполнение их медианным значением - это хороший выбор, так как:\n",
    "\n",
    "1. Медиана не так чувствительна к необычным значениям (выбросам), что делает ее более устойчивой\n",
    "2. Этот метод помогает сохранить общую форму (распределение) наших данных, что важно для правильного понимания ситуации\n",
    "\n",
    "Поэтому заполнение медианным значением - это практичный метод, который часто используется"
   ]
  },
  {
   "cell_type": "markdown",
   "id": "6c795378",
   "metadata": {},
   "source": [
    "<div class=\"alert alert-success\">\n",
    "\n",
    "**Артём:** 👍 Хорошо.\n",
    "\n",
    "</div>"
   ]
  },
  {
   "cell_type": "markdown",
   "id": "8fc0264d",
   "metadata": {
    "deletable": false,
    "editable": false,
    "id": "6db5255a"
   },
   "source": [
    "### Шаг 4: общий вывод."
   ]
  },
  {
   "cell_type": "markdown",
   "id": "fb37c733",
   "metadata": {
    "deletable": false,
    "id": "bad65432"
   },
   "source": [
    "Разные факторы могут существенно влиять на погашение кредита в срок, а именно:\n",
    "\n",
    "1. Влияние количества детей на возврат кредита:\n",
    "Заемщики с детьми имеют более высокий процент задолженности по сравнению с бездетными заемщиками, и в среднем вероятность возникновения задолженности возрастает с увеличением количества детей.\n",
    "\n",
    "2. Влияние семейного положения на возврат кредита:\n",
    "Заемщики, находящиеся в гражданском браке, имеют самый высокий процент задолженности по сравнению с остальными категориями семейного статуса. Вдовцы/вдовы, разведенные, и женатые/замужем люди, напротив, демонстрируют наименьший процент задолженности.\n",
    "\n",
    "3. Влияние уровня дохода на возврат кредита:\n",
    "Более высокий уровень дохода существенно связан с более низким процентом задолженности. Заемщики с высоким уровнем дохода имеют значительно более низкий процент задолженности, чем те, у кого доход ниже.\n",
    "\n",
    "4. Влияние цели кредита на возврат в срок:\n",
    "Заемщики, берущие кредит на операции с авто, демонстрируют более высокий процент задолженности по сравнению с теми, кто берет кредит на операции с недвижимостью. Похожие тенденции видны и для целей получения образования и проведения свадьбы.\n",
    "\n",
    "Вывод:\n",
    "- Различные факторы, такие как семейное положение, наличие детей, уровень дохода и цель кредита, оказывают влияние на возвратность кредита в срок. При принятии решения о выдаче кредита стоит учитывать не только формальные критерии, но и дополнительные факторы, чтобы сделать более обоснованные и риско-ориентированные решения.\n",
    "- Полученные результаты могут использоваться для оптимизации кредитного скоринга и более эффективного управления рисками в банковской сфере."
   ]
  },
  {
   "cell_type": "markdown",
   "id": "ba70ddb7",
   "metadata": {},
   "source": [
    "<div class=\"alert alert-success\">\n",
    "\n",
    "**Артём:** 👍 Хороший вывод. Аккуратно, последовательно приятно читать.\n",
    "\n",
    "</div>"
   ]
  }
 ],
 "metadata": {
  "ExecuteTimeLog": [
   {
    "duration": 558,
    "start_time": "2023-11-27T12:47:27.533Z"
   },
   {
    "duration": 23,
    "start_time": "2023-11-27T12:47:28.093Z"
   },
   {
    "duration": 16,
    "start_time": "2023-11-27T12:47:28.117Z"
   },
   {
    "duration": 27,
    "start_time": "2023-11-27T12:47:28.135Z"
   },
   {
    "duration": 42,
    "start_time": "2023-11-27T12:47:28.164Z"
   },
   {
    "duration": 3,
    "start_time": "2023-11-27T12:47:28.208Z"
   },
   {
    "duration": 19,
    "start_time": "2023-11-27T12:47:28.212Z"
   },
   {
    "duration": 8,
    "start_time": "2023-11-27T12:47:28.232Z"
   },
   {
    "duration": 15,
    "start_time": "2023-11-27T12:47:28.241Z"
   },
   {
    "duration": 4,
    "start_time": "2023-11-27T12:47:28.258Z"
   },
   {
    "duration": 33,
    "start_time": "2023-11-27T12:47:28.263Z"
   },
   {
    "duration": 10,
    "start_time": "2023-11-27T12:47:28.298Z"
   },
   {
    "duration": 3,
    "start_time": "2023-11-27T12:47:28.310Z"
   },
   {
    "duration": 13,
    "start_time": "2023-11-27T12:47:28.314Z"
   },
   {
    "duration": 39,
    "start_time": "2023-11-27T12:47:28.328Z"
   },
   {
    "duration": 20,
    "start_time": "2023-11-27T12:47:28.369Z"
   },
   {
    "duration": 5,
    "start_time": "2023-11-27T12:47:28.391Z"
   },
   {
    "duration": 14,
    "start_time": "2023-11-27T12:47:28.398Z"
   },
   {
    "duration": 11,
    "start_time": "2023-11-27T12:47:28.414Z"
   },
   {
    "duration": 31,
    "start_time": "2023-11-27T12:47:28.426Z"
   },
   {
    "duration": 10,
    "start_time": "2023-11-27T12:47:28.459Z"
   },
   {
    "duration": 4,
    "start_time": "2023-11-27T12:47:28.471Z"
   },
   {
    "duration": 5,
    "start_time": "2023-11-27T12:47:28.476Z"
   },
   {
    "duration": 4,
    "start_time": "2023-11-27T12:47:28.482Z"
   },
   {
    "duration": 3,
    "start_time": "2023-11-27T12:47:28.488Z"
   },
   {
    "duration": 486,
    "start_time": "2023-11-27T12:48:20.245Z"
   },
   {
    "duration": 22,
    "start_time": "2023-11-27T12:48:20.733Z"
   },
   {
    "duration": 36,
    "start_time": "2023-11-27T12:48:20.756Z"
   },
   {
    "duration": 18,
    "start_time": "2023-11-27T12:48:20.793Z"
   },
   {
    "duration": 55,
    "start_time": "2023-11-27T12:48:20.813Z"
   },
   {
    "duration": 4,
    "start_time": "2023-11-27T12:48:20.869Z"
   },
   {
    "duration": 21,
    "start_time": "2023-11-27T12:48:20.875Z"
   },
   {
    "duration": 23,
    "start_time": "2023-11-27T12:48:20.897Z"
   },
   {
    "duration": 25,
    "start_time": "2023-11-27T12:48:20.922Z"
   },
   {
    "duration": 18,
    "start_time": "2023-11-27T12:48:20.949Z"
   },
   {
    "duration": 45,
    "start_time": "2023-11-27T12:48:20.968Z"
   },
   {
    "duration": 10,
    "start_time": "2023-11-27T12:48:21.014Z"
   },
   {
    "duration": 20,
    "start_time": "2023-11-27T12:48:21.025Z"
   },
   {
    "duration": 22,
    "start_time": "2023-11-27T12:48:21.048Z"
   },
   {
    "duration": 43,
    "start_time": "2023-11-27T12:48:21.071Z"
   },
   {
    "duration": 20,
    "start_time": "2023-11-27T12:48:21.116Z"
   },
   {
    "duration": 26,
    "start_time": "2023-11-27T12:48:21.138Z"
   },
   {
    "duration": 36,
    "start_time": "2023-11-27T12:48:21.166Z"
   },
   {
    "duration": 27,
    "start_time": "2023-11-27T12:48:21.204Z"
   },
   {
    "duration": 28,
    "start_time": "2023-11-27T12:48:21.233Z"
   },
   {
    "duration": 43,
    "start_time": "2023-11-27T12:48:21.263Z"
   },
   {
    "duration": 25,
    "start_time": "2023-11-27T12:48:21.308Z"
   },
   {
    "duration": 34,
    "start_time": "2023-11-27T12:48:21.334Z"
   },
   {
    "duration": 41,
    "start_time": "2023-11-27T12:48:21.369Z"
   },
   {
    "duration": 27,
    "start_time": "2023-11-27T12:48:21.412Z"
   },
   {
    "duration": 13,
    "start_time": "2023-11-27T12:51:28.272Z"
   },
   {
    "duration": 11,
    "start_time": "2023-11-27T12:51:41.699Z"
   },
   {
    "duration": 19,
    "start_time": "2023-11-27T12:54:52.479Z"
   },
   {
    "duration": 16,
    "start_time": "2023-11-27T12:55:18.508Z"
   },
   {
    "duration": 11,
    "start_time": "2023-11-27T12:57:50.510Z"
   },
   {
    "duration": 61,
    "start_time": "2023-11-27T13:01:18.589Z"
   },
   {
    "duration": 16,
    "start_time": "2023-11-27T13:01:40.536Z"
   },
   {
    "duration": 17,
    "start_time": "2023-11-27T13:11:40.979Z"
   },
   {
    "duration": 22,
    "start_time": "2023-11-27T13:54:34.683Z"
   },
   {
    "duration": 20,
    "start_time": "2023-11-27T13:55:58.589Z"
   },
   {
    "duration": 20,
    "start_time": "2023-11-27T13:56:26.447Z"
   },
   {
    "duration": 19,
    "start_time": "2023-11-27T13:56:39.715Z"
   },
   {
    "duration": 52,
    "start_time": "2023-12-02T20:35:11.162Z"
   },
   {
    "duration": 7,
    "start_time": "2023-12-02T20:35:59.897Z"
   },
   {
    "duration": 689,
    "start_time": "2023-12-02T20:36:06.565Z"
   },
   {
    "duration": 33,
    "start_time": "2023-12-02T20:36:07.256Z"
   },
   {
    "duration": 27,
    "start_time": "2023-12-02T20:36:07.292Z"
   },
   {
    "duration": 17,
    "start_time": "2023-12-02T20:36:07.321Z"
   },
   {
    "duration": 49,
    "start_time": "2023-12-02T20:36:07.340Z"
   },
   {
    "duration": 3,
    "start_time": "2023-12-02T20:36:07.391Z"
   },
   {
    "duration": 32,
    "start_time": "2023-12-02T20:36:07.396Z"
   },
   {
    "duration": 6,
    "start_time": "2023-12-02T20:36:07.430Z"
   },
   {
    "duration": 31,
    "start_time": "2023-12-02T20:36:07.438Z"
   },
   {
    "duration": 8,
    "start_time": "2023-12-02T20:36:07.471Z"
   },
   {
    "duration": 47,
    "start_time": "2023-12-02T20:36:07.481Z"
   },
   {
    "duration": 11,
    "start_time": "2023-12-02T20:36:07.530Z"
   },
   {
    "duration": 12,
    "start_time": "2023-12-02T20:36:07.542Z"
   },
   {
    "duration": 29,
    "start_time": "2023-12-02T20:36:07.556Z"
   },
   {
    "duration": 28,
    "start_time": "2023-12-02T20:36:07.588Z"
   },
   {
    "duration": 19,
    "start_time": "2023-12-02T20:36:07.618Z"
   },
   {
    "duration": 4,
    "start_time": "2023-12-02T20:36:07.638Z"
   },
   {
    "duration": 56,
    "start_time": "2023-12-02T20:36:07.644Z"
   },
   {
    "duration": 22,
    "start_time": "2023-12-02T20:36:07.702Z"
   },
   {
    "duration": 15,
    "start_time": "2023-12-02T20:36:07.726Z"
   },
   {
    "duration": 36,
    "start_time": "2023-12-02T20:36:07.743Z"
   },
   {
    "duration": 25,
    "start_time": "2023-12-02T20:36:07.781Z"
   },
   {
    "duration": 24,
    "start_time": "2023-12-02T20:36:07.808Z"
   },
   {
    "duration": 3,
    "start_time": "2023-12-02T20:36:07.834Z"
   },
   {
    "duration": 8,
    "start_time": "2023-12-02T20:36:07.839Z"
   },
   {
    "duration": 1254,
    "start_time": "2023-12-02T20:41:20.976Z"
   },
   {
    "duration": 1103,
    "start_time": "2023-12-02T20:41:34.010Z"
   },
   {
    "duration": 25,
    "start_time": "2023-12-02T20:43:14.966Z"
   },
   {
    "duration": 31,
    "start_time": "2023-12-02T20:43:29.010Z"
   },
   {
    "duration": 30,
    "start_time": "2023-12-02T20:53:27.099Z"
   },
   {
    "duration": 25,
    "start_time": "2023-12-02T20:54:03.211Z"
   },
   {
    "duration": 27,
    "start_time": "2023-12-02T20:54:14.075Z"
   },
   {
    "duration": 38,
    "start_time": "2023-12-02T20:54:53.195Z"
   },
   {
    "duration": 23,
    "start_time": "2023-12-02T20:55:16.564Z"
   },
   {
    "duration": 26,
    "start_time": "2023-12-02T20:56:55.934Z"
   },
   {
    "duration": 25,
    "start_time": "2023-12-02T20:57:23.211Z"
   },
   {
    "duration": 21,
    "start_time": "2023-12-02T20:57:54.285Z"
   },
   {
    "duration": 22,
    "start_time": "2023-12-02T20:58:02.361Z"
   },
   {
    "duration": 23,
    "start_time": "2023-12-02T20:58:08.910Z"
   },
   {
    "duration": 24,
    "start_time": "2023-12-02T20:58:17.716Z"
   },
   {
    "duration": 25,
    "start_time": "2023-12-02T20:58:44.848Z"
   },
   {
    "duration": 25,
    "start_time": "2023-12-02T21:00:14.125Z"
   },
   {
    "duration": 22,
    "start_time": "2023-12-02T21:01:22.258Z"
   },
   {
    "duration": 16,
    "start_time": "2023-12-02T21:20:57.488Z"
   },
   {
    "duration": 27,
    "start_time": "2023-12-02T21:21:25.762Z"
   },
   {
    "duration": 19,
    "start_time": "2023-12-02T21:43:00.980Z"
   },
   {
    "duration": 25,
    "start_time": "2023-12-02T22:08:51.008Z"
   },
   {
    "duration": 16,
    "start_time": "2023-12-02T22:20:34.731Z"
   },
   {
    "duration": 34,
    "start_time": "2023-12-02T22:23:42.016Z"
   },
   {
    "duration": 29,
    "start_time": "2023-12-02T22:26:02.090Z"
   },
   {
    "duration": 31,
    "start_time": "2023-12-02T22:28:11.868Z"
   },
   {
    "duration": 30,
    "start_time": "2023-12-02T22:28:20.553Z"
   },
   {
    "duration": 32,
    "start_time": "2023-12-02T22:28:42.762Z"
   },
   {
    "duration": 723,
    "start_time": "2023-12-03T17:47:27.708Z"
   },
   {
    "duration": 22,
    "start_time": "2023-12-03T17:47:28.434Z"
   },
   {
    "duration": 16,
    "start_time": "2023-12-03T17:47:28.457Z"
   },
   {
    "duration": 10,
    "start_time": "2023-12-03T17:47:28.475Z"
   },
   {
    "duration": 49,
    "start_time": "2023-12-03T17:47:28.486Z"
   },
   {
    "duration": 3,
    "start_time": "2023-12-03T17:47:28.537Z"
   },
   {
    "duration": 11,
    "start_time": "2023-12-03T17:47:28.541Z"
   },
   {
    "duration": 6,
    "start_time": "2023-12-03T17:47:28.553Z"
   },
   {
    "duration": 9,
    "start_time": "2023-12-03T17:47:28.560Z"
   },
   {
    "duration": 26,
    "start_time": "2023-12-03T17:47:28.572Z"
   },
   {
    "duration": 37,
    "start_time": "2023-12-03T17:47:28.599Z"
   },
   {
    "duration": 11,
    "start_time": "2023-12-03T17:47:28.637Z"
   },
   {
    "duration": 9,
    "start_time": "2023-12-03T17:47:28.649Z"
   },
   {
    "duration": 14,
    "start_time": "2023-12-03T17:47:28.659Z"
   },
   {
    "duration": 20,
    "start_time": "2023-12-03T17:47:28.674Z"
   },
   {
    "duration": 35,
    "start_time": "2023-12-03T17:47:28.695Z"
   },
   {
    "duration": 3,
    "start_time": "2023-12-03T17:47:28.732Z"
   },
   {
    "duration": 16,
    "start_time": "2023-12-03T17:47:28.736Z"
   },
   {
    "duration": 9,
    "start_time": "2023-12-03T17:47:28.754Z"
   },
   {
    "duration": 3,
    "start_time": "2023-12-03T17:47:28.764Z"
   },
   {
    "duration": 28,
    "start_time": "2023-12-03T17:47:28.769Z"
   },
   {
    "duration": 33,
    "start_time": "2023-12-03T17:47:28.798Z"
   },
   {
    "duration": 21,
    "start_time": "2023-12-03T17:47:28.832Z"
   },
   {
    "duration": 82,
    "start_time": "2023-12-03T17:47:28.855Z"
   },
   {
    "duration": 0,
    "start_time": "2023-12-03T17:47:28.938Z"
   },
   {
    "duration": 31,
    "start_time": "2023-12-03T17:48:18.160Z"
   },
   {
    "duration": 32,
    "start_time": "2023-12-03T17:49:08.845Z"
   },
   {
    "duration": 32,
    "start_time": "2023-12-03T17:49:23.978Z"
   },
   {
    "duration": 31,
    "start_time": "2023-12-03T17:50:48.342Z"
   },
   {
    "duration": 5,
    "start_time": "2023-12-03T17:54:44.817Z"
   },
   {
    "duration": 14,
    "start_time": "2023-12-03T17:55:04.806Z"
   },
   {
    "duration": 14,
    "start_time": "2023-12-03T17:55:22.225Z"
   },
   {
    "duration": 14,
    "start_time": "2023-12-03T17:55:39.108Z"
   },
   {
    "duration": 18,
    "start_time": "2023-12-03T17:56:41.315Z"
   },
   {
    "duration": 9,
    "start_time": "2023-12-03T17:57:25.453Z"
   },
   {
    "duration": 7,
    "start_time": "2023-12-03T18:11:05.423Z"
   },
   {
    "duration": 21,
    "start_time": "2023-12-03T18:11:12.768Z"
   },
   {
    "duration": 437,
    "start_time": "2023-12-04T05:06:39.115Z"
   },
   {
    "duration": 19,
    "start_time": "2023-12-04T05:06:39.553Z"
   },
   {
    "duration": 18,
    "start_time": "2023-12-04T05:06:39.573Z"
   },
   {
    "duration": 7,
    "start_time": "2023-12-04T05:06:39.592Z"
   },
   {
    "duration": 32,
    "start_time": "2023-12-04T05:06:39.601Z"
   },
   {
    "duration": 3,
    "start_time": "2023-12-04T05:06:39.634Z"
   },
   {
    "duration": 11,
    "start_time": "2023-12-04T05:06:39.638Z"
   },
   {
    "duration": 3,
    "start_time": "2023-12-04T05:06:39.650Z"
   },
   {
    "duration": 15,
    "start_time": "2023-12-04T05:06:39.654Z"
   },
   {
    "duration": 8,
    "start_time": "2023-12-04T05:06:39.670Z"
   },
   {
    "duration": 36,
    "start_time": "2023-12-04T05:06:39.679Z"
   },
   {
    "duration": 7,
    "start_time": "2023-12-04T05:06:39.716Z"
   },
   {
    "duration": 7,
    "start_time": "2023-12-04T05:06:39.724Z"
   },
   {
    "duration": 9,
    "start_time": "2023-12-04T05:06:39.733Z"
   },
   {
    "duration": 17,
    "start_time": "2023-12-04T05:06:39.743Z"
   },
   {
    "duration": 14,
    "start_time": "2023-12-04T05:06:39.761Z"
   },
   {
    "duration": 3,
    "start_time": "2023-12-04T05:06:39.776Z"
   },
   {
    "duration": 12,
    "start_time": "2023-12-04T05:06:39.780Z"
   },
   {
    "duration": 22,
    "start_time": "2023-12-04T05:06:39.793Z"
   },
   {
    "duration": 2,
    "start_time": "2023-12-04T05:06:39.817Z"
   },
   {
    "duration": 10,
    "start_time": "2023-12-04T05:06:39.820Z"
   },
   {
    "duration": 15,
    "start_time": "2023-12-04T05:06:39.832Z"
   },
   {
    "duration": 18,
    "start_time": "2023-12-04T05:06:39.848Z"
   },
   {
    "duration": 23,
    "start_time": "2023-12-04T05:06:39.867Z"
   },
   {
    "duration": 35,
    "start_time": "2023-12-04T05:06:39.891Z"
   },
   {
    "duration": 80,
    "start_time": "2023-12-04T05:06:59.363Z"
   },
   {
    "duration": 445,
    "start_time": "2023-12-06T06:55:05.002Z"
   },
   {
    "duration": 22,
    "start_time": "2023-12-06T06:55:05.449Z"
   },
   {
    "duration": 21,
    "start_time": "2023-12-06T06:55:05.473Z"
   },
   {
    "duration": 42,
    "start_time": "2023-12-06T06:55:05.496Z"
   },
   {
    "duration": 41,
    "start_time": "2023-12-06T06:55:05.539Z"
   },
   {
    "duration": 3,
    "start_time": "2023-12-06T06:55:05.582Z"
   },
   {
    "duration": 32,
    "start_time": "2023-12-06T06:55:05.586Z"
   },
   {
    "duration": 22,
    "start_time": "2023-12-06T06:55:05.619Z"
   },
   {
    "duration": 23,
    "start_time": "2023-12-06T06:55:05.642Z"
   },
   {
    "duration": 24,
    "start_time": "2023-12-06T06:55:05.667Z"
   },
   {
    "duration": 60,
    "start_time": "2023-12-06T06:55:05.692Z"
   },
   {
    "duration": 11,
    "start_time": "2023-12-06T06:55:05.754Z"
   },
   {
    "duration": 29,
    "start_time": "2023-12-06T06:55:05.766Z"
   },
   {
    "duration": 33,
    "start_time": "2023-12-06T06:55:05.797Z"
   },
   {
    "duration": 38,
    "start_time": "2023-12-06T06:55:05.832Z"
   },
   {
    "duration": 17,
    "start_time": "2023-12-06T06:55:05.872Z"
   },
   {
    "duration": 6,
    "start_time": "2023-12-06T06:55:05.891Z"
   },
   {
    "duration": 36,
    "start_time": "2023-12-06T06:55:05.899Z"
   },
   {
    "duration": 14,
    "start_time": "2023-12-06T06:55:05.936Z"
   },
   {
    "duration": 10,
    "start_time": "2023-12-06T06:55:05.952Z"
   },
   {
    "duration": 23,
    "start_time": "2023-12-06T06:55:05.964Z"
   },
   {
    "duration": 24,
    "start_time": "2023-12-06T06:55:05.988Z"
   },
   {
    "duration": 21,
    "start_time": "2023-12-06T06:55:06.013Z"
   },
   {
    "duration": 32,
    "start_time": "2023-12-06T06:55:06.036Z"
   },
   {
    "duration": 18,
    "start_time": "2023-12-06T06:55:06.070Z"
   }
  ],
  "colab": {
   "name": "dpp_template_part2.ipynb",
   "provenance": []
  },
  "kernelspec": {
   "display_name": "Python 3 (ipykernel)",
   "language": "python",
   "name": "python3"
  },
  "language_info": {
   "codemirror_mode": {
    "name": "ipython",
    "version": 3
   },
   "file_extension": ".py",
   "mimetype": "text/x-python",
   "name": "python",
   "nbconvert_exporter": "python",
   "pygments_lexer": "ipython3",
   "version": "3.9.5"
  },
  "toc": {
   "base_numbering": 1,
   "nav_menu": {},
   "number_sections": true,
   "sideBar": true,
   "skip_h1_title": true,
   "title_cell": "Table of Contents",
   "title_sidebar": "Contents",
   "toc_cell": false,
   "toc_position": {},
   "toc_section_display": true,
   "toc_window_display": true
  }
 },
 "nbformat": 4,
 "nbformat_minor": 5
}
