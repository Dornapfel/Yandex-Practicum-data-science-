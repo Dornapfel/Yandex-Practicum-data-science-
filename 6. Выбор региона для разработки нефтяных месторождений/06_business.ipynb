{
 "cells": [
  {
   "cell_type": "markdown",
   "metadata": {},
   "source": [
    "# Описание проекта:"
   ]
  },
  {
   "cell_type": "markdown",
   "metadata": {},
   "source": [
    "# Выбор локации для скважины"
   ]
  },
  {
   "cell_type": "markdown",
   "metadata": {},
   "source": [
    "Допустим, вы работаете в добывающей компании «ГлавРосГосНефть». Нужно решить, где бурить новую скважину.\n",
    "\n",
    "Вам предоставлены пробы нефти в трёх регионах: в каждом 10 000 месторождений, где измерили качество нефти и объём её запасов. Постройте модель машинного обучения, которая поможет определить регион, где добыча принесёт наибольшую прибыль. Проанализируйте возможную прибыль и риски техникой *Bootstrap.*\n",
    "\n",
    "Шаги для выбора локации:\n",
    "\n",
    "- В избранном регионе ищут месторождения, для каждого определяют значения признаков;\n",
    "- Строят модель и оценивают объём запасов;\n",
    "- Выбирают месторождения с самым высокими оценками значений. Количество месторождений зависит от бюджета компании и стоимости разработки одной скважины;\n",
    "- Прибыль равна суммарной прибыли отобранных месторождений."
   ]
  },
  {
   "cell_type": "markdown",
   "metadata": {},
   "source": [
    "# Этапы выполнения:\n",
    "\n",
    "1. Загрузите и подготовьте данные. Поясните порядок действий\n",
    "\n",
    "\n",
    "2. Обучите и проверьте модель для каждого региона:\n",
    "- 2.1 Разбейте данные на обучающую и валидационную выборки в соотношении 75:25\n",
    "- 2.2 Обучите модель и сделайте предсказания на валидационной выборке\n",
    "- 2.3 Сохраните предсказания и правильные ответы на валидационной выборке\n",
    "- 2.4 Напечатайте на экране средний запас предсказанного сырья и RMSE модели\n",
    "- 2.5 Проанализируйте результаты\n",
    "\n",
    "3. Подготовьтесь к расчёту прибыли:\n",
    "- 3.1 Все ключевые значения для расчётов сохраните в отдельных переменных\n",
    "- 3.2 Рассчитайте достаточный объём сырья для безубыточной разработки новой скважины. Сравните полученный объём сырья со средним запасом в каждом регионе\n",
    "- 3.3 Напишите выводы по этапу подготовки расчёта прибыли\n",
    "\n",
    "4. Напишите функцию для расчёта прибыли по выбранным скважинам и предсказаниям модели:\n",
    "- 4.1 Выберите скважины с максимальными значениями предсказаний\n",
    "- 4.2 Просуммируйте целевое значение объёма сырья, соответствующее этим предсказаниям\n",
    "- 4.3 Рассчитайте прибыль для полученного объёма сырья\n",
    "\n",
    "5. Посчитайте риски и прибыль для каждого региона:\n",
    "- 5.1 Примените технику Bootstrap с 1000 выборок, чтобы найти распределение прибыли.\n",
    "- 5.2 Найдите среднюю прибыль, 95%-й доверительный интервал и риск убытков. Убыток — это отрицательная прибыль.\n",
    "- 5.3 Напишите выводы: предложите регион для разработки скважин и обоснуйте выбор."
   ]
  },
  {
   "cell_type": "markdown",
   "metadata": {},
   "source": [
    "# Описание данных\n",
    "Данные геологоразведки трёх регионов находятся в файлах: \n",
    "- /datasets/geo_data_0.csv\n",
    "- /datasets/geo_data_1.csv\n",
    "- /datasets/geo_data_2.csv\n",
    "- id — уникальный идентификатор скважины\n",
    "-  f0, f1, f2 — три признака точек (неважно, что они означают, но сами признаки значимы)\n",
    "- product — объём запасов в скважине (тыс. баррелей)"
   ]
  },
  {
   "cell_type": "markdown",
   "metadata": {},
   "source": [
    "## Загрузка и подготовка данных"
   ]
  },
  {
   "cell_type": "markdown",
   "metadata": {},
   "source": [
    "### Импорты:"
   ]
  },
  {
   "cell_type": "code",
   "execution_count": 1,
   "metadata": {},
   "outputs": [],
   "source": [
    "!pip install phik -q\n",
    "import phik"
   ]
  },
  {
   "cell_type": "code",
   "execution_count": 2,
   "metadata": {},
   "outputs": [],
   "source": [
    "import pandas as pd\n",
    "import matplotlib.pyplot as plt\n",
    "import numpy as np\n",
    "import seaborn as sns\n",
    "\n",
    "from sklearn.linear_model import LinearRegression\n",
    "from sklearn.model_selection import train_test_split\n",
    "from sklearn.metrics import mean_absolute_error, r2_score, mean_squared_error"
   ]
  },
  {
   "cell_type": "markdown",
   "metadata": {},
   "source": [
    "### Загрузка данных:"
   ]
  },
  {
   "cell_type": "code",
   "execution_count": 3,
   "metadata": {},
   "outputs": [],
   "source": [
    "data1 = pd.read_csv('/datasets/geo_data_0.csv')\n",
    "data2 = pd.read_csv('/datasets/geo_data_1.csv')\n",
    "data3 = pd.read_csv('/datasets/geo_data_2.csv')"
   ]
  },
  {
   "cell_type": "markdown",
   "metadata": {},
   "source": [
    "### Анализ данных:"
   ]
  },
  {
   "cell_type": "markdown",
   "metadata": {},
   "source": [
    "#### Просмотрим общую информацию:"
   ]
  },
  {
   "cell_type": "code",
   "execution_count": 4,
   "metadata": {},
   "outputs": [
    {
     "name": "stdout",
     "output_type": "stream",
     "text": [
      "<class 'pandas.core.frame.DataFrame'>\n",
      "RangeIndex: 100000 entries, 0 to 99999\n",
      "Data columns (total 5 columns):\n",
      " #   Column   Non-Null Count   Dtype  \n",
      "---  ------   --------------   -----  \n",
      " 0   id       100000 non-null  object \n",
      " 1   f0       100000 non-null  float64\n",
      " 2   f1       100000 non-null  float64\n",
      " 3   f2       100000 non-null  float64\n",
      " 4   product  100000 non-null  float64\n",
      "dtypes: float64(4), object(1)\n",
      "memory usage: 3.8+ MB\n"
     ]
    },
    {
     "data": {
      "text/plain": [
       "None"
      ]
     },
     "metadata": {},
     "output_type": "display_data"
    },
    {
     "name": "stdout",
     "output_type": "stream",
     "text": [
      "<class 'pandas.core.frame.DataFrame'>\n",
      "RangeIndex: 100000 entries, 0 to 99999\n",
      "Data columns (total 5 columns):\n",
      " #   Column   Non-Null Count   Dtype  \n",
      "---  ------   --------------   -----  \n",
      " 0   id       100000 non-null  object \n",
      " 1   f0       100000 non-null  float64\n",
      " 2   f1       100000 non-null  float64\n",
      " 3   f2       100000 non-null  float64\n",
      " 4   product  100000 non-null  float64\n",
      "dtypes: float64(4), object(1)\n",
      "memory usage: 3.8+ MB\n"
     ]
    },
    {
     "data": {
      "text/plain": [
       "None"
      ]
     },
     "metadata": {},
     "output_type": "display_data"
    },
    {
     "name": "stdout",
     "output_type": "stream",
     "text": [
      "<class 'pandas.core.frame.DataFrame'>\n",
      "RangeIndex: 100000 entries, 0 to 99999\n",
      "Data columns (total 5 columns):\n",
      " #   Column   Non-Null Count   Dtype  \n",
      "---  ------   --------------   -----  \n",
      " 0   id       100000 non-null  object \n",
      " 1   f0       100000 non-null  float64\n",
      " 2   f1       100000 non-null  float64\n",
      " 3   f2       100000 non-null  float64\n",
      " 4   product  100000 non-null  float64\n",
      "dtypes: float64(4), object(1)\n",
      "memory usage: 3.8+ MB\n"
     ]
    },
    {
     "data": {
      "text/plain": [
       "None"
      ]
     },
     "metadata": {},
     "output_type": "display_data"
    }
   ],
   "source": [
    "display(data1.info())\n",
    "display(data2.info())\n",
    "display(data3.info())"
   ]
  },
  {
   "cell_type": "markdown",
   "metadata": {},
   "source": [
    "Все данные - подходящих типов"
   ]
  },
  {
   "cell_type": "markdown",
   "metadata": {},
   "source": [
    "Пропусков нет, можно не беспокоиться о них"
   ]
  },
  {
   "cell_type": "code",
   "execution_count": 5,
   "metadata": {},
   "outputs": [
    {
     "data": {
      "text/html": [
       "<div>\n",
       "<style scoped>\n",
       "    .dataframe tbody tr th:only-of-type {\n",
       "        vertical-align: middle;\n",
       "    }\n",
       "\n",
       "    .dataframe tbody tr th {\n",
       "        vertical-align: top;\n",
       "    }\n",
       "\n",
       "    .dataframe thead th {\n",
       "        text-align: right;\n",
       "    }\n",
       "</style>\n",
       "<table border=\"1\" class=\"dataframe\">\n",
       "  <thead>\n",
       "    <tr style=\"text-align: right;\">\n",
       "      <th></th>\n",
       "      <th>f0</th>\n",
       "      <th>f1</th>\n",
       "      <th>f2</th>\n",
       "      <th>product</th>\n",
       "    </tr>\n",
       "  </thead>\n",
       "  <tbody>\n",
       "    <tr>\n",
       "      <th>count</th>\n",
       "      <td>100000.000000</td>\n",
       "      <td>100000.000000</td>\n",
       "      <td>100000.000000</td>\n",
       "      <td>100000.000000</td>\n",
       "    </tr>\n",
       "    <tr>\n",
       "      <th>mean</th>\n",
       "      <td>0.500419</td>\n",
       "      <td>0.250143</td>\n",
       "      <td>2.502647</td>\n",
       "      <td>92.500000</td>\n",
       "    </tr>\n",
       "    <tr>\n",
       "      <th>std</th>\n",
       "      <td>0.871832</td>\n",
       "      <td>0.504433</td>\n",
       "      <td>3.248248</td>\n",
       "      <td>44.288691</td>\n",
       "    </tr>\n",
       "    <tr>\n",
       "      <th>min</th>\n",
       "      <td>-1.408605</td>\n",
       "      <td>-0.848218</td>\n",
       "      <td>-12.088328</td>\n",
       "      <td>0.000000</td>\n",
       "    </tr>\n",
       "    <tr>\n",
       "      <th>25%</th>\n",
       "      <td>-0.072580</td>\n",
       "      <td>-0.200881</td>\n",
       "      <td>0.287748</td>\n",
       "      <td>56.497507</td>\n",
       "    </tr>\n",
       "    <tr>\n",
       "      <th>50%</th>\n",
       "      <td>0.502360</td>\n",
       "      <td>0.250252</td>\n",
       "      <td>2.515969</td>\n",
       "      <td>91.849972</td>\n",
       "    </tr>\n",
       "    <tr>\n",
       "      <th>75%</th>\n",
       "      <td>1.073581</td>\n",
       "      <td>0.700646</td>\n",
       "      <td>4.715088</td>\n",
       "      <td>128.564089</td>\n",
       "    </tr>\n",
       "    <tr>\n",
       "      <th>max</th>\n",
       "      <td>2.362331</td>\n",
       "      <td>1.343769</td>\n",
       "      <td>16.003790</td>\n",
       "      <td>185.364347</td>\n",
       "    </tr>\n",
       "  </tbody>\n",
       "</table>\n",
       "</div>"
      ],
      "text/plain": [
       "                  f0             f1             f2        product\n",
       "count  100000.000000  100000.000000  100000.000000  100000.000000\n",
       "mean        0.500419       0.250143       2.502647      92.500000\n",
       "std         0.871832       0.504433       3.248248      44.288691\n",
       "min        -1.408605      -0.848218     -12.088328       0.000000\n",
       "25%        -0.072580      -0.200881       0.287748      56.497507\n",
       "50%         0.502360       0.250252       2.515969      91.849972\n",
       "75%         1.073581       0.700646       4.715088     128.564089\n",
       "max         2.362331       1.343769      16.003790     185.364347"
      ]
     },
     "metadata": {},
     "output_type": "display_data"
    },
    {
     "data": {
      "text/html": [
       "<div>\n",
       "<style scoped>\n",
       "    .dataframe tbody tr th:only-of-type {\n",
       "        vertical-align: middle;\n",
       "    }\n",
       "\n",
       "    .dataframe tbody tr th {\n",
       "        vertical-align: top;\n",
       "    }\n",
       "\n",
       "    .dataframe thead th {\n",
       "        text-align: right;\n",
       "    }\n",
       "</style>\n",
       "<table border=\"1\" class=\"dataframe\">\n",
       "  <thead>\n",
       "    <tr style=\"text-align: right;\">\n",
       "      <th></th>\n",
       "      <th>f0</th>\n",
       "      <th>f1</th>\n",
       "      <th>f2</th>\n",
       "      <th>product</th>\n",
       "    </tr>\n",
       "  </thead>\n",
       "  <tbody>\n",
       "    <tr>\n",
       "      <th>count</th>\n",
       "      <td>100000.000000</td>\n",
       "      <td>100000.000000</td>\n",
       "      <td>100000.000000</td>\n",
       "      <td>100000.000000</td>\n",
       "    </tr>\n",
       "    <tr>\n",
       "      <th>mean</th>\n",
       "      <td>1.141296</td>\n",
       "      <td>-4.796579</td>\n",
       "      <td>2.494541</td>\n",
       "      <td>68.825000</td>\n",
       "    </tr>\n",
       "    <tr>\n",
       "      <th>std</th>\n",
       "      <td>8.965932</td>\n",
       "      <td>5.119872</td>\n",
       "      <td>1.703572</td>\n",
       "      <td>45.944423</td>\n",
       "    </tr>\n",
       "    <tr>\n",
       "      <th>min</th>\n",
       "      <td>-31.609576</td>\n",
       "      <td>-26.358598</td>\n",
       "      <td>-0.018144</td>\n",
       "      <td>0.000000</td>\n",
       "    </tr>\n",
       "    <tr>\n",
       "      <th>25%</th>\n",
       "      <td>-6.298551</td>\n",
       "      <td>-8.267985</td>\n",
       "      <td>1.000021</td>\n",
       "      <td>26.953261</td>\n",
       "    </tr>\n",
       "    <tr>\n",
       "      <th>50%</th>\n",
       "      <td>1.153055</td>\n",
       "      <td>-4.813172</td>\n",
       "      <td>2.011479</td>\n",
       "      <td>57.085625</td>\n",
       "    </tr>\n",
       "    <tr>\n",
       "      <th>75%</th>\n",
       "      <td>8.621015</td>\n",
       "      <td>-1.332816</td>\n",
       "      <td>3.999904</td>\n",
       "      <td>107.813044</td>\n",
       "    </tr>\n",
       "    <tr>\n",
       "      <th>max</th>\n",
       "      <td>29.421755</td>\n",
       "      <td>18.734063</td>\n",
       "      <td>5.019721</td>\n",
       "      <td>137.945408</td>\n",
       "    </tr>\n",
       "  </tbody>\n",
       "</table>\n",
       "</div>"
      ],
      "text/plain": [
       "                  f0             f1             f2        product\n",
       "count  100000.000000  100000.000000  100000.000000  100000.000000\n",
       "mean        1.141296      -4.796579       2.494541      68.825000\n",
       "std         8.965932       5.119872       1.703572      45.944423\n",
       "min       -31.609576     -26.358598      -0.018144       0.000000\n",
       "25%        -6.298551      -8.267985       1.000021      26.953261\n",
       "50%         1.153055      -4.813172       2.011479      57.085625\n",
       "75%         8.621015      -1.332816       3.999904     107.813044\n",
       "max        29.421755      18.734063       5.019721     137.945408"
      ]
     },
     "metadata": {},
     "output_type": "display_data"
    },
    {
     "data": {
      "text/html": [
       "<div>\n",
       "<style scoped>\n",
       "    .dataframe tbody tr th:only-of-type {\n",
       "        vertical-align: middle;\n",
       "    }\n",
       "\n",
       "    .dataframe tbody tr th {\n",
       "        vertical-align: top;\n",
       "    }\n",
       "\n",
       "    .dataframe thead th {\n",
       "        text-align: right;\n",
       "    }\n",
       "</style>\n",
       "<table border=\"1\" class=\"dataframe\">\n",
       "  <thead>\n",
       "    <tr style=\"text-align: right;\">\n",
       "      <th></th>\n",
       "      <th>f0</th>\n",
       "      <th>f1</th>\n",
       "      <th>f2</th>\n",
       "      <th>product</th>\n",
       "    </tr>\n",
       "  </thead>\n",
       "  <tbody>\n",
       "    <tr>\n",
       "      <th>count</th>\n",
       "      <td>100000.000000</td>\n",
       "      <td>100000.000000</td>\n",
       "      <td>100000.000000</td>\n",
       "      <td>100000.000000</td>\n",
       "    </tr>\n",
       "    <tr>\n",
       "      <th>mean</th>\n",
       "      <td>0.002023</td>\n",
       "      <td>-0.002081</td>\n",
       "      <td>2.495128</td>\n",
       "      <td>95.000000</td>\n",
       "    </tr>\n",
       "    <tr>\n",
       "      <th>std</th>\n",
       "      <td>1.732045</td>\n",
       "      <td>1.730417</td>\n",
       "      <td>3.473445</td>\n",
       "      <td>44.749921</td>\n",
       "    </tr>\n",
       "    <tr>\n",
       "      <th>min</th>\n",
       "      <td>-8.760004</td>\n",
       "      <td>-7.084020</td>\n",
       "      <td>-11.970335</td>\n",
       "      <td>0.000000</td>\n",
       "    </tr>\n",
       "    <tr>\n",
       "      <th>25%</th>\n",
       "      <td>-1.162288</td>\n",
       "      <td>-1.174820</td>\n",
       "      <td>0.130359</td>\n",
       "      <td>59.450441</td>\n",
       "    </tr>\n",
       "    <tr>\n",
       "      <th>50%</th>\n",
       "      <td>0.009424</td>\n",
       "      <td>-0.009482</td>\n",
       "      <td>2.484236</td>\n",
       "      <td>94.925613</td>\n",
       "    </tr>\n",
       "    <tr>\n",
       "      <th>75%</th>\n",
       "      <td>1.158535</td>\n",
       "      <td>1.163678</td>\n",
       "      <td>4.858794</td>\n",
       "      <td>130.595027</td>\n",
       "    </tr>\n",
       "    <tr>\n",
       "      <th>max</th>\n",
       "      <td>7.238262</td>\n",
       "      <td>7.844801</td>\n",
       "      <td>16.739402</td>\n",
       "      <td>190.029838</td>\n",
       "    </tr>\n",
       "  </tbody>\n",
       "</table>\n",
       "</div>"
      ],
      "text/plain": [
       "                  f0             f1             f2        product\n",
       "count  100000.000000  100000.000000  100000.000000  100000.000000\n",
       "mean        0.002023      -0.002081       2.495128      95.000000\n",
       "std         1.732045       1.730417       3.473445      44.749921\n",
       "min        -8.760004      -7.084020     -11.970335       0.000000\n",
       "25%        -1.162288      -1.174820       0.130359      59.450441\n",
       "50%         0.009424      -0.009482       2.484236      94.925613\n",
       "75%         1.158535       1.163678       4.858794     130.595027\n",
       "max         7.238262       7.844801      16.739402     190.029838"
      ]
     },
     "metadata": {},
     "output_type": "display_data"
    }
   ],
   "source": [
    "display(data1.describe())\n",
    "display(data2.describe())\n",
    "display(data3.describe())"
   ]
  },
  {
   "cell_type": "code",
   "execution_count": 6,
   "metadata": {},
   "outputs": [
    {
     "data": {
      "text/plain": [
       "id          99990\n",
       "f0         100000\n",
       "f1         100000\n",
       "f2         100000\n",
       "product    100000\n",
       "dtype: int64"
      ]
     },
     "metadata": {},
     "output_type": "display_data"
    },
    {
     "data": {
      "text/plain": [
       "id          99996\n",
       "f0         100000\n",
       "f1         100000\n",
       "f2         100000\n",
       "product        12\n",
       "dtype: int64"
      ]
     },
     "metadata": {},
     "output_type": "display_data"
    },
    {
     "data": {
      "text/plain": [
       "id          99996\n",
       "f0         100000\n",
       "f1         100000\n",
       "f2         100000\n",
       "product    100000\n",
       "dtype: int64"
      ]
     },
     "metadata": {},
     "output_type": "display_data"
    }
   ],
   "source": [
    "display(data1.nunique())\n",
    "display(data2.nunique())\n",
    "display(data3.nunique())"
   ]
  },
  {
   "cell_type": "markdown",
   "metadata": {},
   "source": [
    "#### Проверим дубликаты:"
   ]
  },
  {
   "cell_type": "code",
   "execution_count": 7,
   "metadata": {},
   "outputs": [
    {
     "name": "stdout",
     "output_type": "stream",
     "text": [
      "Дубликаты в data1: 0\n",
      "Дубликаты в data2: 0\n",
      "Дубликаты в data3: 0\n"
     ]
    }
   ],
   "source": [
    "print('Дубликаты в data1:',data1.duplicated().sum())\n",
    "print('Дубликаты в data2:',data2.duplicated().sum())\n",
    "print('Дубликаты в data3:',data3.duplicated().sum())"
   ]
  },
  {
   "cell_type": "markdown",
   "metadata": {},
   "source": [
    "#### Удалим столбцы id:"
   ]
  },
  {
   "cell_type": "code",
   "execution_count": 8,
   "metadata": {},
   "outputs": [],
   "source": [
    "data1 = data1.drop(['id'], axis=1)\n",
    "data2 = data2.drop(['id'], axis=1)\n",
    "data3 = data3.drop(['id'], axis=1)"
   ]
  },
  {
   "cell_type": "markdown",
   "metadata": {},
   "source": [
    "#### Напишем функцию для выведения матриц корреляции:"
   ]
  },
  {
   "cell_type": "code",
   "execution_count": 9,
   "metadata": {},
   "outputs": [],
   "source": [
    "# Вычисление матриц корреляции с использованием phik\n",
    "def corr_matrix(data):\n",
    "    corr_matrix = data.phik_matrix()\n",
    "    plt.figure(figsize=(10, 8))\n",
    "    sns.heatmap(corr_matrix, annot=True, cmap='coolwarm')\n",
    "    plt.title('Матрица корреляции PhiK')\n",
    "    plt.show()"
   ]
  },
  {
   "cell_type": "code",
   "execution_count": 10,
   "metadata": {},
   "outputs": [
    {
     "name": "stdout",
     "output_type": "stream",
     "text": [
      "interval columns not set, guessing: ['f0', 'f1', 'f2', 'product']\n"
     ]
    },
    {
     "data": {
      "image/png": "[encoded data removed]",
      "text/plain": [
       "<Figure size 720x576 with 2 Axes>"
      ]
     },
     "metadata": {
      "needs_background": "light"
     },
     "output_type": "display_data"
    }
   ],
   "source": [
    "corr_matrix(data1)"
   ]
  },
  {
   "cell_type": "code",
   "execution_count": 11,
   "metadata": {},
   "outputs": [
    {
     "name": "stdout",
     "output_type": "stream",
     "text": [
      "interval columns not set, guessing: ['f0', 'f1', 'f2', 'product']\n"
     ]
    },
    {
     "data": {
      "image/png": "[encoded data removed]",
      "text/plain": [
       "<Figure size 720x576 with 2 Axes>"
      ]
     },
     "metadata": {
      "needs_background": "light"
     },
     "output_type": "display_data"
    }
   ],
   "source": [
    "corr_matrix(data2)"
   ]
  },
  {
   "cell_type": "code",
   "execution_count": 12,
   "metadata": {},
   "outputs": [
    {
     "name": "stdout",
     "output_type": "stream",
     "text": [
      "interval columns not set, guessing: ['f0', 'f1', 'f2', 'product']\n"
     ]
    },
    {
     "data": {
      "image/png": "[encoded data removed]",
      "text/plain": [
       "<Figure size 720x576 with 2 Axes>"
      ]
     },
     "metadata": {
      "needs_background": "light"
     },
     "output_type": "display_data"
    }
   ],
   "source": [
    "corr_matrix(data3)"
   ]
  },
  {
   "cell_type": "markdown",
   "metadata": {},
   "source": [
    "1. Видим аномально высокий уровень корреляции f2 и product, равный 0.98 в датасете data2\n",
    "2. В data1 и data3 корреляция между этими признаками тоже относительно высокая и равна 0.48 и 0.44 соответственно\n",
    "\n",
    "Данные особенности, скорее всего, могут мешать обучению"
   ]
  },
  {
   "cell_type": "markdown",
   "metadata": {},
   "source": [
    "#### Стоит посмотреть на распределение залежей по регионам:"
   ]
  },
  {
   "cell_type": "code",
   "execution_count": 13,
   "metadata": {},
   "outputs": [
    {
     "data": {
      "image/png": "[encoded data removed]",
      "text/plain": [
       "<Figure size 504x360 with 1 Axes>"
      ]
     },
     "metadata": {
      "needs_background": "light"
     },
     "output_type": "display_data"
    }
   ],
   "source": [
    "# Данные\n",
    "regions = ['Регион 1', 'Регион 2', 'Регион 3']\n",
    "sum_product = [92.500000, 68.825000, 95.000000]\n",
    "\n",
    "# Создание столбчатой диаграммы\n",
    "plt.figure(figsize=(7, 5))\n",
    "plt.bar(regions, sum_product, color=['blue', 'orange', 'green'])\n",
    "\n",
    "# Настройка осей и заголовка\n",
    "plt.ylabel('Сумма значений product')\n",
    "plt.title('Распределение суммы значений product в каждом регионе')\n",
    "\n",
    "# Отображение значений над столбцами\n",
    "for i, value in enumerate(sum_product):\n",
    "    plt.text(i, value, str(round(value, 2)), ha='center', va='bottom')\n",
    "\n",
    "# Отображение графика\n",
    "plt.show()"
   ]
  },
  {
   "cell_type": "markdown",
   "metadata": {},
   "source": [
    "Регион 2(data2) показывает сильно отличающийся от других двух регионов объём залежей"
   ]
  },
  {
   "cell_type": "markdown",
   "metadata": {},
   "source": [
    "# Выводы:\n",
    "1. Данные подготовлены, пропусков и дублей нет, формат данных нормальный\n",
    "2. Категориальных данных никаких нет\n",
    "3. 1 и 3 регионы располагают большими залежами, чем 2\n",
    "4. Интересный момент по региону #1 - данные по всей видимости как-то разбиты на категории - там всего всего 12 значений в колонке product и всвязи с этим могут возникнуть трудности"
   ]
  },
  {
   "cell_type": "markdown",
   "metadata": {},
   "source": [
    "## Обучение и проверка модели"
   ]
  },
  {
   "cell_type": "markdown",
   "metadata": {},
   "source": [
    "Обучите и проверьте модель для каждого региона:\n",
    "- 2.1 Разбейте данные на обучающую и валидационную выборки в соотношении 75:25\n",
    "- 2.2 Обучите модель и сделайте предсказания на валидационной выборке\n",
    "- 2.3 Сохраните предсказания и правильные ответы на валидационной выборке\n",
    "- 2.4 Напечатайте на экране средний запас предсказанного сырья и RMSE модели\n",
    "- 2.5 Проанализируйте результаты"
   ]
  },
  {
   "cell_type": "markdown",
   "metadata": {},
   "source": [
    "### Обучим модели:"
   ]
  },
  {
   "cell_type": "code",
   "execution_count": 14,
   "metadata": {},
   "outputs": [],
   "source": [
    "RANDOM_STATE = 42"
   ]
  },
  {
   "cell_type": "code",
   "execution_count": 15,
   "metadata": {},
   "outputs": [],
   "source": [
    "def linear_predict(data):\n",
    "    features = data.drop(['product'], axis=1)\n",
    "    target = data['product']\n",
    "    \n",
    "    features_train, features_valid, target_train, t_valid = train_test_split(features,\n",
    "                                                                             target,\n",
    "                                                                             test_size=0.25,\n",
    "                                                                             random_state=RANDOM_STATE)\n",
    "    \n",
    "    model = LinearRegression(n_jobs=-1).fit(features_train, target_train)\n",
    "    predictions = model.predict(features_valid)\n",
    "    mse = mean_squared_error(t_valid, predictions)\n",
    "    rmse = mse ** 0.5\n",
    "    stock_mean = data['product'].mean()\n",
    "    stock_mean_pred = predictions.mean()\n",
    "    t_valid = t_valid.reset_index(drop=True)\n",
    "    \n",
    "    return predictions, rmse, stock_mean_pred, t_valid"
   ]
  },
  {
   "cell_type": "code",
   "execution_count": 16,
   "metadata": {},
   "outputs": [],
   "source": [
    "# Словарь для хранения данных по каждому региону\n",
    "regions_data = {}\n",
    "\n",
    "# Обучаем и получаем предсказания для каждого региона\n",
    "for region, data in zip(range(3), [data1, data2, data3]):\n",
    "    predictions, rmse, stock_mean_pred, t_valid = linear_predict(data)\n",
    "    regions_data[f'Регион {region + 1}:'] = {'predictions': predictions,\n",
    "                                                 'rmse': rmse,\n",
    "                                                 'stock_mean_pred': stock_mean_pred,\n",
    "                                                 't_valid': t_valid}"
   ]
  },
  {
   "cell_type": "code",
   "execution_count": 17,
   "metadata": {},
   "outputs": [
    {
     "name": "stdout",
     "output_type": "stream",
     "text": [
      "Регион 1:\n",
      "RMSE модели = 37.8\n",
      "Средний запас предсказанного сырья = 92.4 тыс. баррелей\n",
      "\n",
      "Регион 2:\n",
      "RMSE модели = 0.9\n",
      "Средний запас предсказанного сырья = 68.7 тыс. баррелей\n",
      "\n",
      "Регион 3:\n",
      "RMSE модели = 40.1\n",
      "Средний запас предсказанного сырья = 94.8 тыс. баррелей\n",
      "\n"
     ]
    }
   ],
   "source": [
    "# Выводим результаты\n",
    "for region, data in regions_data.items():\n",
    "    print(region)\n",
    "    print('RMSE модели = {:.1f}'.format(data['rmse']))\n",
    "    print('Средний запас предсказанного сырья = {:.1f} тыс. баррелей'.format(data['stock_mean_pred'])) \n",
    "    print()"
   ]
  },
  {
   "cell_type": "markdown",
   "metadata": {},
   "source": [
    "# Выводы(промежуточные):\n",
    "\n",
    "- data1 и data3 - высокие значения RMSE в сравнении со средним предсказанным значением залежей - скорее всего из-за разброса данных в выборках данных\n",
    "- data2 - очень низкое значение RMSE(0.89) - скорее всего всвязи с переобучением модели из-за корреляции f2 и product близкой к 1"
   ]
  },
  {
   "cell_type": "markdown",
   "metadata": {},
   "source": [
    "## Подготовка к расчёту прибыли"
   ]
  },
  {
   "cell_type": "markdown",
   "metadata": {},
   "source": [
    "- 3.1. Все ключевые значения для расчётов сохраните в отдельных переменных\n",
    "- 3.2. Рассчитайте достаточный объём сырья для безубыточной разработки новой скважины. Сравните полученный объём сырья со средним запасом в каждом регионе\n",
    "- 3.3. Напишите выводы по этапу подготовки расчёта прибыли"
   ]
  },
  {
   "cell_type": "markdown",
   "metadata": {},
   "source": [
    "### Обозначим переменные:"
   ]
  },
  {
   "cell_type": "markdown",
   "metadata": {},
   "source": [
    "- PTS = points => точки добычи\n",
    "- BEST_PTS => лучшие точки добычи\n",
    "- BUDGET => общий бюджет\n",
    "- PPP = profit per product => доход с единицы продукта"
   ]
  },
  {
   "cell_type": "code",
   "execution_count": 18,
   "metadata": {},
   "outputs": [],
   "source": [
    "PTS = 500\n",
    "BEST_PTS = 200\n",
    "BUDGET = 10000000000\n",
    "PPP = 450000"
   ]
  },
  {
   "cell_type": "code",
   "execution_count": 19,
   "metadata": {},
   "outputs": [
    {
     "name": "stdout",
     "output_type": "stream",
     "text": [
      "Необходимый объем для безубыточной разработки: 111.1 тыс. баррелей\n"
     ]
    }
   ],
   "source": [
    "req_mean = BUDGET / BEST_PTS / PPP\n",
    "print('Необходимый объем для безубыточной разработки: {:.1f} тыс. баррелей'.format(req_mean))"
   ]
  },
  {
   "cell_type": "markdown",
   "metadata": {},
   "source": [
    "# Выводы(промежуточные):\n",
    "\n",
    "Средний объем сырья в каждом из регионов ниже точки безубыточности (111.1 тыс. баррелей)\n",
    "\n",
    "Это значит, что разработку всех скважин стоит считать нецелесообразной и стоит потратить средства лишь на разработку лучших 200 скважин в каждом регионе"
   ]
  },
  {
   "cell_type": "markdown",
   "metadata": {},
   "source": [
    "## Расчёт прибыли и рисков "
   ]
  },
  {
   "cell_type": "markdown",
   "metadata": {},
   "source": [
    "Напишите функцию для расчёта прибыли по выбранным скважинам и предсказаниям модели:\n",
    "- 4.1. Выберите скважины с максимальными значениями предсказаний\n",
    "- 4.2. Просуммируйте целевое значение объёма сырья, соответствующее этим предсказаниям"
   ]
  },
  {
   "cell_type": "code",
   "execution_count": 20,
   "metadata": {},
   "outputs": [],
   "source": [
    "# Функция для расчёта прибыли по выбранным скважинам и предсказаниям модели\n",
    "def calculate_profit(target, probabilities, count):\n",
    "    prob_s = probabilities.sort_values(ascending=False)\n",
    "    selected = target[prob_s.index][:count]\n",
    "    return (PPP * selected.sum() - BUDGET)"
   ]
  },
  {
   "cell_type": "code",
   "execution_count": 21,
   "metadata": {},
   "outputs": [
    {
     "name": "stdout",
     "output_type": "stream",
     "text": [
      "Регион 1: 3359.1 млн. р\n",
      "Регион 2: 2415.1 млн. р\n",
      "Регион 3: 2598.6 млн. р\n"
     ]
    }
   ],
   "source": [
    "# Выводим прибыль для каждого региона\n",
    "for region, data in regions_data.items():\n",
    "    profit_value = calculate_profit(data['t_valid'], pd.Series(data['predictions']), 200)\n",
    "    print(f'{region} {profit_value / 10**6:.1f} млн. р')"
   ]
  },
  {
   "cell_type": "markdown",
   "metadata": {},
   "source": [
    "- 5.1. Примените технику Bootstrap с 1000 выборок, чтобы найти распределение прибыли.\n",
    "- 5.2. Найдите среднюю прибыль, 95%-й доверительный интервал и риск убытков. Убыток — это отрицательная прибыль.\n",
    "- 5.3. Напишите выводы: предложите регион для разработки скважин и обоснуйте выбор."
   ]
  },
  {
   "cell_type": "code",
   "execution_count": 22,
   "metadata": {},
   "outputs": [],
   "source": [
    "RANDOM_STATE = np.random.RandomState(12345)"
   ]
  },
  {
   "cell_type": "code",
   "execution_count": 23,
   "metadata": {},
   "outputs": [],
   "source": [
    "def calc_bootstrap(target, probabilities, region):\n",
    "    values = []\n",
    "    for i in range(1000):\n",
    "        target_subsample = target.sample(500, replace=True, random_state=RANDOM_STATE)\n",
    "        probs_subsample = probabilities[target_subsample.index] \n",
    "        values.append(calculate_profit(target_subsample, probs_subsample, 200))\n",
    "\n",
    "    values = pd.Series(values)\n",
    "    lower = values.quantile(0.025)\n",
    "    minus = (values < 0).mean()\n",
    "    suc_int = (values.quantile(0.025) / 10**6, values.quantile(0.975) / 10**6)\n",
    "    mean = values.mean() / 10**6\n",
    "    print(f'{region}')\n",
    "    print('Средняя прибыль: {:.1f} млн. р'.format(mean))\n",
    "    print('Доверительный интервал: {:.1f} - {:.1f} млн. р'.format(*suc_int))\n",
    "    print('Риск убытков: {:.1%}'.format(minus))"
   ]
  },
  {
   "cell_type": "code",
   "execution_count": 24,
   "metadata": {},
   "outputs": [
    {
     "name": "stdout",
     "output_type": "stream",
     "text": [
      "Регион 1:\n",
      "Средняя прибыль: 435.9 млн. р\n",
      "Доверительный интервал: -116.2 - 966.5 млн. р\n",
      "Риск убытков: 6.1%\n",
      "Регион 2:\n",
      "Средняя прибыль: 498.6 млн. р\n",
      "Доверительный интервал: 75.3 - 911.5 млн. р\n",
      "Риск убытков: 1.0%\n",
      "Регион 3:\n",
      "Средняя прибыль: 412.7 млн. р\n",
      "Доверительный интервал: -158.9 - 978.2 млн. р\n",
      "Риск убытков: 7.0%\n"
     ]
    }
   ],
   "source": [
    "# Вызываем функции для каждого региона\n",
    "for region, data in regions_data.items():\n",
    "    calc_bootstrap(data['t_valid'], pd.Series(data['predictions']), region)"
   ]
  },
  {
   "cell_type": "markdown",
   "metadata": {},
   "source": [
    "# Выводы:\n",
    "\n",
    "Результаты проведенного исследования показывают, что стоит остановить свой выбор на регионе 2, так как у него нет отрицательных значений в рамках его доверительного интервала, а так же риск убытков составляет всего лишь около 1%"
   ]
  },
  {
   "cell_type": "markdown",
   "metadata": {},
   "source": [
    "## Чек-лист готовности проекта"
   ]
  },
  {
   "cell_type": "markdown",
   "metadata": {},
   "source": [
    "Поставьте 'x' в выполненных пунктах. Далее нажмите Shift+Enter."
   ]
  },
  {
   "cell_type": "markdown",
   "metadata": {},
   "source": [
    "- [x]  Jupyter Notebook открыт\n",
    "- [x]  Весь код выполняется без ошибок\n",
    "- [x]  Ячейки с кодом расположены в порядке исполнения\n",
    "- [x]  Выполнен шаг 1: данные подготовлены\n",
    "- [x]  Выполнен шаг 2: модели обучены и проверены\n",
    "    - [x]  Данные корректно разбиты на обучающую и валидационную выборки\n",
    "    - [x]  Модели обучены, предсказания сделаны\n",
    "    - [x]  Предсказания и правильные ответы на валидационной выборке сохранены\n",
    "    - [x]  На экране напечатаны результаты\n",
    "    - [x]  Сделаны выводы\n",
    "- [x]  Выполнен шаг 3: проведена подготовка к расчёту прибыли\n",
    "    - [x]  Для всех ключевых значений созданы константы Python\n",
    "    - [x]  Посчитано минимальное среднее количество продукта в месторождениях региона, достаточное для разработки\n",
    "    - [x]  По предыдущему пункту сделаны выводы\n",
    "    - [x]  Написана функция расчёта прибыли\n",
    "- [x]  Выполнен шаг 4: посчитаны риски и прибыль\n",
    "    - [x]  Проведена процедура *Bootstrap*\n",
    "    - [x]  Все параметры бутстрепа соответствуют условию\n",
    "    - [x]  Найдены все нужные величины\n",
    "    - [x]  Предложен регион для разработки месторождения\n",
    "    - [x]  Выбор региона обоснован"
   ]
  }
 ],
 "metadata": {
  "ExecuteTimeLog": [
   {
    "duration": 1285,
    "start_time": "2024-05-01T11:07:45.157Z"
   },
   {
    "duration": 549,
    "start_time": "2024-05-01T11:07:48.308Z"
   },
   {
    "duration": 90,
    "start_time": "2024-05-01T11:07:58.407Z"
   },
   {
    "duration": 94,
    "start_time": "2024-05-01T11:31:19.023Z"
   },
   {
    "duration": 315,
    "start_time": "2024-05-01T11:31:38.719Z"
   },
   {
    "duration": 83,
    "start_time": "2024-05-01T11:31:45.606Z"
   },
   {
    "duration": 83,
    "start_time": "2024-05-01T11:32:11.740Z"
   },
   {
    "duration": 309,
    "start_time": "2024-05-01T11:32:20.755Z"
   },
   {
    "duration": 78,
    "start_time": "2024-05-01T11:32:22.777Z"
   },
   {
    "duration": 93,
    "start_time": "2024-05-01T11:32:25.248Z"
   },
   {
    "duration": 94,
    "start_time": "2024-05-01T11:33:15.486Z"
   },
   {
    "duration": 91,
    "start_time": "2024-05-01T12:33:07.626Z"
   },
   {
    "duration": 1281,
    "start_time": "2024-05-01T12:33:14.570Z"
   },
   {
    "duration": 332,
    "start_time": "2024-05-01T12:33:15.853Z"
   },
   {
    "duration": 96,
    "start_time": "2024-05-01T12:33:16.186Z"
   },
   {
    "duration": 41,
    "start_time": "2024-05-01T12:33:16.283Z"
   },
   {
    "duration": 128,
    "start_time": "2024-05-01T12:33:16.326Z"
   },
   {
    "duration": 76,
    "start_time": "2024-05-01T12:36:05.386Z"
   },
   {
    "duration": 90,
    "start_time": "2024-05-01T12:36:54.494Z"
   },
   {
    "duration": 106,
    "start_time": "2024-05-01T12:37:02.422Z"
   },
   {
    "duration": 1206,
    "start_time": "2024-05-01T14:45:53.687Z"
   },
   {
    "duration": 326,
    "start_time": "2024-05-01T14:45:54.895Z"
   },
   {
    "duration": 33,
    "start_time": "2024-05-01T14:45:55.224Z"
   },
   {
    "duration": 99,
    "start_time": "2024-05-01T14:45:55.258Z"
   },
   {
    "duration": 102,
    "start_time": "2024-05-01T14:45:55.358Z"
   },
   {
    "duration": 120,
    "start_time": "2024-05-01T14:45:55.461Z"
   },
   {
    "duration": 101,
    "start_time": "2024-05-01T14:45:55.583Z"
   },
   {
    "duration": 16,
    "start_time": "2024-05-01T14:46:29.591Z"
   },
   {
    "duration": 14,
    "start_time": "2024-05-01T14:46:32.072Z"
   },
   {
    "duration": 1156,
    "start_time": "2024-05-01T14:46:38.151Z"
   },
   {
    "duration": 317,
    "start_time": "2024-05-01T14:46:39.309Z"
   },
   {
    "duration": 33,
    "start_time": "2024-05-01T14:46:39.628Z"
   },
   {
    "duration": 97,
    "start_time": "2024-05-01T14:46:39.662Z"
   },
   {
    "duration": 100,
    "start_time": "2024-05-01T14:46:39.761Z"
   },
   {
    "duration": 111,
    "start_time": "2024-05-01T14:46:39.862Z"
   },
   {
    "duration": 13,
    "start_time": "2024-05-01T14:46:39.974Z"
   },
   {
    "duration": 175,
    "start_time": "2024-05-01T14:51:36.062Z"
   },
   {
    "duration": 3,
    "start_time": "2024-05-01T14:52:42.264Z"
   },
   {
    "duration": 3,
    "start_time": "2024-05-01T14:52:46.912Z"
   },
   {
    "duration": 9,
    "start_time": "2024-05-01T14:53:05.726Z"
   },
   {
    "duration": 285,
    "start_time": "2024-05-01T14:53:11.132Z"
   },
   {
    "duration": 3,
    "start_time": "2024-05-01T14:53:33.983Z"
   },
   {
    "duration": 295,
    "start_time": "2024-05-01T14:53:35.911Z"
   },
   {
    "duration": 3,
    "start_time": "2024-05-01T14:53:50.106Z"
   },
   {
    "duration": 290,
    "start_time": "2024-05-01T14:53:51.413Z"
   },
   {
    "duration": 3,
    "start_time": "2024-05-01T14:53:56.622Z"
   },
   {
    "duration": 283,
    "start_time": "2024-05-01T14:53:57.738Z"
   },
   {
    "duration": 2,
    "start_time": "2024-05-01T14:54:18.790Z"
   },
   {
    "duration": 357,
    "start_time": "2024-05-01T14:54:19.946Z"
   },
   {
    "duration": 3,
    "start_time": "2024-05-01T14:54:33.558Z"
   },
   {
    "duration": 266,
    "start_time": "2024-05-01T14:54:33.726Z"
   },
   {
    "duration": 3,
    "start_time": "2024-05-01T14:54:36.552Z"
   },
   {
    "duration": 309,
    "start_time": "2024-05-01T14:54:37.111Z"
   },
   {
    "duration": 9,
    "start_time": "2024-05-01T17:36:31.888Z"
   },
   {
    "duration": 4020,
    "start_time": "2024-05-01T17:36:49.386Z"
   },
   {
    "duration": 392,
    "start_time": "2024-05-01T17:36:53.408Z"
   },
   {
    "duration": 314,
    "start_time": "2024-05-01T17:36:53.801Z"
   },
   {
    "duration": 32,
    "start_time": "2024-05-01T17:36:54.117Z"
   },
   {
    "duration": 103,
    "start_time": "2024-05-01T17:36:54.150Z"
   },
   {
    "duration": 106,
    "start_time": "2024-05-01T17:36:54.254Z"
   },
   {
    "duration": 122,
    "start_time": "2024-05-01T17:36:54.362Z"
   },
   {
    "duration": 18,
    "start_time": "2024-05-01T17:36:54.485Z"
   },
   {
    "duration": 481,
    "start_time": "2024-05-01T17:36:54.504Z"
   },
   {
    "duration": 106,
    "start_time": "2024-05-01T17:36:54.986Z"
   },
   {
    "duration": 3,
    "start_time": "2024-05-01T17:38:54.517Z"
   },
   {
    "duration": 499,
    "start_time": "2024-05-01T17:39:20.686Z"
   },
   {
    "duration": 3,
    "start_time": "2024-05-01T17:39:46.734Z"
   },
   {
    "duration": 483,
    "start_time": "2024-05-01T17:39:46.906Z"
   },
   {
    "duration": 497,
    "start_time": "2024-05-01T17:39:47.390Z"
   },
   {
    "duration": 581,
    "start_time": "2024-05-01T17:40:00.000Z"
   },
   {
    "duration": 504,
    "start_time": "2024-05-01T17:40:00.583Z"
   },
   {
    "duration": 498,
    "start_time": "2024-05-01T17:40:01.088Z"
   },
   {
    "duration": 3,
    "start_time": "2024-05-01T17:41:34.310Z"
   },
   {
    "duration": 3,
    "start_time": "2024-05-01T17:41:35.796Z"
   },
   {
    "duration": 476,
    "start_time": "2024-05-01T17:41:36.128Z"
   },
   {
    "duration": 545,
    "start_time": "2024-05-01T17:41:37.338Z"
   },
   {
    "duration": 478,
    "start_time": "2024-05-01T17:41:38.011Z"
   },
   {
    "duration": 3203,
    "start_time": "2024-05-01T17:44:21.911Z"
   },
   {
    "duration": 437,
    "start_time": "2024-05-01T17:44:25.115Z"
   },
   {
    "duration": 306,
    "start_time": "2024-05-01T17:44:25.553Z"
   },
   {
    "duration": 40,
    "start_time": "2024-05-01T17:44:25.861Z"
   },
   {
    "duration": 83,
    "start_time": "2024-05-01T17:44:25.903Z"
   },
   {
    "duration": 102,
    "start_time": "2024-05-01T17:44:26.002Z"
   },
   {
    "duration": 109,
    "start_time": "2024-05-01T17:44:26.106Z"
   },
   {
    "duration": 15,
    "start_time": "2024-05-01T17:44:26.216Z"
   },
   {
    "duration": 4,
    "start_time": "2024-05-01T17:44:26.233Z"
   },
   {
    "duration": 526,
    "start_time": "2024-05-01T17:44:26.239Z"
   },
   {
    "duration": 534,
    "start_time": "2024-05-01T17:44:26.767Z"
   },
   {
    "duration": 491,
    "start_time": "2024-05-01T17:44:27.303Z"
   },
   {
    "duration": 3905,
    "start_time": "2024-05-02T09:56:09.315Z"
   },
   {
    "duration": 727,
    "start_time": "2024-05-02T09:56:13.222Z"
   },
   {
    "duration": 648,
    "start_time": "2024-05-02T09:56:13.951Z"
   },
   {
    "duration": 38,
    "start_time": "2024-05-02T09:56:14.601Z"
   },
   {
    "duration": 105,
    "start_time": "2024-05-02T09:56:14.641Z"
   },
   {
    "duration": 112,
    "start_time": "2024-05-02T09:56:14.747Z"
   },
   {
    "duration": 129,
    "start_time": "2024-05-02T09:56:14.861Z"
   },
   {
    "duration": 17,
    "start_time": "2024-05-02T09:56:14.991Z"
   },
   {
    "duration": 50,
    "start_time": "2024-05-02T09:56:15.009Z"
   },
   {
    "duration": 713,
    "start_time": "2024-05-02T09:56:15.061Z"
   },
   {
    "duration": 571,
    "start_time": "2024-05-02T09:56:15.776Z"
   },
   {
    "duration": 576,
    "start_time": "2024-05-02T09:56:16.349Z"
   },
   {
    "duration": 534,
    "start_time": "2024-05-02T09:57:28.830Z"
   },
   {
    "duration": 620,
    "start_time": "2024-05-02T09:57:32.208Z"
   },
   {
    "duration": 569,
    "start_time": "2024-05-02T09:57:35.260Z"
   },
   {
    "duration": 3288,
    "start_time": "2024-05-02T11:58:34.860Z"
   },
   {
    "duration": 495,
    "start_time": "2024-05-02T11:58:38.150Z"
   },
   {
    "duration": 401,
    "start_time": "2024-05-02T11:58:38.649Z"
   },
   {
    "duration": 46,
    "start_time": "2024-05-02T11:58:39.052Z"
   },
   {
    "duration": 130,
    "start_time": "2024-05-02T11:58:39.100Z"
   },
   {
    "duration": 136,
    "start_time": "2024-05-02T11:58:39.232Z"
   },
   {
    "duration": 148,
    "start_time": "2024-05-02T11:58:39.369Z"
   },
   {
    "duration": 27,
    "start_time": "2024-05-02T11:58:39.519Z"
   },
   {
    "duration": 7,
    "start_time": "2024-05-02T11:58:39.549Z"
   },
   {
    "duration": 598,
    "start_time": "2024-05-02T11:58:39.557Z"
   },
   {
    "duration": 595,
    "start_time": "2024-05-02T11:58:40.157Z"
   },
   {
    "duration": 596,
    "start_time": "2024-05-02T11:58:40.754Z"
   },
   {
    "duration": 3229,
    "start_time": "2024-05-02T12:00:05.960Z"
   },
   {
    "duration": 505,
    "start_time": "2024-05-02T12:00:09.191Z"
   },
   {
    "duration": 394,
    "start_time": "2024-05-02T12:00:09.698Z"
   },
   {
    "duration": 57,
    "start_time": "2024-05-02T12:00:10.094Z"
   },
   {
    "duration": 118,
    "start_time": "2024-05-02T12:00:10.154Z"
   },
   {
    "duration": 120,
    "start_time": "2024-05-02T12:00:10.274Z"
   },
   {
    "duration": 132,
    "start_time": "2024-05-02T12:00:10.396Z"
   },
   {
    "duration": 21,
    "start_time": "2024-05-02T12:00:10.530Z"
   },
   {
    "duration": 25,
    "start_time": "2024-05-02T12:00:10.553Z"
   },
   {
    "duration": 602,
    "start_time": "2024-05-02T12:00:10.579Z"
   },
   {
    "duration": 577,
    "start_time": "2024-05-02T12:00:11.183Z"
   },
   {
    "duration": 585,
    "start_time": "2024-05-02T12:00:11.762Z"
   },
   {
    "duration": 3206,
    "start_time": "2024-05-02T12:01:41.002Z"
   },
   {
    "duration": 474,
    "start_time": "2024-05-02T12:01:44.210Z"
   },
   {
    "duration": 399,
    "start_time": "2024-05-02T12:01:44.685Z"
   },
   {
    "duration": 44,
    "start_time": "2024-05-02T12:01:45.085Z"
   },
   {
    "duration": 113,
    "start_time": "2024-05-02T12:01:45.146Z"
   },
   {
    "duration": 117,
    "start_time": "2024-05-02T12:01:45.261Z"
   },
   {
    "duration": 147,
    "start_time": "2024-05-02T12:01:45.380Z"
   },
   {
    "duration": 21,
    "start_time": "2024-05-02T12:01:45.529Z"
   },
   {
    "duration": 7,
    "start_time": "2024-05-02T12:01:45.552Z"
   },
   {
    "duration": 609,
    "start_time": "2024-05-02T12:01:45.560Z"
   },
   {
    "duration": 584,
    "start_time": "2024-05-02T12:01:46.171Z"
   },
   {
    "duration": 619,
    "start_time": "2024-05-02T12:01:46.757Z"
   },
   {
    "duration": 3470,
    "start_time": "2024-05-02T12:02:26.271Z"
   },
   {
    "duration": 523,
    "start_time": "2024-05-02T12:02:29.742Z"
   },
   {
    "duration": 407,
    "start_time": "2024-05-02T12:02:30.266Z"
   },
   {
    "duration": 43,
    "start_time": "2024-05-02T12:02:30.675Z"
   },
   {
    "duration": 157,
    "start_time": "2024-05-02T12:02:30.720Z"
   },
   {
    "duration": 136,
    "start_time": "2024-05-02T12:02:30.879Z"
   },
   {
    "duration": 146,
    "start_time": "2024-05-02T12:02:31.016Z"
   },
   {
    "duration": 18,
    "start_time": "2024-05-02T12:02:31.163Z"
   },
   {
    "duration": 40,
    "start_time": "2024-05-02T12:02:31.183Z"
   },
   {
    "duration": 757,
    "start_time": "2024-05-02T12:02:31.226Z"
   },
   {
    "duration": 574,
    "start_time": "2024-05-02T12:02:31.985Z"
   },
   {
    "duration": 584,
    "start_time": "2024-05-02T12:02:32.561Z"
   },
   {
    "duration": 13,
    "start_time": "2024-05-05T13:14:01.577Z"
   },
   {
    "duration": 4476,
    "start_time": "2024-05-05T13:18:14.943Z"
   },
   {
    "duration": 728,
    "start_time": "2024-05-05T13:18:19.421Z"
   },
   {
    "duration": 683,
    "start_time": "2024-05-05T13:18:20.151Z"
   },
   {
    "duration": 70,
    "start_time": "2024-05-05T13:18:20.836Z"
   },
   {
    "duration": 141,
    "start_time": "2024-05-05T13:18:20.909Z"
   },
   {
    "duration": 139,
    "start_time": "2024-05-05T13:18:21.051Z"
   },
   {
    "duration": 153,
    "start_time": "2024-05-05T13:18:21.192Z"
   },
   {
    "duration": 17,
    "start_time": "2024-05-05T13:18:21.347Z"
   },
   {
    "duration": 31,
    "start_time": "2024-05-05T13:18:21.366Z"
   },
   {
    "duration": 710,
    "start_time": "2024-05-05T13:18:21.399Z"
   },
   {
    "duration": 644,
    "start_time": "2024-05-05T13:18:22.111Z"
   },
   {
    "duration": 603,
    "start_time": "2024-05-05T13:18:22.757Z"
   },
   {
    "duration": 135,
    "start_time": "2024-05-05T13:18:23.362Z"
   },
   {
    "duration": 199,
    "start_time": "2024-05-05T13:18:50.226Z"
   },
   {
    "duration": 113,
    "start_time": "2024-05-05T13:19:02.767Z"
   },
   {
    "duration": 131,
    "start_time": "2024-05-05T13:19:32.285Z"
   },
   {
    "duration": 114,
    "start_time": "2024-05-05T13:19:35.883Z"
   },
   {
    "duration": 48,
    "start_time": "2024-05-05T16:51:02.436Z"
   },
   {
    "duration": 538,
    "start_time": "2024-05-05T16:51:12.594Z"
   },
   {
    "duration": 257,
    "start_time": "2024-05-05T16:51:30.677Z"
   },
   {
    "duration": 378,
    "start_time": "2024-05-05T16:52:27.358Z"
   },
   {
    "duration": 4,
    "start_time": "2024-05-05T17:19:43.141Z"
   },
   {
    "duration": 432,
    "start_time": "2024-05-05T17:19:43.599Z"
   },
   {
    "duration": 52,
    "start_time": "2024-05-06T14:00:04.071Z"
   },
   {
    "duration": 7,
    "start_time": "2024-05-06T14:00:10.691Z"
   },
   {
    "duration": 4731,
    "start_time": "2024-05-06T14:00:13.850Z"
   },
   {
    "duration": 765,
    "start_time": "2024-05-06T14:00:18.583Z"
   },
   {
    "duration": 1639,
    "start_time": "2024-05-06T14:00:19.350Z"
   },
   {
    "duration": 47,
    "start_time": "2024-05-06T14:00:20.991Z"
   },
   {
    "duration": 127,
    "start_time": "2024-05-06T14:00:21.040Z"
   },
   {
    "duration": 138,
    "start_time": "2024-05-06T14:00:21.168Z"
   },
   {
    "duration": 141,
    "start_time": "2024-05-06T14:00:21.307Z"
   },
   {
    "duration": 18,
    "start_time": "2024-05-06T14:00:21.450Z"
   },
   {
    "duration": 11,
    "start_time": "2024-05-06T14:00:21.470Z"
   },
   {
    "duration": 684,
    "start_time": "2024-05-06T14:00:21.483Z"
   },
   {
    "duration": 646,
    "start_time": "2024-05-06T14:00:22.169Z"
   },
   {
    "duration": 590,
    "start_time": "2024-05-06T14:00:22.817Z"
   },
   {
    "duration": 120,
    "start_time": "2024-05-06T14:00:23.408Z"
   },
   {
    "duration": 3,
    "start_time": "2024-05-06T14:00:23.531Z"
   },
   {
    "duration": 550,
    "start_time": "2024-05-06T14:00:23.535Z"
   },
   {
    "duration": 95,
    "start_time": "2024-05-06T14:00:24.087Z"
   },
   {
    "duration": 4,
    "start_time": "2024-05-06T14:03:20.001Z"
   },
   {
    "duration": 5,
    "start_time": "2024-05-06T14:03:26.827Z"
   },
   {
    "duration": 360,
    "start_time": "2024-05-06T14:04:15.225Z"
   },
   {
    "duration": 4,
    "start_time": "2024-05-06T14:04:17.504Z"
   },
   {
    "duration": 5,
    "start_time": "2024-05-06T16:06:46.165Z"
   },
   {
    "duration": 3463,
    "start_time": "2024-05-06T23:02:55.618Z"
   },
   {
    "duration": 565,
    "start_time": "2024-05-06T23:02:59.083Z"
   },
   {
    "duration": 455,
    "start_time": "2024-05-06T23:02:59.649Z"
   },
   {
    "duration": 47,
    "start_time": "2024-05-06T23:03:00.106Z"
   },
   {
    "duration": 139,
    "start_time": "2024-05-06T23:03:00.155Z"
   },
   {
    "duration": 138,
    "start_time": "2024-05-06T23:03:00.296Z"
   },
   {
    "duration": 187,
    "start_time": "2024-05-06T23:03:00.435Z"
   },
   {
    "duration": 20,
    "start_time": "2024-05-06T23:03:00.624Z"
   },
   {
    "duration": 91,
    "start_time": "2024-05-06T23:03:00.646Z"
   },
   {
    "duration": 748,
    "start_time": "2024-05-06T23:03:00.738Z"
   },
   {
    "duration": 641,
    "start_time": "2024-05-06T23:03:01.488Z"
   },
   {
    "duration": 653,
    "start_time": "2024-05-06T23:03:02.131Z"
   },
   {
    "duration": 138,
    "start_time": "2024-05-06T23:03:02.786Z"
   },
   {
    "duration": 3,
    "start_time": "2024-05-06T23:03:02.928Z"
   },
   {
    "duration": 454,
    "start_time": "2024-05-06T23:03:02.933Z"
   },
   {
    "duration": 94,
    "start_time": "2024-05-06T23:03:03.389Z"
   },
   {
    "duration": 93,
    "start_time": "2024-05-06T23:03:03.486Z"
   },
   {
    "duration": 4,
    "start_time": "2024-05-06T23:03:03.581Z"
   },
   {
    "duration": 3,
    "start_time": "2024-05-06T23:03:10.166Z"
   },
   {
    "duration": 3,
    "start_time": "2024-05-06T23:03:56.348Z"
   },
   {
    "duration": 113,
    "start_time": "2024-05-06T23:05:30.001Z"
   },
   {
    "duration": 3,
    "start_time": "2024-05-06T23:05:37.510Z"
   },
   {
    "duration": 5,
    "start_time": "2024-05-06T23:05:44.950Z"
   },
   {
    "duration": 4,
    "start_time": "2024-05-06T23:06:02.550Z"
   },
   {
    "duration": 10,
    "start_time": "2024-05-07T12:43:36.608Z"
   },
   {
    "duration": 4544,
    "start_time": "2024-05-07T12:43:42.824Z"
   },
   {
    "duration": 759,
    "start_time": "2024-05-07T12:43:47.371Z"
   },
   {
    "duration": 1715,
    "start_time": "2024-05-07T12:43:48.132Z"
   },
   {
    "duration": 49,
    "start_time": "2024-05-07T12:43:49.849Z"
   },
   {
    "duration": 128,
    "start_time": "2024-05-07T12:43:49.900Z"
   },
   {
    "duration": 165,
    "start_time": "2024-05-07T12:43:50.029Z"
   },
   {
    "duration": 160,
    "start_time": "2024-05-07T12:43:50.196Z"
   },
   {
    "duration": 25,
    "start_time": "2024-05-07T12:43:50.358Z"
   },
   {
    "duration": 16,
    "start_time": "2024-05-07T12:43:50.385Z"
   },
   {
    "duration": 739,
    "start_time": "2024-05-07T12:43:50.404Z"
   },
   {
    "duration": 641,
    "start_time": "2024-05-07T12:43:51.145Z"
   },
   {
    "duration": 630,
    "start_time": "2024-05-07T12:43:51.787Z"
   },
   {
    "duration": 128,
    "start_time": "2024-05-07T12:43:52.419Z"
   },
   {
    "duration": 3,
    "start_time": "2024-05-07T12:43:52.549Z"
   },
   {
    "duration": 534,
    "start_time": "2024-05-07T12:43:52.554Z"
   },
   {
    "duration": 81,
    "start_time": "2024-05-07T12:43:53.091Z"
   },
   {
    "duration": 3,
    "start_time": "2024-05-07T12:43:53.175Z"
   },
   {
    "duration": 102,
    "start_time": "2024-05-07T12:43:53.179Z"
   },
   {
    "duration": 10,
    "start_time": "2024-05-07T12:43:53.283Z"
   },
   {
    "duration": 3188,
    "start_time": "2024-05-07T22:53:37.388Z"
   },
   {
    "duration": 513,
    "start_time": "2024-05-07T22:53:40.577Z"
   },
   {
    "duration": 438,
    "start_time": "2024-05-07T22:53:41.092Z"
   },
   {
    "duration": 49,
    "start_time": "2024-05-07T22:53:41.532Z"
   },
   {
    "duration": 117,
    "start_time": "2024-05-07T22:53:41.583Z"
   },
   {
    "duration": 124,
    "start_time": "2024-05-07T22:53:41.701Z"
   },
   {
    "duration": 144,
    "start_time": "2024-05-07T22:53:41.827Z"
   },
   {
    "duration": 18,
    "start_time": "2024-05-07T22:53:41.972Z"
   },
   {
    "duration": 13,
    "start_time": "2024-05-07T22:53:41.992Z"
   },
   {
    "duration": 612,
    "start_time": "2024-05-07T22:53:42.007Z"
   },
   {
    "duration": 566,
    "start_time": "2024-05-07T22:53:42.620Z"
   },
   {
    "duration": 584,
    "start_time": "2024-05-07T22:53:43.188Z"
   },
   {
    "duration": 117,
    "start_time": "2024-05-07T22:53:43.773Z"
   },
   {
    "duration": 2,
    "start_time": "2024-05-07T22:53:43.892Z"
   },
   {
    "duration": 484,
    "start_time": "2024-05-07T22:53:43.896Z"
   },
   {
    "duration": 95,
    "start_time": "2024-05-07T22:53:44.383Z"
   },
   {
    "duration": 4,
    "start_time": "2024-05-07T22:53:44.570Z"
   },
   {
    "duration": 30,
    "start_time": "2024-05-07T22:53:44.575Z"
   },
   {
    "duration": 9,
    "start_time": "2024-05-08T21:25:49.939Z"
   },
   {
    "duration": 50,
    "start_time": "2024-05-08T21:25:53.853Z"
   },
   {
    "duration": 3592,
    "start_time": "2024-05-08T21:25:59.536Z"
   },
   {
    "duration": 539,
    "start_time": "2024-05-08T21:26:03.131Z"
   },
   {
    "duration": 429,
    "start_time": "2024-05-08T21:26:03.672Z"
   },
   {
    "duration": 53,
    "start_time": "2024-05-08T21:26:04.103Z"
   },
   {
    "duration": 131,
    "start_time": "2024-05-08T21:26:04.183Z"
   },
   {
    "duration": 150,
    "start_time": "2024-05-08T21:26:04.316Z"
   },
   {
    "duration": 173,
    "start_time": "2024-05-08T21:26:04.468Z"
   },
   {
    "duration": 19,
    "start_time": "2024-05-08T21:26:04.643Z"
   },
   {
    "duration": 18,
    "start_time": "2024-05-08T21:26:04.665Z"
   },
   {
    "duration": 627,
    "start_time": "2024-05-08T21:26:04.684Z"
   },
   {
    "duration": 600,
    "start_time": "2024-05-08T21:26:05.313Z"
   },
   {
    "duration": 634,
    "start_time": "2024-05-08T21:26:05.915Z"
   },
   {
    "duration": 128,
    "start_time": "2024-05-08T21:26:06.550Z"
   },
   {
    "duration": 2,
    "start_time": "2024-05-08T21:26:06.681Z"
   },
   {
    "duration": 501,
    "start_time": "2024-05-08T21:26:06.685Z"
   },
   {
    "duration": 96,
    "start_time": "2024-05-08T21:26:07.189Z"
   },
   {
    "duration": 95,
    "start_time": "2024-05-08T21:26:07.288Z"
   },
   {
    "duration": 28,
    "start_time": "2024-05-08T21:26:07.385Z"
   },
   {
    "duration": 5,
    "start_time": "2024-05-08T21:26:07.415Z"
   },
   {
    "duration": 4,
    "start_time": "2024-05-08T21:26:39.964Z"
   },
   {
    "duration": 4,
    "start_time": "2024-05-08T22:14:58.743Z"
   },
   {
    "duration": 3,
    "start_time": "2024-05-08T22:15:59.765Z"
   },
   {
    "duration": 120,
    "start_time": "2024-05-08T22:23:23.275Z"
   },
   {
    "duration": 10,
    "start_time": "2024-05-08T22:23:28.779Z"
   },
   {
    "duration": 10,
    "start_time": "2024-05-08T22:24:00.580Z"
   },
   {
    "duration": 10,
    "start_time": "2024-05-08T22:24:14.315Z"
   },
   {
    "duration": 27,
    "start_time": "2024-05-08T22:24:23.429Z"
   },
   {
    "duration": 3517,
    "start_time": "2024-05-08T22:24:34.712Z"
   },
   {
    "duration": 506,
    "start_time": "2024-05-08T22:24:38.231Z"
   },
   {
    "duration": 439,
    "start_time": "2024-05-08T22:24:38.739Z"
   },
   {
    "duration": 46,
    "start_time": "2024-05-08T22:24:39.180Z"
   },
   {
    "duration": 133,
    "start_time": "2024-05-08T22:24:39.228Z"
   },
   {
    "duration": 144,
    "start_time": "2024-05-08T22:24:39.363Z"
   },
   {
    "duration": 147,
    "start_time": "2024-05-08T22:24:39.508Z"
   },
   {
    "duration": 31,
    "start_time": "2024-05-08T22:24:39.656Z"
   },
   {
    "duration": 30,
    "start_time": "2024-05-08T22:24:39.688Z"
   },
   {
    "duration": 687,
    "start_time": "2024-05-08T22:24:39.721Z"
   },
   {
    "duration": 608,
    "start_time": "2024-05-08T22:24:40.410Z"
   },
   {
    "duration": 676,
    "start_time": "2024-05-08T22:24:41.019Z"
   },
   {
    "duration": 131,
    "start_time": "2024-05-08T22:24:41.697Z"
   },
   {
    "duration": 3,
    "start_time": "2024-05-08T22:24:41.830Z"
   },
   {
    "duration": 449,
    "start_time": "2024-05-08T22:24:41.835Z"
   },
   {
    "duration": 8,
    "start_time": "2024-05-08T22:24:42.286Z"
   },
   {
    "duration": 4,
    "start_time": "2024-05-08T22:24:42.381Z"
   },
   {
    "duration": 16,
    "start_time": "2024-05-08T22:24:42.387Z"
   },
   {
    "duration": 12,
    "start_time": "2024-05-08T22:24:42.405Z"
   },
   {
    "duration": 175,
    "start_time": "2024-05-08T22:24:42.419Z"
   },
   {
    "duration": 11,
    "start_time": "2024-05-08T22:25:42.361Z"
   },
   {
    "duration": 12,
    "start_time": "2024-05-08T22:25:43.961Z"
   },
   {
    "duration": 10,
    "start_time": "2024-05-08T22:25:51.005Z"
   },
   {
    "duration": 24,
    "start_time": "2024-05-08T22:26:57.097Z"
   },
   {
    "duration": 3,
    "start_time": "2024-05-08T22:26:58.532Z"
   },
   {
    "duration": 24,
    "start_time": "2024-05-08T22:26:59.805Z"
   },
   {
    "duration": 3,
    "start_time": "2024-05-08T22:28:15.415Z"
   },
   {
    "duration": 11,
    "start_time": "2024-05-08T22:28:33.661Z"
   },
   {
    "duration": 4,
    "start_time": "2024-05-08T22:34:09.006Z"
   },
   {
    "duration": 12,
    "start_time": "2024-05-08T22:34:10.926Z"
   },
   {
    "duration": 12,
    "start_time": "2024-05-08T22:45:14.427Z"
   },
   {
    "duration": 49,
    "start_time": "2024-05-08T22:45:18.980Z"
   },
   {
    "duration": 3231,
    "start_time": "2024-05-09T23:20:29.389Z"
   },
   {
    "duration": 410,
    "start_time": "2024-05-09T23:20:32.622Z"
   },
   {
    "duration": 338,
    "start_time": "2024-05-09T23:20:33.037Z"
   },
   {
    "duration": 34,
    "start_time": "2024-05-09T23:20:33.377Z"
   },
   {
    "duration": 95,
    "start_time": "2024-05-09T23:20:33.413Z"
   },
   {
    "duration": 109,
    "start_time": "2024-05-09T23:20:33.509Z"
   },
   {
    "duration": 121,
    "start_time": "2024-05-09T23:20:33.619Z"
   },
   {
    "duration": 16,
    "start_time": "2024-05-09T23:20:33.741Z"
   },
   {
    "duration": 17,
    "start_time": "2024-05-09T23:20:33.759Z"
   },
   {
    "duration": 514,
    "start_time": "2024-05-09T23:20:33.778Z"
   },
   {
    "duration": 495,
    "start_time": "2024-05-09T23:20:34.293Z"
   },
   {
    "duration": 489,
    "start_time": "2024-05-09T23:20:34.789Z"
   },
   {
    "duration": 144,
    "start_time": "2024-05-09T23:20:35.279Z"
   },
   {
    "duration": 2,
    "start_time": "2024-05-09T23:20:35.424Z"
   },
   {
    "duration": 13,
    "start_time": "2024-05-09T23:20:35.428Z"
   },
   {
    "duration": 103,
    "start_time": "2024-05-09T23:20:35.442Z"
   },
   {
    "duration": 0,
    "start_time": "2024-05-09T23:20:35.547Z"
   },
   {
    "duration": 0,
    "start_time": "2024-05-09T23:20:35.548Z"
   },
   {
    "duration": 0,
    "start_time": "2024-05-09T23:20:35.549Z"
   },
   {
    "duration": 0,
    "start_time": "2024-05-09T23:20:35.551Z"
   },
   {
    "duration": 0,
    "start_time": "2024-05-09T23:20:35.552Z"
   },
   {
    "duration": 0,
    "start_time": "2024-05-09T23:20:35.553Z"
   },
   {
    "duration": 21,
    "start_time": "2024-05-09T23:20:44.815Z"
   },
   {
    "duration": 3300,
    "start_time": "2024-05-09T23:20:58.292Z"
   },
   {
    "duration": 416,
    "start_time": "2024-05-09T23:21:01.593Z"
   },
   {
    "duration": 328,
    "start_time": "2024-05-09T23:21:02.012Z"
   },
   {
    "duration": 45,
    "start_time": "2024-05-09T23:21:02.341Z"
   },
   {
    "duration": 115,
    "start_time": "2024-05-09T23:21:02.387Z"
   },
   {
    "duration": 104,
    "start_time": "2024-05-09T23:21:02.503Z"
   },
   {
    "duration": 106,
    "start_time": "2024-05-09T23:21:02.608Z"
   },
   {
    "duration": 16,
    "start_time": "2024-05-09T23:21:02.715Z"
   },
   {
    "duration": 2,
    "start_time": "2024-05-09T23:21:02.733Z"
   },
   {
    "duration": 542,
    "start_time": "2024-05-09T23:21:02.737Z"
   },
   {
    "duration": 498,
    "start_time": "2024-05-09T23:21:03.281Z"
   },
   {
    "duration": 498,
    "start_time": "2024-05-09T23:21:03.780Z"
   },
   {
    "duration": 160,
    "start_time": "2024-05-09T23:21:04.279Z"
   },
   {
    "duration": 2,
    "start_time": "2024-05-09T23:21:04.441Z"
   },
   {
    "duration": 9,
    "start_time": "2024-05-09T23:21:04.444Z"
   },
   {
    "duration": 53,
    "start_time": "2024-05-09T23:21:04.454Z"
   },
   {
    "duration": 191,
    "start_time": "2024-05-09T23:21:04.511Z"
   },
   {
    "duration": 111,
    "start_time": "2024-05-09T23:21:04.704Z"
   },
   {
    "duration": 90,
    "start_time": "2024-05-09T23:21:04.816Z"
   },
   {
    "duration": 101,
    "start_time": "2024-05-09T23:21:04.908Z"
   },
   {
    "duration": 31,
    "start_time": "2024-05-09T23:21:05.010Z"
   },
   {
    "duration": 142,
    "start_time": "2024-05-09T23:21:05.042Z"
   },
   {
    "duration": 3,
    "start_time": "2024-05-09T23:23:26.000Z"
   },
   {
    "duration": 9,
    "start_time": "2024-05-09T23:23:35.059Z"
   },
   {
    "duration": 15,
    "start_time": "2024-05-09T23:23:44.313Z"
   },
   {
    "duration": 15,
    "start_time": "2024-05-09T23:24:23.496Z"
   },
   {
    "duration": 2,
    "start_time": "2024-05-09T23:24:27.590Z"
   },
   {
    "duration": 15,
    "start_time": "2024-05-09T23:24:29.841Z"
   },
   {
    "duration": 3398,
    "start_time": "2024-05-09T23:53:26.825Z"
   },
   {
    "duration": 500,
    "start_time": "2024-05-09T23:53:30.225Z"
   },
   {
    "duration": 328,
    "start_time": "2024-05-09T23:53:30.727Z"
   },
   {
    "duration": 45,
    "start_time": "2024-05-09T23:53:31.057Z"
   },
   {
    "duration": 105,
    "start_time": "2024-05-09T23:53:31.103Z"
   },
   {
    "duration": 137,
    "start_time": "2024-05-09T23:53:31.210Z"
   },
   {
    "duration": 114,
    "start_time": "2024-05-09T23:53:31.349Z"
   },
   {
    "duration": 15,
    "start_time": "2024-05-09T23:53:31.465Z"
   },
   {
    "duration": 27,
    "start_time": "2024-05-09T23:53:31.481Z"
   },
   {
    "duration": 483,
    "start_time": "2024-05-09T23:53:31.510Z"
   },
   {
    "duration": 490,
    "start_time": "2024-05-09T23:53:31.994Z"
   },
   {
    "duration": 496,
    "start_time": "2024-05-09T23:53:32.486Z"
   },
   {
    "duration": 96,
    "start_time": "2024-05-09T23:53:32.984Z"
   },
   {
    "duration": 2,
    "start_time": "2024-05-09T23:53:33.082Z"
   },
   {
    "duration": 16,
    "start_time": "2024-05-09T23:53:33.085Z"
   },
   {
    "duration": 109,
    "start_time": "2024-05-09T23:53:33.102Z"
   },
   {
    "duration": 0,
    "start_time": "2024-05-09T23:53:33.212Z"
   },
   {
    "duration": 0,
    "start_time": "2024-05-09T23:53:33.214Z"
   },
   {
    "duration": 0,
    "start_time": "2024-05-09T23:53:33.215Z"
   },
   {
    "duration": 0,
    "start_time": "2024-05-09T23:53:33.215Z"
   },
   {
    "duration": 0,
    "start_time": "2024-05-09T23:53:33.216Z"
   },
   {
    "duration": 341,
    "start_time": "2024-05-09T23:55:17.261Z"
   },
   {
    "duration": 5,
    "start_time": "2024-05-09T23:55:19.309Z"
   },
   {
    "duration": 4,
    "start_time": "2024-05-09T23:55:56.814Z"
   },
   {
    "duration": 3,
    "start_time": "2024-05-09T23:56:41.204Z"
   },
   {
    "duration": 2,
    "start_time": "2024-05-09T23:56:41.847Z"
   },
   {
    "duration": 3,
    "start_time": "2024-05-09T23:56:44.827Z"
   },
   {
    "duration": 14,
    "start_time": "2024-05-09T23:56:45.854Z"
   },
   {
    "duration": 14,
    "start_time": "2024-05-10T00:02:04.746Z"
   },
   {
    "duration": 14,
    "start_time": "2024-05-10T00:02:11.729Z"
   },
   {
    "duration": 5,
    "start_time": "2024-05-10T00:05:11.989Z"
   },
   {
    "duration": 5,
    "start_time": "2024-05-10T00:05:18.290Z"
   },
   {
    "duration": 9,
    "start_time": "2024-05-10T00:05:19.902Z"
   },
   {
    "duration": 4,
    "start_time": "2024-05-10T00:05:23.409Z"
   },
   {
    "duration": 232,
    "start_time": "2024-05-10T00:05:24.079Z"
   },
   {
    "duration": 4,
    "start_time": "2024-05-10T00:05:25.093Z"
   },
   {
    "duration": 4,
    "start_time": "2024-05-10T00:05:31.070Z"
   },
   {
    "duration": 171,
    "start_time": "2024-05-10T00:05:32.641Z"
   },
   {
    "duration": 4,
    "start_time": "2024-05-10T00:05:39.626Z"
   },
   {
    "duration": 4,
    "start_time": "2024-05-10T00:05:39.889Z"
   },
   {
    "duration": 3,
    "start_time": "2024-05-10T00:05:40.726Z"
   },
   {
    "duration": 264,
    "start_time": "2024-05-10T00:05:41.040Z"
   },
   {
    "duration": 4,
    "start_time": "2024-05-10T00:05:41.502Z"
   },
   {
    "duration": 9,
    "start_time": "2024-05-10T00:06:05.353Z"
   },
   {
    "duration": 7,
    "start_time": "2024-05-10T00:06:15.280Z"
   },
   {
    "duration": 7,
    "start_time": "2024-05-10T00:06:37.920Z"
   },
   {
    "duration": 314,
    "start_time": "2024-05-10T00:06:50.999Z"
   },
   {
    "duration": 4,
    "start_time": "2024-05-10T00:06:52.812Z"
   },
   {
    "duration": 4,
    "start_time": "2024-05-10T00:06:58.507Z"
   },
   {
    "duration": 3182,
    "start_time": "2024-05-10T00:07:06.034Z"
   },
   {
    "duration": 491,
    "start_time": "2024-05-10T00:07:09.218Z"
   },
   {
    "duration": 319,
    "start_time": "2024-05-10T00:07:09.710Z"
   },
   {
    "duration": 31,
    "start_time": "2024-05-10T00:07:10.031Z"
   },
   {
    "duration": 108,
    "start_time": "2024-05-10T00:07:10.063Z"
   },
   {
    "duration": 105,
    "start_time": "2024-05-10T00:07:10.173Z"
   },
   {
    "duration": 150,
    "start_time": "2024-05-10T00:07:10.279Z"
   },
   {
    "duration": 16,
    "start_time": "2024-05-10T00:07:10.431Z"
   },
   {
    "duration": 12,
    "start_time": "2024-05-10T00:07:10.448Z"
   },
   {
    "duration": 511,
    "start_time": "2024-05-10T00:07:10.462Z"
   },
   {
    "duration": 495,
    "start_time": "2024-05-10T00:07:10.974Z"
   },
   {
    "duration": 501,
    "start_time": "2024-05-10T00:07:11.470Z"
   },
   {
    "duration": 100,
    "start_time": "2024-05-10T00:07:11.972Z"
   },
   {
    "duration": 2,
    "start_time": "2024-05-10T00:07:12.073Z"
   },
   {
    "duration": 11,
    "start_time": "2024-05-10T00:07:12.076Z"
   },
   {
    "duration": 283,
    "start_time": "2024-05-10T00:07:12.088Z"
   },
   {
    "duration": 0,
    "start_time": "2024-05-10T00:07:12.372Z"
   },
   {
    "duration": 0,
    "start_time": "2024-05-10T00:07:12.373Z"
   },
   {
    "duration": 0,
    "start_time": "2024-05-10T00:07:12.374Z"
   },
   {
    "duration": 0,
    "start_time": "2024-05-10T00:07:12.375Z"
   },
   {
    "duration": 0,
    "start_time": "2024-05-10T00:07:12.376Z"
   },
   {
    "duration": 289,
    "start_time": "2024-05-10T00:07:29.415Z"
   },
   {
    "duration": 5,
    "start_time": "2024-05-10T00:07:30.954Z"
   },
   {
    "duration": 324,
    "start_time": "2024-05-10T00:07:37.378Z"
   },
   {
    "duration": 95,
    "start_time": "2024-05-10T00:07:37.707Z"
   },
   {
    "duration": 299,
    "start_time": "2024-05-10T00:07:45.307Z"
   },
   {
    "duration": 232,
    "start_time": "2024-05-10T00:07:46.079Z"
   },
   {
    "duration": 7,
    "start_time": "2024-05-10T00:07:46.402Z"
   },
   {
    "duration": 239,
    "start_time": "2024-05-10T00:08:17.766Z"
   },
   {
    "duration": 95,
    "start_time": "2024-05-10T00:08:18.007Z"
   },
   {
    "duration": 3,
    "start_time": "2024-05-10T00:08:24.974Z"
   },
   {
    "duration": 3,
    "start_time": "2024-05-10T00:08:25.527Z"
   },
   {
    "duration": 3,
    "start_time": "2024-05-10T00:08:27.985Z"
   },
   {
    "duration": 14,
    "start_time": "2024-05-10T00:08:29.500Z"
   },
   {
    "duration": 15,
    "start_time": "2024-05-10T00:08:34.891Z"
   },
   {
    "duration": 3213,
    "start_time": "2024-05-10T00:10:42.429Z"
   },
   {
    "duration": 439,
    "start_time": "2024-05-10T00:10:45.644Z"
   },
   {
    "duration": 324,
    "start_time": "2024-05-10T00:10:46.085Z"
   },
   {
    "duration": 33,
    "start_time": "2024-05-10T00:10:46.411Z"
   },
   {
    "duration": 95,
    "start_time": "2024-05-10T00:10:46.446Z"
   },
   {
    "duration": 105,
    "start_time": "2024-05-10T00:10:46.542Z"
   },
   {
    "duration": 115,
    "start_time": "2024-05-10T00:10:46.648Z"
   },
   {
    "duration": 15,
    "start_time": "2024-05-10T00:10:46.764Z"
   },
   {
    "duration": 18,
    "start_time": "2024-05-10T00:10:46.780Z"
   },
   {
    "duration": 570,
    "start_time": "2024-05-10T00:10:46.799Z"
   },
   {
    "duration": 493,
    "start_time": "2024-05-10T00:10:47.371Z"
   },
   {
    "duration": 512,
    "start_time": "2024-05-10T00:10:47.866Z"
   },
   {
    "duration": 105,
    "start_time": "2024-05-10T00:10:48.379Z"
   },
   {
    "duration": 2,
    "start_time": "2024-05-10T00:10:48.486Z"
   },
   {
    "duration": 11,
    "start_time": "2024-05-10T00:10:48.490Z"
   },
   {
    "duration": 270,
    "start_time": "2024-05-10T00:10:48.503Z"
   },
   {
    "duration": 0,
    "start_time": "2024-05-10T00:10:48.774Z"
   },
   {
    "duration": 0,
    "start_time": "2024-05-10T00:10:48.775Z"
   },
   {
    "duration": 0,
    "start_time": "2024-05-10T00:10:48.776Z"
   },
   {
    "duration": 0,
    "start_time": "2024-05-10T00:10:48.777Z"
   },
   {
    "duration": 0,
    "start_time": "2024-05-10T00:10:48.846Z"
   },
   {
    "duration": 59,
    "start_time": "2024-05-10T00:11:51.568Z"
   },
   {
    "duration": 3160,
    "start_time": "2024-05-10T00:12:57.242Z"
   },
   {
    "duration": 451,
    "start_time": "2024-05-10T00:13:00.403Z"
   },
   {
    "duration": 362,
    "start_time": "2024-05-10T00:13:00.856Z"
   },
   {
    "duration": 42,
    "start_time": "2024-05-10T00:13:01.220Z"
   },
   {
    "duration": 97,
    "start_time": "2024-05-10T00:13:01.264Z"
   },
   {
    "duration": 106,
    "start_time": "2024-05-10T00:13:01.363Z"
   },
   {
    "duration": 115,
    "start_time": "2024-05-10T00:13:01.470Z"
   },
   {
    "duration": 22,
    "start_time": "2024-05-10T00:13:01.586Z"
   },
   {
    "duration": 51,
    "start_time": "2024-05-10T00:13:01.609Z"
   },
   {
    "duration": 541,
    "start_time": "2024-05-10T00:13:01.662Z"
   },
   {
    "duration": 497,
    "start_time": "2024-05-10T00:13:02.204Z"
   },
   {
    "duration": 475,
    "start_time": "2024-05-10T00:13:02.703Z"
   },
   {
    "duration": 105,
    "start_time": "2024-05-10T00:13:03.179Z"
   },
   {
    "duration": 2,
    "start_time": "2024-05-10T00:13:03.285Z"
   },
   {
    "duration": 17,
    "start_time": "2024-05-10T00:13:03.288Z"
   },
   {
    "duration": 267,
    "start_time": "2024-05-10T00:13:03.306Z"
   },
   {
    "duration": 0,
    "start_time": "2024-05-10T00:13:03.574Z"
   },
   {
    "duration": 0,
    "start_time": "2024-05-10T00:13:03.575Z"
   },
   {
    "duration": 0,
    "start_time": "2024-05-10T00:13:03.576Z"
   },
   {
    "duration": 0,
    "start_time": "2024-05-10T00:13:03.635Z"
   },
   {
    "duration": 0,
    "start_time": "2024-05-10T00:13:03.636Z"
   },
   {
    "duration": 3144,
    "start_time": "2024-05-10T00:13:29.671Z"
   },
   {
    "duration": 437,
    "start_time": "2024-05-10T00:13:32.817Z"
   },
   {
    "duration": 325,
    "start_time": "2024-05-10T00:13:33.255Z"
   },
   {
    "duration": 37,
    "start_time": "2024-05-10T00:13:33.582Z"
   },
   {
    "duration": 94,
    "start_time": "2024-05-10T00:13:33.621Z"
   },
   {
    "duration": 105,
    "start_time": "2024-05-10T00:13:33.716Z"
   },
   {
    "duration": 115,
    "start_time": "2024-05-10T00:13:33.822Z"
   },
   {
    "duration": 15,
    "start_time": "2024-05-10T00:13:33.938Z"
   },
   {
    "duration": 6,
    "start_time": "2024-05-10T00:13:33.955Z"
   },
   {
    "duration": 527,
    "start_time": "2024-05-10T00:13:33.963Z"
   },
   {
    "duration": 487,
    "start_time": "2024-05-10T00:13:34.492Z"
   },
   {
    "duration": 487,
    "start_time": "2024-05-10T00:13:34.980Z"
   },
   {
    "duration": 98,
    "start_time": "2024-05-10T00:13:35.469Z"
   },
   {
    "duration": 2,
    "start_time": "2024-05-10T00:13:35.568Z"
   },
   {
    "duration": 26,
    "start_time": "2024-05-10T00:13:35.571Z"
   },
   {
    "duration": 406,
    "start_time": "2024-05-10T00:13:35.598Z"
   },
   {
    "duration": 96,
    "start_time": "2024-05-10T00:13:36.006Z"
   },
   {
    "duration": 10,
    "start_time": "2024-05-10T00:13:36.103Z"
   },
   {
    "duration": 28,
    "start_time": "2024-05-10T00:13:36.114Z"
   },
   {
    "duration": 35,
    "start_time": "2024-05-10T00:13:36.143Z"
   },
   {
    "duration": 33,
    "start_time": "2024-05-10T00:13:36.179Z"
   },
   {
    "duration": 3,
    "start_time": "2024-05-10T00:16:05.877Z"
   },
   {
    "duration": 61,
    "start_time": "2024-05-10T00:16:24.719Z"
   },
   {
    "duration": 54,
    "start_time": "2024-05-10T00:16:42.009Z"
   },
   {
    "duration": 87,
    "start_time": "2024-05-10T00:17:11.843Z"
   },
   {
    "duration": 93,
    "start_time": "2024-05-10T00:17:47.848Z"
   },
   {
    "duration": 2943,
    "start_time": "2024-05-10T00:17:58.993Z"
   },
   {
    "duration": 2898,
    "start_time": "2024-05-10T00:18:12.161Z"
   },
   {
    "duration": 2903,
    "start_time": "2024-05-10T00:18:44.857Z"
   },
   {
    "duration": 2879,
    "start_time": "2024-05-10T00:18:58.112Z"
   },
   {
    "duration": 2903,
    "start_time": "2024-05-10T00:28:03.140Z"
   },
   {
    "duration": 3186,
    "start_time": "2024-05-10T00:28:34.437Z"
   },
   {
    "duration": 430,
    "start_time": "2024-05-10T00:28:37.625Z"
   },
   {
    "duration": 319,
    "start_time": "2024-05-10T00:28:38.056Z"
   },
   {
    "duration": 49,
    "start_time": "2024-05-10T00:28:38.377Z"
   },
   {
    "duration": 102,
    "start_time": "2024-05-10T00:28:38.428Z"
   },
   {
    "duration": 103,
    "start_time": "2024-05-10T00:28:38.531Z"
   },
   {
    "duration": 109,
    "start_time": "2024-05-10T00:28:38.635Z"
   },
   {
    "duration": 15,
    "start_time": "2024-05-10T00:28:38.746Z"
   },
   {
    "duration": 5,
    "start_time": "2024-05-10T00:28:38.762Z"
   },
   {
    "duration": 514,
    "start_time": "2024-05-10T00:28:38.769Z"
   },
   {
    "duration": 509,
    "start_time": "2024-05-10T00:28:39.285Z"
   },
   {
    "duration": 498,
    "start_time": "2024-05-10T00:28:39.796Z"
   },
   {
    "duration": 134,
    "start_time": "2024-05-10T00:28:40.295Z"
   },
   {
    "duration": 2,
    "start_time": "2024-05-10T00:28:40.431Z"
   },
   {
    "duration": 18,
    "start_time": "2024-05-10T00:28:40.434Z"
   },
   {
    "duration": 399,
    "start_time": "2024-05-10T00:28:40.454Z"
   },
   {
    "duration": 51,
    "start_time": "2024-05-10T00:28:40.854Z"
   },
   {
    "duration": 97,
    "start_time": "2024-05-10T00:28:40.906Z"
   },
   {
    "duration": 28,
    "start_time": "2024-05-10T00:28:41.004Z"
   },
   {
    "duration": 16,
    "start_time": "2024-05-10T00:28:41.034Z"
   },
   {
    "duration": 19,
    "start_time": "2024-05-10T00:28:41.052Z"
   },
   {
    "duration": 2916,
    "start_time": "2024-05-10T00:28:41.072Z"
   },
   {
    "duration": 2905,
    "start_time": "2024-05-10T00:28:43.989Z"
   },
   {
    "duration": 2877,
    "start_time": "2024-05-10T00:30:05.381Z"
   },
   {
    "duration": 3004,
    "start_time": "2024-05-10T00:30:58.853Z"
   },
   {
    "duration": 3003,
    "start_time": "2024-05-10T00:31:19.325Z"
   },
   {
    "duration": 2850,
    "start_time": "2024-05-10T00:31:25.776Z"
   },
   {
    "duration": 2844,
    "start_time": "2024-05-10T00:33:15.598Z"
   },
   {
    "duration": 2836,
    "start_time": "2024-05-10T00:34:20.801Z"
   },
   {
    "duration": 2882,
    "start_time": "2024-05-10T00:34:47.745Z"
   },
   {
    "duration": 14,
    "start_time": "2024-05-10T00:35:15.048Z"
   },
   {
    "duration": 13,
    "start_time": "2024-05-10T00:35:18.320Z"
   },
   {
    "duration": 15,
    "start_time": "2024-05-10T00:35:26.167Z"
   },
   {
    "duration": 14,
    "start_time": "2024-05-10T00:35:37.558Z"
   },
   {
    "duration": 3168,
    "start_time": "2024-05-10T00:35:42.356Z"
   },
   {
    "duration": 442,
    "start_time": "2024-05-10T00:35:45.525Z"
   },
   {
    "duration": 316,
    "start_time": "2024-05-10T00:35:45.968Z"
   },
   {
    "duration": 36,
    "start_time": "2024-05-10T00:35:46.286Z"
   },
   {
    "duration": 99,
    "start_time": "2024-05-10T00:35:46.323Z"
   },
   {
    "duration": 102,
    "start_time": "2024-05-10T00:35:46.423Z"
   },
   {
    "duration": 125,
    "start_time": "2024-05-10T00:35:46.527Z"
   },
   {
    "duration": 19,
    "start_time": "2024-05-10T00:35:46.654Z"
   },
   {
    "duration": 5,
    "start_time": "2024-05-10T00:35:46.674Z"
   },
   {
    "duration": 504,
    "start_time": "2024-05-10T00:35:46.680Z"
   },
   {
    "duration": 494,
    "start_time": "2024-05-10T00:35:47.186Z"
   },
   {
    "duration": 504,
    "start_time": "2024-05-10T00:35:47.682Z"
   },
   {
    "duration": 103,
    "start_time": "2024-05-10T00:35:48.187Z"
   },
   {
    "duration": 11,
    "start_time": "2024-05-10T00:35:48.291Z"
   },
   {
    "duration": 9,
    "start_time": "2024-05-10T00:35:48.303Z"
   },
   {
    "duration": 431,
    "start_time": "2024-05-10T00:35:48.313Z"
   },
   {
    "duration": 60,
    "start_time": "2024-05-10T00:35:48.746Z"
   },
   {
    "duration": 94,
    "start_time": "2024-05-10T00:35:48.808Z"
   },
   {
    "duration": 12,
    "start_time": "2024-05-10T00:35:48.903Z"
   },
   {
    "duration": 18,
    "start_time": "2024-05-10T00:35:48.917Z"
   },
   {
    "duration": 17,
    "start_time": "2024-05-10T00:35:48.936Z"
   },
   {
    "duration": 2943,
    "start_time": "2024-05-10T00:35:48.954Z"
   },
   {
    "duration": 3217,
    "start_time": "2024-05-10T00:36:33.912Z"
   },
   {
    "duration": 406,
    "start_time": "2024-05-10T00:36:37.131Z"
   },
   {
    "duration": 323,
    "start_time": "2024-05-10T00:36:37.538Z"
   },
   {
    "duration": 46,
    "start_time": "2024-05-10T00:36:37.863Z"
   },
   {
    "duration": 101,
    "start_time": "2024-05-10T00:36:37.911Z"
   },
   {
    "duration": 101,
    "start_time": "2024-05-10T00:36:38.013Z"
   },
   {
    "duration": 126,
    "start_time": "2024-05-10T00:36:38.115Z"
   },
   {
    "duration": 16,
    "start_time": "2024-05-10T00:36:38.242Z"
   },
   {
    "duration": 43,
    "start_time": "2024-05-10T00:36:38.260Z"
   },
   {
    "duration": 532,
    "start_time": "2024-05-10T00:36:38.305Z"
   },
   {
    "duration": 491,
    "start_time": "2024-05-10T00:36:38.838Z"
   },
   {
    "duration": 457,
    "start_time": "2024-05-10T00:36:39.331Z"
   },
   {
    "duration": 112,
    "start_time": "2024-05-10T00:36:39.789Z"
   },
   {
    "duration": 2,
    "start_time": "2024-05-10T00:36:39.903Z"
   },
   {
    "duration": 5,
    "start_time": "2024-05-10T00:36:39.906Z"
   },
   {
    "duration": 299,
    "start_time": "2024-05-10T00:36:39.912Z"
   },
   {
    "duration": 7,
    "start_time": "2024-05-10T00:36:40.302Z"
   },
   {
    "duration": 91,
    "start_time": "2024-05-10T00:36:40.312Z"
   },
   {
    "duration": 23,
    "start_time": "2024-05-10T00:36:40.404Z"
   },
   {
    "duration": 58,
    "start_time": "2024-05-10T00:36:40.428Z"
   },
   {
    "duration": 23,
    "start_time": "2024-05-10T00:36:40.487Z"
   },
   {
    "duration": 2880,
    "start_time": "2024-05-10T00:36:40.511Z"
   },
   {
    "duration": 2866,
    "start_time": "2024-05-10T00:37:12.044Z"
   },
   {
    "duration": 2851,
    "start_time": "2024-05-10T00:37:21.565Z"
   },
   {
    "duration": 2904,
    "start_time": "2024-05-10T00:37:26.729Z"
   },
   {
    "duration": 2887,
    "start_time": "2024-05-10T00:37:33.312Z"
   },
   {
    "duration": 3182,
    "start_time": "2024-05-10T00:37:42.930Z"
   },
   {
    "duration": 430,
    "start_time": "2024-05-10T00:37:46.114Z"
   },
   {
    "duration": 345,
    "start_time": "2024-05-10T00:37:46.546Z"
   },
   {
    "duration": 32,
    "start_time": "2024-05-10T00:37:46.892Z"
   },
   {
    "duration": 104,
    "start_time": "2024-05-10T00:37:46.926Z"
   },
   {
    "duration": 114,
    "start_time": "2024-05-10T00:37:47.031Z"
   },
   {
    "duration": 120,
    "start_time": "2024-05-10T00:37:47.147Z"
   },
   {
    "duration": 16,
    "start_time": "2024-05-10T00:37:47.269Z"
   },
   {
    "duration": 14,
    "start_time": "2024-05-10T00:37:47.287Z"
   },
   {
    "duration": 490,
    "start_time": "2024-05-10T00:37:47.302Z"
   },
   {
    "duration": 511,
    "start_time": "2024-05-10T00:37:47.793Z"
   },
   {
    "duration": 485,
    "start_time": "2024-05-10T00:37:48.305Z"
   },
   {
    "duration": 97,
    "start_time": "2024-05-10T00:37:48.791Z"
   },
   {
    "duration": 2,
    "start_time": "2024-05-10T00:37:48.890Z"
   },
   {
    "duration": 10,
    "start_time": "2024-05-10T00:37:48.893Z"
   },
   {
    "duration": 442,
    "start_time": "2024-05-10T00:37:48.905Z"
   },
   {
    "duration": 7,
    "start_time": "2024-05-10T00:37:49.401Z"
   },
   {
    "duration": 115,
    "start_time": "2024-05-10T00:37:49.409Z"
   },
   {
    "duration": 8,
    "start_time": "2024-05-10T00:37:49.525Z"
   },
   {
    "duration": 13,
    "start_time": "2024-05-10T00:37:49.534Z"
   },
   {
    "duration": 26,
    "start_time": "2024-05-10T00:37:49.548Z"
   },
   {
    "duration": 2936,
    "start_time": "2024-05-10T00:37:49.576Z"
   },
   {
    "duration": 2967,
    "start_time": "2024-05-10T00:43:30.307Z"
   },
   {
    "duration": 3175,
    "start_time": "2024-05-10T00:43:38.046Z"
   },
   {
    "duration": 408,
    "start_time": "2024-05-10T00:43:41.222Z"
   },
   {
    "duration": 314,
    "start_time": "2024-05-10T00:43:41.631Z"
   },
   {
    "duration": 31,
    "start_time": "2024-05-10T00:43:41.947Z"
   },
   {
    "duration": 93,
    "start_time": "2024-05-10T00:43:41.979Z"
   },
   {
    "duration": 102,
    "start_time": "2024-05-10T00:43:42.073Z"
   },
   {
    "duration": 116,
    "start_time": "2024-05-10T00:43:42.177Z"
   },
   {
    "duration": 17,
    "start_time": "2024-05-10T00:43:42.294Z"
   },
   {
    "duration": 7,
    "start_time": "2024-05-10T00:43:42.312Z"
   },
   {
    "duration": 502,
    "start_time": "2024-05-10T00:43:42.321Z"
   },
   {
    "duration": 515,
    "start_time": "2024-05-10T00:43:42.824Z"
   },
   {
    "duration": 529,
    "start_time": "2024-05-10T00:43:43.341Z"
   },
   {
    "duration": 97,
    "start_time": "2024-05-10T00:43:43.872Z"
   },
   {
    "duration": 1,
    "start_time": "2024-05-10T00:43:43.971Z"
   },
   {
    "duration": 11,
    "start_time": "2024-05-10T00:43:43.974Z"
   },
   {
    "duration": 463,
    "start_time": "2024-05-10T00:43:43.986Z"
   },
   {
    "duration": 54,
    "start_time": "2024-05-10T00:43:44.451Z"
   },
   {
    "duration": 94,
    "start_time": "2024-05-10T00:43:44.508Z"
   },
   {
    "duration": 7,
    "start_time": "2024-05-10T00:43:44.604Z"
   },
   {
    "duration": 14,
    "start_time": "2024-05-10T00:43:44.612Z"
   },
   {
    "duration": 18,
    "start_time": "2024-05-10T00:43:44.627Z"
   },
   {
    "duration": 2933,
    "start_time": "2024-05-10T00:43:44.646Z"
   },
   {
    "duration": 2863,
    "start_time": "2024-05-10T00:44:08.037Z"
   },
   {
    "duration": 2905,
    "start_time": "2024-05-10T00:44:28.848Z"
   },
   {
    "duration": 2847,
    "start_time": "2024-05-10T00:44:35.988Z"
   },
   {
    "duration": 3105,
    "start_time": "2024-05-10T00:46:00.504Z"
   },
   {
    "duration": 418,
    "start_time": "2024-05-10T00:46:03.611Z"
   },
   {
    "duration": 312,
    "start_time": "2024-05-10T00:46:04.030Z"
   },
   {
    "duration": 32,
    "start_time": "2024-05-10T00:46:04.344Z"
   },
   {
    "duration": 92,
    "start_time": "2024-05-10T00:46:04.377Z"
   },
   {
    "duration": 99,
    "start_time": "2024-05-10T00:46:04.470Z"
   },
   {
    "duration": 128,
    "start_time": "2024-05-10T00:46:04.570Z"
   },
   {
    "duration": 16,
    "start_time": "2024-05-10T00:46:04.701Z"
   },
   {
    "duration": 12,
    "start_time": "2024-05-10T00:46:04.718Z"
   },
   {
    "duration": 541,
    "start_time": "2024-05-10T00:46:04.732Z"
   },
   {
    "duration": 495,
    "start_time": "2024-05-10T00:46:05.274Z"
   },
   {
    "duration": 505,
    "start_time": "2024-05-10T00:46:05.770Z"
   },
   {
    "duration": 104,
    "start_time": "2024-05-10T00:46:06.276Z"
   },
   {
    "duration": 3,
    "start_time": "2024-05-10T00:46:06.381Z"
   },
   {
    "duration": 46,
    "start_time": "2024-05-10T00:46:06.385Z"
   },
   {
    "duration": 321,
    "start_time": "2024-05-10T00:46:06.433Z"
   },
   {
    "duration": 48,
    "start_time": "2024-05-10T00:46:06.756Z"
   },
   {
    "duration": 96,
    "start_time": "2024-05-10T00:46:06.806Z"
   },
   {
    "duration": 16,
    "start_time": "2024-05-10T00:46:06.903Z"
   },
   {
    "duration": 23,
    "start_time": "2024-05-10T00:46:06.920Z"
   },
   {
    "duration": 28,
    "start_time": "2024-05-10T00:46:06.944Z"
   },
   {
    "duration": 2943,
    "start_time": "2024-05-10T00:46:06.973Z"
   },
   {
    "duration": 2882,
    "start_time": "2024-05-10T00:46:35.864Z"
   },
   {
    "duration": 55,
    "start_time": "2024-05-10T14:40:14.976Z"
   },
   {
    "duration": 4473,
    "start_time": "2024-05-10T14:40:23.306Z"
   },
   {
    "duration": 762,
    "start_time": "2024-05-10T14:40:27.781Z"
   },
   {
    "duration": 1723,
    "start_time": "2024-05-10T14:40:28.544Z"
   },
   {
    "duration": 48,
    "start_time": "2024-05-10T14:40:30.269Z"
   },
   {
    "duration": 175,
    "start_time": "2024-05-10T14:40:30.320Z"
   },
   {
    "duration": 127,
    "start_time": "2024-05-10T14:40:30.497Z"
   },
   {
    "duration": 154,
    "start_time": "2024-05-10T14:40:30.626Z"
   },
   {
    "duration": 20,
    "start_time": "2024-05-10T14:40:30.782Z"
   },
   {
    "duration": 85,
    "start_time": "2024-05-10T14:40:30.804Z"
   },
   {
    "duration": 861,
    "start_time": "2024-05-10T14:40:30.890Z"
   },
   {
    "duration": 649,
    "start_time": "2024-05-10T14:40:31.753Z"
   },
   {
    "duration": 633,
    "start_time": "2024-05-10T14:40:32.404Z"
   },
   {
    "duration": 124,
    "start_time": "2024-05-10T14:40:33.039Z"
   },
   {
    "duration": 3,
    "start_time": "2024-05-10T14:40:33.172Z"
   },
   {
    "duration": 38,
    "start_time": "2024-05-10T14:40:33.176Z"
   },
   {
    "duration": 479,
    "start_time": "2024-05-10T14:40:33.215Z"
   },
   {
    "duration": 256,
    "start_time": "2024-05-10T14:40:33.696Z"
   },
   {
    "duration": 25,
    "start_time": "2024-05-10T14:40:33.954Z"
   },
   {
    "duration": 31,
    "start_time": "2024-05-10T14:40:33.981Z"
   },
   {
    "duration": 19,
    "start_time": "2024-05-10T14:40:34.014Z"
   },
   {
    "duration": 27,
    "start_time": "2024-05-10T14:40:34.034Z"
   },
   {
    "duration": 4255,
    "start_time": "2024-05-10T14:40:34.062Z"
   },
   {
    "duration": 3527,
    "start_time": "2024-05-10T19:55:35.181Z"
   },
   {
    "duration": 543,
    "start_time": "2024-05-10T19:55:38.710Z"
   },
   {
    "duration": 426,
    "start_time": "2024-05-10T19:55:39.254Z"
   },
   {
    "duration": 45,
    "start_time": "2024-05-10T19:55:39.682Z"
   },
   {
    "duration": 142,
    "start_time": "2024-05-10T19:55:39.729Z"
   },
   {
    "duration": 138,
    "start_time": "2024-05-10T19:55:39.873Z"
   },
   {
    "duration": 144,
    "start_time": "2024-05-10T19:55:40.012Z"
   },
   {
    "duration": 23,
    "start_time": "2024-05-10T19:55:40.158Z"
   },
   {
    "duration": 19,
    "start_time": "2024-05-10T19:55:40.183Z"
   },
   {
    "duration": 603,
    "start_time": "2024-05-10T19:55:40.205Z"
   },
   {
    "duration": 606,
    "start_time": "2024-05-10T19:55:40.809Z"
   },
   {
    "duration": 604,
    "start_time": "2024-05-10T19:55:41.417Z"
   },
   {
    "duration": 194,
    "start_time": "2024-05-10T19:55:42.023Z"
   },
   {
    "duration": 3,
    "start_time": "2024-05-10T19:55:42.218Z"
   },
   {
    "duration": 14,
    "start_time": "2024-05-10T19:55:42.222Z"
   },
   {
    "duration": 443,
    "start_time": "2024-05-10T19:55:42.238Z"
   },
   {
    "duration": 95,
    "start_time": "2024-05-10T19:55:42.683Z"
   },
   {
    "duration": 4,
    "start_time": "2024-05-10T19:55:42.781Z"
   },
   {
    "duration": 8,
    "start_time": "2024-05-10T19:55:42.872Z"
   },
   {
    "duration": 39,
    "start_time": "2024-05-10T19:55:42.882Z"
   },
   {
    "duration": 33,
    "start_time": "2024-05-10T19:55:42.923Z"
   },
   {
    "duration": 9,
    "start_time": "2024-05-10T19:55:42.958Z"
   },
   {
    "duration": 4153,
    "start_time": "2024-05-10T19:55:42.969Z"
   },
   {
    "duration": 3530,
    "start_time": "2024-05-10T20:41:56.373Z"
   },
   {
    "duration": 589,
    "start_time": "2024-05-10T20:41:59.905Z"
   },
   {
    "duration": 462,
    "start_time": "2024-05-10T20:42:00.496Z"
   },
   {
    "duration": 53,
    "start_time": "2024-05-10T20:42:00.960Z"
   },
   {
    "duration": 137,
    "start_time": "2024-05-10T20:42:01.014Z"
   },
   {
    "duration": 135,
    "start_time": "2024-05-10T20:42:01.153Z"
   },
   {
    "duration": 143,
    "start_time": "2024-05-10T20:42:01.290Z"
   },
   {
    "duration": 20,
    "start_time": "2024-05-10T20:42:01.435Z"
   },
   {
    "duration": 54,
    "start_time": "2024-05-10T20:42:01.456Z"
   },
   {
    "duration": 762,
    "start_time": "2024-05-10T20:42:01.513Z"
   },
   {
    "duration": 647,
    "start_time": "2024-05-10T20:42:02.278Z"
   },
   {
    "duration": 668,
    "start_time": "2024-05-10T20:42:02.926Z"
   },
   {
    "duration": 130,
    "start_time": "2024-05-10T20:42:03.596Z"
   },
   {
    "duration": 3,
    "start_time": "2024-05-10T20:42:03.729Z"
   },
   {
    "duration": 5,
    "start_time": "2024-05-10T20:42:03.734Z"
   },
   {
    "duration": 540,
    "start_time": "2024-05-10T20:42:03.741Z"
   },
   {
    "duration": 7,
    "start_time": "2024-05-10T20:42:04.283Z"
   },
   {
    "duration": 84,
    "start_time": "2024-05-10T20:42:04.297Z"
   },
   {
    "duration": 4,
    "start_time": "2024-05-10T20:42:04.389Z"
   },
   {
    "duration": 14,
    "start_time": "2024-05-10T20:42:04.395Z"
   },
   {
    "duration": 27,
    "start_time": "2024-05-10T20:42:04.411Z"
   },
   {
    "duration": 5,
    "start_time": "2024-05-10T20:42:04.440Z"
   },
   {
    "duration": 4400,
    "start_time": "2024-05-10T20:42:04.447Z"
   },
   {
    "duration": 3520,
    "start_time": "2024-05-10T21:08:59.149Z"
   },
   {
    "duration": 557,
    "start_time": "2024-05-10T21:09:02.671Z"
   },
   {
    "duration": 426,
    "start_time": "2024-05-10T21:09:03.230Z"
   },
   {
    "duration": 48,
    "start_time": "2024-05-10T21:09:03.658Z"
   },
   {
    "duration": 120,
    "start_time": "2024-05-10T21:09:03.709Z"
   },
   {
    "duration": 169,
    "start_time": "2024-05-10T21:09:03.831Z"
   },
   {
    "duration": 144,
    "start_time": "2024-05-10T21:09:04.003Z"
   },
   {
    "duration": 24,
    "start_time": "2024-05-10T21:09:04.149Z"
   },
   {
    "duration": 4,
    "start_time": "2024-05-10T21:09:04.175Z"
   },
   {
    "duration": 627,
    "start_time": "2024-05-10T21:09:04.181Z"
   },
   {
    "duration": 622,
    "start_time": "2024-05-10T21:09:04.810Z"
   },
   {
    "duration": 707,
    "start_time": "2024-05-10T21:09:05.435Z"
   },
   {
    "duration": 141,
    "start_time": "2024-05-10T21:09:06.144Z"
   },
   {
    "duration": 3,
    "start_time": "2024-05-10T21:09:06.287Z"
   },
   {
    "duration": 39,
    "start_time": "2024-05-10T21:09:06.291Z"
   },
   {
    "duration": 542,
    "start_time": "2024-05-10T21:09:06.331Z"
   },
   {
    "duration": 7,
    "start_time": "2024-05-10T21:09:06.875Z"
   },
   {
    "duration": 91,
    "start_time": "2024-05-10T21:09:06.884Z"
   },
   {
    "duration": 13,
    "start_time": "2024-05-10T21:09:06.978Z"
   },
   {
    "duration": 9,
    "start_time": "2024-05-10T21:09:06.993Z"
   },
   {
    "duration": 22,
    "start_time": "2024-05-10T21:09:07.074Z"
   },
   {
    "duration": 6,
    "start_time": "2024-05-10T21:09:07.098Z"
   },
   {
    "duration": 4281,
    "start_time": "2024-05-10T21:09:07.106Z"
   },
   {
    "duration": 3427,
    "start_time": "2024-05-11T00:42:30.293Z"
   },
   {
    "duration": 569,
    "start_time": "2024-05-11T00:42:33.722Z"
   },
   {
    "duration": 422,
    "start_time": "2024-05-11T00:42:34.295Z"
   },
   {
    "duration": 54,
    "start_time": "2024-05-11T00:42:34.720Z"
   },
   {
    "duration": 124,
    "start_time": "2024-05-11T00:42:34.775Z"
   },
   {
    "duration": 138,
    "start_time": "2024-05-11T00:42:34.901Z"
   },
   {
    "duration": 165,
    "start_time": "2024-05-11T00:42:35.041Z"
   },
   {
    "duration": 18,
    "start_time": "2024-05-11T00:42:35.209Z"
   },
   {
    "duration": 14,
    "start_time": "2024-05-11T00:42:35.229Z"
   },
   {
    "duration": 641,
    "start_time": "2024-05-11T00:42:35.244Z"
   },
   {
    "duration": 602,
    "start_time": "2024-05-11T00:42:35.887Z"
   },
   {
    "duration": 616,
    "start_time": "2024-05-11T00:42:36.491Z"
   },
   {
    "duration": 123,
    "start_time": "2024-05-11T00:42:37.111Z"
   },
   {
    "duration": 3,
    "start_time": "2024-05-11T00:42:37.236Z"
   },
   {
    "duration": 37,
    "start_time": "2024-05-11T00:42:37.241Z"
   },
   {
    "duration": 493,
    "start_time": "2024-05-11T00:42:37.280Z"
   },
   {
    "duration": 6,
    "start_time": "2024-05-11T00:42:37.776Z"
   },
   {
    "duration": 103,
    "start_time": "2024-05-11T00:42:37.784Z"
   },
   {
    "duration": 24,
    "start_time": "2024-05-11T00:42:37.889Z"
   },
   {
    "duration": 69,
    "start_time": "2024-05-11T00:42:37.915Z"
   },
   {
    "duration": 47,
    "start_time": "2024-05-11T00:42:37.985Z"
   },
   {
    "duration": 17,
    "start_time": "2024-05-11T00:42:38.034Z"
   },
   {
    "duration": 4125,
    "start_time": "2024-05-11T00:42:38.053Z"
   },
   {
    "duration": 6,
    "start_time": "2024-05-11T00:43:00.209Z"
   },
   {
    "duration": 4153,
    "start_time": "2024-05-11T00:43:01.657Z"
   },
   {
    "duration": 3,
    "start_time": "2024-05-11T00:44:22.820Z"
   },
   {
    "duration": 6,
    "start_time": "2024-05-11T00:44:23.182Z"
   },
   {
    "duration": 4102,
    "start_time": "2024-05-11T00:44:23.623Z"
   },
   {
    "duration": 3491,
    "start_time": "2024-05-11T00:46:34.619Z"
   },
   {
    "duration": 532,
    "start_time": "2024-05-11T00:46:38.112Z"
   },
   {
    "duration": 424,
    "start_time": "2024-05-11T00:46:38.645Z"
   },
   {
    "duration": 44,
    "start_time": "2024-05-11T00:46:39.071Z"
   },
   {
    "duration": 121,
    "start_time": "2024-05-11T00:46:39.117Z"
   },
   {
    "duration": 126,
    "start_time": "2024-05-11T00:46:39.239Z"
   },
   {
    "duration": 146,
    "start_time": "2024-05-11T00:46:39.374Z"
   },
   {
    "duration": 26,
    "start_time": "2024-05-11T00:46:39.522Z"
   },
   {
    "duration": 5,
    "start_time": "2024-05-11T00:46:39.549Z"
   },
   {
    "duration": 660,
    "start_time": "2024-05-11T00:46:39.556Z"
   },
   {
    "duration": 586,
    "start_time": "2024-05-11T00:46:40.217Z"
   },
   {
    "duration": 594,
    "start_time": "2024-05-11T00:46:40.805Z"
   },
   {
    "duration": 188,
    "start_time": "2024-05-11T00:46:41.400Z"
   },
   {
    "duration": 2,
    "start_time": "2024-05-11T00:46:41.590Z"
   },
   {
    "duration": 16,
    "start_time": "2024-05-11T00:46:41.594Z"
   },
   {
    "duration": 370,
    "start_time": "2024-05-11T00:46:41.612Z"
   },
   {
    "duration": 90,
    "start_time": "2024-05-11T00:46:41.985Z"
   },
   {
    "duration": 3,
    "start_time": "2024-05-11T00:46:42.077Z"
   },
   {
    "duration": 93,
    "start_time": "2024-05-11T00:46:42.082Z"
   },
   {
    "duration": 40,
    "start_time": "2024-05-11T00:46:42.177Z"
   },
   {
    "duration": 34,
    "start_time": "2024-05-11T00:46:42.219Z"
   },
   {
    "duration": 3,
    "start_time": "2024-05-11T00:46:42.254Z"
   },
   {
    "duration": 7,
    "start_time": "2024-05-11T00:46:42.259Z"
   },
   {
    "duration": 4220,
    "start_time": "2024-05-11T00:46:42.268Z"
   },
   {
    "duration": 3441,
    "start_time": "2024-05-11T00:47:41.723Z"
   },
   {
    "duration": 558,
    "start_time": "2024-05-11T00:47:45.167Z"
   },
   {
    "duration": 438,
    "start_time": "2024-05-11T00:47:45.726Z"
   },
   {
    "duration": 41,
    "start_time": "2024-05-11T00:47:46.166Z"
   },
   {
    "duration": 121,
    "start_time": "2024-05-11T00:47:46.209Z"
   },
   {
    "duration": 124,
    "start_time": "2024-05-11T00:47:46.331Z"
   },
   {
    "duration": 146,
    "start_time": "2024-05-11T00:47:46.456Z"
   },
   {
    "duration": 19,
    "start_time": "2024-05-11T00:47:46.603Z"
   },
   {
    "duration": 39,
    "start_time": "2024-05-11T00:47:46.623Z"
   },
   {
    "duration": 652,
    "start_time": "2024-05-11T00:47:46.664Z"
   },
   {
    "duration": 586,
    "start_time": "2024-05-11T00:47:47.317Z"
   },
   {
    "duration": 605,
    "start_time": "2024-05-11T00:47:47.904Z"
   },
   {
    "duration": 131,
    "start_time": "2024-05-11T00:47:48.510Z"
   },
   {
    "duration": 2,
    "start_time": "2024-05-11T00:47:48.644Z"
   },
   {
    "duration": 7,
    "start_time": "2024-05-11T00:47:48.647Z"
   },
   {
    "duration": 518,
    "start_time": "2024-05-11T00:47:48.655Z"
   },
   {
    "duration": 95,
    "start_time": "2024-05-11T00:47:49.181Z"
   },
   {
    "duration": 3,
    "start_time": "2024-05-11T00:47:49.278Z"
   },
   {
    "duration": 6,
    "start_time": "2024-05-11T00:47:49.283Z"
   },
   {
    "duration": 3,
    "start_time": "2024-05-11T00:47:49.291Z"
   },
   {
    "duration": 26,
    "start_time": "2024-05-11T00:47:49.296Z"
   },
   {
    "duration": 51,
    "start_time": "2024-05-11T00:47:49.323Z"
   },
   {
    "duration": 5,
    "start_time": "2024-05-11T00:47:49.376Z"
   },
   {
    "duration": 4213,
    "start_time": "2024-05-11T00:47:49.383Z"
   },
   {
    "duration": 3416,
    "start_time": "2024-05-11T00:53:25.248Z"
   },
   {
    "duration": 580,
    "start_time": "2024-05-11T00:53:28.666Z"
   },
   {
    "duration": 430,
    "start_time": "2024-05-11T00:53:29.248Z"
   },
   {
    "duration": 44,
    "start_time": "2024-05-11T00:53:29.680Z"
   },
   {
    "duration": 128,
    "start_time": "2024-05-11T00:53:29.726Z"
   },
   {
    "duration": 134,
    "start_time": "2024-05-11T00:53:29.856Z"
   },
   {
    "duration": 153,
    "start_time": "2024-05-11T00:53:29.991Z"
   },
   {
    "duration": 29,
    "start_time": "2024-05-11T00:53:30.146Z"
   },
   {
    "duration": 78,
    "start_time": "2024-05-11T00:53:30.178Z"
   },
   {
    "duration": 859,
    "start_time": "2024-05-11T00:53:30.258Z"
   },
   {
    "duration": 667,
    "start_time": "2024-05-11T00:53:31.119Z"
   },
   {
    "duration": 625,
    "start_time": "2024-05-11T00:53:31.787Z"
   },
   {
    "duration": 120,
    "start_time": "2024-05-11T00:53:32.414Z"
   },
   {
    "duration": 3,
    "start_time": "2024-05-11T00:53:32.536Z"
   },
   {
    "duration": 33,
    "start_time": "2024-05-11T00:53:32.540Z"
   },
   {
    "duration": 498,
    "start_time": "2024-05-11T00:53:32.575Z"
   },
   {
    "duration": 6,
    "start_time": "2024-05-11T00:53:33.075Z"
   },
   {
    "duration": 191,
    "start_time": "2024-05-11T00:53:33.083Z"
   },
   {
    "duration": 12,
    "start_time": "2024-05-11T00:53:33.276Z"
   },
   {
    "duration": 12,
    "start_time": "2024-05-11T00:53:33.290Z"
   },
   {
    "duration": 29,
    "start_time": "2024-05-11T00:53:33.304Z"
   },
   {
    "duration": 3,
    "start_time": "2024-05-11T00:53:33.334Z"
   },
   {
    "duration": 12,
    "start_time": "2024-05-11T00:53:33.338Z"
   },
   {
    "duration": 4167,
    "start_time": "2024-05-11T00:53:33.351Z"
   }
  ],
  "kernelspec": {
   "display_name": "Python 3 (ipykernel)",
   "language": "python",
   "name": "python3"
  },
  "language_info": {
   "codemirror_mode": {
    "name": "ipython",
    "version": 3
   },
   "file_extension": ".py",
   "mimetype": "text/x-python",
   "name": "python",
   "nbconvert_exporter": "python",
   "pygments_lexer": "ipython3",
   "version": "3.9.5"
  },
  "toc": {
   "base_numbering": 1,
   "nav_menu": {},
   "number_sections": true,
   "sideBar": true,
   "skip_h1_title": true,
   "title_cell": "Table of Contents",
   "title_sidebar": "Contents",
   "toc_cell": false,
   "toc_position": {},
   "toc_section_display": true,
   "toc_window_display": false
  }
 },
 "nbformat": 4,
 "nbformat_minor": 2
}
