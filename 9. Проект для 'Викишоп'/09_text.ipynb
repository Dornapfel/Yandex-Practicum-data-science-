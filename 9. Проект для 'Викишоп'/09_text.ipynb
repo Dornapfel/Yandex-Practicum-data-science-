{
 "cells": [
  {
   "cell_type": "markdown",
   "metadata": {
    "toc": true
   },
   "source": [
    "<h1>Содержание<span class=\"tocSkip\"></span></h1>\n",
    "<div class=\"toc\"><ul class=\"toc-item\"><li><span><a href=\"#Подготовка\" data-toc-modified-id=\"Подготовка-1\"><span class=\"toc-item-num\">1&nbsp;&nbsp;</span>Подготовка</a></span><ul class=\"toc-item\"><li><span><a href=\"#Импорты\" data-toc-modified-id=\"Импорты-1.1\"><span class=\"toc-item-num\">1.1&nbsp;&nbsp;</span>Импорты</a></span></li><li><span><a href=\"#Загрузка-данных\" data-toc-modified-id=\"Загрузка-данных-1.2\"><span class=\"toc-item-num\">1.2&nbsp;&nbsp;</span>Загрузка данных</a></span></li><li><span><a href=\"#Просмотрим-данные\" data-toc-modified-id=\"Просмотрим-данные-1.3\"><span class=\"toc-item-num\">1.3&nbsp;&nbsp;</span>Просмотрим данные</a></span><ul class=\"toc-item\"><li><span><a href=\"#Проверим-пропуски-и-дубликаты\" data-toc-modified-id=\"Проверим-пропуски-и-дубликаты-1.3.1\"><span class=\"toc-item-num\">1.3.1&nbsp;&nbsp;</span>Проверим пропуски и дубликаты</a></span></li><li><span><a href=\"#Проверим,-насколько-велика-часть-&quot;токсичных&quot;-комментариев:\" data-toc-modified-id=\"Проверим,-насколько-велика-часть-&quot;токсичных&quot;-комментариев:-1.3.2\"><span class=\"toc-item-num\">1.3.2&nbsp;&nbsp;</span>Проверим, насколько велика часть \"токсичных\" комментариев:</a></span></li></ul></li></ul></li><li><span><a href=\"#Обучение\" data-toc-modified-id=\"Обучение-2\"><span class=\"toc-item-num\">2&nbsp;&nbsp;</span>Обучение</a></span><ul class=\"toc-item\"><li><span><a href=\"#Подготовка\" data-toc-modified-id=\"Подготовка-2.1\"><span class=\"toc-item-num\">2.1&nbsp;&nbsp;</span>Подготовка</a></span><ul class=\"toc-item\"><li><span><a href=\"#Удалим-столбец-&quot;Unnamed:-0&quot;\" data-toc-modified-id=\"Удалим-столбец-&quot;Unnamed:-0&quot;-2.1.1\"><span class=\"toc-item-num\">2.1.1&nbsp;&nbsp;</span>Удалим столбец \"Unnamed: 0\"</a></span></li><li><span><a href=\"#Приведем-к-нижнему-регистру\" data-toc-modified-id=\"Приведем-к-нижнему-регистру-2.1.2\"><span class=\"toc-item-num\">2.1.2&nbsp;&nbsp;</span>Приведем к нижнему регистру</a></span></li><li><span><a href=\"#Очистим-от-лишнего\" data-toc-modified-id=\"Очистим-от-лишнего-2.1.3\"><span class=\"toc-item-num\">2.1.3&nbsp;&nbsp;</span>Очистим от лишнего</a></span></li><li><span><a href=\"#Лемматизируем\" data-toc-modified-id=\"Лемматизируем-2.1.4\"><span class=\"toc-item-num\">2.1.4&nbsp;&nbsp;</span>Лемматизируем</a></span></li><li><span><a href=\"#Разделим-данные-на-обучающую-и-тестовую-выборки\" data-toc-modified-id=\"Разделим-данные-на-обучающую-и-тестовую-выборки-2.1.5\"><span class=\"toc-item-num\">2.1.5&nbsp;&nbsp;</span>Разделим данные на обучающую и тестовую выборки</a></span></li><li><span><a href=\"#Просмотрим-получившиеся-выборки\" data-toc-modified-id=\"Просмотрим-получившиеся-выборки-2.1.6\"><span class=\"toc-item-num\">2.1.6&nbsp;&nbsp;</span>Просмотрим получившиеся выборки</a></span></li><li><span><a href=\"#Создадим-корпус-для-каждой-выборки\" data-toc-modified-id=\"Создадим-корпус-для-каждой-выборки-2.1.7\"><span class=\"toc-item-num\">2.1.7&nbsp;&nbsp;</span>Создадим корпус для каждой выборки</a></span></li><li><span><a href=\"#Вычислим-TF-IDF-для-корпуса-текстов--(+стопслова-для-английского-языка)\" data-toc-modified-id=\"Вычислим-TF-IDF-для-корпуса-текстов--(+стопслова-для-английского-языка)-2.1.8\"><span class=\"toc-item-num\">2.1.8&nbsp;&nbsp;</span>Вычислим TF-IDF для корпуса текстов  (+стопслова для английского языка)</a></span></li></ul></li><li><span><a href=\"#Обучение-моделей\" data-toc-modified-id=\"Обучение-моделей-2.2\"><span class=\"toc-item-num\">2.2&nbsp;&nbsp;</span>Обучение моделей</a></span><ul class=\"toc-item\"><li><span><a href=\"#Заранее-создадим-датафрейм-для-хранения-результатов\" data-toc-modified-id=\"Заранее-создадим-датафрейм-для-хранения-результатов-2.2.1\"><span class=\"toc-item-num\">2.2.1&nbsp;&nbsp;</span>Заранее создадим датафрейм для хранения результатов</a></span></li><li><span><a href=\"#Логистическая-регрессия\" data-toc-modified-id=\"Логистическая-регрессия-2.2.2\"><span class=\"toc-item-num\">2.2.2&nbsp;&nbsp;</span>Логистическая регрессия</a></span></li><li><span><a href=\"#Дерево-решений\" data-toc-modified-id=\"Дерево-решений-2.2.3\"><span class=\"toc-item-num\">2.2.3&nbsp;&nbsp;</span>Дерево решений</a></span></li><li><span><a href=\"#CatBoost\" data-toc-modified-id=\"CatBoost-2.2.4\"><span class=\"toc-item-num\">2.2.4&nbsp;&nbsp;</span>CatBoost</a></span></li></ul></li><li><span><a href=\"#Общие-результаты-производительности\" data-toc-modified-id=\"Общие-результаты-производительности-2.3\"><span class=\"toc-item-num\">2.3&nbsp;&nbsp;</span>Общие результаты производительности</a></span><ul class=\"toc-item\"><li><span><a href=\"#DummyClassifier\" data-toc-modified-id=\"DummyClassifier-2.3.1\"><span class=\"toc-item-num\">2.3.1&nbsp;&nbsp;</span>DummyClassifier</a></span></li></ul></li></ul></li><li><span><a href=\"#Выводы\" data-toc-modified-id=\"Выводы-3\"><span class=\"toc-item-num\">3&nbsp;&nbsp;</span>Выводы</a></span></li><li><span><a href=\"#Чек-лист-проверки\" data-toc-modified-id=\"Чек-лист-проверки-4\"><span class=\"toc-item-num\">4&nbsp;&nbsp;</span>Чек-лист проверки</a></span></li></ul></div>"
   ]
  },
  {
   "cell_type": "markdown",
   "metadata": {},
   "source": [
    "# Проект для «Викишоп»"
   ]
  },
  {
   "cell_type": "markdown",
   "metadata": {},
   "source": [
    "Интернет-магазин «Викишоп» запускает новый сервис. Теперь пользователи могут редактировать и дополнять описания товаров, как в вики-сообществах. То есть клиенты предлагают свои правки и комментируют изменения других. Магазину нужен инструмент, который будет искать токсичные комментарии и отправлять их на модерацию. \n",
    "\n",
    "Обучите модель классифицировать комментарии на позитивные и негативные. В вашем распоряжении набор данных с разметкой о токсичности правок.\n",
    "\n",
    "Постройте модель со значением метрики качества *F1* не меньше 0.75. \n",
    "\n",
    "**Инструкция по выполнению проекта**\n",
    "\n",
    "1. Загрузите и подготовьте данные.\n",
    "2. Обучите разные модели. \n",
    "3. Сделайте выводы.\n",
    "\n",
    "Для выполнения проекта применять *BERT* необязательно, но вы можете попробовать.\n",
    "\n",
    "**Описание данных**\n",
    "\n",
    "Данные находятся в файле `toxic_comments.csv`. Столбец *text* в нём содержит текст комментария, а *toxic* — целевой признак."
   ]
  },
  {
   "cell_type": "markdown",
   "metadata": {},
   "source": [
    "## Подготовка"
   ]
  },
  {
   "cell_type": "markdown",
   "metadata": {},
   "source": [
    "### Импорты"
   ]
  },
  {
   "cell_type": "code",
   "execution_count": 1,
   "metadata": {},
   "outputs": [],
   "source": [
    "import re\n",
    "import warnings\n",
    "import datetime\n",
    "import pandas as pd\n",
    "import numpy as np\n",
    "import time\n",
    "\n",
    "from tqdm import tqdm\n",
    "import nltk\n",
    "from nltk.corpus import stopwords as nltk_stopwords, wordnet\n",
    "from nltk.stem import WordNetLemmatizer\n",
    "\n",
    "from sklearn.pipeline import Pipeline\n",
    "from sklearn.feature_extraction.text import TfidfVectorizer, CountVectorizer\n",
    "from sklearn.model_selection import train_test_split, cross_val_score, RandomizedSearchCV, GridSearchCV, KFold\n",
    "from sklearn.linear_model import LogisticRegression, SGDClassifier\n",
    "from sklearn.tree import DecisionTreeClassifier\n",
    "from sklearn.ensemble import RandomForestClassifier\n",
    "from sklearn.metrics import f1_score\n",
    "from sklearn.utils import shuffle\n",
    "from sklearn.exceptions import NotFittedError\n",
    "\n",
    "from joblib import Parallel, delayed\n",
    "from catboost import CatBoostClassifier\n",
    "from tqdm.notebook import tqdm_notebook\n",
    "\n",
    "warnings.filterwarnings('ignore')"
   ]
  },
  {
   "cell_type": "code",
   "execution_count": 2,
   "metadata": {},
   "outputs": [
    {
     "name": "stdout",
     "output_type": "stream",
     "text": [
      "Requirement already satisfied: pandarallel in /opt/conda/lib/python3.9/site-packages (1.6.5)\r\n",
      "Requirement already satisfied: dill>=0.3.1 in /opt/conda/lib/python3.9/site-packages (from pandarallel) (0.3.8)\r\n",
      "Requirement already satisfied: pandas>=1 in /opt/conda/lib/python3.9/site-packages (from pandarallel) (1.2.4)\r\n",
      "Requirement already satisfied: psutil in /opt/conda/lib/python3.9/site-packages (from pandarallel) (6.0.0)\r\n",
      "Requirement already satisfied: python-dateutil>=2.7.3 in /opt/conda/lib/python3.9/site-packages (from pandas>=1->pandarallel) (2.8.1)\r\n",
      "Requirement already satisfied: pytz>=2017.3 in /opt/conda/lib/python3.9/site-packages (from pandas>=1->pandarallel) (2021.1)\r\n",
      "Requirement already satisfied: numpy>=1.16.5 in /opt/conda/lib/python3.9/site-packages (from pandas>=1->pandarallel) (1.21.1)\r\n",
      "Requirement already satisfied: six>=1.5 in /opt/conda/lib/python3.9/site-packages (from python-dateutil>=2.7.3->pandas>=1->pandarallel) (1.16.0)\r\n"
     ]
    }
   ],
   "source": [
    "!pip install pandarallel\n",
    "\n",
    "from pandarallel import pandarallel"
   ]
  },
  {
   "cell_type": "markdown",
   "metadata": {},
   "source": [
    "### Загрузка данных"
   ]
  },
  {
   "cell_type": "code",
   "execution_count": 3,
   "metadata": {},
   "outputs": [
    {
     "name": "stdout",
     "output_type": "stream",
     "text": [
      "<class 'pandas.core.frame.DataFrame'>\n",
      "RangeIndex: 159292 entries, 0 to 159291\n",
      "Data columns (total 3 columns):\n",
      " #   Column      Non-Null Count   Dtype \n",
      "---  ------      --------------   ----- \n",
      " 0   Unnamed: 0  159292 non-null  int64 \n",
      " 1   text        159292 non-null  object\n",
      " 2   toxic       159292 non-null  int64 \n",
      "dtypes: int64(2), object(1)\n",
      "memory usage: 3.6+ MB\n"
     ]
    }
   ],
   "source": [
    "data = pd.read_csv('/datasets/toxic_comments.csv')\n",
    "data.info()"
   ]
  },
  {
   "cell_type": "markdown",
   "metadata": {},
   "source": [
    "### Просмотрим данные"
   ]
  },
  {
   "cell_type": "code",
   "execution_count": 4,
   "metadata": {},
   "outputs": [
    {
     "data": {
      "text/html": [
       "<div>\n",
       "<style scoped>\n",
       "    .dataframe tbody tr th:only-of-type {\n",
       "        vertical-align: middle;\n",
       "    }\n",
       "\n",
       "    .dataframe tbody tr th {\n",
       "        vertical-align: top;\n",
       "    }\n",
       "\n",
       "    .dataframe thead th {\n",
       "        text-align: right;\n",
       "    }\n",
       "</style>\n",
       "<table border=\"1\" class=\"dataframe\">\n",
       "  <thead>\n",
       "    <tr style=\"text-align: right;\">\n",
       "      <th></th>\n",
       "      <th>Unnamed: 0</th>\n",
       "      <th>text</th>\n",
       "      <th>toxic</th>\n",
       "    </tr>\n",
       "  </thead>\n",
       "  <tbody>\n",
       "    <tr>\n",
       "      <th>0</th>\n",
       "      <td>0</td>\n",
       "      <td>Explanation\\nWhy the edits made under my usern...</td>\n",
       "      <td>0</td>\n",
       "    </tr>\n",
       "    <tr>\n",
       "      <th>1</th>\n",
       "      <td>1</td>\n",
       "      <td>D'aww! He matches this background colour I'm s...</td>\n",
       "      <td>0</td>\n",
       "    </tr>\n",
       "    <tr>\n",
       "      <th>2</th>\n",
       "      <td>2</td>\n",
       "      <td>Hey man, I'm really not trying to edit war. It...</td>\n",
       "      <td>0</td>\n",
       "    </tr>\n",
       "    <tr>\n",
       "      <th>3</th>\n",
       "      <td>3</td>\n",
       "      <td>\"\\nMore\\nI can't make any real suggestions on ...</td>\n",
       "      <td>0</td>\n",
       "    </tr>\n",
       "    <tr>\n",
       "      <th>4</th>\n",
       "      <td>4</td>\n",
       "      <td>You, sir, are my hero. Any chance you remember...</td>\n",
       "      <td>0</td>\n",
       "    </tr>\n",
       "    <tr>\n",
       "      <th>5</th>\n",
       "      <td>5</td>\n",
       "      <td>\"\\n\\nCongratulations from me as well, use the ...</td>\n",
       "      <td>0</td>\n",
       "    </tr>\n",
       "    <tr>\n",
       "      <th>6</th>\n",
       "      <td>6</td>\n",
       "      <td>COCKSUCKER BEFORE YOU PISS AROUND ON MY WORK</td>\n",
       "      <td>1</td>\n",
       "    </tr>\n",
       "    <tr>\n",
       "      <th>7</th>\n",
       "      <td>7</td>\n",
       "      <td>Your vandalism to the Matt Shirvington article...</td>\n",
       "      <td>0</td>\n",
       "    </tr>\n",
       "    <tr>\n",
       "      <th>8</th>\n",
       "      <td>8</td>\n",
       "      <td>Sorry if the word 'nonsense' was offensive to ...</td>\n",
       "      <td>0</td>\n",
       "    </tr>\n",
       "    <tr>\n",
       "      <th>9</th>\n",
       "      <td>9</td>\n",
       "      <td>alignment on this subject and which are contra...</td>\n",
       "      <td>0</td>\n",
       "    </tr>\n",
       "  </tbody>\n",
       "</table>\n",
       "</div>"
      ],
      "text/plain": [
       "   Unnamed: 0                                               text  toxic\n",
       "0           0  Explanation\\nWhy the edits made under my usern...      0\n",
       "1           1  D'aww! He matches this background colour I'm s...      0\n",
       "2           2  Hey man, I'm really not trying to edit war. It...      0\n",
       "3           3  \"\\nMore\\nI can't make any real suggestions on ...      0\n",
       "4           4  You, sir, are my hero. Any chance you remember...      0\n",
       "5           5  \"\\n\\nCongratulations from me as well, use the ...      0\n",
       "6           6       COCKSUCKER BEFORE YOU PISS AROUND ON MY WORK      1\n",
       "7           7  Your vandalism to the Matt Shirvington article...      0\n",
       "8           8  Sorry if the word 'nonsense' was offensive to ...      0\n",
       "9           9  alignment on this subject and which are contra...      0"
      ]
     },
     "metadata": {},
     "output_type": "display_data"
    },
    {
     "data": {
      "text/html": [
       "<div>\n",
       "<style scoped>\n",
       "    .dataframe tbody tr th:only-of-type {\n",
       "        vertical-align: middle;\n",
       "    }\n",
       "\n",
       "    .dataframe tbody tr th {\n",
       "        vertical-align: top;\n",
       "    }\n",
       "\n",
       "    .dataframe thead th {\n",
       "        text-align: right;\n",
       "    }\n",
       "</style>\n",
       "<table border=\"1\" class=\"dataframe\">\n",
       "  <thead>\n",
       "    <tr style=\"text-align: right;\">\n",
       "      <th></th>\n",
       "      <th>Unnamed: 0</th>\n",
       "      <th>text</th>\n",
       "      <th>toxic</th>\n",
       "    </tr>\n",
       "  </thead>\n",
       "  <tbody>\n",
       "    <tr>\n",
       "      <th>159282</th>\n",
       "      <td>159441</td>\n",
       "      <td>\"\\nNo he did not, read it again (I would have ...</td>\n",
       "      <td>0</td>\n",
       "    </tr>\n",
       "    <tr>\n",
       "      <th>159283</th>\n",
       "      <td>159442</td>\n",
       "      <td>\"\\n Auto guides and the motoring press are not...</td>\n",
       "      <td>0</td>\n",
       "    </tr>\n",
       "    <tr>\n",
       "      <th>159284</th>\n",
       "      <td>159443</td>\n",
       "      <td>\"\\nplease identify what part of BLP applies be...</td>\n",
       "      <td>0</td>\n",
       "    </tr>\n",
       "    <tr>\n",
       "      <th>159285</th>\n",
       "      <td>159444</td>\n",
       "      <td>Catalan independentism is the social movement ...</td>\n",
       "      <td>0</td>\n",
       "    </tr>\n",
       "    <tr>\n",
       "      <th>159286</th>\n",
       "      <td>159445</td>\n",
       "      <td>The numbers in parentheses are the additional ...</td>\n",
       "      <td>0</td>\n",
       "    </tr>\n",
       "    <tr>\n",
       "      <th>159287</th>\n",
       "      <td>159446</td>\n",
       "      <td>\":::::And for the second time of asking, when ...</td>\n",
       "      <td>0</td>\n",
       "    </tr>\n",
       "    <tr>\n",
       "      <th>159288</th>\n",
       "      <td>159447</td>\n",
       "      <td>You should be ashamed of yourself \\n\\nThat is ...</td>\n",
       "      <td>0</td>\n",
       "    </tr>\n",
       "    <tr>\n",
       "      <th>159289</th>\n",
       "      <td>159448</td>\n",
       "      <td>Spitzer \\n\\nUmm, theres no actual article for ...</td>\n",
       "      <td>0</td>\n",
       "    </tr>\n",
       "    <tr>\n",
       "      <th>159290</th>\n",
       "      <td>159449</td>\n",
       "      <td>And it looks like it was actually you who put ...</td>\n",
       "      <td>0</td>\n",
       "    </tr>\n",
       "    <tr>\n",
       "      <th>159291</th>\n",
       "      <td>159450</td>\n",
       "      <td>\"\\nAnd ... I really don't think you understand...</td>\n",
       "      <td>0</td>\n",
       "    </tr>\n",
       "  </tbody>\n",
       "</table>\n",
       "</div>"
      ],
      "text/plain": [
       "        Unnamed: 0                                               text  toxic\n",
       "159282      159441  \"\\nNo he did not, read it again (I would have ...      0\n",
       "159283      159442  \"\\n Auto guides and the motoring press are not...      0\n",
       "159284      159443  \"\\nplease identify what part of BLP applies be...      0\n",
       "159285      159444  Catalan independentism is the social movement ...      0\n",
       "159286      159445  The numbers in parentheses are the additional ...      0\n",
       "159287      159446  \":::::And for the second time of asking, when ...      0\n",
       "159288      159447  You should be ashamed of yourself \\n\\nThat is ...      0\n",
       "159289      159448  Spitzer \\n\\nUmm, theres no actual article for ...      0\n",
       "159290      159449  And it looks like it was actually you who put ...      0\n",
       "159291      159450  \"\\nAnd ... I really don't think you understand...      0"
      ]
     },
     "metadata": {},
     "output_type": "display_data"
    },
    {
     "data": {
      "text/plain": [
       "(159292, 3)"
      ]
     },
     "metadata": {},
     "output_type": "display_data"
    }
   ],
   "source": [
    "display(data.head(10), data.tail(10), data.shape)"
   ]
  },
  {
   "cell_type": "markdown",
   "metadata": {},
   "source": [
    "#### Проверим пропуски и дубликаты"
   ]
  },
  {
   "cell_type": "code",
   "execution_count": 5,
   "metadata": {},
   "outputs": [
    {
     "data": {
      "text/plain": [
       "Unnamed: 0    0\n",
       "text          0\n",
       "toxic         0\n",
       "dtype: int64"
      ]
     },
     "metadata": {},
     "output_type": "display_data"
    }
   ],
   "source": [
    "display(data.isna().sum())"
   ]
  },
  {
   "cell_type": "code",
   "execution_count": 6,
   "metadata": {},
   "outputs": [
    {
     "data": {
      "text/plain": [
       "0"
      ]
     },
     "metadata": {},
     "output_type": "display_data"
    }
   ],
   "source": [
    "display(data.duplicated().sum())"
   ]
  },
  {
   "cell_type": "markdown",
   "metadata": {},
   "source": [
    "#### Проверим, насколько велика часть \"токсичных\" комментариев:"
   ]
  },
  {
   "cell_type": "code",
   "execution_count": 7,
   "metadata": {},
   "outputs": [
    {
     "data": {
      "text/plain": [
       "0    0.898388\n",
       "1    0.101612\n",
       "Name: toxic, dtype: float64"
      ]
     },
     "metadata": {},
     "output_type": "display_data"
    }
   ],
   "source": [
    "display(data.toxic.value_counts(normalize=True))"
   ]
  },
  {
   "cell_type": "markdown",
   "metadata": {},
   "source": [
    "# Выводы:\n",
    "\n",
    "- Сразу заметно, что в комментариях присутствуют лишние символы - (\\n, \":::, /) и тд\n",
    "\n",
    "\n",
    "- Видим столбец \"Unnamed: 0\", который дублирует индексы, но его нумерация не соответствует количеству строк:\n",
    "    - 159292 строки и масимум значений в столбце \"Unnamed: 0\", равный 159450, которые не совпадают\n",
    "        - Лучше будет удалить столбец\n",
    "        \n",
    "        \n",
    "- Пропусков и дубликатов нет\n",
    "\n",
    "\n",
    "- Видно существенный дисбаланс классов \"токсичности\" комментариев, что стоит учитывать в дальнейшем"
   ]
  },
  {
   "cell_type": "markdown",
   "metadata": {},
   "source": [
    "## Обучение"
   ]
  },
  {
   "cell_type": "markdown",
   "metadata": {},
   "source": [
    "### Подготовка"
   ]
  },
  {
   "cell_type": "code",
   "execution_count": 8,
   "metadata": {},
   "outputs": [],
   "source": [
    "RANDOM_STATE = 42"
   ]
  },
  {
   "cell_type": "markdown",
   "metadata": {},
   "source": [
    "#### Удалим столбец \"Unnamed: 0\""
   ]
  },
  {
   "cell_type": "code",
   "execution_count": 9,
   "metadata": {},
   "outputs": [],
   "source": [
    "data = data.drop(['Unnamed: 0'], axis=1)"
   ]
  },
  {
   "cell_type": "markdown",
   "metadata": {},
   "source": [
    "#### Приведем к нижнему регистру"
   ]
  },
  {
   "cell_type": "code",
   "execution_count": 10,
   "metadata": {},
   "outputs": [],
   "source": [
    "data['text'] = data['text'].str.lower()"
   ]
  },
  {
   "cell_type": "markdown",
   "metadata": {},
   "source": [
    "#### Очистим от лишнего"
   ]
  },
  {
   "cell_type": "code",
   "execution_count": 11,
   "metadata": {},
   "outputs": [],
   "source": [
    "def clear_text(text):\n",
    "    clear_list = re.sub(r'[^a-zA-Z ]', ' ', text)\n",
    "    clear_text = \" \".join(clear_list.split())\n",
    "    return clear_text\n",
    "\n",
    "data['text'] = data['text'].apply(clear_text)"
   ]
  },
  {
   "cell_type": "code",
   "execution_count": 12,
   "metadata": {},
   "outputs": [
    {
     "data": {
      "text/html": [
       "<div>\n",
       "<style scoped>\n",
       "    .dataframe tbody tr th:only-of-type {\n",
       "        vertical-align: middle;\n",
       "    }\n",
       "\n",
       "    .dataframe tbody tr th {\n",
       "        vertical-align: top;\n",
       "    }\n",
       "\n",
       "    .dataframe thead th {\n",
       "        text-align: right;\n",
       "    }\n",
       "</style>\n",
       "<table border=\"1\" class=\"dataframe\">\n",
       "  <thead>\n",
       "    <tr style=\"text-align: right;\">\n",
       "      <th></th>\n",
       "      <th>text</th>\n",
       "      <th>toxic</th>\n",
       "    </tr>\n",
       "  </thead>\n",
       "  <tbody>\n",
       "    <tr>\n",
       "      <th>56744</th>\n",
       "      <td>well i read the policies listed and i agree an...</td>\n",
       "      <td>0</td>\n",
       "    </tr>\n",
       "    <tr>\n",
       "      <th>121474</th>\n",
       "      <td>nichalp talk jun utc</td>\n",
       "      <td>0</td>\n",
       "    </tr>\n",
       "    <tr>\n",
       "      <th>158389</th>\n",
       "      <td>all possible worlds i have added a prod templa...</td>\n",
       "      <td>0</td>\n",
       "    </tr>\n",
       "    <tr>\n",
       "      <th>47383</th>\n",
       "      <td>when personal email addresses are posted for t...</td>\n",
       "      <td>0</td>\n",
       "    </tr>\n",
       "    <tr>\n",
       "      <th>41885</th>\n",
       "      <td>this is incidentally why turbo exhaust manifol...</td>\n",
       "      <td>0</td>\n",
       "    </tr>\n",
       "    <tr>\n",
       "      <th>105566</th>\n",
       "      <td>list format it seems that the entire format of...</td>\n",
       "      <td>0</td>\n",
       "    </tr>\n",
       "    <tr>\n",
       "      <th>151203</th>\n",
       "      <td>barretbonden thanks for reminding me castle ar...</td>\n",
       "      <td>0</td>\n",
       "    </tr>\n",
       "    <tr>\n",
       "      <th>44421</th>\n",
       "      <td>keep in mind that wp rr limits distruptive edi...</td>\n",
       "      <td>0</td>\n",
       "    </tr>\n",
       "    <tr>\n",
       "      <th>84421</th>\n",
       "      <td>you study this situation luigi is active edito...</td>\n",
       "      <td>1</td>\n",
       "    </tr>\n",
       "    <tr>\n",
       "      <th>12863</th>\n",
       "      <td>i don t understand your comment about having t...</td>\n",
       "      <td>0</td>\n",
       "    </tr>\n",
       "    <tr>\n",
       "      <th>91100</th>\n",
       "      <td>persistent addition of unsourced content you k...</td>\n",
       "      <td>0</td>\n",
       "    </tr>\n",
       "    <tr>\n",
       "      <th>65390</th>\n",
       "      <td>are you satisfied as i mentioned on the talk p...</td>\n",
       "      <td>0</td>\n",
       "    </tr>\n",
       "    <tr>\n",
       "      <th>129618</th>\n",
       "      <td>by all means you dont need to inform me of you...</td>\n",
       "      <td>0</td>\n",
       "    </tr>\n",
       "    <tr>\n",
       "      <th>107318</th>\n",
       "      <td>gateman i ve been asked to assure you that gat...</td>\n",
       "      <td>0</td>\n",
       "    </tr>\n",
       "    <tr>\n",
       "      <th>76247</th>\n",
       "      <td>welcome hello and welcome to wikipedia thank y...</td>\n",
       "      <td>0</td>\n",
       "    </tr>\n",
       "  </tbody>\n",
       "</table>\n",
       "</div>"
      ],
      "text/plain": [
       "                                                     text  toxic\n",
       "56744   well i read the policies listed and i agree an...      0\n",
       "121474                               nichalp talk jun utc      0\n",
       "158389  all possible worlds i have added a prod templa...      0\n",
       "47383   when personal email addresses are posted for t...      0\n",
       "41885   this is incidentally why turbo exhaust manifol...      0\n",
       "105566  list format it seems that the entire format of...      0\n",
       "151203  barretbonden thanks for reminding me castle ar...      0\n",
       "44421   keep in mind that wp rr limits distruptive edi...      0\n",
       "84421   you study this situation luigi is active edito...      1\n",
       "12863   i don t understand your comment about having t...      0\n",
       "91100   persistent addition of unsourced content you k...      0\n",
       "65390   are you satisfied as i mentioned on the talk p...      0\n",
       "129618  by all means you dont need to inform me of you...      0\n",
       "107318  gateman i ve been asked to assure you that gat...      0\n",
       "76247   welcome hello and welcome to wikipedia thank y...      0"
      ]
     },
     "metadata": {},
     "output_type": "display_data"
    }
   ],
   "source": [
    "display(data.sample(15))"
   ]
  },
  {
   "cell_type": "markdown",
   "metadata": {},
   "source": [
    "#### Лемматизируем"
   ]
  },
  {
   "cell_type": "raw",
   "metadata": {},
   "source": [
    "m = WordNetLemmatizer()\n",
    "\n",
    "def lemmatize(text):\n",
    "    word_list = nltk.word_tokenize(text)\n",
    "    lemm_list = [m.lemmatize(w) for w in word_list]\n",
    "    lemm_text = \" \".join(lemm_list)\n",
    "    return lemm_text\n",
    "\n",
    "start_time = time.time()\n",
    "\n",
    "data['text'] = data['text'].apply(lemmatize)\n",
    "\n",
    "end_time = time.time()\n",
    "elapsed_time = end_time - start_time\n",
    "\n",
    "print(f\"Время выполнения: {elapsed_time:.2f} секунд\")"
   ]
  },
  {
   "cell_type": "code",
   "execution_count": 13,
   "metadata": {},
   "outputs": [
    {
     "name": "stdout",
     "output_type": "stream",
     "text": [
      "Время выполнения: 540.46 секунд\n"
     ]
    }
   ],
   "source": [
    "m = WordNetLemmatizer()\n",
    "\n",
    "def get_wordnet_pos(treebank_tag):\n",
    "    if treebank_tag.startswith('J'):\n",
    "        return wordnet.ADJ\n",
    "    elif treebank_tag.startswith('V'):\n",
    "        return wordnet.VERB\n",
    "    elif treebank_tag.startswith('N'):\n",
    "        return wordnet.NOUN\n",
    "    elif treebank_tag.startswith('R'):\n",
    "        return wordnet.ADV\n",
    "    else:\n",
    "        return wordnet.NOUN\n",
    "\n",
    "def lemmatize(text):\n",
    "    word_list = nltk.word_tokenize(text)\n",
    "    pos_tagged = nltk.pos_tag(word_list)\n",
    "    lemm_list = [m.lemmatize(w, get_wordnet_pos(pos)) for w, pos in pos_tagged]\n",
    "    lemm_text = \" \".join(lemm_list)\n",
    "    return lemm_text\n",
    "\n",
    "start_time = time.time()\n",
    "\n",
    "data['text'] = data['text'].apply(lemmatize)\n",
    "\n",
    "end_time = time.time()\n",
    "elapsed_time = end_time - start_time\n",
    "\n",
    "print(f\"Время выполнения: {elapsed_time:.2f} секунд\")"
   ]
  },
  {
   "cell_type": "code",
   "execution_count": 14,
   "metadata": {},
   "outputs": [
    {
     "data": {
      "text/html": [
       "<div>\n",
       "<style scoped>\n",
       "    .dataframe tbody tr th:only-of-type {\n",
       "        vertical-align: middle;\n",
       "    }\n",
       "\n",
       "    .dataframe tbody tr th {\n",
       "        vertical-align: top;\n",
       "    }\n",
       "\n",
       "    .dataframe thead th {\n",
       "        text-align: right;\n",
       "    }\n",
       "</style>\n",
       "<table border=\"1\" class=\"dataframe\">\n",
       "  <thead>\n",
       "    <tr style=\"text-align: right;\">\n",
       "      <th></th>\n",
       "      <th>text</th>\n",
       "      <th>toxic</th>\n",
       "    </tr>\n",
       "  </thead>\n",
       "  <tbody>\n",
       "    <tr>\n",
       "      <th>10622</th>\n",
       "      <td>i ve prepared your work by link to the article...</td>\n",
       "      <td>0</td>\n",
       "    </tr>\n",
       "    <tr>\n",
       "      <th>20389</th>\n",
       "      <td>i ve just reinstate sf s link because someone ...</td>\n",
       "      <td>0</td>\n",
       "    </tr>\n",
       "    <tr>\n",
       "      <th>87076</th>\n",
       "      <td>i find that offensive that u say i enter a box...</td>\n",
       "      <td>1</td>\n",
       "    </tr>\n",
       "    <tr>\n",
       "      <th>86573</th>\n",
       "      <td>it seem that rockmagnetist and doc terella dis...</td>\n",
       "      <td>0</td>\n",
       "    </tr>\n",
       "    <tr>\n",
       "      <th>54041</th>\n",
       "      <td>penfield central school district</td>\n",
       "      <td>0</td>\n",
       "    </tr>\n",
       "    <tr>\n",
       "      <th>71607</th>\n",
       "      <td>hmm it appear that somebody change one of our ...</td>\n",
       "      <td>1</td>\n",
       "    </tr>\n",
       "    <tr>\n",
       "      <th>114197</th>\n",
       "      <td>that s really shameless weaseling</td>\n",
       "      <td>0</td>\n",
       "    </tr>\n",
       "    <tr>\n",
       "      <th>66968</th>\n",
       "      <td>kurt cobain why do you think you own the kurt ...</td>\n",
       "      <td>0</td>\n",
       "    </tr>\n",
       "    <tr>\n",
       "      <th>114558</th>\n",
       "      <td>why be canada place rd in group a when they ha...</td>\n",
       "      <td>0</td>\n",
       "    </tr>\n",
       "    <tr>\n",
       "      <th>40699</th>\n",
       "      <td>get out more up til midnight friday and five h...</td>\n",
       "      <td>0</td>\n",
       "    </tr>\n",
       "    <tr>\n",
       "      <th>138415</th>\n",
       "      <td>yes you really do tell you directly what you r...</td>\n",
       "      <td>0</td>\n",
       "    </tr>\n",
       "    <tr>\n",
       "      <th>68436</th>\n",
       "      <td>hey i m back mate you know why</td>\n",
       "      <td>0</td>\n",
       "    </tr>\n",
       "    <tr>\n",
       "      <th>148863</th>\n",
       "      <td>do pearlman speak french perhaps the article s...</td>\n",
       "      <td>0</td>\n",
       "    </tr>\n",
       "    <tr>\n",
       "      <th>6493</th>\n",
       "      <td>thanks for the praise i m take wikipedia a lot...</td>\n",
       "      <td>0</td>\n",
       "    </tr>\n",
       "    <tr>\n",
       "      <th>53940</th>\n",
       "      <td>comment actually i think that s the soft drink...</td>\n",
       "      <td>0</td>\n",
       "    </tr>\n",
       "  </tbody>\n",
       "</table>\n",
       "</div>"
      ],
      "text/plain": [
       "                                                     text  toxic\n",
       "10622   i ve prepared your work by link to the article...      0\n",
       "20389   i ve just reinstate sf s link because someone ...      0\n",
       "87076   i find that offensive that u say i enter a box...      1\n",
       "86573   it seem that rockmagnetist and doc terella dis...      0\n",
       "54041                    penfield central school district      0\n",
       "71607   hmm it appear that somebody change one of our ...      1\n",
       "114197                  that s really shameless weaseling      0\n",
       "66968   kurt cobain why do you think you own the kurt ...      0\n",
       "114558  why be canada place rd in group a when they ha...      0\n",
       "40699   get out more up til midnight friday and five h...      0\n",
       "138415  yes you really do tell you directly what you r...      0\n",
       "68436                      hey i m back mate you know why      0\n",
       "148863  do pearlman speak french perhaps the article s...      0\n",
       "6493    thanks for the praise i m take wikipedia a lot...      0\n",
       "53940   comment actually i think that s the soft drink...      0"
      ]
     },
     "metadata": {},
     "output_type": "display_data"
    }
   ],
   "source": [
    "display(data.sample(15))"
   ]
  },
  {
   "cell_type": "markdown",
   "metadata": {},
   "source": [
    "#### Разделим данные на обучающую и тестовую выборки"
   ]
  },
  {
   "cell_type": "code",
   "execution_count": 15,
   "metadata": {},
   "outputs": [],
   "source": [
    "train_data, test_data = train_test_split(data,\n",
    "                                         test_size=0.2,\n",
    "                                         random_state=RANDOM_STATE)"
   ]
  },
  {
   "cell_type": "code",
   "execution_count": 16,
   "metadata": {},
   "outputs": [
    {
     "name": "stdout",
     "output_type": "stream",
     "text": [
      "(127433, 2)\n",
      "(31859, 2)\n"
     ]
    }
   ],
   "source": [
    "print(train_data.shape)\n",
    "print(test_data.shape)"
   ]
  },
  {
   "cell_type": "markdown",
   "metadata": {},
   "source": [
    "#### Просмотрим получившиеся выборки"
   ]
  },
  {
   "cell_type": "code",
   "execution_count": 17,
   "metadata": {},
   "outputs": [
    {
     "name": "stdout",
     "output_type": "stream",
     "text": [
      "Соотношение классов трейна:\n",
      "0    89.81\n",
      "1    10.19\n",
      "Name: toxic, dtype: float64\n",
      "Соотношение классов теста:\n",
      "0    89.95\n",
      "1    10.05\n",
      "Name: toxic, dtype: float64\n"
     ]
    }
   ],
   "source": [
    "print(\"Соотношение классов трейна:\")\n",
    "train_class_ratios = train_data['toxic'].value_counts(normalize=True) * 100\n",
    "print(train_class_ratios.round(2))\n",
    "\n",
    "print(\"Соотношение классов теста:\")\n",
    "test_class_ratios = test_data['toxic'].value_counts(normalize=True) * 100\n",
    "print(test_class_ratios.round(2))"
   ]
  },
  {
   "cell_type": "markdown",
   "metadata": {},
   "source": [
    "#### Создадим корпус для каждой выборки"
   ]
  },
  {
   "cell_type": "code",
   "execution_count": 18,
   "metadata": {},
   "outputs": [
    {
     "name": "stdout",
     "output_type": "stream",
     "text": [
      "(127433,) (127433,)\n",
      "(31859,) (31859,)\n"
     ]
    }
   ],
   "source": [
    "corpus_train = train_data['text'].values\n",
    "corpus_test = test_data['text'].values\n",
    "\n",
    "target_train = train_data['toxic']\n",
    "target_test = test_data['toxic']\n",
    "\n",
    "print(corpus_train.shape, target_train.shape)\n",
    "print(corpus_test.shape, target_test.shape)"
   ]
  },
  {
   "cell_type": "markdown",
   "metadata": {},
   "source": [
    "#### Вычислим TF-IDF для корпуса текстов  (+стопслова для английского языка)"
   ]
  },
  {
   "cell_type": "code",
   "execution_count": 19,
   "metadata": {},
   "outputs": [
    {
     "name": "stderr",
     "output_type": "stream",
     "text": [
      "[nltk_data] Downloading package stopwords to /home/jovyan/nltk_data...\n",
      "[nltk_data]   Package stopwords is already up-to-date!\n"
     ]
    },
    {
     "name": "stdout",
     "output_type": "stream",
     "text": [
      "Размер матрицы: (127433, 53688)\n",
      "Размер матрицы: (31859, 53688)\n"
     ]
    }
   ],
   "source": [
    "nltk.download('stopwords')\n",
    "\n",
    "stopwords = set(nltk_stopwords.words('english'))\n",
    "\n",
    "count_tf_idf = TfidfVectorizer(min_df=2, stop_words=stopwords) \n",
    "tf_idf_train = count_tf_idf.fit_transform(corpus_train) \n",
    "tf_idf_test = count_tf_idf.transform(corpus_test) \n",
    "\n",
    "print(\"Размер матрицы:\", tf_idf_train.shape)\n",
    "print(\"Размер матрицы:\", tf_idf_test.shape)"
   ]
  },
  {
   "cell_type": "markdown",
   "metadata": {},
   "source": [
    "Данные подготовлены"
   ]
  },
  {
   "cell_type": "markdown",
   "metadata": {},
   "source": [
    "### Обучение моделей"
   ]
  },
  {
   "cell_type": "markdown",
   "metadata": {},
   "source": [
    "#### Заранее создадим датафрейм для хранения результатов"
   ]
  },
  {
   "cell_type": "code",
   "execution_count": 20,
   "metadata": {},
   "outputs": [],
   "source": [
    "# DataFrame для хранения результатов\n",
    "results_df = pd.DataFrame(columns=[\"Название\", \"F1 значение на трейне\", \"Время обучения\"])"
   ]
  },
  {
   "cell_type": "markdown",
   "metadata": {},
   "source": [
    "#### Логистическая регрессия"
   ]
  },
  {
   "cell_type": "code",
   "execution_count": 21,
   "metadata": {},
   "outputs": [
    {
     "name": "stdout",
     "output_type": "stream",
     "text": [
      "Лучшие параметры {'lr__solver': 'lbfgs', 'lr__random_state': 42, 'lr__max_iter': 30, 'lr__C': 10}\n"
     ]
    }
   ],
   "source": [
    "lr_start_time = time.time()\n",
    "\n",
    "pipeline = Pipeline([(\"vect\", TfidfVectorizer(stop_words='english', sublinear_tf=True)), \n",
    "                     (\"lr\", LogisticRegression())])\n",
    "\n",
    "lr_parameters = {'lr__solver': ['lbfgs', 'saga', 'liblinear','newton-cg'],\n",
    "              'lr__C': [1, 5, 10],\n",
    "              'lr__random_state': [RANDOM_STATE],\n",
    "              'lr__max_iter': [30, 50]}\n",
    "\n",
    "lr_gscv = RandomizedSearchCV(pipeline,\n",
    "                          lr_parameters,\n",
    "                          scoring='f1',\n",
    "                          cv=3,\n",
    "                          n_iter=5,\n",
    "                          n_jobs=-1,\n",
    "                          random_state=RANDOM_STATE)\n",
    "\n",
    "lr_gscv.fit(corpus_train, target_train)\n",
    "lr_train_time = time.time() - lr_start_time\n",
    "\n",
    "print('Лучшие параметры', lr_gscv.best_params_)\n",
    "\n",
    "results_df = results_df.append({\"Название\": \"Logistic Regression\",\n",
    "                                \"F1 значение на трейне\": round(lr_gscv.best_score_, 2),\n",
    "                                \"Время обучения\": round(lr_train_time, 2)},\n",
    "                               ignore_index=True)"
   ]
  },
  {
   "cell_type": "code",
   "execution_count": 22,
   "metadata": {},
   "outputs": [
    {
     "data": {
      "text/html": [
       "<div>\n",
       "<style scoped>\n",
       "    .dataframe tbody tr th:only-of-type {\n",
       "        vertical-align: middle;\n",
       "    }\n",
       "\n",
       "    .dataframe tbody tr th {\n",
       "        vertical-align: top;\n",
       "    }\n",
       "\n",
       "    .dataframe thead th {\n",
       "        text-align: right;\n",
       "    }\n",
       "</style>\n",
       "<table border=\"1\" class=\"dataframe\">\n",
       "  <thead>\n",
       "    <tr style=\"text-align: right;\">\n",
       "      <th></th>\n",
       "      <th>Название</th>\n",
       "      <th>F1 значение на трейне</th>\n",
       "      <th>Время обучения</th>\n",
       "    </tr>\n",
       "  </thead>\n",
       "  <tbody>\n",
       "    <tr>\n",
       "      <th>0</th>\n",
       "      <td>Logistic Regression</td>\n",
       "      <td>0.77</td>\n",
       "      <td>301.2</td>\n",
       "    </tr>\n",
       "  </tbody>\n",
       "</table>\n",
       "</div>"
      ],
      "text/plain": [
       "              Название  F1 значение на трейне  Время обучения\n",
       "0  Logistic Regression                   0.77           301.2"
      ]
     },
     "execution_count": 22,
     "metadata": {},
     "output_type": "execute_result"
    }
   ],
   "source": [
    "results_df"
   ]
  },
  {
   "cell_type": "markdown",
   "metadata": {},
   "source": [
    "#### Дерево решений"
   ]
  },
  {
   "cell_type": "code",
   "execution_count": 23,
   "metadata": {},
   "outputs": [
    {
     "name": "stdout",
     "output_type": "stream",
     "text": [
      "Лучшие параметры {'dtc__max_depth': 29, 'dtc__min_samples_leaf': 1, 'dtc__min_samples_split': 2, 'dtc__random_state': 42}\n"
     ]
    }
   ],
   "source": [
    "dt_start_time = time.time()\n",
    "\n",
    "pipeline = Pipeline([(\"vect\", TfidfVectorizer(stop_words='english')), \n",
    "                     (\"dtc\", DecisionTreeClassifier())])\n",
    "    \n",
    "dt_parameters = {'dtc__max_depth': list(range(1, 30)),\n",
    "              'dtc__min_samples_split': list(range(2, 3)),\n",
    "              'dtc__min_samples_leaf': list(range(1, 2)),\n",
    "              'dtc__random_state': [RANDOM_STATE]}\n",
    "\n",
    "dt_gscv = GridSearchCV(pipeline,\n",
    "                    dt_parameters,\n",
    "                    scoring='f1',\n",
    "                    cv=3,\n",
    "                    n_jobs=-1)\n",
    "\n",
    "dt_gscv.fit(corpus_train, target_train)\n",
    "dt_train_time = time.time() - dt_start_time\n",
    "\n",
    "print('Лучшие параметры', dt_gscv.best_params_)\n",
    "\n",
    "results_df = results_df.append({\"Название\": \"Decision Tree\",\n",
    "                                \"F1 значение на трейне\": round(dt_gscv.best_score_, 2),\n",
    "                                \"Время обучения\": round(dt_train_time, 2)},\n",
    "                               ignore_index=True)"
   ]
  },
  {
   "cell_type": "code",
   "execution_count": 24,
   "metadata": {},
   "outputs": [
    {
     "data": {
      "text/html": [
       "<div>\n",
       "<style scoped>\n",
       "    .dataframe tbody tr th:only-of-type {\n",
       "        vertical-align: middle;\n",
       "    }\n",
       "\n",
       "    .dataframe tbody tr th {\n",
       "        vertical-align: top;\n",
       "    }\n",
       "\n",
       "    .dataframe thead th {\n",
       "        text-align: right;\n",
       "    }\n",
       "</style>\n",
       "<table border=\"1\" class=\"dataframe\">\n",
       "  <thead>\n",
       "    <tr style=\"text-align: right;\">\n",
       "      <th></th>\n",
       "      <th>Название</th>\n",
       "      <th>F1 значение на трейне</th>\n",
       "      <th>Время обучения</th>\n",
       "    </tr>\n",
       "  </thead>\n",
       "  <tbody>\n",
       "    <tr>\n",
       "      <th>0</th>\n",
       "      <td>Logistic Regression</td>\n",
       "      <td>0.77</td>\n",
       "      <td>301.2</td>\n",
       "    </tr>\n",
       "    <tr>\n",
       "      <th>1</th>\n",
       "      <td>Decision Tree</td>\n",
       "      <td>0.67</td>\n",
       "      <td>906.1</td>\n",
       "    </tr>\n",
       "  </tbody>\n",
       "</table>\n",
       "</div>"
      ],
      "text/plain": [
       "              Название  F1 значение на трейне  Время обучения\n",
       "0  Logistic Regression                   0.77           301.2\n",
       "1        Decision Tree                   0.67           906.1"
      ]
     },
     "execution_count": 24,
     "metadata": {},
     "output_type": "execute_result"
    }
   ],
   "source": [
    "results_df"
   ]
  },
  {
   "cell_type": "markdown",
   "metadata": {},
   "source": [
    "#### CatBoost"
   ]
  },
  {
   "cell_type": "code",
   "execution_count": 25,
   "metadata": {},
   "outputs": [
    {
     "name": "stdout",
     "output_type": "stream",
     "text": [
      "Лучшие параметры {'cbc__depth': 6, 'cbc__iterations': 200, 'cbc__learning_rate': 0.5}\n"
     ]
    }
   ],
   "source": [
    "cb_start_time = time.time()\n",
    "\n",
    "pipeline = Pipeline([(\"vect\", TfidfVectorizer(stop_words='english')), \n",
    "                     (\"cbc\", CatBoostClassifier(logging_level='Silent'))])\n",
    "    \n",
    "cb_parameters = {'cbc__iterations': [100, 200],\n",
    "              'cbc__learning_rate': [0.1, 0.5, 1],\n",
    "              'cbc__depth': [4, 6]}\n",
    "\n",
    "cb_gscv = GridSearchCV(pipeline,\n",
    "                    cb_parameters,\n",
    "                    scoring='f1',\n",
    "                    cv=3,\n",
    "                    n_jobs=-1)\n",
    "\n",
    "cb_gscv.fit(corpus_train, target_train)\n",
    "cb_train_time = time.time() - cb_start_time\n",
    "\n",
    "print('Лучшие параметры', cb_gscv.best_params_)\n",
    "\n",
    "results_df = results_df.append({\"Название\": \"CatBoost\",\n",
    "                                \"F1 значение на трейне\": round(cb_gscv.best_score_, 2),\n",
    "                                \"Время обучения\": round(cb_train_time, 2)},\n",
    "                               ignore_index=True)"
   ]
  },
  {
   "cell_type": "code",
   "execution_count": 26,
   "metadata": {},
   "outputs": [
    {
     "data": {
      "text/html": [
       "<div>\n",
       "<style scoped>\n",
       "    .dataframe tbody tr th:only-of-type {\n",
       "        vertical-align: middle;\n",
       "    }\n",
       "\n",
       "    .dataframe tbody tr th {\n",
       "        vertical-align: top;\n",
       "    }\n",
       "\n",
       "    .dataframe thead th {\n",
       "        text-align: right;\n",
       "    }\n",
       "</style>\n",
       "<table border=\"1\" class=\"dataframe\">\n",
       "  <thead>\n",
       "    <tr style=\"text-align: right;\">\n",
       "      <th></th>\n",
       "      <th>Название</th>\n",
       "      <th>F1 значение на трейне</th>\n",
       "      <th>Время обучения</th>\n",
       "    </tr>\n",
       "  </thead>\n",
       "  <tbody>\n",
       "    <tr>\n",
       "      <th>0</th>\n",
       "      <td>Logistic Regression</td>\n",
       "      <td>0.77</td>\n",
       "      <td>301.20</td>\n",
       "    </tr>\n",
       "    <tr>\n",
       "      <th>1</th>\n",
       "      <td>Decision Tree</td>\n",
       "      <td>0.67</td>\n",
       "      <td>906.10</td>\n",
       "    </tr>\n",
       "    <tr>\n",
       "      <th>2</th>\n",
       "      <td>CatBoost</td>\n",
       "      <td>0.75</td>\n",
       "      <td>9282.19</td>\n",
       "    </tr>\n",
       "  </tbody>\n",
       "</table>\n",
       "</div>"
      ],
      "text/plain": [
       "              Название  F1 значение на трейне  Время обучения\n",
       "0  Logistic Regression                   0.77          301.20\n",
       "1        Decision Tree                   0.67          906.10\n",
       "2             CatBoost                   0.75         9282.19"
      ]
     },
     "execution_count": 26,
     "metadata": {},
     "output_type": "execute_result"
    }
   ],
   "source": [
    "results_df"
   ]
  },
  {
   "attachments": {
    "image.png": {
     "image/png": "[encoded data removed]"
    }
   },
   "cell_type": "markdown",
   "metadata": {},
   "source": [
    "- Поскольку обработка очень долгая (2.5 часа для модели CatBoost) - я скрин прикладываю\n",
    "- И так же просьба есть посмотреть другой вариант решения (по ссылке ниже) - там я вручную балансировал размеры классов, чтобы сократить время обучения, но там необходимая метрика не выбивается, хоть время и ниже в 4+ раза\n",
    "- Складывается ощущение, что при значительном дисбалансе классов их балансировка наоборот вредит обучению модели\n",
    "\n",
    "\n",
    "![image.png](attachment:image.png)"
   ]
  },
  {
   "cell_type": "code",
   "execution_count": 27,
   "metadata": {},
   "outputs": [
    {
     "name": "stdout",
     "output_type": "stream",
     "text": [
      "Лучшая модель: Logistic Regression\n"
     ]
    }
   ],
   "source": [
    "# Выбор наилучшей модели по F1 значению на трейне\n",
    "best_model_name = results_df.loc[results_df['F1 значение на трейне'].idxmax()]['Название']\n",
    "print(f\"Лучшая модель: {best_model_name}\")"
   ]
  },
  {
   "cell_type": "markdown",
   "metadata": {},
   "source": [
    "### Общие результаты производительности\n",
    "\n",
    "- Модель Logistic Regression показала лучший результат метрики F1 на тренировочной выборке - 0.77\n",
    "- Хоть модель CatBoost тоже можно выбрать для использования на тестовых данных(F1 на трейне = 0.75) - время её обучения слишком велико (почти 3 часа)\n",
    "\n",
    "Так что будем использовать на тесте Logistic Regression и сравнивать с результатами дамми-модели"
   ]
  },
  {
   "cell_type": "markdown",
   "metadata": {},
   "source": [
    "#### DummyClassifier"
   ]
  },
  {
   "cell_type": "code",
   "execution_count": 28,
   "metadata": {},
   "outputs": [],
   "source": [
    "from sklearn.dummy import DummyClassifier\n",
    "\n",
    "start_time_dummy = time.time()\n",
    "dummy_pipeline = Pipeline([\n",
    "    (\"vect\", TfidfVectorizer(stop_words='english')),\n",
    "    (\"dummy\", DummyClassifier(strategy=\"constant\", constant=1.0))\n",
    "])\n",
    "dummy_pipeline.fit(corpus_train, target_train)\n",
    "dummy_train_time = time.time() - start_time_dummy\n",
    "\n",
    "dummy_predictions_test = dummy_pipeline.predict(corpus_test)\n",
    "dummy_test_f1 = f1_score(target_test, dummy_predictions_test)\n",
    "\n",
    "results_df = results_df.append({\"Название\": \"Dummy Classifier\",\n",
    "                                \"F1 значение на тесте\": round(dummy_test_f1, 2),\n",
    "                                \"Время обучения\": round(dummy_train_time, 2)},ignore_index=True)"
   ]
  },
  {
   "cell_type": "code",
   "execution_count": 29,
   "metadata": {},
   "outputs": [
    {
     "name": "stdout",
     "output_type": "stream",
     "text": [
      "F1 значение на тесте для лучшей модели (Logistic Regression): 0.78\n"
     ]
    }
   ],
   "source": [
    "# Извлечение лучших параметров для логистической регрессии без префиксов(а то ошибку выдает :c)\n",
    "best_lr_params = {param.replace(\"lr__\", \"\"): value for param, value in lr_gscv.best_params_.items()}\n",
    "\n",
    "# Лучшая модель (Logistic Regression) на тесте\n",
    "best_model = LogisticRegression(**best_lr_params)\n",
    "pipeline = Pipeline([(\"vect\", TfidfVectorizer(stop_words='english', sublinear_tf=True)), \n",
    "                     (\"model\", best_model)])\n",
    "\n",
    "pipeline.fit(corpus_train, target_train)\n",
    "predictions_test = pipeline.predict(corpus_test)\n",
    "test_f1 = f1_score(target_test, predictions_test)\n",
    "\n",
    "print(f\"F1 значение на тесте для лучшей модели (Logistic Regression): {round(test_f1, 2)}\")"
   ]
  },
  {
   "cell_type": "markdown",
   "metadata": {},
   "source": [
    "Лучшая модель выбрана по показателю F1 на тесте, равному 0.78 при необходимом 0.75 для успешного выполнения задания"
   ]
  },
  {
   "cell_type": "markdown",
   "metadata": {},
   "source": [
    "## Выводы"
   ]
  },
  {
   "cell_type": "markdown",
   "metadata": {},
   "source": [
    "1. Подготовка\n",
    "- Загружены данные и проведена их предобработка: удалены лишние данные, проверено наличие пропусков и дубликатов, выявлен дисбаланс классов.\n",
    "2. Обучение\n",
    "- Подготовка:\n",
    "    - Очищены тексты, выполнена лемматизация.\n",
    "- Обучение:\n",
    "    - Обучены 3 модели с разными гиперпараметрами и выборками, проверены на тестовой выборке.\n",
    "    - Лучшая модель выбрана по показателю F1, равному 0.77 при необходимом 0.75 для успешного выполнения задания"
   ]
  },
  {
   "cell_type": "markdown",
   "metadata": {},
   "source": [
    "## Чек-лист проверки"
   ]
  },
  {
   "cell_type": "markdown",
   "metadata": {},
   "source": [
    "- [x]  Jupyter Notebook открыт\n",
    "- [x]  Весь код выполняется без ошибок\n",
    "- [x]  Ячейки с кодом расположены в порядке исполнения\n",
    "- [x]  Данные загружены и подготовлены\n",
    "- [x]  Модели обучены\n",
    "- [x]  Значение метрики *F1* не меньше 0.75\n",
    "- [x]  Выводы написаны"
   ]
  }
 ],
 "metadata": {
  "ExecuteTimeLog": [
   {
    "duration": 1876,
    "start_time": "2024-06-29T01:12:34.439Z"
   },
   {
    "duration": 3192,
    "start_time": "2024-06-29T01:13:38.878Z"
   },
   {
    "duration": 18,
    "start_time": "2024-06-29T01:14:08.567Z"
   },
   {
    "duration": 125,
    "start_time": "2024-06-29T01:32:25.450Z"
   },
   {
    "duration": 34,
    "start_time": "2024-06-29T01:32:32.934Z"
   },
   {
    "duration": 220,
    "start_time": "2024-06-29T01:32:34.599Z"
   },
   {
    "duration": 14,
    "start_time": "2024-06-29T01:38:39.241Z"
   },
   {
    "duration": 1718,
    "start_time": "2024-06-29T01:40:58.980Z"
   },
   {
    "duration": 934,
    "start_time": "2024-06-29T01:41:00.700Z"
   },
   {
    "duration": 22,
    "start_time": "2024-06-29T01:41:01.635Z"
   },
   {
    "duration": 31,
    "start_time": "2024-06-29T01:41:01.659Z"
   },
   {
    "duration": 235,
    "start_time": "2024-06-29T01:41:01.692Z"
   },
   {
    "duration": 6,
    "start_time": "2024-06-29T01:44:38.975Z"
   },
   {
    "duration": 134,
    "start_time": "2024-06-29T01:44:51.816Z"
   },
   {
    "duration": 9,
    "start_time": "2024-06-29T01:44:55.420Z"
   },
   {
    "duration": 55,
    "start_time": "2024-06-29T01:45:22.516Z"
   },
   {
    "duration": 10,
    "start_time": "2024-06-29T01:45:27.804Z"
   },
   {
    "duration": 8,
    "start_time": "2024-06-29T01:45:30.756Z"
   },
   {
    "duration": 6,
    "start_time": "2024-06-29T01:45:41.384Z"
   },
   {
    "duration": 9,
    "start_time": "2024-06-29T01:45:48.592Z"
   },
   {
    "duration": 5,
    "start_time": "2024-06-29T01:46:13.964Z"
   },
   {
    "duration": 10,
    "start_time": "2024-06-29T01:47:07.543Z"
   },
   {
    "duration": 9,
    "start_time": "2024-06-29T01:47:10.089Z"
   },
   {
    "duration": 1678,
    "start_time": "2024-06-29T02:00:41.613Z"
   },
   {
    "duration": 906,
    "start_time": "2024-06-29T02:00:43.293Z"
   },
   {
    "duration": 15,
    "start_time": "2024-06-29T02:00:44.201Z"
   },
   {
    "duration": 39,
    "start_time": "2024-06-29T02:00:44.217Z"
   },
   {
    "duration": 232,
    "start_time": "2024-06-29T02:00:44.258Z"
   },
   {
    "duration": 8,
    "start_time": "2024-06-29T02:00:44.491Z"
   },
   {
    "duration": 318,
    "start_time": "2024-06-29T02:00:44.500Z"
   },
   {
    "duration": 2204,
    "start_time": "2024-06-29T02:00:44.819Z"
   },
   {
    "duration": 81405,
    "start_time": "2024-06-29T02:00:47.025Z"
   },
   {
    "duration": 566,
    "start_time": "2024-06-29T02:02:08.432Z"
   },
   {
    "duration": 11,
    "start_time": "2024-06-29T02:02:08.999Z"
   },
   {
    "duration": 11,
    "start_time": "2024-06-29T02:04:25.055Z"
   },
   {
    "duration": 12,
    "start_time": "2024-06-29T02:05:27.341Z"
   },
   {
    "duration": 20,
    "start_time": "2024-06-29T02:06:00.720Z"
   },
   {
    "duration": 1679,
    "start_time": "2024-06-29T02:06:11.179Z"
   },
   {
    "duration": 902,
    "start_time": "2024-06-29T02:06:12.860Z"
   },
   {
    "duration": 16,
    "start_time": "2024-06-29T02:06:13.763Z"
   },
   {
    "duration": 26,
    "start_time": "2024-06-29T02:06:13.781Z"
   },
   {
    "duration": 246,
    "start_time": "2024-06-29T02:06:13.809Z"
   },
   {
    "duration": 8,
    "start_time": "2024-06-29T02:06:14.056Z"
   },
   {
    "duration": 12,
    "start_time": "2024-06-29T02:06:14.065Z"
   },
   {
    "duration": 309,
    "start_time": "2024-06-29T02:06:14.078Z"
   },
   {
    "duration": 2248,
    "start_time": "2024-06-29T02:06:14.388Z"
   },
   {
    "duration": 81739,
    "start_time": "2024-06-29T02:06:16.637Z"
   },
   {
    "duration": 546,
    "start_time": "2024-06-29T02:07:38.378Z"
   },
   {
    "duration": 10,
    "start_time": "2024-06-29T02:07:38.926Z"
   },
   {
    "duration": 1691,
    "start_time": "2024-06-29T02:13:10.272Z"
   },
   {
    "duration": 914,
    "start_time": "2024-06-29T02:13:11.965Z"
   },
   {
    "duration": 16,
    "start_time": "2024-06-29T02:13:12.881Z"
   },
   {
    "duration": 27,
    "start_time": "2024-06-29T02:13:12.899Z"
   },
   {
    "duration": 248,
    "start_time": "2024-06-29T02:13:12.928Z"
   },
   {
    "duration": 8,
    "start_time": "2024-06-29T02:13:13.178Z"
   },
   {
    "duration": 11,
    "start_time": "2024-06-29T02:13:13.187Z"
   },
   {
    "duration": 587,
    "start_time": "2024-06-29T02:13:13.200Z"
   },
   {
    "duration": 314,
    "start_time": "2024-06-29T02:13:13.789Z"
   },
   {
    "duration": 2210,
    "start_time": "2024-06-29T02:13:14.105Z"
   },
   {
    "duration": 82103,
    "start_time": "2024-06-29T02:13:16.317Z"
   },
   {
    "duration": 11,
    "start_time": "2024-06-29T02:14:38.422Z"
   },
   {
    "duration": 540,
    "start_time": "2024-06-29T02:14:57.643Z"
   },
   {
    "duration": 24,
    "start_time": "2024-06-29T02:20:38.601Z"
   },
   {
    "duration": 6,
    "start_time": "2024-06-29T02:20:39.559Z"
   },
   {
    "duration": 4,
    "start_time": "2024-06-29T02:20:39.976Z"
   },
   {
    "duration": 4,
    "start_time": "2024-06-29T02:20:40.765Z"
   },
   {
    "duration": 6639,
    "start_time": "2024-06-29T02:20:41.632Z"
   },
   {
    "duration": 1649,
    "start_time": "2024-06-29T02:24:05.839Z"
   },
   {
    "duration": 884,
    "start_time": "2024-06-29T02:24:07.490Z"
   },
   {
    "duration": 15,
    "start_time": "2024-06-29T02:24:08.375Z"
   },
   {
    "duration": 50,
    "start_time": "2024-06-29T02:24:08.392Z"
   },
   {
    "duration": 248,
    "start_time": "2024-06-29T02:24:08.444Z"
   },
   {
    "duration": 8,
    "start_time": "2024-06-29T02:24:08.693Z"
   },
   {
    "duration": 50,
    "start_time": "2024-06-29T02:24:08.702Z"
   },
   {
    "duration": 272,
    "start_time": "2024-06-29T02:24:08.754Z"
   },
   {
    "duration": 2241,
    "start_time": "2024-06-29T02:24:09.027Z"
   },
   {
    "duration": 80394,
    "start_time": "2024-06-29T02:24:11.270Z"
   },
   {
    "duration": 184,
    "start_time": "2024-06-29T02:25:31.665Z"
   },
   {
    "duration": 360,
    "start_time": "2024-06-29T02:25:31.851Z"
   },
   {
    "duration": 11,
    "start_time": "2024-06-29T02:25:32.212Z"
   },
   {
    "duration": 17,
    "start_time": "2024-06-29T02:25:32.224Z"
   },
   {
    "duration": 36,
    "start_time": "2024-06-29T02:25:32.243Z"
   },
   {
    "duration": 7,
    "start_time": "2024-06-29T02:25:32.280Z"
   },
   {
    "duration": 12,
    "start_time": "2024-06-29T02:25:32.289Z"
   },
   {
    "duration": 31,
    "start_time": "2024-06-29T02:25:32.302Z"
   },
   {
    "duration": 6808,
    "start_time": "2024-06-29T02:25:32.335Z"
   },
   {
    "duration": 4,
    "start_time": "2024-06-29T02:25:39.144Z"
   },
   {
    "duration": 10,
    "start_time": "2024-06-29T02:25:39.155Z"
   },
   {
    "duration": 137,
    "start_time": "2024-06-29T02:25:39.166Z"
   },
   {
    "duration": 0,
    "start_time": "2024-06-29T02:25:39.305Z"
   },
   {
    "duration": 1666,
    "start_time": "2024-06-29T02:27:21.971Z"
   },
   {
    "duration": 905,
    "start_time": "2024-06-29T02:27:23.639Z"
   },
   {
    "duration": 18,
    "start_time": "2024-06-29T02:27:24.546Z"
   },
   {
    "duration": 47,
    "start_time": "2024-06-29T02:27:24.566Z"
   },
   {
    "duration": 232,
    "start_time": "2024-06-29T02:27:24.615Z"
   },
   {
    "duration": 9,
    "start_time": "2024-06-29T02:27:24.849Z"
   },
   {
    "duration": 12,
    "start_time": "2024-06-29T02:27:24.859Z"
   },
   {
    "duration": 291,
    "start_time": "2024-06-29T02:27:24.873Z"
   },
   {
    "duration": 2207,
    "start_time": "2024-06-29T02:27:25.166Z"
   },
   {
    "duration": 80332,
    "start_time": "2024-06-29T02:27:27.376Z"
   },
   {
    "duration": 180,
    "start_time": "2024-06-29T02:28:47.710Z"
   },
   {
    "duration": 355,
    "start_time": "2024-06-29T02:28:47.892Z"
   },
   {
    "duration": 15,
    "start_time": "2024-06-29T02:28:48.249Z"
   },
   {
    "duration": 9,
    "start_time": "2024-06-29T02:28:48.265Z"
   },
   {
    "duration": 26,
    "start_time": "2024-06-29T02:28:48.276Z"
   },
   {
    "duration": 6,
    "start_time": "2024-06-29T02:28:48.304Z"
   },
   {
    "duration": 6,
    "start_time": "2024-06-29T02:28:48.312Z"
   },
   {
    "duration": 10,
    "start_time": "2024-06-29T02:28:48.320Z"
   },
   {
    "duration": 6823,
    "start_time": "2024-06-29T02:28:48.331Z"
   },
   {
    "duration": 5,
    "start_time": "2024-06-29T02:28:55.156Z"
   },
   {
    "duration": 14,
    "start_time": "2024-06-29T02:28:55.163Z"
   },
   {
    "duration": 142,
    "start_time": "2024-06-29T02:28:55.179Z"
   },
   {
    "duration": 0,
    "start_time": "2024-06-29T02:28:55.323Z"
   },
   {
    "duration": 1129,
    "start_time": "2024-06-29T02:31:49.684Z"
   },
   {
    "duration": 1679,
    "start_time": "2024-06-29T02:32:12.114Z"
   },
   {
    "duration": 892,
    "start_time": "2024-06-29T02:32:13.795Z"
   },
   {
    "duration": 23,
    "start_time": "2024-06-29T02:32:14.689Z"
   },
   {
    "duration": 50,
    "start_time": "2024-06-29T02:32:14.714Z"
   },
   {
    "duration": 231,
    "start_time": "2024-06-29T02:32:14.765Z"
   },
   {
    "duration": 7,
    "start_time": "2024-06-29T02:32:14.997Z"
   },
   {
    "duration": 17,
    "start_time": "2024-06-29T02:32:15.006Z"
   },
   {
    "duration": 315,
    "start_time": "2024-06-29T02:32:15.025Z"
   },
   {
    "duration": 2221,
    "start_time": "2024-06-29T02:32:15.342Z"
   },
   {
    "duration": 80793,
    "start_time": "2024-06-29T02:32:17.567Z"
   },
   {
    "duration": 178,
    "start_time": "2024-06-29T02:33:38.361Z"
   },
   {
    "duration": 390,
    "start_time": "2024-06-29T02:33:38.540Z"
   },
   {
    "duration": 11,
    "start_time": "2024-06-29T02:33:38.931Z"
   },
   {
    "duration": 3,
    "start_time": "2024-06-29T02:33:38.955Z"
   },
   {
    "duration": 35,
    "start_time": "2024-06-29T02:33:38.959Z"
   },
   {
    "duration": 5,
    "start_time": "2024-06-29T02:33:38.996Z"
   },
   {
    "duration": 5,
    "start_time": "2024-06-29T02:33:39.002Z"
   },
   {
    "duration": 8,
    "start_time": "2024-06-29T02:33:39.009Z"
   },
   {
    "duration": 6823,
    "start_time": "2024-06-29T02:33:39.019Z"
   },
   {
    "duration": 4,
    "start_time": "2024-06-29T02:33:45.843Z"
   },
   {
    "duration": 14,
    "start_time": "2024-06-29T02:33:45.849Z"
   },
   {
    "duration": 1137,
    "start_time": "2024-06-29T02:33:45.865Z"
   },
   {
    "duration": 0,
    "start_time": "2024-06-29T02:33:47.004Z"
   },
   {
    "duration": 1336,
    "start_time": "2024-06-29T02:38:51.891Z"
   },
   {
    "duration": 933,
    "start_time": "2024-06-29T02:38:53.228Z"
   },
   {
    "duration": 19,
    "start_time": "2024-06-29T02:38:54.162Z"
   },
   {
    "duration": 25,
    "start_time": "2024-06-29T02:38:54.182Z"
   },
   {
    "duration": 245,
    "start_time": "2024-06-29T02:38:54.209Z"
   },
   {
    "duration": 7,
    "start_time": "2024-06-29T02:38:54.455Z"
   },
   {
    "duration": 19,
    "start_time": "2024-06-29T02:38:54.464Z"
   },
   {
    "duration": 284,
    "start_time": "2024-06-29T02:38:54.484Z"
   },
   {
    "duration": 2177,
    "start_time": "2024-06-29T02:38:54.770Z"
   },
   {
    "duration": 80448,
    "start_time": "2024-06-29T02:38:56.950Z"
   },
   {
    "duration": 176,
    "start_time": "2024-06-29T02:40:17.400Z"
   },
   {
    "duration": 362,
    "start_time": "2024-06-29T02:40:17.578Z"
   },
   {
    "duration": 16,
    "start_time": "2024-06-29T02:40:17.941Z"
   },
   {
    "duration": 3,
    "start_time": "2024-06-29T02:40:17.958Z"
   },
   {
    "duration": 23,
    "start_time": "2024-06-29T02:40:17.962Z"
   },
   {
    "duration": 5,
    "start_time": "2024-06-29T02:40:17.987Z"
   },
   {
    "duration": 10,
    "start_time": "2024-06-29T02:40:17.993Z"
   },
   {
    "duration": 5,
    "start_time": "2024-06-29T02:40:18.004Z"
   },
   {
    "duration": 6796,
    "start_time": "2024-06-29T02:40:18.011Z"
   },
   {
    "duration": 4,
    "start_time": "2024-06-29T02:40:24.809Z"
   },
   {
    "duration": 26,
    "start_time": "2024-06-29T02:40:24.815Z"
   },
   {
    "duration": 1310,
    "start_time": "2024-06-29T02:40:24.843Z"
   },
   {
    "duration": 0,
    "start_time": "2024-06-29T02:40:26.155Z"
   },
   {
    "duration": 38,
    "start_time": "2024-06-29T02:44:02.305Z"
   },
   {
    "duration": 1236,
    "start_time": "2024-06-29T02:46:15.405Z"
   },
   {
    "duration": 1110,
    "start_time": "2024-06-29T02:48:21.938Z"
   },
   {
    "duration": 9708,
    "start_time": "2024-06-29T03:06:12.058Z"
   },
   {
    "duration": 9985,
    "start_time": "2024-06-29T03:06:21.771Z"
   },
   {
    "duration": 206,
    "start_time": "2024-06-29T03:06:31.757Z"
   },
   {
    "duration": 292,
    "start_time": "2024-06-29T03:06:31.965Z"
   },
   {
    "duration": 2101,
    "start_time": "2024-06-29T03:06:32.260Z"
   },
   {
    "duration": 93,
    "start_time": "2024-06-29T03:06:34.363Z"
   },
   {
    "duration": 200,
    "start_time": "2024-06-29T03:06:34.459Z"
   },
   {
    "duration": 2596,
    "start_time": "2024-06-29T03:06:34.662Z"
   },
   {
    "duration": 21099,
    "start_time": "2024-06-29T03:06:37.261Z"
   },
   {
    "duration": 9692,
    "start_time": "2024-06-29T03:12:27.464Z"
   },
   {
    "duration": 8043,
    "start_time": "2024-06-29T03:12:37.158Z"
   },
   {
    "duration": 64,
    "start_time": "2024-06-29T03:12:45.203Z"
   },
   {
    "duration": 88,
    "start_time": "2024-06-29T03:12:45.269Z"
   },
   {
    "duration": 510,
    "start_time": "2024-06-29T03:12:45.360Z"
   },
   {
    "duration": 7,
    "start_time": "2024-06-29T03:12:45.872Z"
   },
   {
    "duration": 17,
    "start_time": "2024-06-29T03:12:45.880Z"
   },
   {
    "duration": 605,
    "start_time": "2024-06-29T03:12:45.954Z"
   },
   {
    "duration": 4327,
    "start_time": "2024-06-29T03:12:46.560Z"
   },
   {
    "duration": 167412,
    "start_time": "2024-06-29T03:12:50.889Z"
   },
   {
    "duration": 404,
    "start_time": "2024-06-29T03:15:38.357Z"
   },
   {
    "duration": 729,
    "start_time": "2024-06-29T03:15:38.762Z"
   },
   {
    "duration": 62,
    "start_time": "2024-06-29T03:15:39.493Z"
   },
   {
    "duration": 2,
    "start_time": "2024-06-29T03:15:39.558Z"
   },
   {
    "duration": 24,
    "start_time": "2024-06-29T03:15:39.561Z"
   },
   {
    "duration": 4,
    "start_time": "2024-06-29T03:15:39.587Z"
   },
   {
    "duration": 65,
    "start_time": "2024-06-29T03:15:39.593Z"
   },
   {
    "duration": 21,
    "start_time": "2024-06-29T03:15:39.660Z"
   },
   {
    "duration": 14303,
    "start_time": "2024-06-29T03:15:39.682Z"
   },
   {
    "duration": 70,
    "start_time": "2024-06-29T03:15:53.987Z"
   },
   {
    "duration": 0,
    "start_time": "2024-06-29T03:15:54.059Z"
   },
   {
    "duration": 0,
    "start_time": "2024-06-29T03:15:54.061Z"
   },
   {
    "duration": 347,
    "start_time": "2024-06-29T03:30:21.711Z"
   },
   {
    "duration": 6,
    "start_time": "2024-06-29T03:31:06.652Z"
   },
   {
    "duration": 1085277,
    "start_time": "2024-06-29T03:31:10.691Z"
   },
   {
    "duration": 2566,
    "start_time": "2024-07-02T02:58:45.400Z"
   },
   {
    "duration": 2108,
    "start_time": "2024-07-02T02:58:47.968Z"
   },
   {
    "duration": 82,
    "start_time": "2024-07-02T02:58:50.078Z"
   },
   {
    "duration": 96,
    "start_time": "2024-07-02T02:58:50.162Z"
   },
   {
    "duration": 495,
    "start_time": "2024-07-02T02:58:50.261Z"
   },
   {
    "duration": 8,
    "start_time": "2024-07-02T02:58:50.758Z"
   },
   {
    "duration": 12,
    "start_time": "2024-07-02T02:58:50.768Z"
   },
   {
    "duration": 687,
    "start_time": "2024-07-02T02:58:50.782Z"
   },
   {
    "duration": 4715,
    "start_time": "2024-07-02T02:58:51.471Z"
   },
   {
    "duration": 155155,
    "start_time": "2024-07-02T02:58:56.189Z"
   },
   {
    "duration": 199,
    "start_time": "2024-07-02T03:01:31.346Z"
   },
   {
    "duration": 404,
    "start_time": "2024-07-02T03:01:31.547Z"
   },
   {
    "duration": 12,
    "start_time": "2024-07-02T03:01:31.955Z"
   },
   {
    "duration": 7,
    "start_time": "2024-07-02T03:01:31.969Z"
   },
   {
    "duration": 28,
    "start_time": "2024-07-02T03:01:31.977Z"
   },
   {
    "duration": 5,
    "start_time": "2024-07-02T03:01:32.006Z"
   },
   {
    "duration": 16,
    "start_time": "2024-07-02T03:01:32.013Z"
   },
   {
    "duration": 26,
    "start_time": "2024-07-02T03:01:32.030Z"
   },
   {
    "duration": 7485,
    "start_time": "2024-07-02T03:01:32.058Z"
   },
   {
    "duration": 5,
    "start_time": "2024-07-02T03:01:39.545Z"
   },
   {
    "duration": 137,
    "start_time": "2024-07-02T03:01:39.552Z"
   },
   {
    "duration": 0,
    "start_time": "2024-07-02T03:01:39.691Z"
   },
   {
    "duration": 0,
    "start_time": "2024-07-02T03:01:39.692Z"
   },
   {
    "duration": 0,
    "start_time": "2024-07-02T03:01:39.693Z"
   },
   {
    "duration": 7,
    "start_time": "2024-07-02T03:01:59.139Z"
   },
   {
    "duration": 312327,
    "start_time": "2024-07-02T03:02:03.441Z"
   },
   {
    "duration": 0,
    "start_time": "2024-07-02T03:07:15.771Z"
   },
   {
    "duration": 310289,
    "start_time": "2024-07-02T03:33:53.866Z"
   },
   {
    "duration": 312471,
    "start_time": "2024-07-02T03:40:16.330Z"
   },
   {
    "duration": 1443,
    "start_time": "2024-07-02T03:55:49.603Z"
   },
   {
    "duration": 1035,
    "start_time": "2024-07-02T03:55:51.048Z"
   },
   {
    "duration": 20,
    "start_time": "2024-07-02T03:55:52.085Z"
   },
   {
    "duration": 27,
    "start_time": "2024-07-02T03:55:52.106Z"
   },
   {
    "duration": 262,
    "start_time": "2024-07-02T03:55:52.136Z"
   },
   {
    "duration": 8,
    "start_time": "2024-07-02T03:55:52.400Z"
   },
   {
    "duration": 20,
    "start_time": "2024-07-02T03:55:52.410Z"
   },
   {
    "duration": 329,
    "start_time": "2024-07-02T03:55:52.432Z"
   },
   {
    "duration": 2328,
    "start_time": "2024-07-02T03:55:52.763Z"
   },
   {
    "duration": 88628,
    "start_time": "2024-07-02T03:55:55.092Z"
   },
   {
    "duration": 199,
    "start_time": "2024-07-02T03:57:23.721Z"
   },
   {
    "duration": 404,
    "start_time": "2024-07-02T03:57:23.922Z"
   },
   {
    "duration": 11,
    "start_time": "2024-07-02T03:57:24.328Z"
   },
   {
    "duration": 18,
    "start_time": "2024-07-02T03:57:24.343Z"
   },
   {
    "duration": 32,
    "start_time": "2024-07-02T03:57:24.363Z"
   },
   {
    "duration": 6,
    "start_time": "2024-07-02T03:57:24.397Z"
   },
   {
    "duration": 5,
    "start_time": "2024-07-02T03:57:24.405Z"
   },
   {
    "duration": 5,
    "start_time": "2024-07-02T03:57:24.412Z"
   },
   {
    "duration": 7489,
    "start_time": "2024-07-02T03:57:24.418Z"
   },
   {
    "duration": 5,
    "start_time": "2024-07-02T03:57:31.909Z"
   },
   {
    "duration": 317192,
    "start_time": "2024-07-02T03:57:31.915Z"
   },
   {
    "duration": 8,
    "start_time": "2024-07-02T04:02:49.109Z"
   },
   {
    "duration": 985003,
    "start_time": "2024-07-02T04:02:49.119Z"
   },
   {
    "duration": 0,
    "start_time": "2024-07-02T04:19:14.124Z"
   },
   {
    "duration": 0,
    "start_time": "2024-07-02T04:19:14.126Z"
   },
   {
    "duration": 0,
    "start_time": "2024-07-02T04:19:14.128Z"
   },
   {
    "duration": 6958,
    "start_time": "2024-07-02T04:21:50.072Z"
   },
   {
    "duration": 984627,
    "start_time": "2024-07-02T04:22:00.369Z"
   },
   {
    "duration": 9,
    "start_time": "2024-07-02T04:38:24.998Z"
   },
   {
    "duration": 8322753,
    "start_time": "2024-07-02T04:49:53.513Z"
   },
   {
    "duration": 10,
    "start_time": "2024-07-02T07:08:36.268Z"
   },
   {
    "duration": 17,
    "start_time": "2024-07-02T07:13:17.337Z"
   },
   {
    "duration": 23869,
    "start_time": "2024-07-02T07:13:34.321Z"
   },
   {
    "duration": 9,
    "start_time": "2024-07-02T07:14:02.486Z"
   },
   {
    "duration": 1468,
    "start_time": "2024-07-02T07:24:43.524Z"
   },
   {
    "duration": 1020,
    "start_time": "2024-07-02T07:24:44.993Z"
   },
   {
    "duration": 21,
    "start_time": "2024-07-02T07:24:46.015Z"
   },
   {
    "duration": 41,
    "start_time": "2024-07-02T07:24:46.038Z"
   },
   {
    "duration": 268,
    "start_time": "2024-07-02T07:24:46.080Z"
   },
   {
    "duration": 11,
    "start_time": "2024-07-02T07:24:46.350Z"
   },
   {
    "duration": 13,
    "start_time": "2024-07-02T07:24:46.363Z"
   },
   {
    "duration": 330,
    "start_time": "2024-07-02T07:24:46.378Z"
   },
   {
    "duration": 2343,
    "start_time": "2024-07-02T07:24:46.710Z"
   },
   {
    "duration": 12,
    "start_time": "2024-07-02T07:24:49.056Z"
   },
   {
    "duration": 88000,
    "start_time": "2024-07-02T07:24:49.069Z"
   },
   {
    "duration": 11,
    "start_time": "2024-07-02T07:26:17.071Z"
   },
   {
    "duration": 5,
    "start_time": "2024-07-02T07:26:17.084Z"
   },
   {
    "duration": 28,
    "start_time": "2024-07-02T07:26:17.091Z"
   },
   {
    "duration": 3,
    "start_time": "2024-07-02T07:26:17.121Z"
   },
   {
    "duration": 0,
    "start_time": "2024-07-02T07:26:17.266Z"
   },
   {
    "duration": 0,
    "start_time": "2024-07-02T07:26:17.267Z"
   },
   {
    "duration": 0,
    "start_time": "2024-07-02T07:26:17.268Z"
   },
   {
    "duration": 0,
    "start_time": "2024-07-02T07:26:17.269Z"
   },
   {
    "duration": 0,
    "start_time": "2024-07-02T07:26:17.270Z"
   },
   {
    "duration": 0,
    "start_time": "2024-07-02T07:26:17.271Z"
   },
   {
    "duration": 0,
    "start_time": "2024-07-02T07:26:17.272Z"
   },
   {
    "duration": 0,
    "start_time": "2024-07-02T07:26:17.272Z"
   },
   {
    "duration": 0,
    "start_time": "2024-07-02T07:26:17.274Z"
   },
   {
    "duration": 0,
    "start_time": "2024-07-02T07:26:17.274Z"
   },
   {
    "duration": 0,
    "start_time": "2024-07-02T07:26:17.275Z"
   },
   {
    "duration": 0,
    "start_time": "2024-07-02T07:26:17.276Z"
   },
   {
    "duration": 7,
    "start_time": "2024-07-02T07:27:12.450Z"
   },
   {
    "duration": 42,
    "start_time": "2024-07-02T07:27:14.455Z"
   },
   {
    "duration": 6,
    "start_time": "2024-07-02T07:27:35.929Z"
   },
   {
    "duration": 5,
    "start_time": "2024-07-02T07:27:36.706Z"
   },
   {
    "duration": 7192,
    "start_time": "2024-07-02T07:27:37.595Z"
   },
   {
    "duration": 5,
    "start_time": "2024-07-02T07:27:44.789Z"
   },
   {
    "duration": 311964,
    "start_time": "2024-07-02T07:27:44.795Z"
   },
   {
    "duration": 8,
    "start_time": "2024-07-02T07:32:56.761Z"
   },
   {
    "duration": 12,
    "start_time": "2024-07-02T07:40:29.022Z"
   },
   {
    "duration": 9,
    "start_time": "2024-07-02T07:40:38.564Z"
   },
   {
    "duration": 52,
    "start_time": "2024-07-02T07:41:03.091Z"
   },
   {
    "duration": 105,
    "start_time": "2024-07-02T07:41:35.357Z"
   },
   {
    "duration": 1463,
    "start_time": "2024-07-02T07:47:33.307Z"
   },
   {
    "duration": 1042,
    "start_time": "2024-07-02T07:47:34.771Z"
   },
   {
    "duration": 21,
    "start_time": "2024-07-02T07:47:35.815Z"
   },
   {
    "duration": 40,
    "start_time": "2024-07-02T07:47:35.838Z"
   },
   {
    "duration": 290,
    "start_time": "2024-07-02T07:47:35.879Z"
   },
   {
    "duration": 9,
    "start_time": "2024-07-02T07:47:36.171Z"
   },
   {
    "duration": 7,
    "start_time": "2024-07-02T07:47:36.182Z"
   },
   {
    "duration": 17,
    "start_time": "2024-07-02T07:47:36.190Z"
   },
   {
    "duration": 322,
    "start_time": "2024-07-02T07:47:36.209Z"
   },
   {
    "duration": 2352,
    "start_time": "2024-07-02T07:47:36.534Z"
   },
   {
    "duration": 11,
    "start_time": "2024-07-02T07:47:38.888Z"
   },
   {
    "duration": 87688,
    "start_time": "2024-07-02T07:47:38.900Z"
   },
   {
    "duration": 11,
    "start_time": "2024-07-02T07:49:06.590Z"
   },
   {
    "duration": 34,
    "start_time": "2024-07-02T07:49:06.603Z"
   },
   {
    "duration": 3,
    "start_time": "2024-07-02T07:49:06.639Z"
   },
   {
    "duration": 18,
    "start_time": "2024-07-02T07:49:06.644Z"
   },
   {
    "duration": 4,
    "start_time": "2024-07-02T07:49:06.663Z"
   },
   {
    "duration": 7257,
    "start_time": "2024-07-02T07:49:06.669Z"
   },
   {
    "duration": 5,
    "start_time": "2024-07-02T07:49:13.928Z"
   },
   {
    "duration": 313769,
    "start_time": "2024-07-02T07:49:13.934Z"
   },
   {
    "duration": 8,
    "start_time": "2024-07-02T07:54:27.705Z"
   },
   {
    "duration": 71,
    "start_time": "2024-07-02T08:33:48.787Z"
   },
   {
    "duration": 1508,
    "start_time": "2024-07-02T20:45:38.323Z"
   },
   {
    "duration": 1178,
    "start_time": "2024-07-02T20:45:39.832Z"
   },
   {
    "duration": 20,
    "start_time": "2024-07-02T20:45:41.012Z"
   },
   {
    "duration": 45,
    "start_time": "2024-07-02T20:45:41.035Z"
   },
   {
    "duration": 285,
    "start_time": "2024-07-02T20:45:41.081Z"
   },
   {
    "duration": 11,
    "start_time": "2024-07-02T20:45:41.368Z"
   },
   {
    "duration": 3,
    "start_time": "2024-07-02T20:45:41.380Z"
   },
   {
    "duration": 18,
    "start_time": "2024-07-02T20:45:41.385Z"
   },
   {
    "duration": 360,
    "start_time": "2024-07-02T20:45:41.405Z"
   },
   {
    "duration": 2613,
    "start_time": "2024-07-02T20:45:41.769Z"
   },
   {
    "duration": 21,
    "start_time": "2024-07-02T20:45:44.383Z"
   },
   {
    "duration": 96405,
    "start_time": "2024-07-02T20:45:44.406Z"
   },
   {
    "duration": 11,
    "start_time": "2024-07-02T20:47:20.813Z"
   },
   {
    "duration": 80,
    "start_time": "2024-07-02T20:47:20.826Z"
   },
   {
    "duration": 3,
    "start_time": "2024-07-02T20:47:20.909Z"
   },
   {
    "duration": 23,
    "start_time": "2024-07-02T20:47:20.914Z"
   },
   {
    "duration": 16,
    "start_time": "2024-07-02T20:47:20.939Z"
   },
   {
    "duration": 7573,
    "start_time": "2024-07-02T20:47:20.957Z"
   },
   {
    "duration": 5,
    "start_time": "2024-07-02T20:47:28.532Z"
   },
   {
    "duration": 160,
    "start_time": "2024-07-02T20:47:28.539Z"
   },
   {
    "duration": 0,
    "start_time": "2024-07-02T20:47:28.701Z"
   },
   {
    "duration": 0,
    "start_time": "2024-07-02T20:47:28.703Z"
   },
   {
    "duration": 0,
    "start_time": "2024-07-02T20:47:28.704Z"
   },
   {
    "duration": 0,
    "start_time": "2024-07-02T20:47:28.706Z"
   },
   {
    "duration": 0,
    "start_time": "2024-07-02T20:47:28.708Z"
   },
   {
    "duration": 0,
    "start_time": "2024-07-02T20:47:28.709Z"
   },
   {
    "duration": 6984,
    "start_time": "2024-07-02T20:49:17.444Z"
   },
   {
    "duration": 1462,
    "start_time": "2024-07-02T20:53:48.833Z"
   },
   {
    "duration": 994,
    "start_time": "2024-07-02T20:53:50.297Z"
   },
   {
    "duration": 19,
    "start_time": "2024-07-02T20:53:51.293Z"
   },
   {
    "duration": 42,
    "start_time": "2024-07-02T20:53:51.314Z"
   },
   {
    "duration": 255,
    "start_time": "2024-07-02T20:53:51.358Z"
   },
   {
    "duration": 10,
    "start_time": "2024-07-02T20:53:51.614Z"
   },
   {
    "duration": 9,
    "start_time": "2024-07-02T20:53:51.626Z"
   },
   {
    "duration": 28,
    "start_time": "2024-07-02T20:53:51.637Z"
   },
   {
    "duration": 295,
    "start_time": "2024-07-02T20:53:51.667Z"
   },
   {
    "duration": 2350,
    "start_time": "2024-07-02T20:53:51.965Z"
   },
   {
    "duration": 12,
    "start_time": "2024-07-02T20:53:54.317Z"
   },
   {
    "duration": 397,
    "start_time": "2024-07-02T20:53:54.331Z"
   },
   {
    "duration": 0,
    "start_time": "2024-07-02T20:53:54.730Z"
   },
   {
    "duration": 0,
    "start_time": "2024-07-02T20:53:54.731Z"
   },
   {
    "duration": 0,
    "start_time": "2024-07-02T20:53:54.732Z"
   },
   {
    "duration": 0,
    "start_time": "2024-07-02T20:53:54.733Z"
   },
   {
    "duration": 0,
    "start_time": "2024-07-02T20:53:54.735Z"
   },
   {
    "duration": 0,
    "start_time": "2024-07-02T20:53:54.736Z"
   },
   {
    "duration": 0,
    "start_time": "2024-07-02T20:53:54.737Z"
   },
   {
    "duration": 0,
    "start_time": "2024-07-02T20:53:54.738Z"
   },
   {
    "duration": 0,
    "start_time": "2024-07-02T20:53:54.739Z"
   },
   {
    "duration": 0,
    "start_time": "2024-07-02T20:53:54.740Z"
   },
   {
    "duration": 0,
    "start_time": "2024-07-02T20:53:54.741Z"
   },
   {
    "duration": 0,
    "start_time": "2024-07-02T20:53:54.742Z"
   },
   {
    "duration": 0,
    "start_time": "2024-07-02T20:53:54.743Z"
   },
   {
    "duration": 0,
    "start_time": "2024-07-02T20:53:54.744Z"
   },
   {
    "duration": 566991,
    "start_time": "2024-07-02T20:55:38.630Z"
   },
   {
    "duration": 112,
    "start_time": "2024-07-02T21:05:05.624Z"
   },
   {
    "duration": 12,
    "start_time": "2024-07-02T21:05:38.211Z"
   },
   {
    "duration": 23,
    "start_time": "2024-07-02T21:05:41.288Z"
   },
   {
    "duration": 3,
    "start_time": "2024-07-02T21:05:41.712Z"
   },
   {
    "duration": 9,
    "start_time": "2024-07-02T21:05:43.352Z"
   },
   {
    "duration": 5,
    "start_time": "2024-07-02T21:05:45.827Z"
   },
   {
    "duration": 7076,
    "start_time": "2024-07-02T21:05:46.910Z"
   },
   {
    "duration": 5,
    "start_time": "2024-07-02T21:05:53.987Z"
   },
   {
    "duration": 7308,
    "start_time": "2024-07-02T21:05:53.994Z"
   },
   {
    "duration": 309596,
    "start_time": "2024-07-02T21:06:01.305Z"
   },
   {
    "duration": 7,
    "start_time": "2024-07-02T21:11:10.903Z"
   },
   {
    "duration": 1500,
    "start_time": "2024-07-02T21:21:16.219Z"
   },
   {
    "duration": 1080,
    "start_time": "2024-07-02T21:21:17.721Z"
   },
   {
    "duration": 20,
    "start_time": "2024-07-02T21:21:18.803Z"
   },
   {
    "duration": 40,
    "start_time": "2024-07-02T21:21:18.824Z"
   },
   {
    "duration": 249,
    "start_time": "2024-07-02T21:21:18.866Z"
   },
   {
    "duration": 7,
    "start_time": "2024-07-02T21:21:19.117Z"
   },
   {
    "duration": 17,
    "start_time": "2024-07-02T21:21:19.126Z"
   },
   {
    "duration": 44,
    "start_time": "2024-07-02T21:21:19.145Z"
   },
   {
    "duration": 302,
    "start_time": "2024-07-02T21:21:19.191Z"
   },
   {
    "duration": 2331,
    "start_time": "2024-07-02T21:21:19.494Z"
   },
   {
    "duration": 11,
    "start_time": "2024-07-02T21:21:21.827Z"
   },
   {
    "duration": 179,
    "start_time": "2024-07-02T21:21:21.839Z"
   },
   {
    "duration": 0,
    "start_time": "2024-07-02T21:21:22.020Z"
   },
   {
    "duration": 0,
    "start_time": "2024-07-02T21:21:22.021Z"
   },
   {
    "duration": 0,
    "start_time": "2024-07-02T21:21:22.023Z"
   },
   {
    "duration": 0,
    "start_time": "2024-07-02T21:21:22.024Z"
   },
   {
    "duration": 0,
    "start_time": "2024-07-02T21:21:22.025Z"
   },
   {
    "duration": 0,
    "start_time": "2024-07-02T21:21:22.026Z"
   },
   {
    "duration": 0,
    "start_time": "2024-07-02T21:21:22.027Z"
   },
   {
    "duration": 0,
    "start_time": "2024-07-02T21:21:22.028Z"
   },
   {
    "duration": 0,
    "start_time": "2024-07-02T21:21:22.030Z"
   },
   {
    "duration": 0,
    "start_time": "2024-07-02T21:21:22.031Z"
   },
   {
    "duration": 1,
    "start_time": "2024-07-02T21:21:22.032Z"
   },
   {
    "duration": 0,
    "start_time": "2024-07-02T21:21:22.033Z"
   },
   {
    "duration": 0,
    "start_time": "2024-07-02T21:21:22.034Z"
   },
   {
    "duration": 0,
    "start_time": "2024-07-02T21:21:22.055Z"
   },
   {
    "duration": 0,
    "start_time": "2024-07-02T21:21:22.056Z"
   },
   {
    "duration": 0,
    "start_time": "2024-07-02T21:21:22.057Z"
   },
   {
    "duration": 13,
    "start_time": "2024-07-02T21:22:44.835Z"
   },
   {
    "duration": 5581,
    "start_time": "2024-07-02T21:23:24.855Z"
   },
   {
    "duration": 21,
    "start_time": "2024-07-02T21:23:30.438Z"
   },
   {
    "duration": 1484,
    "start_time": "2024-07-02T21:23:54.749Z"
   },
   {
    "duration": 1011,
    "start_time": "2024-07-02T21:23:56.235Z"
   },
   {
    "duration": 23,
    "start_time": "2024-07-02T21:23:57.247Z"
   },
   {
    "duration": 29,
    "start_time": "2024-07-02T21:23:57.273Z"
   },
   {
    "duration": 260,
    "start_time": "2024-07-02T21:23:57.304Z"
   },
   {
    "duration": 9,
    "start_time": "2024-07-02T21:23:57.566Z"
   },
   {
    "duration": 5,
    "start_time": "2024-07-02T21:23:57.577Z"
   },
   {
    "duration": 28,
    "start_time": "2024-07-02T21:23:57.583Z"
   },
   {
    "duration": 315,
    "start_time": "2024-07-02T21:23:57.612Z"
   },
   {
    "duration": 2339,
    "start_time": "2024-07-02T21:23:57.931Z"
   },
   {
    "duration": 13,
    "start_time": "2024-07-02T21:24:00.272Z"
   },
   {
    "duration": 2649,
    "start_time": "2024-07-02T21:24:00.287Z"
   },
   {
    "duration": 835582,
    "start_time": "2024-07-02T21:24:02.938Z"
   },
   {
    "duration": 0,
    "start_time": "2024-07-02T21:37:58.523Z"
   },
   {
    "duration": 0,
    "start_time": "2024-07-02T21:37:58.524Z"
   },
   {
    "duration": 0,
    "start_time": "2024-07-02T21:37:58.526Z"
   },
   {
    "duration": 0,
    "start_time": "2024-07-02T21:37:58.527Z"
   },
   {
    "duration": 0,
    "start_time": "2024-07-02T21:37:58.528Z"
   },
   {
    "duration": 0,
    "start_time": "2024-07-02T21:37:58.529Z"
   },
   {
    "duration": 0,
    "start_time": "2024-07-02T21:37:58.530Z"
   },
   {
    "duration": 0,
    "start_time": "2024-07-02T21:37:58.531Z"
   },
   {
    "duration": 0,
    "start_time": "2024-07-02T21:37:58.533Z"
   },
   {
    "duration": 0,
    "start_time": "2024-07-02T21:37:58.556Z"
   },
   {
    "duration": 0,
    "start_time": "2024-07-02T21:37:58.557Z"
   },
   {
    "duration": 0,
    "start_time": "2024-07-02T21:37:58.558Z"
   },
   {
    "duration": 0,
    "start_time": "2024-07-02T21:37:58.559Z"
   },
   {
    "duration": 0,
    "start_time": "2024-07-02T21:37:58.561Z"
   },
   {
    "duration": 0,
    "start_time": "2024-07-02T21:37:58.562Z"
   },
   {
    "duration": 0,
    "start_time": "2024-07-02T21:37:58.563Z"
   },
   {
    "duration": 132,
    "start_time": "2024-07-02T21:38:23.441Z"
   },
   {
    "duration": 555845,
    "start_time": "2024-07-02T21:40:07.368Z"
   },
   {
    "duration": 14,
    "start_time": "2024-07-02T21:53:24.811Z"
   },
   {
    "duration": 25,
    "start_time": "2024-07-02T21:53:25.332Z"
   },
   {
    "duration": 3,
    "start_time": "2024-07-02T21:53:25.526Z"
   },
   {
    "duration": 10,
    "start_time": "2024-07-02T21:53:25.864Z"
   },
   {
    "duration": 6,
    "start_time": "2024-07-02T21:53:26.189Z"
   },
   {
    "duration": 7219,
    "start_time": "2024-07-02T21:53:26.568Z"
   },
   {
    "duration": 4,
    "start_time": "2024-07-02T21:53:33.789Z"
   },
   {
    "duration": 309069,
    "start_time": "2024-07-02T21:53:33.795Z"
   },
   {
    "duration": 93,
    "start_time": "2024-07-02T21:58:42.867Z"
   },
   {
    "duration": 934918,
    "start_time": "2024-07-02T21:58:42.962Z"
   },
   {
    "duration": 8,
    "start_time": "2024-07-02T22:14:17.882Z"
   },
   {
    "duration": 9495327,
    "start_time": "2024-07-02T22:14:17.892Z"
   },
   {
    "duration": 9,
    "start_time": "2024-07-03T00:52:33.220Z"
   },
   {
    "duration": 7,
    "start_time": "2024-07-03T00:52:33.230Z"
   },
   {
    "duration": 7011,
    "start_time": "2024-07-03T00:52:33.239Z"
   },
   {
    "duration": 16,
    "start_time": "2024-07-03T00:52:40.252Z"
   },
   {
    "duration": 12,
    "start_time": "2024-07-03T00:53:28.024Z"
   },
   {
    "duration": 5,
    "start_time": "2024-07-03T00:57:13.580Z"
   },
   {
    "duration": 1380,
    "start_time": "2024-07-03T01:22:38.615Z"
   },
   {
    "duration": 2564,
    "start_time": "2024-07-03T01:22:39.997Z"
   },
   {
    "duration": 1018,
    "start_time": "2024-07-03T01:22:42.563Z"
   },
   {
    "duration": 22,
    "start_time": "2024-07-03T01:22:43.584Z"
   },
   {
    "duration": 48,
    "start_time": "2024-07-03T01:22:43.608Z"
   },
   {
    "duration": 256,
    "start_time": "2024-07-03T01:22:43.658Z"
   },
   {
    "duration": 10,
    "start_time": "2024-07-03T01:22:43.916Z"
   },
   {
    "duration": 3,
    "start_time": "2024-07-03T01:22:43.928Z"
   },
   {
    "duration": 32,
    "start_time": "2024-07-03T01:22:43.933Z"
   },
   {
    "duration": 307,
    "start_time": "2024-07-03T01:22:43.968Z"
   },
   {
    "duration": 2297,
    "start_time": "2024-07-03T01:22:44.277Z"
   },
   {
    "duration": 11,
    "start_time": "2024-07-03T01:22:46.575Z"
   },
   {
    "duration": 93326,
    "start_time": "2024-07-03T01:22:46.588Z"
   },
   {
    "duration": 0,
    "start_time": "2024-07-03T01:24:19.916Z"
   },
   {
    "duration": 0,
    "start_time": "2024-07-03T01:24:19.917Z"
   },
   {
    "duration": 0,
    "start_time": "2024-07-03T01:24:19.918Z"
   },
   {
    "duration": 0,
    "start_time": "2024-07-03T01:24:19.919Z"
   },
   {
    "duration": 0,
    "start_time": "2024-07-03T01:24:19.921Z"
   },
   {
    "duration": 0,
    "start_time": "2024-07-03T01:24:19.922Z"
   },
   {
    "duration": 0,
    "start_time": "2024-07-03T01:24:19.924Z"
   },
   {
    "duration": 0,
    "start_time": "2024-07-03T01:24:19.926Z"
   },
   {
    "duration": 1,
    "start_time": "2024-07-03T01:24:19.926Z"
   },
   {
    "duration": 0,
    "start_time": "2024-07-03T01:24:19.928Z"
   },
   {
    "duration": 0,
    "start_time": "2024-07-03T01:24:19.929Z"
   },
   {
    "duration": 0,
    "start_time": "2024-07-03T01:24:19.930Z"
   },
   {
    "duration": 0,
    "start_time": "2024-07-03T01:24:19.931Z"
   },
   {
    "duration": 0,
    "start_time": "2024-07-03T01:24:19.933Z"
   },
   {
    "duration": 526190,
    "start_time": "2024-07-03T01:24:26.027Z"
   },
   {
    "duration": 11,
    "start_time": "2024-07-03T01:33:12.218Z"
   },
   {
    "duration": 33,
    "start_time": "2024-07-03T01:33:12.231Z"
   },
   {
    "duration": 3,
    "start_time": "2024-07-03T01:33:12.266Z"
   },
   {
    "duration": 8,
    "start_time": "2024-07-03T01:33:12.271Z"
   },
   {
    "duration": 5,
    "start_time": "2024-07-03T01:33:12.280Z"
   },
   {
    "duration": 7154,
    "start_time": "2024-07-03T01:33:12.287Z"
   },
   {
    "duration": 6,
    "start_time": "2024-07-03T01:33:19.442Z"
   },
   {
    "duration": 61430,
    "start_time": "2024-07-03T01:33:19.456Z"
   },
   {
    "duration": 0,
    "start_time": "2024-07-03T01:34:20.888Z"
   },
   {
    "duration": 12,
    "start_time": "2024-07-03T01:34:53.902Z"
   },
   {
    "duration": 1451,
    "start_time": "2024-07-03T01:35:39.279Z"
   },
   {
    "duration": 2548,
    "start_time": "2024-07-03T01:35:40.731Z"
   },
   {
    "duration": 995,
    "start_time": "2024-07-03T01:35:43.281Z"
   },
   {
    "duration": 22,
    "start_time": "2024-07-03T01:35:44.278Z"
   },
   {
    "duration": 29,
    "start_time": "2024-07-03T01:35:44.302Z"
   },
   {
    "duration": 270,
    "start_time": "2024-07-03T01:35:44.332Z"
   },
   {
    "duration": 10,
    "start_time": "2024-07-03T01:35:44.604Z"
   },
   {
    "duration": 3,
    "start_time": "2024-07-03T01:35:44.616Z"
   },
   {
    "duration": 36,
    "start_time": "2024-07-03T01:35:44.621Z"
   },
   {
    "duration": 299,
    "start_time": "2024-07-03T01:35:44.659Z"
   },
   {
    "duration": 2378,
    "start_time": "2024-07-03T01:35:44.959Z"
   },
   {
    "duration": 17,
    "start_time": "2024-07-03T01:35:47.339Z"
   },
   {
    "duration": 530215,
    "start_time": "2024-07-03T01:35:47.358Z"
   },
   {
    "duration": 11,
    "start_time": "2024-07-03T01:44:37.575Z"
   },
   {
    "duration": 32,
    "start_time": "2024-07-03T01:44:37.587Z"
   },
   {
    "duration": 3,
    "start_time": "2024-07-03T01:44:37.621Z"
   },
   {
    "duration": 13,
    "start_time": "2024-07-03T01:44:37.625Z"
   },
   {
    "duration": 15,
    "start_time": "2024-07-03T01:44:37.640Z"
   },
   {
    "duration": 7074,
    "start_time": "2024-07-03T01:44:37.656Z"
   },
   {
    "duration": 5,
    "start_time": "2024-07-03T01:44:44.731Z"
   },
   {
    "duration": 304173,
    "start_time": "2024-07-03T01:44:44.737Z"
   },
   {
    "duration": 0,
    "start_time": "2024-07-03T01:49:48.911Z"
   },
   {
    "duration": 0,
    "start_time": "2024-07-03T01:49:48.913Z"
   },
   {
    "duration": 0,
    "start_time": "2024-07-03T01:49:48.915Z"
   },
   {
    "duration": 0,
    "start_time": "2024-07-03T01:49:48.916Z"
   },
   {
    "duration": 0,
    "start_time": "2024-07-03T01:49:48.918Z"
   },
   {
    "duration": 0,
    "start_time": "2024-07-03T01:49:48.919Z"
   },
   {
    "duration": 308348,
    "start_time": "2024-07-03T01:51:43.613Z"
   },
   {
    "duration": 7,
    "start_time": "2024-07-03T01:56:51.963Z"
   },
   {
    "duration": 5,
    "start_time": "2024-07-03T01:57:09.320Z"
   },
   {
    "duration": 7038,
    "start_time": "2024-07-03T01:57:11.466Z"
   },
   {
    "duration": 5638,
    "start_time": "2024-07-03T01:57:18.506Z"
   },
   {
    "duration": 12,
    "start_time": "2024-07-03T01:59:05.795Z"
   },
   {
    "duration": 20730,
    "start_time": "2024-07-03T02:00:01.998Z"
   },
   {
    "duration": 20749,
    "start_time": "2024-07-03T02:00:42.407Z"
   },
   {
    "duration": 1440,
    "start_time": "2024-07-03T02:02:32.573Z"
   },
   {
    "duration": 2572,
    "start_time": "2024-07-03T02:02:34.015Z"
   },
   {
    "duration": 1029,
    "start_time": "2024-07-03T02:02:36.589Z"
   },
   {
    "duration": 20,
    "start_time": "2024-07-03T02:02:37.620Z"
   },
   {
    "duration": 39,
    "start_time": "2024-07-03T02:02:37.641Z"
   },
   {
    "duration": 240,
    "start_time": "2024-07-03T02:02:37.682Z"
   },
   {
    "duration": 8,
    "start_time": "2024-07-03T02:02:37.923Z"
   },
   {
    "duration": 2,
    "start_time": "2024-07-03T02:02:37.933Z"
   },
   {
    "duration": 28,
    "start_time": "2024-07-03T02:02:37.936Z"
   },
   {
    "duration": 313,
    "start_time": "2024-07-03T02:02:37.966Z"
   },
   {
    "duration": 2283,
    "start_time": "2024-07-03T02:02:38.281Z"
   },
   {
    "duration": 11,
    "start_time": "2024-07-03T02:02:40.566Z"
   },
   {
    "duration": 540464,
    "start_time": "2024-07-03T02:02:40.578Z"
   },
   {
    "duration": 16,
    "start_time": "2024-07-03T02:11:41.044Z"
   },
   {
    "duration": 48,
    "start_time": "2024-07-03T02:11:41.062Z"
   },
   {
    "duration": 8,
    "start_time": "2024-07-03T02:11:41.112Z"
   },
   {
    "duration": 10,
    "start_time": "2024-07-03T02:11:41.121Z"
   },
   {
    "duration": 4,
    "start_time": "2024-07-03T02:11:41.132Z"
   },
   {
    "duration": 7013,
    "start_time": "2024-07-03T02:11:41.138Z"
   },
   {
    "duration": 4,
    "start_time": "2024-07-03T02:11:48.155Z"
   },
   {
    "duration": 301301,
    "start_time": "2024-07-03T02:11:48.161Z"
   },
   {
    "duration": 93,
    "start_time": "2024-07-03T02:16:49.465Z"
   },
   {
    "duration": 906112,
    "start_time": "2024-07-03T02:16:49.560Z"
   },
   {
    "duration": 7,
    "start_time": "2024-07-03T02:31:55.674Z"
   },
   {
    "duration": 9282203,
    "start_time": "2024-07-03T02:31:55.682Z"
   },
   {
    "duration": 10,
    "start_time": "2024-07-03T05:06:37.887Z"
   },
   {
    "duration": 42,
    "start_time": "2024-07-03T05:06:37.899Z"
   },
   {
    "duration": 6601,
    "start_time": "2024-07-03T05:06:37.945Z"
   },
   {
    "duration": 21246,
    "start_time": "2024-07-03T05:06:44.547Z"
   }
  ],
  "kernelspec": {
   "display_name": "Python 3 (ipykernel)",
   "language": "python",
   "name": "python3"
  },
  "language_info": {
   "codemirror_mode": {
    "name": "ipython",
    "version": 3
   },
   "file_extension": ".py",
   "mimetype": "text/x-python",
   "name": "python",
   "nbconvert_exporter": "python",
   "pygments_lexer": "ipython3",
   "version": "3.9.5"
  },
  "toc": {
   "base_numbering": 1,
   "nav_menu": {},
   "number_sections": true,
   "sideBar": true,
   "skip_h1_title": true,
   "title_cell": "Содержание",
   "title_sidebar": "Contents",
   "toc_cell": true,
   "toc_position": {
    "height": "calc(100% - 180px)",
    "left": "10px",
    "top": "150px",
    "width": "302.391px"
   },
   "toc_section_display": true,
   "toc_window_display": false
  }
 },
 "nbformat": 4,
 "nbformat_minor": 2
}
