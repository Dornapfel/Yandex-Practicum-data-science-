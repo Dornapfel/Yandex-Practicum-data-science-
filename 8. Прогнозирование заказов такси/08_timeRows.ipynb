{
 "cells": [
  {
   "cell_type": "markdown",
   "metadata": {
    "toc": true
   },
   "source": [
    "<h1>Содержание<span class=\"tocSkip\"></span></h1>\n",
    "<div class=\"toc\"><ul class=\"toc-item\"><li><span><a href=\"#Подготовка\" data-toc-modified-id=\"Подготовка-1\"><span class=\"toc-item-num\">1&nbsp;&nbsp;</span>Подготовка</a></span><ul class=\"toc-item\"><li><span><a href=\"#Импорты\" data-toc-modified-id=\"Импорты-1.1\"><span class=\"toc-item-num\">1.1&nbsp;&nbsp;</span>Импорты</a></span></li><li><span><a href=\"#Загрузка-данных\" data-toc-modified-id=\"Загрузка-данных-1.2\"><span class=\"toc-item-num\">1.2&nbsp;&nbsp;</span>Загрузка данных</a></span></li><li><span><a href=\"#Поскольку-данные-указаны-с-периодичностью-в-10минут,-а-нашей-задачей-является-предсказание-на-час---нужно-сделать-ресемплирование-данных-по-часу:\" data-toc-modified-id=\"Поскольку-данные-указаны-с-периодичностью-в-10минут,-а-нашей-задачей-является-предсказание-на-час---нужно-сделать-ресемплирование-данных-по-часу:-1.3\"><span class=\"toc-item-num\">1.3&nbsp;&nbsp;</span>Поскольку данные указаны с периодичностью в 10минут, а нашей задачей является предсказание на час - нужно сделать ресемплирование данных по часу:</a></span></li><li><span><a href=\"#Вывод:\" data-toc-modified-id=\"Вывод:-1.4\"><span class=\"toc-item-num\">1.4&nbsp;&nbsp;</span>Вывод:</a></span></li></ul></li><li><span><a href=\"#Анализ\" data-toc-modified-id=\"Анализ-2\"><span class=\"toc-item-num\">2&nbsp;&nbsp;</span>Анализ</a></span><ul class=\"toc-item\"><li><span><a href=\"#Распределение-количества-заказов-в-час-за-весь-период\" data-toc-modified-id=\"Распределение-количества-заказов-в-час-за-весь-период-2.1\"><span class=\"toc-item-num\">2.1&nbsp;&nbsp;</span>Распределение количества заказов в час за весь период</a></span></li><li><span><a href=\"#График-тренда\" data-toc-modified-id=\"График-тренда-2.2\"><span class=\"toc-item-num\">2.2&nbsp;&nbsp;</span>График тренда</a></span></li><li><span><a href=\"#График-сезонности\" data-toc-modified-id=\"График-сезонности-2.3\"><span class=\"toc-item-num\">2.3&nbsp;&nbsp;</span>График сезонности</a></span><ul class=\"toc-item\"><li><span><a href=\"#По-дням:\" data-toc-modified-id=\"По-дням:-2.3.1\"><span class=\"toc-item-num\">2.3.1&nbsp;&nbsp;</span>По дням:</a></span></li><li><span><a href=\"#По-дням-недели:\" data-toc-modified-id=\"По-дням-недели:-2.3.2\"><span class=\"toc-item-num\">2.3.2&nbsp;&nbsp;</span>По дням недели:</a></span></li></ul></li><li><span><a href=\"#Вывод:\" data-toc-modified-id=\"Вывод:-2.4\"><span class=\"toc-item-num\">2.4&nbsp;&nbsp;</span>Вывод:</a></span></li></ul></li><li><span><a href=\"#Обучение\" data-toc-modified-id=\"Обучение-3\"><span class=\"toc-item-num\">3&nbsp;&nbsp;</span>Обучение</a></span><ul class=\"toc-item\"><li><span><a href=\"#Подготовка\" data-toc-modified-id=\"Подготовка-3.1\"><span class=\"toc-item-num\">3.1&nbsp;&nbsp;</span>Подготовка</a></span><ul class=\"toc-item\"><li><span><a href=\"#LinearRegression\" data-toc-modified-id=\"LinearRegression-3.1.1\"><span class=\"toc-item-num\">3.1.1&nbsp;&nbsp;</span>LinearRegression</a></span></li><li><span><a href=\"#CatBoostRegressor\" data-toc-modified-id=\"CatBoostRegressor-3.1.2\"><span class=\"toc-item-num\">3.1.2&nbsp;&nbsp;</span>CatBoostRegressor</a></span></li><li><span><a href=\"#LGBMRegressor\" data-toc-modified-id=\"LGBMRegressor-3.1.3\"><span class=\"toc-item-num\">3.1.3&nbsp;&nbsp;</span>LGBMRegressor</a></span></li><li><span><a href=\"#Добавим-константную-модель-DummyRegressor-в-конце\" data-toc-modified-id=\"Добавим-константную-модель-DummyRegressor-в-конце-3.1.4\"><span class=\"toc-item-num\">3.1.4&nbsp;&nbsp;</span>Добавим константную модель DummyRegressor в конце</a></span></li></ul></li><li><span><a href=\"#Таблица-с-результатами\" data-toc-modified-id=\"Таблица-с-результатами-3.2\"><span class=\"toc-item-num\">3.2&nbsp;&nbsp;</span>Таблица с результатами</a></span></li></ul></li><li><span><a href=\"#Тестирование\" data-toc-modified-id=\"Тестирование-4\"><span class=\"toc-item-num\">4&nbsp;&nbsp;</span>Тестирование</a></span><ul class=\"toc-item\"><li><span><a href=\"#Выберем-в-качестве-лучшей-модели-для-последующего-использования-на-тесте-именно-CatBoost\" data-toc-modified-id=\"Выберем-в-качестве-лучшей-модели-для-последующего-использования-на-тесте-именно-CatBoost-4.1\"><span class=\"toc-item-num\">4.1&nbsp;&nbsp;</span>Выберем в качестве лучшей модели для последующего использования на тесте именно CatBoost</a></span></li></ul></li><li><span><a href=\"#Чек-лист-проверки\" data-toc-modified-id=\"Чек-лист-проверки-5\"><span class=\"toc-item-num\">5&nbsp;&nbsp;</span>Чек-лист проверки</a></span></li></ul></div>"
   ]
  },
  {
   "cell_type": "markdown",
   "metadata": {},
   "source": [
    "#  Прогнозирование заказов такси"
   ]
  },
  {
   "cell_type": "markdown",
   "metadata": {},
   "source": [
    "Компания «Чётенькое такси» собрала исторические данные о заказах такси в аэропортах. Чтобы привлекать больше водителей в период пиковой нагрузки, нужно спрогнозировать количество заказов такси на следующий час. Постройте модель для такого предсказания.\n",
    "\n",
    "Значение метрики *RMSE* на тестовой выборке должно быть не больше 48.\n",
    "\n",
    "Вам нужно:\n",
    "\n",
    "1. Загрузить данные и выполнить их ресемплирование по одному часу.\n",
    "2. Проанализировать данные.\n",
    "3. Обучить разные модели с различными гиперпараметрами. Сделать тестовую выборку размером 10% от исходных данных.\n",
    "4. Проверить данные на тестовой выборке и сделать выводы.\n",
    "\n",
    "\n",
    "Данные лежат в файле `taxi.csv`. Количество заказов находится в столбце `num_orders` (от англ. *number of orders*, «число заказов»)."
   ]
  },
  {
   "cell_type": "markdown",
   "metadata": {},
   "source": [
    "## Подготовка"
   ]
  },
  {
   "cell_type": "markdown",
   "metadata": {},
   "source": [
    "### Импорты"
   ]
  },
  {
   "cell_type": "code",
   "execution_count": 1,
   "metadata": {},
   "outputs": [],
   "source": [
    "import time\n",
    "import warnings\n",
    "\n",
    "import numpy as np\n",
    "import pandas as pd\n",
    "import seaborn as sns\n",
    "import matplotlib.pyplot as plt\n",
    "import plotly.graph_objects as go\n",
    "\n",
    "from statsmodels.tsa.seasonal import seasonal_decompose\n",
    "import lightgbm as lgb\n",
    "from lightgbm import LGBMRegressor\n",
    "from IPython.display import display\n",
    "from catboost import CatBoostRegressor\n",
    "from sklearn.metrics import mean_squared_error\n",
    "from sklearn.linear_model import LinearRegression\n",
    "from sklearn.model_selection import GridSearchCV, train_test_split, TimeSeriesSplit\n",
    "from sklearn.dummy import DummyRegressor"
   ]
  },
  {
   "cell_type": "code",
   "execution_count": 2,
   "metadata": {},
   "outputs": [],
   "source": [
    "warnings.filterwarnings('ignore')"
   ]
  },
  {
   "cell_type": "markdown",
   "metadata": {},
   "source": [
    "### Загрузка данных"
   ]
  },
  {
   "cell_type": "code",
   "execution_count": 3,
   "metadata": {},
   "outputs": [],
   "source": [
    "df = pd.read_csv('/datasets/taxi.csv', index_col=[0], parse_dates=[0])"
   ]
  },
  {
   "cell_type": "code",
   "execution_count": 4,
   "metadata": {},
   "outputs": [
    {
     "name": "stdout",
     "output_type": "stream",
     "text": [
      "<class 'pandas.core.frame.DataFrame'>\n",
      "DatetimeIndex: 26496 entries, 2018-03-01 00:00:00 to 2018-08-31 23:50:00\n",
      "Data columns (total 1 columns):\n",
      " #   Column      Non-Null Count  Dtype\n",
      "---  ------      --------------  -----\n",
      " 0   num_orders  26496 non-null  int64\n",
      "dtypes: int64(1)\n",
      "memory usage: 414.0 KB\n"
     ]
    }
   ],
   "source": [
    "df.info()"
   ]
  },
  {
   "cell_type": "code",
   "execution_count": 5,
   "metadata": {},
   "outputs": [
    {
     "data": {
      "text/html": [
       "<div>\n",
       "<style scoped>\n",
       "    .dataframe tbody tr th:only-of-type {\n",
       "        vertical-align: middle;\n",
       "    }\n",
       "\n",
       "    .dataframe tbody tr th {\n",
       "        vertical-align: top;\n",
       "    }\n",
       "\n",
       "    .dataframe thead th {\n",
       "        text-align: right;\n",
       "    }\n",
       "</style>\n",
       "<table border=\"1\" class=\"dataframe\">\n",
       "  <thead>\n",
       "    <tr style=\"text-align: right;\">\n",
       "      <th></th>\n",
       "      <th>num_orders</th>\n",
       "    </tr>\n",
       "    <tr>\n",
       "      <th>datetime</th>\n",
       "      <th></th>\n",
       "    </tr>\n",
       "  </thead>\n",
       "  <tbody>\n",
       "    <tr>\n",
       "      <th>2018-03-01 00:00:00</th>\n",
       "      <td>9</td>\n",
       "    </tr>\n",
       "    <tr>\n",
       "      <th>2018-03-01 00:10:00</th>\n",
       "      <td>14</td>\n",
       "    </tr>\n",
       "    <tr>\n",
       "      <th>2018-03-01 00:20:00</th>\n",
       "      <td>28</td>\n",
       "    </tr>\n",
       "    <tr>\n",
       "      <th>2018-03-01 00:30:00</th>\n",
       "      <td>20</td>\n",
       "    </tr>\n",
       "    <tr>\n",
       "      <th>2018-03-01 00:40:00</th>\n",
       "      <td>32</td>\n",
       "    </tr>\n",
       "  </tbody>\n",
       "</table>\n",
       "</div>"
      ],
      "text/plain": [
       "                     num_orders\n",
       "datetime                       \n",
       "2018-03-01 00:00:00           9\n",
       "2018-03-01 00:10:00          14\n",
       "2018-03-01 00:20:00          28\n",
       "2018-03-01 00:30:00          20\n",
       "2018-03-01 00:40:00          32"
      ]
     },
     "execution_count": 5,
     "metadata": {},
     "output_type": "execute_result"
    }
   ],
   "source": [
    "df.head()"
   ]
  },
  {
   "cell_type": "code",
   "execution_count": 6,
   "metadata": {},
   "outputs": [
    {
     "data": {
      "text/plain": [
       "num_orders    0\n",
       "dtype: int64"
      ]
     },
     "execution_count": 6,
     "metadata": {},
     "output_type": "execute_result"
    }
   ],
   "source": [
    "df.isna().sum()"
   ]
  },
  {
   "cell_type": "code",
   "execution_count": 7,
   "metadata": {},
   "outputs": [
    {
     "data": {
      "text/plain": [
       "True"
      ]
     },
     "execution_count": 7,
     "metadata": {},
     "output_type": "execute_result"
    }
   ],
   "source": [
    "df.index.is_monotonic"
   ]
  },
  {
   "cell_type": "code",
   "execution_count": 8,
   "metadata": {},
   "outputs": [],
   "source": [
    "df.sort_index(inplace=True)"
   ]
  },
  {
   "cell_type": "markdown",
   "metadata": {},
   "source": [
    "### Поскольку данные указаны с периодичностью в 10минут, а нашей задачей является предсказание на час - нужно сделать ресемплирование данных по часу:"
   ]
  },
  {
   "cell_type": "code",
   "execution_count": 9,
   "metadata": {},
   "outputs": [],
   "source": [
    "df = df.resample('1H').sum()"
   ]
  },
  {
   "cell_type": "code",
   "execution_count": 10,
   "metadata": {},
   "outputs": [],
   "source": [
    "decomposed = seasonal_decompose(df)\n",
    "decomposed_day = seasonal_decompose(df.resample('1D').sum())"
   ]
  },
  {
   "cell_type": "markdown",
   "metadata": {},
   "source": [
    "### Вывод:\n",
    "\n",
    "- Данные загружены, временной интервал задан в виде индекса\n",
    "- Данные ресемплированы по часу"
   ]
  },
  {
   "cell_type": "markdown",
   "metadata": {},
   "source": [
    "## Анализ"
   ]
  },
  {
   "cell_type": "code",
   "execution_count": 11,
   "metadata": {},
   "outputs": [
    {
     "data": {
      "text/html": [
       "<div>\n",
       "<style scoped>\n",
       "    .dataframe tbody tr th:only-of-type {\n",
       "        vertical-align: middle;\n",
       "    }\n",
       "\n",
       "    .dataframe tbody tr th {\n",
       "        vertical-align: top;\n",
       "    }\n",
       "\n",
       "    .dataframe thead th {\n",
       "        text-align: right;\n",
       "    }\n",
       "</style>\n",
       "<table border=\"1\" class=\"dataframe\">\n",
       "  <thead>\n",
       "    <tr style=\"text-align: right;\">\n",
       "      <th></th>\n",
       "      <th>num_orders</th>\n",
       "    </tr>\n",
       "    <tr>\n",
       "      <th>datetime</th>\n",
       "      <th></th>\n",
       "    </tr>\n",
       "  </thead>\n",
       "  <tbody>\n",
       "    <tr>\n",
       "      <th>2018-03-01 00:00:00</th>\n",
       "      <td>124</td>\n",
       "    </tr>\n",
       "    <tr>\n",
       "      <th>2018-03-01 01:00:00</th>\n",
       "      <td>85</td>\n",
       "    </tr>\n",
       "    <tr>\n",
       "      <th>2018-03-01 02:00:00</th>\n",
       "      <td>71</td>\n",
       "    </tr>\n",
       "    <tr>\n",
       "      <th>2018-03-01 03:00:00</th>\n",
       "      <td>66</td>\n",
       "    </tr>\n",
       "    <tr>\n",
       "      <th>2018-03-01 04:00:00</th>\n",
       "      <td>43</td>\n",
       "    </tr>\n",
       "  </tbody>\n",
       "</table>\n",
       "</div>"
      ],
      "text/plain": [
       "                     num_orders\n",
       "datetime                       \n",
       "2018-03-01 00:00:00         124\n",
       "2018-03-01 01:00:00          85\n",
       "2018-03-01 02:00:00          71\n",
       "2018-03-01 03:00:00          66\n",
       "2018-03-01 04:00:00          43"
      ]
     },
     "execution_count": 11,
     "metadata": {},
     "output_type": "execute_result"
    }
   ],
   "source": [
    "df.head()"
   ]
  },
  {
   "cell_type": "markdown",
   "metadata": {},
   "source": [
    "### Распределение количества заказов в час за весь период"
   ]
  },
  {
   "cell_type": "code",
   "execution_count": 12,
   "metadata": {},
   "outputs": [
    {
     "data": {
      "image/png": "[encoded data removed]",
      "text/plain": [
       "<Figure size 1008x576 with 1 Axes>"
      ]
     },
     "metadata": {
      "needs_background": "light"
     },
     "output_type": "display_data"
    }
   ],
   "source": [
    "# Создание графика\n",
    "plt.figure(figsize=(14, 8))\n",
    "ax = plt.gca()\n",
    "\n",
    "# График исходных данных\n",
    "df.plot(ax=ax)\n",
    "\n",
    "# Вычисление и добавление скользящего среднего\n",
    "df['rolling_mean'] = df.rolling(100).mean()\n",
    "df['rolling_mean'].plot(ax=ax, color='red')\n",
    "\n",
    "# Настройка легенды\n",
    "plt.legend(['Количество заказов', 'Скользящее среднее'])\n",
    "\n",
    "# Добавление заголовка и меток осей\n",
    "plt.title('Распределение количества заказов в час за весь период')\n",
    "plt.xlabel('Дата')\n",
    "plt.ylabel('Заказы')\n",
    "\n",
    "# Настройка отображения графика\n",
    "plt.tight_layout()\n",
    "plt.show()"
   ]
  },
  {
   "cell_type": "markdown",
   "metadata": {},
   "source": [
    "### График тренда"
   ]
  },
  {
   "cell_type": "code",
   "execution_count": 13,
   "metadata": {},
   "outputs": [
    {
     "data": {
      "image/png": "[encoded data removed]",
      "text/plain": [
       "<Figure size 1152x720 with 1 Axes>"
      ]
     },
     "metadata": {
      "needs_background": "light"
     },
     "output_type": "display_data"
    }
   ],
   "source": [
    "decomposed.trend.plot(ax=plt.gca(),figsize=(14, 8))\n",
    "decomposed.trend.resample('1D').mean().rolling(7).mean().plot(ax=plt.gca(), color='red', figsize=(16, 10))\n",
    "plt.legend(['Количество заказов', 'Скользящее среднее'])\n",
    "plt.title('График тренда')\n",
    "plt.xlabel('Дата')\n",
    "plt.ylabel('Количество')\n",
    "\n",
    "# Настройка отображения графика\n",
    "plt.tight_layout()\n",
    "plt.show()"
   ]
  },
  {
   "cell_type": "markdown",
   "metadata": {},
   "source": [
    "### График сезонности"
   ]
  },
  {
   "cell_type": "markdown",
   "metadata": {},
   "source": [
    "#### По дням:"
   ]
  },
  {
   "cell_type": "code",
   "execution_count": 14,
   "metadata": {},
   "outputs": [
    {
     "data": {
      "image/png": "[encoded data removed]",
      "text/plain": [
       "<Figure size 1008x576 with 1 Axes>"
      ]
     },
     "metadata": {
      "needs_background": "light"
     },
     "output_type": "display_data"
    }
   ],
   "source": [
    "decomposed.seasonal['2018-06-01' : '2018-06-14'].plot(ax=plt.gca(),figsize=(14, 8))\n",
    "plt.title('График сезонности по дням')\n",
    "plt.xlabel('Дни')\n",
    "plt.ylabel('Заказы')\n",
    "plt.tight_layout()"
   ]
  },
  {
   "cell_type": "markdown",
   "metadata": {},
   "source": [
    "#### По дням недели:"
   ]
  },
  {
   "cell_type": "code",
   "execution_count": 15,
   "metadata": {
    "scrolled": false
   },
   "outputs": [
    {
     "data": {
      "image/png": "[encoded data removed]",
      "text/plain": [
       "<Figure size 1008x576 with 1 Axes>"
      ]
     },
     "metadata": {
      "needs_background": "light"
     },
     "output_type": "display_data"
    }
   ],
   "source": [
    "# Разложение временного ряда\n",
    "decomposition = seasonal_decompose(df['num_orders'], model='additive', period=24*7)\n",
    "\n",
    "# Добавление столбца с днем недели (0 - Понедельник, 6 - Воскресенье)\n",
    "df['day_of_week'] = df.index.dayofweek\n",
    "\n",
    "# Группировка данных по дням недели и расчет среднего значения сезонности для каждого дня\n",
    "seasonal_by_day = decomposition.seasonal.groupby(df['day_of_week']).mean()\n",
    "\n",
    "# Преобразуем индекс, чтобы дни недели были от 1 до 7\n",
    "seasonal_by_day.index = seasonal_by_day.index + 1\n",
    "\n",
    "# Построение графика\n",
    "plt.figure(figsize=(14, 8))\n",
    "seasonal_by_day.plot(ax=plt.gca())\n",
    "\n",
    "plt.title('График сезонности по дням недели')\n",
    "plt.xlabel('Дни недели')\n",
    "plt.ylabel('Заказы')\n",
    "plt.xticks(ticks=range(1, 8), labels=['Понедельник', 'Вторник', 'Среда', 'Четверг', 'Пятница', 'Суббота', 'Воскресенье'])\n",
    "plt.tight_layout()\n",
    "plt.show()"
   ]
  },
  {
   "cell_type": "markdown",
   "metadata": {},
   "source": [
    "### Вывод:\n",
    "\n",
    "- Присутствует общий тренд равномерного роста количества заказов с периодическими небольшими падениями. Это может указывать на постепенное увеличение спроса или развитие бизнеса в данной области.\n",
    "- Наблюдается сезонность в течение дня, где количество заказов:\n",
    "    - Минимально в ночное время\n",
    "    - Растет в течение дня\n",
    "    - Достигает пика вечером\n",
    "- Также заметна сезонность по дням недели:\n",
    "    - В среднем больше всего заказов в понедельник и четверг\n",
    "    - В среднем меньше всего заказов во вторник и в воскресенье.\n",
    "\n",
    "Очевидно влияние времени на поведедение клиентов\n",
    "\n",
    "Эти наблюдения могут быть полезны в будущем"
   ]
  },
  {
   "cell_type": "markdown",
   "metadata": {},
   "source": [
    "## Обучение"
   ]
  },
  {
   "cell_type": "markdown",
   "metadata": {},
   "source": [
    "### Подготовка"
   ]
  },
  {
   "cell_type": "code",
   "execution_count": 16,
   "metadata": {},
   "outputs": [],
   "source": [
    "RANDOM_STATE = 42\n",
    "\n",
    "# Функция для создания признаков\n",
    "def make_features(df):\n",
    "    data = df.copy()\n",
    "    data['month'] = data.index.month\n",
    "    data['dayofweek'] = data.index.dayofweek\n",
    "    data['day'] = data.index.day\n",
    "    data['hour'] = data.index.hour\n",
    "    \n",
    "    lags = {f'lag_{i}': data['num_orders'].shift(i) for i in range(1, 6)}\n",
    "    data = data.assign(**lags)\n",
    "    \n",
    "    data['rolling_mean'] = data['num_orders'].shift().rolling(1).mean()\n",
    "    data.dropna(inplace=True)\n",
    "    \n",
    "    return data\n",
    "\n",
    "# Подготовка данных\n",
    "data = make_features(df)\n",
    "features = data.drop(['num_orders'], axis=1)\n",
    "target = data['num_orders']\n",
    "\n",
    "features_train, features_test, target_train, target_test = train_test_split(features,\n",
    "                                                                            target,\n",
    "                                                                            shuffle=False,\n",
    "                                                                            test_size=0.1,\n",
    "                                                                            random_state=RANDOM_STATE)\n",
    "\n",
    "results = pd.DataFrame(columns=['Model',\n",
    "                                   'Training Time',\n",
    "                                   'Prediction Time',\n",
    "                                   'RMSE Train'])\n",
    "\n",
    "# Функция для обучения модели\n",
    "def fit_model(estimator, param_grid, features_train, target_train, features_test, target_test):\n",
    "    \n",
    "    tscv = TimeSeriesSplit(n_splits=5)\n",
    "    \n",
    "    model = GridSearchCV(estimator,\n",
    "                         param_grid,\n",
    "                         n_jobs=-1,\n",
    "                         cv=tscv,\n",
    "                         scoring='neg_root_mean_squared_error')\n",
    "\n",
    "    start_time = time.time()\n",
    "    model.fit(features_train, target_train)\n",
    "    training_time = time.time() - start_time\n",
    "\n",
    "    best_rmse = abs(round(model.best_score_, 1))\n",
    "    print(f'Best RMSE: {best_rmse}')\n",
    "\n",
    "    best_model = estimator.set_params(**model.best_params_)\n",
    "\n",
    "    start_time = time.time()\n",
    "    best_model.fit(features_train, target_train)\n",
    "    prediction_time = time.time() - start_time\n",
    "\n",
    "    predictions_train = best_model.predict(features_train)\n",
    "    train_rmse = mean_squared_error(target_train, predictions_train, squared=False)\n",
    "\n",
    "    return best_model, best_rmse, training_time, prediction_time, train_rmse"
   ]
  },
  {
   "cell_type": "markdown",
   "metadata": {},
   "source": [
    "#### LinearRegression"
   ]
  },
  {
   "cell_type": "code",
   "execution_count": 17,
   "metadata": {},
   "outputs": [
    {
     "name": "stdout",
     "output_type": "stream",
     "text": [
      "Best RMSE: 31.5\n"
     ]
    }
   ],
   "source": [
    "best_model, best_rmse, training_time, prediction_time, train_rmse_LR = fit_model(\n",
    "    LinearRegression(),\n",
    "    {'fit_intercept': [True, False],\n",
    "     'n_jobs': [-1]},\n",
    "    features_train,\n",
    "    target_train,\n",
    "    features_test,\n",
    "    target_test)\n",
    "\n",
    "# Результат добавляем в таблицу\n",
    "results.loc[0] = ['LinearRegression', training_time, prediction_time, train_rmse_LR]\n"
   ]
  },
  {
   "cell_type": "markdown",
   "metadata": {},
   "source": [
    "#### CatBoostRegressor"
   ]
  },
  {
   "cell_type": "code",
   "execution_count": 18,
   "metadata": {},
   "outputs": [
    {
     "name": "stdout",
     "output_type": "stream",
     "text": [
      "Best RMSE: 25.3\n"
     ]
    }
   ],
   "source": [
    "best_model, best_rmse, training_time, prediction_time, train_rmse_LR = fit_model(\n",
    "    CatBoostRegressor(random_state=RANDOM_STATE, verbose=False),\n",
    "    {'depth': [6, 8],\n",
    "     'learning_rate': [0.05, 0.1]},\n",
    "    features_train,\n",
    "    target_train,\n",
    "    features_test,\n",
    "    target_test)\n",
    "\n",
    "# Результат добавляем в таблицу\n",
    "results.loc[1] = ['CatBoostRegressor', training_time, prediction_time, train_rmse_LR]"
   ]
  },
  {
   "cell_type": "markdown",
   "metadata": {},
   "source": [
    "#### LGBMRegressor"
   ]
  },
  {
   "cell_type": "code",
   "execution_count": 19,
   "metadata": {},
   "outputs": [
    {
     "name": "stdout",
     "output_type": "stream",
     "text": [
      "Best RMSE: 26.4\n"
     ]
    }
   ],
   "source": [
    "# Обучение и добавление LGBMRegressor с оптимизированными гиперпараметрами\n",
    "best_model, best_rmse, training_time, prediction_time, train_rmse_LGBM = fit_model(\n",
    "    LGBMRegressor(random_state=RANDOM_STATE, n_jobs=-1),\n",
    "    {'n_estimators': [20, 30],\n",
    "     'max_depth': [3, 5],\n",
    "     'learning_rate': [0.05, 0.1]},\n",
    "    features_train,\n",
    "    target_train,\n",
    "    features_test,\n",
    "    target_test)\n",
    "\n",
    "# Результат добавляем в таблицу\n",
    "results.loc[2] = ['LGBMRegressor', training_time, prediction_time, train_rmse_LGBM]"
   ]
  },
  {
   "attachments": {
    "image.png": {
     "image/png": "[encoded data removed]"
    }
   },
   "cell_type": "markdown",
   "metadata": {},
   "source": [
    "Модель обучается то 50сек, то 2000сек, что странно, конечно :)\n",
    "\n",
    "![image.png](attachment:image.png)"
   ]
  },
  {
   "cell_type": "markdown",
   "metadata": {},
   "source": [
    "#### Добавим константную модель DummyRegressor в конце"
   ]
  },
  {
   "cell_type": "code",
   "execution_count": 20,
   "metadata": {},
   "outputs": [],
   "source": [
    "dummy_model = DummyRegressor(strategy=\"mean\")\n",
    "\n",
    "start_time = time.time()\n",
    "dummy_model.fit(features_train, target_train)\n",
    "training_time_dummy = time.time() - start_time\n",
    "\n",
    "start_time = time.time()\n",
    "dummy_predictions = dummy_model.predict(features_test)\n",
    "prediction_time_dummy = time.time() - start_time\n",
    "\n",
    "dummy_rmse = mean_squared_error(target_test, dummy_predictions, squared=False)\n",
    "train_rmse_dummy = mean_squared_error(target_train, dummy_model.predict(features_train), squared=False)\n",
    "\n",
    "# Результат добавляем в таблицу\n",
    "results.loc[3] = ['DummyRegressor', training_time_dummy, prediction_time_dummy, train_rmse_dummy]"
   ]
  },
  {
   "cell_type": "markdown",
   "metadata": {},
   "source": [
    "### Таблица с результатами"
   ]
  },
  {
   "cell_type": "code",
   "execution_count": 21,
   "metadata": {},
   "outputs": [
    {
     "data": {
      "text/html": [
       "<div>\n",
       "<style scoped>\n",
       "    .dataframe tbody tr th:only-of-type {\n",
       "        vertical-align: middle;\n",
       "    }\n",
       "\n",
       "    .dataframe tbody tr th {\n",
       "        vertical-align: top;\n",
       "    }\n",
       "\n",
       "    .dataframe thead th {\n",
       "        text-align: right;\n",
       "    }\n",
       "</style>\n",
       "<table border=\"1\" class=\"dataframe\">\n",
       "  <thead>\n",
       "    <tr style=\"text-align: right;\">\n",
       "      <th></th>\n",
       "      <th>Model</th>\n",
       "      <th>Training Time</th>\n",
       "      <th>Prediction Time</th>\n",
       "      <th>RMSE Train</th>\n",
       "    </tr>\n",
       "  </thead>\n",
       "  <tbody>\n",
       "    <tr>\n",
       "      <th>0</th>\n",
       "      <td>CatBoostRegressor</td>\n",
       "      <td>58.289986</td>\n",
       "      <td>2.333913</td>\n",
       "      <td>13.376158</td>\n",
       "    </tr>\n",
       "    <tr>\n",
       "      <th>1</th>\n",
       "      <td>LGBMRegressor</td>\n",
       "      <td>1853.456256</td>\n",
       "      <td>133.097662</td>\n",
       "      <td>20.976465</td>\n",
       "    </tr>\n",
       "    <tr>\n",
       "      <th>2</th>\n",
       "      <td>LinearRegression</td>\n",
       "      <td>0.061915</td>\n",
       "      <td>0.070254</td>\n",
       "      <td>30.494235</td>\n",
       "    </tr>\n",
       "    <tr>\n",
       "      <th>3</th>\n",
       "      <td>DummyRegressor</td>\n",
       "      <td>0.000360</td>\n",
       "      <td>0.000240</td>\n",
       "      <td>38.679623</td>\n",
       "    </tr>\n",
       "  </tbody>\n",
       "</table>\n",
       "</div>"
      ],
      "text/plain": [
       "               Model  Training Time  Prediction Time  RMSE Train\n",
       "0  CatBoostRegressor      58.289986         2.333913   13.376158\n",
       "1      LGBMRegressor    1853.456256       133.097662   20.976465\n",
       "2   LinearRegression       0.061915         0.070254   30.494235\n",
       "3     DummyRegressor       0.000360         0.000240   38.679623"
      ]
     },
     "execution_count": 21,
     "metadata": {},
     "output_type": "execute_result"
    }
   ],
   "source": [
    "# Сортировка по убыванию значения столбца 'RMSE Train'\n",
    "df_sorted = results.sort_values(by='RMSE Train', ascending=True)\n",
    "\n",
    "# Сброс индексов\n",
    "df_sorted.reset_index(drop=True, inplace=True)\n",
    "\n",
    "# Вывод результата\n",
    "df_sorted"
   ]
  },
  {
   "cell_type": "markdown",
   "metadata": {},
   "source": [
    "## Тестирование"
   ]
  },
  {
   "cell_type": "code",
   "execution_count": 22,
   "metadata": {},
   "outputs": [],
   "source": [
    "def display_result(target, pred, rmse, model_name):\n",
    "    # Преобразуем целевую переменную в DataFrame и сбрасываем индекс\n",
    "    result = target.to_frame().reset_index()\n",
    "    \n",
    "    # Добавляем столбец с предсказаниями в DataFrame\n",
    "    result['prediction'] = pd.Series(pred)\n",
    "    \n",
    "    # Устанавливаем столбец datetime в качестве индекса\n",
    "    result.set_index('datetime', inplace=True)\n",
    "\n",
    "    plt.figure(figsize=(14, 8))\n",
    "    \n",
    "    # Добавляем график с реальными значениями\n",
    "    plt.plot(result.index, result[target.name], label='True')\n",
    "    \n",
    "    # Добавляем график с предсказанными значениями\n",
    "    plt.plot(result.index, result['prediction'], label='Predicted')\n",
    "    \n",
    "    # Устанавливаем заголовок графика и подписи осей\n",
    "    plt.title(f'{model_name} (RMSE: {rmse:.2f})')\n",
    "    plt.xlabel('Время (дни)')\n",
    "    plt.ylabel('Количество заказов')\n",
    "    plt.legend()\n",
    "    plt.grid(True)\n",
    "    plt.tight_layout()\n",
    "    \n",
    "    # Отображаем график\n",
    "    plt.show()"
   ]
  },
  {
   "cell_type": "markdown",
   "metadata": {},
   "source": [
    "### Выберем в качестве лучшей модели для последующего использования на тесте именно CatBoost"
   ]
  },
  {
   "cell_type": "code",
   "execution_count": 23,
   "metadata": {},
   "outputs": [
    {
     "data": {
      "image/png": "[encoded data removed]",
      "text/plain": [
       "<Figure size 1008x576 with 1 Axes>"
      ]
     },
     "metadata": {
      "needs_background": "light"
     },
     "output_type": "display_data"
    }
   ],
   "source": [
    "for i in range(len(results)):\n",
    "    model_name = results.iloc[i]['Model']\n",
    "    \n",
    "    if model_name == 'CatBoostRegressor':\n",
    "        model = CatBoostRegressor(verbose=False)\n",
    "        \n",
    "        # Подгоняем модель к обучающим данным\n",
    "        model.fit(features_train, target_train)\n",
    "        \n",
    "        # Спрогнозируем на тестовых данных\n",
    "        predictions = model.predict(features_test)\n",
    "        \n",
    "        # Рассчитаем среднеквадратичное отклонение\n",
    "        rmse = mean_squared_error(target_test, predictions, squared=False)\n",
    "        \n",
    "        # Выводим результаты\n",
    "        display_result(target_test, predictions, rmse, model_name)"
   ]
  },
  {
   "cell_type": "markdown",
   "metadata": {},
   "source": [
    "Точность модели на тестовой выборки удовлетворяет условию правильного выполнения задания: 43.50 < 48"
   ]
  },
  {
   "cell_type": "markdown",
   "metadata": {},
   "source": [
    "# Вывод:\n",
    "\n",
    "###### Задача:\n",
    "- Спрогнозировать количество заказов такси в рамках следующего часа на основе исторических данных\n",
    "\n",
    "###### Выполнение:\n",
    "- Обработали данные\n",
    "- Проанализировали данные\n",
    "- Расширили наш набор данных, добавив признаки, связанные с датой и временем(год, день недели, дата, час)\n",
    "- Разбили данные на обучающую и тестовую выборки в соотношении 90:10%\n",
    "- Включили столбцы с лагами целевой переменной и скользящее среднее за отрезок в час\n",
    "- Провели тестирование нескольких моделей — LinearRegressor, CatBoostRegressor и LGBMRegressor, подбирая различные гиперпараметры для достижения оптимального качества прогнозирования с целью минимизировать значение метрики RMSE модели, которая лучше всего справилась на обучающих данных, но уже на тестовых :)\n",
    "\n",
    "###### Итог:\n",
    "\n",
    "Получили значение метрики RMSE равное 43.50, что соответствует условию правильного выполнения задания"
   ]
  },
  {
   "cell_type": "markdown",
   "metadata": {},
   "source": [
    "## Чек-лист проверки"
   ]
  },
  {
   "cell_type": "markdown",
   "metadata": {},
   "source": [
    "- [x]  Jupyter Notebook открыт\n",
    "- [x]  Весь код выполняется без ошибок\n",
    "- [x]  Ячейки с кодом расположены в порядке исполнения\n",
    "- [x]  Данные загружены и подготовлены\n",
    "- [x]  Данные проанализированы\n",
    "- [x]  Модель обучена, гиперпараметры подобраны\n",
    "- [x]  Качество моделей проверено, выводы сделаны\n",
    "- [x]  Значение *RMSE* на тестовой выборке не больше 48"
   ]
  }
 ],
 "metadata": {
  "ExecuteTimeLog": [
   {
    "duration": 1320,
    "start_time": "2024-06-17T06:35:51.347Z"
   },
   {
    "duration": 3,
    "start_time": "2024-06-17T06:35:52.669Z"
   },
   {
    "duration": 118,
    "start_time": "2024-06-17T06:35:52.675Z"
   },
   {
    "duration": 14,
    "start_time": "2024-06-17T06:35:52.795Z"
   },
   {
    "duration": 69,
    "start_time": "2024-06-17T06:35:52.810Z"
   },
   {
    "duration": 5,
    "start_time": "2024-06-17T06:35:52.881Z"
   },
   {
    "duration": 5,
    "start_time": "2024-06-17T06:36:13.249Z"
   },
   {
    "duration": 3,
    "start_time": "2024-06-17T06:36:13.615Z"
   },
   {
    "duration": 99,
    "start_time": "2024-06-17T06:37:27.024Z"
   },
   {
    "duration": 5,
    "start_time": "2024-06-17T06:37:33.841Z"
   },
   {
    "duration": 9,
    "start_time": "2024-06-17T06:38:42.020Z"
   },
   {
    "duration": 858,
    "start_time": "2024-06-17T06:38:48.949Z"
   },
   {
    "duration": 2,
    "start_time": "2024-06-17T06:41:07.464Z"
   },
   {
    "duration": 6,
    "start_time": "2024-06-17T06:49:05.958Z"
   },
   {
    "duration": 8,
    "start_time": "2024-06-17T06:49:11.741Z"
   },
   {
    "duration": 10,
    "start_time": "2024-06-17T06:49:55.472Z"
   },
   {
    "duration": 1623,
    "start_time": "2024-06-17T06:50:23.663Z"
   },
   {
    "duration": 3,
    "start_time": "2024-06-17T06:50:25.289Z"
   },
   {
    "duration": 59,
    "start_time": "2024-06-17T06:50:25.293Z"
   },
   {
    "duration": 10,
    "start_time": "2024-06-17T06:50:25.354Z"
   },
   {
    "duration": 12,
    "start_time": "2024-06-17T06:50:25.366Z"
   },
   {
    "duration": 9,
    "start_time": "2024-06-17T06:50:25.380Z"
   },
   {
    "duration": 10,
    "start_time": "2024-06-17T06:50:25.390Z"
   },
   {
    "duration": 3,
    "start_time": "2024-06-17T06:50:25.402Z"
   },
   {
    "duration": 21,
    "start_time": "2024-06-17T06:50:25.406Z"
   },
   {
    "duration": 15,
    "start_time": "2024-06-17T06:50:25.429Z"
   },
   {
    "duration": 6,
    "start_time": "2024-06-17T06:50:25.445Z"
   },
   {
    "duration": 920,
    "start_time": "2024-06-17T06:50:25.452Z"
   },
   {
    "duration": 124,
    "start_time": "2024-06-17T06:55:04.596Z"
   },
   {
    "duration": 1402,
    "start_time": "2024-06-17T06:56:02.986Z"
   },
   {
    "duration": 2,
    "start_time": "2024-06-17T06:56:04.390Z"
   },
   {
    "duration": 48,
    "start_time": "2024-06-17T06:56:04.393Z"
   },
   {
    "duration": 9,
    "start_time": "2024-06-17T06:56:04.443Z"
   },
   {
    "duration": 23,
    "start_time": "2024-06-17T06:56:04.454Z"
   },
   {
    "duration": 30,
    "start_time": "2024-06-17T06:56:04.479Z"
   },
   {
    "duration": 5,
    "start_time": "2024-06-17T06:56:04.511Z"
   },
   {
    "duration": 14,
    "start_time": "2024-06-17T06:56:04.518Z"
   },
   {
    "duration": 24,
    "start_time": "2024-06-17T06:56:04.534Z"
   },
   {
    "duration": 11,
    "start_time": "2024-06-17T06:56:04.559Z"
   },
   {
    "duration": 22,
    "start_time": "2024-06-17T06:56:04.571Z"
   },
   {
    "duration": 118,
    "start_time": "2024-06-17T06:56:04.594Z"
   },
   {
    "duration": 445,
    "start_time": "2024-06-17T06:56:12.167Z"
   },
   {
    "duration": 445,
    "start_time": "2024-06-17T06:56:26.692Z"
   },
   {
    "duration": 359,
    "start_time": "2024-06-17T06:56:32.458Z"
   },
   {
    "duration": 394,
    "start_time": "2024-06-17T06:56:40.556Z"
   },
   {
    "duration": 405,
    "start_time": "2024-06-17T06:56:45.628Z"
   },
   {
    "duration": 407,
    "start_time": "2024-06-17T06:56:54.329Z"
   },
   {
    "duration": 408,
    "start_time": "2024-06-17T06:56:59.343Z"
   },
   {
    "duration": 481,
    "start_time": "2024-06-17T06:57:04.608Z"
   },
   {
    "duration": 401,
    "start_time": "2024-06-17T06:57:08.529Z"
   },
   {
    "duration": 482,
    "start_time": "2024-06-17T06:57:14.406Z"
   },
   {
    "duration": 532,
    "start_time": "2024-06-17T06:57:26.960Z"
   },
   {
    "duration": 12,
    "start_time": "2024-06-17T06:58:43.633Z"
   },
   {
    "duration": 14,
    "start_time": "2024-06-17T06:58:47.562Z"
   },
   {
    "duration": 576,
    "start_time": "2024-06-17T06:59:23.252Z"
   },
   {
    "duration": 583,
    "start_time": "2024-06-17T07:03:07.931Z"
   },
   {
    "duration": 8,
    "start_time": "2024-06-17T07:04:12.938Z"
   },
   {
    "duration": 1442,
    "start_time": "2024-06-17T07:04:13.683Z"
   },
   {
    "duration": 4,
    "start_time": "2024-06-17T07:04:20.293Z"
   },
   {
    "duration": 1425,
    "start_time": "2024-06-17T07:04:32.586Z"
   },
   {
    "duration": 3,
    "start_time": "2024-06-17T07:04:34.013Z"
   },
   {
    "duration": 52,
    "start_time": "2024-06-17T07:04:34.017Z"
   },
   {
    "duration": 11,
    "start_time": "2024-06-17T07:04:34.070Z"
   },
   {
    "duration": 10,
    "start_time": "2024-06-17T07:04:34.083Z"
   },
   {
    "duration": 6,
    "start_time": "2024-06-17T07:04:34.094Z"
   },
   {
    "duration": 8,
    "start_time": "2024-06-17T07:04:34.101Z"
   },
   {
    "duration": 4,
    "start_time": "2024-06-17T07:04:34.110Z"
   },
   {
    "duration": 13,
    "start_time": "2024-06-17T07:04:34.116Z"
   },
   {
    "duration": 39,
    "start_time": "2024-06-17T07:04:34.130Z"
   },
   {
    "duration": 6,
    "start_time": "2024-06-17T07:04:34.171Z"
   },
   {
    "duration": 6,
    "start_time": "2024-06-17T07:04:34.179Z"
   },
   {
    "duration": 566,
    "start_time": "2024-06-17T07:04:34.186Z"
   },
   {
    "duration": 537,
    "start_time": "2024-06-17T07:07:54.394Z"
   },
   {
    "duration": 489,
    "start_time": "2024-06-17T07:08:12.021Z"
   },
   {
    "duration": 552,
    "start_time": "2024-06-17T07:09:07.638Z"
   },
   {
    "duration": 607,
    "start_time": "2024-06-17T07:09:18.435Z"
   },
   {
    "duration": 534,
    "start_time": "2024-06-17T07:09:23.700Z"
   },
   {
    "duration": 514,
    "start_time": "2024-06-17T07:10:02.476Z"
   },
   {
    "duration": 975,
    "start_time": "2024-06-17T07:13:15.284Z"
   },
   {
    "duration": 1600,
    "start_time": "2024-06-17T07:13:49.165Z"
   },
   {
    "duration": 733,
    "start_time": "2024-06-17T07:14:17.099Z"
   },
   {
    "duration": 417,
    "start_time": "2024-06-17T07:14:42.343Z"
   },
   {
    "duration": 461,
    "start_time": "2024-06-17T07:15:11.160Z"
   },
   {
    "duration": 290,
    "start_time": "2024-06-17T07:15:37.020Z"
   },
   {
    "duration": 445,
    "start_time": "2024-06-17T07:15:39.911Z"
   },
   {
    "duration": 535,
    "start_time": "2024-06-17T07:15:54.347Z"
   },
   {
    "duration": 538,
    "start_time": "2024-06-17T07:16:02.991Z"
   },
   {
    "duration": 653,
    "start_time": "2024-06-17T07:16:31.871Z"
   },
   {
    "duration": 753,
    "start_time": "2024-06-17T07:16:38.326Z"
   },
   {
    "duration": 1376,
    "start_time": "2024-06-17T07:16:43.318Z"
   },
   {
    "duration": 3,
    "start_time": "2024-06-17T07:16:44.696Z"
   },
   {
    "duration": 52,
    "start_time": "2024-06-17T07:16:44.700Z"
   },
   {
    "duration": 9,
    "start_time": "2024-06-17T07:16:44.754Z"
   },
   {
    "duration": 9,
    "start_time": "2024-06-17T07:16:44.765Z"
   },
   {
    "duration": 4,
    "start_time": "2024-06-17T07:16:44.775Z"
   },
   {
    "duration": 4,
    "start_time": "2024-06-17T07:16:44.781Z"
   },
   {
    "duration": 5,
    "start_time": "2024-06-17T07:16:44.786Z"
   },
   {
    "duration": 12,
    "start_time": "2024-06-17T07:16:44.792Z"
   },
   {
    "duration": 13,
    "start_time": "2024-06-17T07:16:44.805Z"
   },
   {
    "duration": 7,
    "start_time": "2024-06-17T07:16:44.819Z"
   },
   {
    "duration": 609,
    "start_time": "2024-06-17T07:16:44.827Z"
   },
   {
    "duration": 582,
    "start_time": "2024-06-17T07:16:45.437Z"
   },
   {
    "duration": 457,
    "start_time": "2024-06-17T07:17:09.992Z"
   },
   {
    "duration": 514,
    "start_time": "2024-06-17T07:18:49.397Z"
   },
   {
    "duration": 509,
    "start_time": "2024-06-17T07:19:03.117Z"
   },
   {
    "duration": 594,
    "start_time": "2024-06-17T07:19:05.790Z"
   },
   {
    "duration": 514,
    "start_time": "2024-06-17T07:19:28.521Z"
   },
   {
    "duration": 436,
    "start_time": "2024-06-17T07:19:38.208Z"
   },
   {
    "duration": 468,
    "start_time": "2024-06-17T07:19:45.947Z"
   },
   {
    "duration": 468,
    "start_time": "2024-06-17T07:19:51.178Z"
   },
   {
    "duration": 550,
    "start_time": "2024-06-17T07:19:57.790Z"
   },
   {
    "duration": 492,
    "start_time": "2024-06-17T07:20:35.502Z"
   },
   {
    "duration": 118,
    "start_time": "2024-06-17T07:21:40.666Z"
   },
   {
    "duration": 154,
    "start_time": "2024-06-17T07:21:54.598Z"
   },
   {
    "duration": 157,
    "start_time": "2024-06-17T07:22:14.386Z"
   },
   {
    "duration": 165,
    "start_time": "2024-06-17T07:22:17.995Z"
   },
   {
    "duration": 387,
    "start_time": "2024-06-17T07:22:59.346Z"
   },
   {
    "duration": 381,
    "start_time": "2024-06-17T07:23:09.895Z"
   },
   {
    "duration": 400,
    "start_time": "2024-06-17T07:23:34.743Z"
   },
   {
    "duration": 301,
    "start_time": "2024-06-17T07:24:04.633Z"
   },
   {
    "duration": 287,
    "start_time": "2024-06-17T07:24:13.770Z"
   },
   {
    "duration": 358,
    "start_time": "2024-06-17T07:24:28.091Z"
   },
   {
    "duration": 1411,
    "start_time": "2024-06-17T07:24:54.884Z"
   },
   {
    "duration": 2,
    "start_time": "2024-06-17T07:24:56.297Z"
   },
   {
    "duration": 52,
    "start_time": "2024-06-17T07:24:56.301Z"
   },
   {
    "duration": 9,
    "start_time": "2024-06-17T07:24:56.355Z"
   },
   {
    "duration": 21,
    "start_time": "2024-06-17T07:24:56.366Z"
   },
   {
    "duration": 17,
    "start_time": "2024-06-17T07:24:56.388Z"
   },
   {
    "duration": 8,
    "start_time": "2024-06-17T07:24:56.406Z"
   },
   {
    "duration": 18,
    "start_time": "2024-06-17T07:24:56.415Z"
   },
   {
    "duration": 23,
    "start_time": "2024-06-17T07:24:56.434Z"
   },
   {
    "duration": 12,
    "start_time": "2024-06-17T07:24:56.458Z"
   },
   {
    "duration": 5,
    "start_time": "2024-06-17T07:24:56.472Z"
   },
   {
    "duration": 12,
    "start_time": "2024-06-17T07:24:56.479Z"
   },
   {
    "duration": 0,
    "start_time": "2024-06-17T07:24:56.493Z"
   },
   {
    "duration": 0,
    "start_time": "2024-06-17T07:24:56.494Z"
   },
   {
    "duration": 378,
    "start_time": "2024-06-17T07:25:02.010Z"
   },
   {
    "duration": 569,
    "start_time": "2024-06-17T07:25:15.195Z"
   },
   {
    "duration": 491,
    "start_time": "2024-06-17T07:25:16.584Z"
   },
   {
    "duration": 453,
    "start_time": "2024-06-17T07:25:17.076Z"
   },
   {
    "duration": 334,
    "start_time": "2024-06-17T07:25:17.531Z"
   },
   {
    "duration": 606,
    "start_time": "2024-06-17T07:27:05.970Z"
   },
   {
    "duration": 338,
    "start_time": "2024-06-17T07:28:53.464Z"
   },
   {
    "duration": 238,
    "start_time": "2024-06-17T07:29:18.277Z"
   },
   {
    "duration": 349,
    "start_time": "2024-06-17T07:29:21.818Z"
   },
   {
    "duration": 126,
    "start_time": "2024-06-17T07:29:27.298Z"
   },
   {
    "duration": 334,
    "start_time": "2024-06-17T07:29:35.639Z"
   },
   {
    "duration": 356,
    "start_time": "2024-06-17T07:29:49.586Z"
   },
   {
    "duration": 298,
    "start_time": "2024-06-17T07:30:14.878Z"
   },
   {
    "duration": 356,
    "start_time": "2024-06-17T07:30:19.096Z"
   },
   {
    "duration": 305,
    "start_time": "2024-06-17T07:30:21.260Z"
   },
   {
    "duration": 10,
    "start_time": "2024-06-17T07:31:43.009Z"
   },
   {
    "duration": 365,
    "start_time": "2024-06-17T07:31:46.438Z"
   },
   {
    "duration": 399,
    "start_time": "2024-06-17T07:33:48.833Z"
   },
   {
    "duration": 9,
    "start_time": "2024-06-17T07:34:55.426Z"
   },
   {
    "duration": 18,
    "start_time": "2024-06-17T07:35:02.175Z"
   },
   {
    "duration": 980,
    "start_time": "2024-06-17T07:35:43.919Z"
   },
   {
    "duration": 512,
    "start_time": "2024-06-17T07:35:47.577Z"
   },
   {
    "duration": 373,
    "start_time": "2024-06-17T07:35:54.722Z"
   },
   {
    "duration": 13,
    "start_time": "2024-06-17T07:44:16.300Z"
   },
   {
    "duration": 892,
    "start_time": "2024-06-17T07:44:34.541Z"
   },
   {
    "duration": 964,
    "start_time": "2024-06-17T07:44:43.613Z"
   },
   {
    "duration": 371,
    "start_time": "2024-06-17T07:45:39.305Z"
   },
   {
    "duration": 324,
    "start_time": "2024-06-17T07:46:22.845Z"
   },
   {
    "duration": 442,
    "start_time": "2024-06-17T07:47:39.156Z"
   },
   {
    "duration": 361,
    "start_time": "2024-06-17T07:47:45.749Z"
   },
   {
    "duration": 365,
    "start_time": "2024-06-17T07:47:58.873Z"
   },
   {
    "duration": 301,
    "start_time": "2024-06-17T07:48:06.340Z"
   },
   {
    "duration": 1417,
    "start_time": "2024-06-17T07:58:29.771Z"
   },
   {
    "duration": 3,
    "start_time": "2024-06-17T07:58:31.189Z"
   },
   {
    "duration": 100,
    "start_time": "2024-06-17T07:58:31.194Z"
   },
   {
    "duration": 22,
    "start_time": "2024-06-17T07:58:31.296Z"
   },
   {
    "duration": 30,
    "start_time": "2024-06-17T07:58:31.320Z"
   },
   {
    "duration": 28,
    "start_time": "2024-06-17T07:58:31.352Z"
   },
   {
    "duration": 23,
    "start_time": "2024-06-17T07:58:31.381Z"
   },
   {
    "duration": 24,
    "start_time": "2024-06-17T07:58:31.405Z"
   },
   {
    "duration": 38,
    "start_time": "2024-06-17T07:58:31.431Z"
   },
   {
    "duration": 23,
    "start_time": "2024-06-17T07:58:31.472Z"
   },
   {
    "duration": 27,
    "start_time": "2024-06-17T07:58:31.497Z"
   },
   {
    "duration": 555,
    "start_time": "2024-06-17T07:58:31.525Z"
   },
   {
    "duration": 533,
    "start_time": "2024-06-17T07:58:32.081Z"
   },
   {
    "duration": 362,
    "start_time": "2024-06-17T07:58:32.615Z"
   },
   {
    "duration": 316,
    "start_time": "2024-06-17T07:58:32.979Z"
   },
   {
    "duration": 3,
    "start_time": "2024-06-17T07:58:33.296Z"
   },
   {
    "duration": 5,
    "start_time": "2024-06-17T07:58:33.301Z"
   },
   {
    "duration": 14,
    "start_time": "2024-06-17T07:58:33.307Z"
   },
   {
    "duration": 13,
    "start_time": "2024-06-17T07:58:33.323Z"
   },
   {
    "duration": 29,
    "start_time": "2024-06-17T07:58:33.337Z"
   },
   {
    "duration": 6,
    "start_time": "2024-06-17T07:58:33.368Z"
   },
   {
    "duration": 4,
    "start_time": "2024-06-17T07:58:33.375Z"
   },
   {
    "duration": 8,
    "start_time": "2024-06-17T07:58:33.381Z"
   },
   {
    "duration": 273,
    "start_time": "2024-06-17T07:58:33.390Z"
   },
   {
    "duration": 503,
    "start_time": "2024-06-17T07:58:33.664Z"
   },
   {
    "duration": 97750,
    "start_time": "2024-06-17T07:58:34.170Z"
   },
   {
    "duration": 10244,
    "start_time": "2024-06-17T08:00:11.921Z"
   },
   {
    "duration": 8,
    "start_time": "2024-06-17T08:00:22.168Z"
   },
   {
    "duration": 1803,
    "start_time": "2024-06-17T17:51:57.600Z"
   },
   {
    "duration": 3,
    "start_time": "2024-06-17T17:51:59.405Z"
   },
   {
    "duration": 161,
    "start_time": "2024-06-17T17:51:59.409Z"
   },
   {
    "duration": 12,
    "start_time": "2024-06-17T17:51:59.572Z"
   },
   {
    "duration": 10,
    "start_time": "2024-06-17T17:51:59.587Z"
   },
   {
    "duration": 6,
    "start_time": "2024-06-17T17:51:59.599Z"
   },
   {
    "duration": 4,
    "start_time": "2024-06-17T17:51:59.607Z"
   },
   {
    "duration": 3,
    "start_time": "2024-06-17T17:51:59.613Z"
   },
   {
    "duration": 11,
    "start_time": "2024-06-17T17:51:59.618Z"
   },
   {
    "duration": 14,
    "start_time": "2024-06-17T17:51:59.632Z"
   },
   {
    "duration": 14,
    "start_time": "2024-06-17T17:51:59.648Z"
   },
   {
    "duration": 690,
    "start_time": "2024-06-17T17:51:59.691Z"
   },
   {
    "duration": 619,
    "start_time": "2024-06-17T17:52:00.383Z"
   },
   {
    "duration": 417,
    "start_time": "2024-06-17T17:52:01.005Z"
   },
   {
    "duration": 353,
    "start_time": "2024-06-17T17:52:01.424Z"
   },
   {
    "duration": 3,
    "start_time": "2024-06-17T17:52:01.778Z"
   },
   {
    "duration": 54,
    "start_time": "2024-06-17T17:52:01.796Z"
   },
   {
    "duration": 79,
    "start_time": "2024-06-17T17:52:01.852Z"
   },
   {
    "duration": 32,
    "start_time": "2024-06-17T17:52:01.934Z"
   },
   {
    "duration": 33,
    "start_time": "2024-06-17T17:52:01.968Z"
   },
   {
    "duration": 36,
    "start_time": "2024-06-17T17:52:02.003Z"
   },
   {
    "duration": 22,
    "start_time": "2024-06-17T17:52:02.042Z"
   },
   {
    "duration": 34,
    "start_time": "2024-06-17T17:52:02.066Z"
   },
   {
    "duration": 318,
    "start_time": "2024-06-17T17:52:02.102Z"
   },
   {
    "duration": 671,
    "start_time": "2024-06-17T17:52:02.422Z"
   },
   {
    "duration": 107932,
    "start_time": "2024-06-17T17:52:03.097Z"
   },
   {
    "duration": 12672,
    "start_time": "2024-06-17T17:53:51.030Z"
   },
   {
    "duration": 9,
    "start_time": "2024-06-17T17:54:03.704Z"
   },
   {
    "duration": 7,
    "start_time": "2024-06-17T17:55:59.213Z"
   },
   {
    "duration": 10,
    "start_time": "2024-06-17T17:56:05.214Z"
   },
   {
    "duration": 10,
    "start_time": "2024-06-17T17:56:12.524Z"
   },
   {
    "duration": 10,
    "start_time": "2024-06-17T17:57:01.141Z"
   },
   {
    "duration": 1586,
    "start_time": "2024-06-17T17:57:29.738Z"
   },
   {
    "duration": 3,
    "start_time": "2024-06-17T17:57:31.326Z"
   },
   {
    "duration": 101,
    "start_time": "2024-06-17T17:57:31.331Z"
   },
   {
    "duration": 11,
    "start_time": "2024-06-17T17:57:31.435Z"
   },
   {
    "duration": 12,
    "start_time": "2024-06-17T17:57:31.448Z"
   },
   {
    "duration": 27,
    "start_time": "2024-06-17T17:57:31.462Z"
   },
   {
    "duration": 44,
    "start_time": "2024-06-17T17:57:31.491Z"
   },
   {
    "duration": 24,
    "start_time": "2024-06-17T17:57:31.537Z"
   },
   {
    "duration": 40,
    "start_time": "2024-06-17T17:57:31.562Z"
   },
   {
    "duration": 23,
    "start_time": "2024-06-17T17:57:31.605Z"
   },
   {
    "duration": 22,
    "start_time": "2024-06-17T17:57:31.629Z"
   },
   {
    "duration": 583,
    "start_time": "2024-06-17T17:57:31.653Z"
   },
   {
    "duration": 557,
    "start_time": "2024-06-17T17:57:32.238Z"
   },
   {
    "duration": 383,
    "start_time": "2024-06-17T17:57:32.796Z"
   },
   {
    "duration": 341,
    "start_time": "2024-06-17T17:57:33.181Z"
   },
   {
    "duration": 3,
    "start_time": "2024-06-17T17:57:33.523Z"
   },
   {
    "duration": 12,
    "start_time": "2024-06-17T17:57:33.528Z"
   },
   {
    "duration": 15,
    "start_time": "2024-06-17T17:57:33.542Z"
   },
   {
    "duration": 14,
    "start_time": "2024-06-17T17:57:33.559Z"
   },
   {
    "duration": 22,
    "start_time": "2024-06-17T17:57:33.575Z"
   },
   {
    "duration": 5,
    "start_time": "2024-06-17T17:57:33.599Z"
   },
   {
    "duration": 7,
    "start_time": "2024-06-17T17:57:33.606Z"
   },
   {
    "duration": 10,
    "start_time": "2024-06-17T17:57:33.615Z"
   },
   {
    "duration": 301,
    "start_time": "2024-06-17T17:57:33.627Z"
   },
   {
    "duration": 562,
    "start_time": "2024-06-17T17:57:33.930Z"
   },
   {
    "duration": 110564,
    "start_time": "2024-06-17T17:57:34.494Z"
   },
   {
    "duration": 11746,
    "start_time": "2024-06-17T17:59:25.060Z"
   },
   {
    "duration": 91,
    "start_time": "2024-06-17T17:59:36.810Z"
   },
   {
    "duration": 65,
    "start_time": "2024-06-17T17:59:36.903Z"
   },
   {
    "duration": 1533,
    "start_time": "2024-06-17T18:00:44.179Z"
   },
   {
    "duration": 2,
    "start_time": "2024-06-17T18:00:45.714Z"
   },
   {
    "duration": 54,
    "start_time": "2024-06-17T18:00:45.718Z"
   },
   {
    "duration": 10,
    "start_time": "2024-06-17T18:00:45.774Z"
   },
   {
    "duration": 11,
    "start_time": "2024-06-17T18:00:45.786Z"
   },
   {
    "duration": 6,
    "start_time": "2024-06-17T18:00:45.798Z"
   },
   {
    "duration": 8,
    "start_time": "2024-06-17T18:00:45.805Z"
   },
   {
    "duration": 13,
    "start_time": "2024-06-17T18:00:45.814Z"
   },
   {
    "duration": 17,
    "start_time": "2024-06-17T18:00:45.828Z"
   },
   {
    "duration": 14,
    "start_time": "2024-06-17T18:00:45.848Z"
   },
   {
    "duration": 13,
    "start_time": "2024-06-17T18:00:45.864Z"
   },
   {
    "duration": 556,
    "start_time": "2024-06-17T18:00:45.880Z"
   },
   {
    "duration": 585,
    "start_time": "2024-06-17T18:00:46.438Z"
   },
   {
    "duration": 402,
    "start_time": "2024-06-17T18:00:47.025Z"
   },
   {
    "duration": 349,
    "start_time": "2024-06-17T18:00:47.429Z"
   },
   {
    "duration": 3,
    "start_time": "2024-06-17T18:00:47.779Z"
   },
   {
    "duration": 4,
    "start_time": "2024-06-17T18:00:47.792Z"
   },
   {
    "duration": 17,
    "start_time": "2024-06-17T18:00:47.798Z"
   },
   {
    "duration": 15,
    "start_time": "2024-06-17T18:00:47.817Z"
   },
   {
    "duration": 14,
    "start_time": "2024-06-17T18:00:47.834Z"
   },
   {
    "duration": 21,
    "start_time": "2024-06-17T18:00:47.850Z"
   },
   {
    "duration": 13,
    "start_time": "2024-06-17T18:00:47.873Z"
   },
   {
    "duration": 6,
    "start_time": "2024-06-17T18:00:47.887Z"
   },
   {
    "duration": 291,
    "start_time": "2024-06-17T18:00:47.894Z"
   },
   {
    "duration": 606,
    "start_time": "2024-06-17T18:00:48.187Z"
   },
   {
    "duration": 109582,
    "start_time": "2024-06-17T18:00:48.794Z"
   },
   {
    "duration": 11122,
    "start_time": "2024-06-17T18:02:38.378Z"
   },
   {
    "duration": 10,
    "start_time": "2024-06-17T18:02:49.503Z"
   },
   {
    "duration": 6,
    "start_time": "2024-06-17T18:04:40.172Z"
   },
   {
    "duration": 1094,
    "start_time": "2024-06-17T18:04:40.674Z"
   },
   {
    "duration": 1041,
    "start_time": "2024-06-17T18:04:59.700Z"
   },
   {
    "duration": 1528,
    "start_time": "2024-06-17T18:06:43.210Z"
   },
   {
    "duration": 4,
    "start_time": "2024-06-17T18:06:44.740Z"
   },
   {
    "duration": 62,
    "start_time": "2024-06-17T18:06:44.745Z"
   },
   {
    "duration": 11,
    "start_time": "2024-06-17T18:06:44.809Z"
   },
   {
    "duration": 11,
    "start_time": "2024-06-17T18:06:44.821Z"
   },
   {
    "duration": 6,
    "start_time": "2024-06-17T18:06:44.834Z"
   },
   {
    "duration": 5,
    "start_time": "2024-06-17T18:06:44.842Z"
   },
   {
    "duration": 3,
    "start_time": "2024-06-17T18:06:44.849Z"
   },
   {
    "duration": 41,
    "start_time": "2024-06-17T18:06:44.854Z"
   },
   {
    "duration": 13,
    "start_time": "2024-06-17T18:06:44.897Z"
   },
   {
    "duration": 6,
    "start_time": "2024-06-17T18:06:44.912Z"
   },
   {
    "duration": 620,
    "start_time": "2024-06-17T18:06:44.920Z"
   },
   {
    "duration": 587,
    "start_time": "2024-06-17T18:06:45.542Z"
   },
   {
    "duration": 420,
    "start_time": "2024-06-17T18:06:46.131Z"
   },
   {
    "duration": 348,
    "start_time": "2024-06-17T18:06:46.553Z"
   },
   {
    "duration": 3,
    "start_time": "2024-06-17T18:06:46.903Z"
   },
   {
    "duration": 8,
    "start_time": "2024-06-17T18:06:46.908Z"
   },
   {
    "duration": 19,
    "start_time": "2024-06-17T18:06:46.918Z"
   },
   {
    "duration": 15,
    "start_time": "2024-06-17T18:06:46.939Z"
   },
   {
    "duration": 6,
    "start_time": "2024-06-17T18:06:46.956Z"
   },
   {
    "duration": 32,
    "start_time": "2024-06-17T18:06:46.964Z"
   },
   {
    "duration": 4,
    "start_time": "2024-06-17T18:06:46.998Z"
   },
   {
    "duration": 7,
    "start_time": "2024-06-17T18:06:47.004Z"
   },
   {
    "duration": 305,
    "start_time": "2024-06-17T18:06:47.013Z"
   },
   {
    "duration": 573,
    "start_time": "2024-06-17T18:06:47.320Z"
   },
   {
    "duration": 106760,
    "start_time": "2024-06-17T18:06:47.894Z"
   },
   {
    "duration": 11438,
    "start_time": "2024-06-17T18:08:34.656Z"
   },
   {
    "duration": 10,
    "start_time": "2024-06-17T18:08:46.097Z"
   },
   {
    "duration": 6,
    "start_time": "2024-06-17T18:08:46.109Z"
   },
   {
    "duration": 1235,
    "start_time": "2024-06-17T18:08:46.117Z"
   },
   {
    "duration": 13,
    "start_time": "2024-06-17T18:10:45.685Z"
   },
   {
    "duration": 5,
    "start_time": "2024-06-17T18:10:47.321Z"
   },
   {
    "duration": 1025,
    "start_time": "2024-06-17T18:10:48.235Z"
   },
   {
    "duration": 2961,
    "start_time": "2024-06-17T18:11:04.833Z"
   },
   {
    "duration": 1571,
    "start_time": "2024-06-17T18:13:28.243Z"
   },
   {
    "duration": 3,
    "start_time": "2024-06-17T18:13:29.816Z"
   },
   {
    "duration": 58,
    "start_time": "2024-06-17T18:13:29.821Z"
   },
   {
    "duration": 11,
    "start_time": "2024-06-17T18:13:29.880Z"
   },
   {
    "duration": 12,
    "start_time": "2024-06-17T18:13:29.893Z"
   },
   {
    "duration": 15,
    "start_time": "2024-06-17T18:13:29.907Z"
   },
   {
    "duration": 6,
    "start_time": "2024-06-17T18:13:29.923Z"
   },
   {
    "duration": 4,
    "start_time": "2024-06-17T18:13:29.931Z"
   },
   {
    "duration": 12,
    "start_time": "2024-06-17T18:13:29.936Z"
   },
   {
    "duration": 23,
    "start_time": "2024-06-17T18:13:29.949Z"
   },
   {
    "duration": 6,
    "start_time": "2024-06-17T18:13:29.974Z"
   },
   {
    "duration": 586,
    "start_time": "2024-06-17T18:13:29.982Z"
   },
   {
    "duration": 579,
    "start_time": "2024-06-17T18:13:30.569Z"
   },
   {
    "duration": 410,
    "start_time": "2024-06-17T18:13:31.151Z"
   },
   {
    "duration": 337,
    "start_time": "2024-06-17T18:13:31.563Z"
   },
   {
    "duration": 3,
    "start_time": "2024-06-17T18:13:31.902Z"
   },
   {
    "duration": 7,
    "start_time": "2024-06-17T18:13:31.907Z"
   },
   {
    "duration": 24,
    "start_time": "2024-06-17T18:13:31.916Z"
   },
   {
    "duration": 15,
    "start_time": "2024-06-17T18:13:31.942Z"
   },
   {
    "duration": 9,
    "start_time": "2024-06-17T18:13:31.959Z"
   },
   {
    "duration": 22,
    "start_time": "2024-06-17T18:13:31.970Z"
   },
   {
    "duration": 10,
    "start_time": "2024-06-17T18:13:31.994Z"
   },
   {
    "duration": 5,
    "start_time": "2024-06-17T18:13:32.006Z"
   },
   {
    "duration": 319,
    "start_time": "2024-06-17T18:13:32.013Z"
   },
   {
    "duration": 568,
    "start_time": "2024-06-17T18:13:32.334Z"
   },
   {
    "duration": 110706,
    "start_time": "2024-06-17T18:13:32.991Z"
   },
   {
    "duration": 11807,
    "start_time": "2024-06-17T18:15:23.699Z"
   },
   {
    "duration": 91,
    "start_time": "2024-06-17T18:15:35.507Z"
   },
   {
    "duration": 5,
    "start_time": "2024-06-17T18:15:35.600Z"
   },
   {
    "duration": 2951,
    "start_time": "2024-06-17T18:15:35.607Z"
   },
   {
    "duration": 170,
    "start_time": "2024-06-17T18:16:50.277Z"
   },
   {
    "duration": 1778,
    "start_time": "2024-06-17T18:17:05.759Z"
   },
   {
    "duration": 2858,
    "start_time": "2024-06-17T18:17:28.367Z"
   },
   {
    "duration": 1447,
    "start_time": "2024-06-17T18:17:34.456Z"
   },
   {
    "duration": 1612,
    "start_time": "2024-06-17T18:19:13.692Z"
   },
   {
    "duration": 4,
    "start_time": "2024-06-17T18:19:15.306Z"
   },
   {
    "duration": 59,
    "start_time": "2024-06-17T18:19:15.312Z"
   },
   {
    "duration": 10,
    "start_time": "2024-06-17T18:19:15.373Z"
   },
   {
    "duration": 16,
    "start_time": "2024-06-17T18:19:15.385Z"
   },
   {
    "duration": 5,
    "start_time": "2024-06-17T18:19:15.403Z"
   },
   {
    "duration": 33,
    "start_time": "2024-06-17T18:19:15.410Z"
   },
   {
    "duration": 13,
    "start_time": "2024-06-17T18:19:15.445Z"
   },
   {
    "duration": 34,
    "start_time": "2024-06-17T18:19:15.460Z"
   },
   {
    "duration": 37,
    "start_time": "2024-06-17T18:19:15.496Z"
   },
   {
    "duration": 11,
    "start_time": "2024-06-17T18:19:15.535Z"
   },
   {
    "duration": 572,
    "start_time": "2024-06-17T18:19:15.548Z"
   },
   {
    "duration": 580,
    "start_time": "2024-06-17T18:19:16.122Z"
   },
   {
    "duration": 401,
    "start_time": "2024-06-17T18:19:16.706Z"
   },
   {
    "duration": 355,
    "start_time": "2024-06-17T18:19:17.109Z"
   },
   {
    "duration": 6,
    "start_time": "2024-06-17T18:19:17.466Z"
   },
   {
    "duration": 7,
    "start_time": "2024-06-17T18:19:17.481Z"
   },
   {
    "duration": 18,
    "start_time": "2024-06-17T18:19:17.491Z"
   },
   {
    "duration": 15,
    "start_time": "2024-06-17T18:19:17.510Z"
   },
   {
    "duration": 7,
    "start_time": "2024-06-17T18:19:17.527Z"
   },
   {
    "duration": 26,
    "start_time": "2024-06-17T18:19:17.536Z"
   },
   {
    "duration": 14,
    "start_time": "2024-06-17T18:19:17.564Z"
   },
   {
    "duration": 47,
    "start_time": "2024-06-17T18:19:17.580Z"
   },
   {
    "duration": 287,
    "start_time": "2024-06-17T18:19:17.628Z"
   },
   {
    "duration": 575,
    "start_time": "2024-06-17T18:19:17.917Z"
   },
   {
    "duration": 106723,
    "start_time": "2024-06-17T18:19:18.495Z"
   },
   {
    "duration": 12383,
    "start_time": "2024-06-17T18:21:05.220Z"
   },
   {
    "duration": 16,
    "start_time": "2024-06-17T18:21:17.609Z"
   },
   {
    "duration": 7,
    "start_time": "2024-06-17T18:21:17.627Z"
   },
   {
    "duration": 20136,
    "start_time": "2024-06-17T18:21:17.636Z"
   },
   {
    "duration": 1536,
    "start_time": "2024-06-18T10:19:23.318Z"
   },
   {
    "duration": 3,
    "start_time": "2024-06-18T10:19:24.856Z"
   },
   {
    "duration": 171,
    "start_time": "2024-06-18T10:19:24.860Z"
   },
   {
    "duration": 11,
    "start_time": "2024-06-18T10:19:25.033Z"
   },
   {
    "duration": 10,
    "start_time": "2024-06-18T10:19:25.045Z"
   },
   {
    "duration": 9,
    "start_time": "2024-06-18T10:19:25.056Z"
   },
   {
    "duration": 4,
    "start_time": "2024-06-18T10:19:25.066Z"
   },
   {
    "duration": 3,
    "start_time": "2024-06-18T10:19:25.071Z"
   },
   {
    "duration": 8,
    "start_time": "2024-06-18T10:19:25.075Z"
   },
   {
    "duration": 30,
    "start_time": "2024-06-18T10:19:25.085Z"
   },
   {
    "duration": 6,
    "start_time": "2024-06-18T10:19:25.117Z"
   },
   {
    "duration": 565,
    "start_time": "2024-06-18T10:19:25.125Z"
   },
   {
    "duration": 493,
    "start_time": "2024-06-18T10:19:25.692Z"
   },
   {
    "duration": 346,
    "start_time": "2024-06-18T10:19:26.186Z"
   },
   {
    "duration": 323,
    "start_time": "2024-06-18T10:19:26.533Z"
   },
   {
    "duration": 2,
    "start_time": "2024-06-18T10:19:26.858Z"
   },
   {
    "duration": 22,
    "start_time": "2024-06-18T10:19:26.861Z"
   },
   {
    "duration": 34,
    "start_time": "2024-06-18T10:19:26.885Z"
   },
   {
    "duration": 11,
    "start_time": "2024-06-18T10:19:26.921Z"
   },
   {
    "duration": 19,
    "start_time": "2024-06-18T10:19:26.934Z"
   },
   {
    "duration": 15,
    "start_time": "2024-06-18T10:19:26.954Z"
   },
   {
    "duration": 9,
    "start_time": "2024-06-18T10:19:26.970Z"
   },
   {
    "duration": 7,
    "start_time": "2024-06-18T10:19:26.980Z"
   },
   {
    "duration": 289,
    "start_time": "2024-06-18T10:19:26.988Z"
   },
   {
    "duration": 634,
    "start_time": "2024-06-18T10:19:27.278Z"
   },
   {
    "duration": 91913,
    "start_time": "2024-06-18T10:19:27.914Z"
   },
   {
    "duration": 12987,
    "start_time": "2024-06-18T10:20:59.828Z"
   },
   {
    "duration": 9,
    "start_time": "2024-06-18T10:21:12.818Z"
   },
   {
    "duration": 10,
    "start_time": "2024-06-18T10:21:12.828Z"
   },
   {
    "duration": 1630,
    "start_time": "2024-06-18T10:21:12.839Z"
   },
   {
    "duration": 1369,
    "start_time": "2024-06-18T10:50:43.207Z"
   },
   {
    "duration": 2,
    "start_time": "2024-06-18T10:50:44.578Z"
   },
   {
    "duration": 70,
    "start_time": "2024-06-18T10:50:44.581Z"
   },
   {
    "duration": 10,
    "start_time": "2024-06-18T10:50:44.653Z"
   },
   {
    "duration": 14,
    "start_time": "2024-06-18T10:50:44.664Z"
   },
   {
    "duration": 19,
    "start_time": "2024-06-18T10:50:44.679Z"
   },
   {
    "duration": 10,
    "start_time": "2024-06-18T10:50:44.700Z"
   },
   {
    "duration": 25,
    "start_time": "2024-06-18T10:50:44.712Z"
   },
   {
    "duration": 31,
    "start_time": "2024-06-18T10:50:44.738Z"
   },
   {
    "duration": 9,
    "start_time": "2024-06-18T10:50:44.772Z"
   },
   {
    "duration": 13,
    "start_time": "2024-06-18T10:50:44.783Z"
   },
   {
    "duration": 540,
    "start_time": "2024-06-18T10:50:44.798Z"
   },
   {
    "duration": 556,
    "start_time": "2024-06-18T10:50:45.340Z"
   },
   {
    "duration": 342,
    "start_time": "2024-06-18T10:50:45.898Z"
   },
   {
    "duration": 332,
    "start_time": "2024-06-18T10:50:46.241Z"
   },
   {
    "duration": 2,
    "start_time": "2024-06-18T10:50:46.575Z"
   },
   {
    "duration": 22,
    "start_time": "2024-06-18T10:50:46.578Z"
   },
   {
    "duration": 26,
    "start_time": "2024-06-18T10:50:46.602Z"
   },
   {
    "duration": 38,
    "start_time": "2024-06-18T10:50:46.630Z"
   },
   {
    "duration": 11,
    "start_time": "2024-06-18T10:50:46.670Z"
   },
   {
    "duration": 20,
    "start_time": "2024-06-18T10:50:46.682Z"
   },
   {
    "duration": 12,
    "start_time": "2024-06-18T10:50:46.704Z"
   },
   {
    "duration": 11,
    "start_time": "2024-06-18T10:50:46.717Z"
   },
   {
    "duration": 269,
    "start_time": "2024-06-18T10:50:46.730Z"
   },
   {
    "duration": 421,
    "start_time": "2024-06-18T10:50:47.001Z"
   },
   {
    "duration": 92690,
    "start_time": "2024-06-18T10:50:47.423Z"
   },
   {
    "duration": 11004,
    "start_time": "2024-06-18T10:52:20.114Z"
   },
   {
    "duration": 9,
    "start_time": "2024-06-18T10:52:31.209Z"
   },
   {
    "duration": 67,
    "start_time": "2024-06-18T10:52:31.219Z"
   },
   {
    "duration": 2063,
    "start_time": "2024-06-18T10:52:31.287Z"
   },
   {
    "duration": 1346,
    "start_time": "2024-06-18T11:01:23.854Z"
   },
   {
    "duration": 2,
    "start_time": "2024-06-18T11:01:25.202Z"
   },
   {
    "duration": 58,
    "start_time": "2024-06-18T11:01:25.209Z"
   },
   {
    "duration": 9,
    "start_time": "2024-06-18T11:01:25.269Z"
   },
   {
    "duration": 24,
    "start_time": "2024-06-18T11:01:25.280Z"
   },
   {
    "duration": 28,
    "start_time": "2024-06-18T11:01:25.305Z"
   },
   {
    "duration": 11,
    "start_time": "2024-06-18T11:01:25.335Z"
   },
   {
    "duration": 7,
    "start_time": "2024-06-18T11:01:25.348Z"
   },
   {
    "duration": 14,
    "start_time": "2024-06-18T11:01:25.357Z"
   },
   {
    "duration": 47,
    "start_time": "2024-06-18T11:01:25.374Z"
   },
   {
    "duration": 6,
    "start_time": "2024-06-18T11:01:25.422Z"
   },
   {
    "duration": 528,
    "start_time": "2024-06-18T11:01:25.430Z"
   },
   {
    "duration": 528,
    "start_time": "2024-06-18T11:01:25.960Z"
   },
   {
    "duration": 353,
    "start_time": "2024-06-18T11:01:26.490Z"
   },
   {
    "duration": 348,
    "start_time": "2024-06-18T11:01:26.844Z"
   },
   {
    "duration": 2,
    "start_time": "2024-06-18T11:01:27.194Z"
   },
   {
    "duration": 36,
    "start_time": "2024-06-18T11:01:27.198Z"
   },
   {
    "duration": 46,
    "start_time": "2024-06-18T11:01:27.236Z"
   },
   {
    "duration": 36,
    "start_time": "2024-06-18T11:01:27.284Z"
   },
   {
    "duration": 31,
    "start_time": "2024-06-18T11:01:27.321Z"
   },
   {
    "duration": 35,
    "start_time": "2024-06-18T11:01:27.353Z"
   },
   {
    "duration": 56,
    "start_time": "2024-06-18T11:01:27.390Z"
   },
   {
    "duration": 16,
    "start_time": "2024-06-18T11:01:27.447Z"
   },
   {
    "duration": 319,
    "start_time": "2024-06-18T11:01:27.464Z"
   },
   {
    "duration": 525,
    "start_time": "2024-06-18T11:01:27.784Z"
   },
   {
    "duration": 92194,
    "start_time": "2024-06-18T11:01:28.311Z"
   },
   {
    "duration": 11803,
    "start_time": "2024-06-18T11:03:00.507Z"
   },
   {
    "duration": 9,
    "start_time": "2024-06-18T11:03:12.312Z"
   },
   {
    "duration": 6,
    "start_time": "2024-06-18T11:03:12.322Z"
   },
   {
    "duration": 1949,
    "start_time": "2024-06-18T11:03:12.329Z"
   },
   {
    "duration": 1482,
    "start_time": "2024-06-19T09:03:37.489Z"
   },
   {
    "duration": 3,
    "start_time": "2024-06-19T09:03:38.973Z"
   },
   {
    "duration": 150,
    "start_time": "2024-06-19T09:03:38.977Z"
   },
   {
    "duration": 10,
    "start_time": "2024-06-19T09:03:39.129Z"
   },
   {
    "duration": 14,
    "start_time": "2024-06-19T09:03:39.140Z"
   },
   {
    "duration": 4,
    "start_time": "2024-06-19T09:03:39.156Z"
   },
   {
    "duration": 5,
    "start_time": "2024-06-19T09:03:39.161Z"
   },
   {
    "duration": 3,
    "start_time": "2024-06-19T09:03:39.167Z"
   },
   {
    "duration": 9,
    "start_time": "2024-06-19T09:03:39.172Z"
   },
   {
    "duration": 10,
    "start_time": "2024-06-19T09:03:39.184Z"
   },
   {
    "duration": 6,
    "start_time": "2024-06-19T09:03:39.195Z"
   },
   {
    "duration": 535,
    "start_time": "2024-06-19T09:03:39.202Z"
   },
   {
    "duration": 494,
    "start_time": "2024-06-19T09:03:39.739Z"
   },
   {
    "duration": 371,
    "start_time": "2024-06-19T09:03:40.235Z"
   },
   {
    "duration": 283,
    "start_time": "2024-06-19T09:03:40.607Z"
   },
   {
    "duration": 17,
    "start_time": "2024-06-19T09:03:40.891Z"
   },
   {
    "duration": 335,
    "start_time": "2024-06-19T09:03:40.909Z"
   },
   {
    "duration": 0,
    "start_time": "2024-06-19T09:03:41.245Z"
   },
   {
    "duration": 0,
    "start_time": "2024-06-19T09:03:41.247Z"
   },
   {
    "duration": 0,
    "start_time": "2024-06-19T09:03:41.247Z"
   },
   {
    "duration": 0,
    "start_time": "2024-06-19T09:03:41.248Z"
   },
   {
    "duration": 0,
    "start_time": "2024-06-19T09:03:41.249Z"
   },
   {
    "duration": 0,
    "start_time": "2024-06-19T09:03:41.250Z"
   },
   {
    "duration": 22,
    "start_time": "2024-06-19T09:04:12.653Z"
   },
   {
    "duration": 21,
    "start_time": "2024-06-19T09:04:14.274Z"
   },
   {
    "duration": 230,
    "start_time": "2024-06-19T09:04:14.905Z"
   },
   {
    "duration": 1752,
    "start_time": "2024-06-19T09:06:09.163Z"
   },
   {
    "duration": 3,
    "start_time": "2024-06-19T09:06:10.916Z"
   },
   {
    "duration": 104,
    "start_time": "2024-06-19T09:06:10.923Z"
   },
   {
    "duration": 8,
    "start_time": "2024-06-19T09:06:11.028Z"
   },
   {
    "duration": 55,
    "start_time": "2024-06-19T09:06:11.037Z"
   },
   {
    "duration": 15,
    "start_time": "2024-06-19T09:06:11.093Z"
   },
   {
    "duration": 18,
    "start_time": "2024-06-19T09:06:11.110Z"
   },
   {
    "duration": 7,
    "start_time": "2024-06-19T09:06:11.129Z"
   },
   {
    "duration": 51,
    "start_time": "2024-06-19T09:06:11.139Z"
   },
   {
    "duration": 10,
    "start_time": "2024-06-19T09:06:11.192Z"
   },
   {
    "duration": 20,
    "start_time": "2024-06-19T09:06:11.203Z"
   },
   {
    "duration": 796,
    "start_time": "2024-06-19T09:06:11.225Z"
   },
   {
    "duration": 807,
    "start_time": "2024-06-19T09:06:12.023Z"
   },
   {
    "duration": 398,
    "start_time": "2024-06-19T09:06:12.831Z"
   },
   {
    "duration": 479,
    "start_time": "2024-06-19T09:06:13.230Z"
   },
   {
    "duration": 19,
    "start_time": "2024-06-19T09:06:13.710Z"
   },
   {
    "duration": 496,
    "start_time": "2024-06-19T09:06:13.731Z"
   },
   {
    "duration": 666,
    "start_time": "2024-06-19T09:06:14.228Z"
   },
   {
    "duration": 235294,
    "start_time": "2024-06-19T09:06:14.896Z"
   },
   {
    "duration": 7196,
    "start_time": "2024-06-19T09:20:32.789Z"
   },
   {
    "duration": 4,
    "start_time": "2024-06-19T09:20:39.991Z"
   },
   {
    "duration": 393,
    "start_time": "2024-06-19T09:20:39.998Z"
   },
   {
    "duration": 99,
    "start_time": "2024-06-19T09:20:40.393Z"
   },
   {
    "duration": 95,
    "start_time": "2024-06-19T09:20:40.494Z"
   },
   {
    "duration": 102,
    "start_time": "2024-06-19T09:20:40.599Z"
   },
   {
    "duration": 5,
    "start_time": "2024-06-19T09:20:40.787Z"
   },
   {
    "duration": 5,
    "start_time": "2024-06-19T09:20:40.793Z"
   },
   {
    "duration": 95,
    "start_time": "2024-06-19T09:20:40.800Z"
   },
   {
    "duration": 199,
    "start_time": "2024-06-19T09:20:40.896Z"
   },
   {
    "duration": 104,
    "start_time": "2024-06-19T09:20:41.099Z"
   },
   {
    "duration": 2990,
    "start_time": "2024-06-19T09:20:41.205Z"
   },
   {
    "duration": 2993,
    "start_time": "2024-06-19T09:20:44.196Z"
   },
   {
    "duration": 1990,
    "start_time": "2024-06-19T09:20:47.194Z"
   },
   {
    "duration": 1506,
    "start_time": "2024-06-19T09:20:49.189Z"
   },
   {
    "duration": 999,
    "start_time": "2024-06-19T09:20:50.696Z"
   },
   {
    "duration": 0,
    "start_time": "2024-06-19T09:20:51.785Z"
   },
   {
    "duration": 0,
    "start_time": "2024-06-19T09:20:51.786Z"
   },
   {
    "duration": 0,
    "start_time": "2024-06-19T09:20:51.787Z"
   },
   {
    "duration": 0,
    "start_time": "2024-06-19T09:20:51.787Z"
   },
   {
    "duration": 0,
    "start_time": "2024-06-19T09:20:51.788Z"
   },
   {
    "duration": 0,
    "start_time": "2024-06-19T09:20:51.789Z"
   },
   {
    "duration": 0,
    "start_time": "2024-06-19T09:20:51.790Z"
   },
   {
    "duration": 298,
    "start_time": "2024-06-19T09:23:24.985Z"
   },
   {
    "duration": 8302,
    "start_time": "2024-06-19T09:24:18.188Z"
   },
   {
    "duration": 2,
    "start_time": "2024-06-19T09:24:26.591Z"
   },
   {
    "duration": 390,
    "start_time": "2024-06-19T09:24:26.594Z"
   },
   {
    "duration": 114,
    "start_time": "2024-06-19T09:24:26.986Z"
   },
   {
    "duration": 192,
    "start_time": "2024-06-19T09:24:27.197Z"
   },
   {
    "duration": 92,
    "start_time": "2024-06-19T09:24:27.397Z"
   },
   {
    "duration": 98,
    "start_time": "2024-06-19T09:24:27.492Z"
   },
   {
    "duration": 99,
    "start_time": "2024-06-19T09:24:27.591Z"
   },
   {
    "duration": 101,
    "start_time": "2024-06-19T09:24:27.692Z"
   },
   {
    "duration": 194,
    "start_time": "2024-06-19T09:24:27.794Z"
   },
   {
    "duration": 96,
    "start_time": "2024-06-19T09:24:27.990Z"
   },
   {
    "duration": 2897,
    "start_time": "2024-06-19T09:24:28.088Z"
   },
   {
    "duration": 3297,
    "start_time": "2024-06-19T09:24:30.986Z"
   },
   {
    "duration": 1900,
    "start_time": "2024-06-19T09:24:34.289Z"
   },
   {
    "duration": 1496,
    "start_time": "2024-06-19T09:24:36.193Z"
   },
   {
    "duration": 204,
    "start_time": "2024-06-19T09:24:37.785Z"
   },
   {
    "duration": 1911,
    "start_time": "2024-06-19T09:24:38.085Z"
   },
   {
    "duration": 991,
    "start_time": "2024-06-19T09:24:40.000Z"
   },
   {
    "duration": 0,
    "start_time": "2024-06-19T09:24:40.992Z"
   },
   {
    "duration": 0,
    "start_time": "2024-06-19T09:24:40.993Z"
   },
   {
    "duration": 0,
    "start_time": "2024-06-19T09:24:40.994Z"
   },
   {
    "duration": 0,
    "start_time": "2024-06-19T09:24:40.994Z"
   },
   {
    "duration": 0,
    "start_time": "2024-06-19T09:24:40.995Z"
   },
   {
    "duration": 1405,
    "start_time": "2024-06-19T09:24:56.185Z"
   },
   {
    "duration": 7991,
    "start_time": "2024-06-19T09:25:26.592Z"
   },
   {
    "duration": 2,
    "start_time": "2024-06-19T09:25:34.586Z"
   },
   {
    "duration": 202,
    "start_time": "2024-06-19T09:25:34.592Z"
   },
   {
    "duration": 189,
    "start_time": "2024-06-19T09:25:34.896Z"
   },
   {
    "duration": 102,
    "start_time": "2024-06-19T09:25:35.087Z"
   },
   {
    "duration": 5,
    "start_time": "2024-06-19T09:25:35.284Z"
   },
   {
    "duration": 96,
    "start_time": "2024-06-19T09:25:35.291Z"
   },
   {
    "duration": 97,
    "start_time": "2024-06-19T09:25:35.388Z"
   },
   {
    "duration": 99,
    "start_time": "2024-06-19T09:25:35.486Z"
   },
   {
    "duration": 295,
    "start_time": "2024-06-19T09:25:35.588Z"
   },
   {
    "duration": 6,
    "start_time": "2024-06-19T09:25:35.885Z"
   },
   {
    "duration": 3095,
    "start_time": "2024-06-19T09:25:35.895Z"
   },
   {
    "duration": 3208,
    "start_time": "2024-06-19T09:25:38.991Z"
   },
   {
    "duration": 1797,
    "start_time": "2024-06-19T09:25:42.200Z"
   },
   {
    "duration": 1791,
    "start_time": "2024-06-19T09:25:43.998Z"
   },
   {
    "duration": 810,
    "start_time": "2024-06-19T09:25:45.885Z"
   },
   {
    "duration": 0,
    "start_time": "2024-06-19T09:25:46.701Z"
   },
   {
    "duration": 0,
    "start_time": "2024-06-19T09:25:46.701Z"
   },
   {
    "duration": 0,
    "start_time": "2024-06-19T09:25:46.702Z"
   },
   {
    "duration": 0,
    "start_time": "2024-06-19T09:25:46.703Z"
   },
   {
    "duration": 0,
    "start_time": "2024-06-19T09:25:46.703Z"
   },
   {
    "duration": 0,
    "start_time": "2024-06-19T09:25:46.704Z"
   },
   {
    "duration": 0,
    "start_time": "2024-06-19T09:25:46.790Z"
   },
   {
    "duration": 7904,
    "start_time": "2024-06-19T09:26:15.390Z"
   },
   {
    "duration": 91,
    "start_time": "2024-06-19T09:26:23.296Z"
   },
   {
    "duration": 398,
    "start_time": "2024-06-19T09:26:23.388Z"
   },
   {
    "duration": 104,
    "start_time": "2024-06-19T09:26:23.789Z"
   },
   {
    "duration": 95,
    "start_time": "2024-06-19T09:26:23.895Z"
   },
   {
    "duration": 92,
    "start_time": "2024-06-19T09:26:23.996Z"
   },
   {
    "duration": 99,
    "start_time": "2024-06-19T09:26:24.089Z"
   },
   {
    "duration": 104,
    "start_time": "2024-06-19T09:26:24.189Z"
   },
   {
    "duration": 101,
    "start_time": "2024-06-19T09:26:24.294Z"
   },
   {
    "duration": 100,
    "start_time": "2024-06-19T09:26:24.396Z"
   },
   {
    "duration": 110,
    "start_time": "2024-06-19T09:26:24.585Z"
   },
   {
    "duration": 2986,
    "start_time": "2024-06-19T09:26:24.699Z"
   },
   {
    "duration": 3100,
    "start_time": "2024-06-19T09:26:27.686Z"
   },
   {
    "duration": 1994,
    "start_time": "2024-06-19T09:26:30.791Z"
   },
   {
    "duration": 1597,
    "start_time": "2024-06-19T09:26:32.786Z"
   },
   {
    "duration": 299,
    "start_time": "2024-06-19T09:26:34.387Z"
   },
   {
    "duration": 1801,
    "start_time": "2024-06-19T09:26:34.687Z"
   },
   {
    "duration": 1493,
    "start_time": "2024-06-19T09:26:36.490Z"
   },
   {
    "duration": 823609,
    "start_time": "2024-06-19T09:26:37.986Z"
   },
   {
    "duration": 804,
    "start_time": "2024-06-19T09:40:21.687Z"
   },
   {
    "duration": 0,
    "start_time": "2024-06-19T09:40:22.495Z"
   },
   {
    "duration": 0,
    "start_time": "2024-06-19T09:40:22.499Z"
   },
   {
    "duration": 0,
    "start_time": "2024-06-19T09:40:22.501Z"
   },
   {
    "duration": 7805,
    "start_time": "2024-06-19T09:41:45.890Z"
   },
   {
    "duration": 93,
    "start_time": "2024-06-19T09:41:53.791Z"
   },
   {
    "duration": 597,
    "start_time": "2024-06-19T09:41:53.886Z"
   },
   {
    "duration": 105,
    "start_time": "2024-06-19T09:41:54.487Z"
   },
   {
    "duration": 103,
    "start_time": "2024-06-19T09:41:54.595Z"
   },
   {
    "duration": 186,
    "start_time": "2024-06-19T09:41:54.700Z"
   },
   {
    "duration": 97,
    "start_time": "2024-06-19T09:41:54.890Z"
   },
   {
    "duration": 6,
    "start_time": "2024-06-19T09:41:54.988Z"
   },
   {
    "duration": 94,
    "start_time": "2024-06-19T09:41:54.998Z"
   },
   {
    "duration": 190,
    "start_time": "2024-06-19T09:41:55.094Z"
   },
   {
    "duration": 7,
    "start_time": "2024-06-19T09:41:55.286Z"
   },
   {
    "duration": 3001,
    "start_time": "2024-06-19T09:41:55.384Z"
   },
   {
    "duration": 2901,
    "start_time": "2024-06-19T09:41:58.386Z"
   },
   {
    "duration": 1802,
    "start_time": "2024-06-19T09:42:01.289Z"
   },
   {
    "duration": 1698,
    "start_time": "2024-06-19T09:42:03.092Z"
   },
   {
    "duration": 206,
    "start_time": "2024-06-19T09:42:04.795Z"
   },
   {
    "duration": 1891,
    "start_time": "2024-06-19T09:42:05.104Z"
   },
   {
    "duration": 1509,
    "start_time": "2024-06-19T09:42:07.085Z"
   },
   {
    "duration": 855903,
    "start_time": "2024-06-19T09:42:08.685Z"
   },
   {
    "duration": 1235,
    "start_time": "2024-06-19T10:14:20.698Z"
   },
   {
    "duration": 3,
    "start_time": "2024-06-19T10:14:21.934Z"
   },
   {
    "duration": 64,
    "start_time": "2024-06-19T10:14:21.938Z"
   },
   {
    "duration": 9,
    "start_time": "2024-06-19T10:14:22.004Z"
   },
   {
    "duration": 11,
    "start_time": "2024-06-19T10:14:22.014Z"
   },
   {
    "duration": 11,
    "start_time": "2024-06-19T10:14:22.026Z"
   },
   {
    "duration": 11,
    "start_time": "2024-06-19T10:14:22.038Z"
   },
   {
    "duration": 15,
    "start_time": "2024-06-19T10:14:22.050Z"
   },
   {
    "duration": 15,
    "start_time": "2024-06-19T10:14:22.066Z"
   },
   {
    "duration": 9,
    "start_time": "2024-06-19T10:14:22.083Z"
   },
   {
    "duration": 6,
    "start_time": "2024-06-19T10:14:22.094Z"
   },
   {
    "duration": 456,
    "start_time": "2024-06-19T10:14:22.101Z"
   },
   {
    "duration": 499,
    "start_time": "2024-06-19T10:14:22.559Z"
   },
   {
    "duration": 319,
    "start_time": "2024-06-19T10:14:23.059Z"
   },
   {
    "duration": 271,
    "start_time": "2024-06-19T10:14:23.383Z"
   },
   {
    "duration": 29,
    "start_time": "2024-06-19T10:14:23.656Z"
   },
   {
    "duration": 232,
    "start_time": "2024-06-19T10:14:23.686Z"
   },
   {
    "duration": 664,
    "start_time": "2024-06-19T10:14:23.920Z"
   },
   {
    "duration": 55829,
    "start_time": "2024-06-19T10:14:24.586Z"
   },
   {
    "duration": 1325,
    "start_time": "2024-06-19T10:23:18.511Z"
   },
   {
    "duration": 3,
    "start_time": "2024-06-19T10:23:19.837Z"
   },
   {
    "duration": 53,
    "start_time": "2024-06-19T10:23:19.841Z"
   },
   {
    "duration": 10,
    "start_time": "2024-06-19T10:23:19.895Z"
   },
   {
    "duration": 9,
    "start_time": "2024-06-19T10:23:19.907Z"
   },
   {
    "duration": 4,
    "start_time": "2024-06-19T10:23:19.918Z"
   },
   {
    "duration": 5,
    "start_time": "2024-06-19T10:23:19.923Z"
   },
   {
    "duration": 4,
    "start_time": "2024-06-19T10:23:19.929Z"
   },
   {
    "duration": 17,
    "start_time": "2024-06-19T10:23:19.934Z"
   },
   {
    "duration": 31,
    "start_time": "2024-06-19T10:23:19.953Z"
   },
   {
    "duration": 5,
    "start_time": "2024-06-19T10:23:19.986Z"
   },
   {
    "duration": 513,
    "start_time": "2024-06-19T10:23:19.992Z"
   },
   {
    "duration": 452,
    "start_time": "2024-06-19T10:23:20.507Z"
   },
   {
    "duration": 327,
    "start_time": "2024-06-19T10:23:20.961Z"
   },
   {
    "duration": 270,
    "start_time": "2024-06-19T10:23:21.289Z"
   },
   {
    "duration": 26,
    "start_time": "2024-06-19T10:23:21.560Z"
   },
   {
    "duration": 239,
    "start_time": "2024-06-19T10:23:21.588Z"
   },
   {
    "duration": 467,
    "start_time": "2024-06-19T10:23:21.828Z"
   },
   {
    "duration": 59632,
    "start_time": "2024-06-19T10:23:22.297Z"
   },
   {
    "duration": 10,
    "start_time": "2024-06-19T10:24:21.931Z"
   },
   {
    "duration": 7,
    "start_time": "2024-06-19T10:24:21.943Z"
   },
   {
    "duration": 5,
    "start_time": "2024-06-19T10:24:21.951Z"
   },
   {
    "duration": 2930,
    "start_time": "2024-06-19T10:25:12.726Z"
   },
   {
    "duration": 1282,
    "start_time": "2024-06-19T10:33:12.953Z"
   },
   {
    "duration": 3,
    "start_time": "2024-06-19T10:33:14.237Z"
   },
   {
    "duration": 60,
    "start_time": "2024-06-19T10:33:14.241Z"
   },
   {
    "duration": 11,
    "start_time": "2024-06-19T10:33:14.303Z"
   },
   {
    "duration": 9,
    "start_time": "2024-06-19T10:33:14.316Z"
   },
   {
    "duration": 5,
    "start_time": "2024-06-19T10:33:14.327Z"
   },
   {
    "duration": 4,
    "start_time": "2024-06-19T10:33:14.333Z"
   },
   {
    "duration": 5,
    "start_time": "2024-06-19T10:33:14.338Z"
   },
   {
    "duration": 12,
    "start_time": "2024-06-19T10:33:14.345Z"
   },
   {
    "duration": 36,
    "start_time": "2024-06-19T10:33:14.360Z"
   },
   {
    "duration": 6,
    "start_time": "2024-06-19T10:33:14.398Z"
   },
   {
    "duration": 464,
    "start_time": "2024-06-19T10:33:14.405Z"
   },
   {
    "duration": 475,
    "start_time": "2024-06-19T10:33:14.871Z"
   },
   {
    "duration": 345,
    "start_time": "2024-06-19T10:33:15.347Z"
   },
   {
    "duration": 271,
    "start_time": "2024-06-19T10:33:15.693Z"
   },
   {
    "duration": 32,
    "start_time": "2024-06-19T10:33:15.965Z"
   },
   {
    "duration": 242,
    "start_time": "2024-06-19T10:33:16.001Z"
   },
   {
    "duration": 131,
    "start_time": "2024-06-19T10:33:16.244Z"
   },
   {
    "duration": 0,
    "start_time": "2024-06-19T10:33:16.377Z"
   },
   {
    "duration": 0,
    "start_time": "2024-06-19T10:33:16.377Z"
   },
   {
    "duration": 0,
    "start_time": "2024-06-19T10:33:16.378Z"
   },
   {
    "duration": 0,
    "start_time": "2024-06-19T10:33:16.379Z"
   },
   {
    "duration": 1389,
    "start_time": "2024-06-19T10:40:29.229Z"
   },
   {
    "duration": 3,
    "start_time": "2024-06-19T10:40:30.619Z"
   },
   {
    "duration": 99,
    "start_time": "2024-06-19T10:40:30.623Z"
   },
   {
    "duration": 15,
    "start_time": "2024-06-19T10:40:30.724Z"
   },
   {
    "duration": 67,
    "start_time": "2024-06-19T10:40:30.740Z"
   },
   {
    "duration": 23,
    "start_time": "2024-06-19T10:40:30.809Z"
   },
   {
    "duration": 79,
    "start_time": "2024-06-19T10:40:30.833Z"
   },
   {
    "duration": 85,
    "start_time": "2024-06-19T10:40:30.913Z"
   },
   {
    "duration": 56,
    "start_time": "2024-06-19T10:40:31.000Z"
   },
   {
    "duration": 46,
    "start_time": "2024-06-19T10:40:31.059Z"
   },
   {
    "duration": 28,
    "start_time": "2024-06-19T10:40:31.107Z"
   },
   {
    "duration": 562,
    "start_time": "2024-06-19T10:40:31.136Z"
   },
   {
    "duration": 506,
    "start_time": "2024-06-19T10:40:31.699Z"
   },
   {
    "duration": 336,
    "start_time": "2024-06-19T10:40:32.206Z"
   },
   {
    "duration": 332,
    "start_time": "2024-06-19T10:40:32.544Z"
   },
   {
    "duration": 42,
    "start_time": "2024-06-19T10:40:32.878Z"
   },
   {
    "duration": 279,
    "start_time": "2024-06-19T10:40:32.921Z"
   },
   {
    "duration": 487,
    "start_time": "2024-06-19T10:40:33.202Z"
   },
   {
    "duration": 65068,
    "start_time": "2024-06-19T10:40:33.690Z"
   },
   {
    "duration": 8,
    "start_time": "2024-06-19T10:41:38.759Z"
   },
   {
    "duration": 5,
    "start_time": "2024-06-19T10:41:38.769Z"
   },
   {
    "duration": 2927,
    "start_time": "2024-06-19T10:41:38.775Z"
   },
   {
    "duration": 1242,
    "start_time": "2024-06-19T11:33:02.171Z"
   },
   {
    "duration": 3,
    "start_time": "2024-06-19T11:33:03.414Z"
   },
   {
    "duration": 51,
    "start_time": "2024-06-19T11:33:03.418Z"
   },
   {
    "duration": 9,
    "start_time": "2024-06-19T11:33:03.471Z"
   },
   {
    "duration": 20,
    "start_time": "2024-06-19T11:33:03.482Z"
   },
   {
    "duration": 5,
    "start_time": "2024-06-19T11:33:03.503Z"
   },
   {
    "duration": 5,
    "start_time": "2024-06-19T11:33:03.510Z"
   },
   {
    "duration": 2,
    "start_time": "2024-06-19T11:33:03.517Z"
   },
   {
    "duration": 16,
    "start_time": "2024-06-19T11:33:03.521Z"
   },
   {
    "duration": 13,
    "start_time": "2024-06-19T11:33:03.539Z"
   },
   {
    "duration": 6,
    "start_time": "2024-06-19T11:33:03.553Z"
   },
   {
    "duration": 504,
    "start_time": "2024-06-19T11:33:03.561Z"
   },
   {
    "duration": 477,
    "start_time": "2024-06-19T11:33:04.067Z"
   },
   {
    "duration": 327,
    "start_time": "2024-06-19T11:33:04.545Z"
   },
   {
    "duration": 279,
    "start_time": "2024-06-19T11:33:04.873Z"
   },
   {
    "duration": 18,
    "start_time": "2024-06-19T11:33:05.153Z"
   },
   {
    "duration": 237,
    "start_time": "2024-06-19T11:33:05.184Z"
   },
   {
    "duration": 579,
    "start_time": "2024-06-19T11:33:05.422Z"
   },
   {
    "duration": 61598,
    "start_time": "2024-06-19T11:33:06.003Z"
   },
   {
    "duration": 11,
    "start_time": "2024-06-19T11:34:07.602Z"
   },
   {
    "duration": 15,
    "start_time": "2024-06-19T11:34:07.614Z"
   },
   {
    "duration": 136,
    "start_time": "2024-06-19T11:34:07.630Z"
   },
   {
    "duration": 4446,
    "start_time": "2024-06-19T11:41:50.725Z"
   },
   {
    "duration": 9621,
    "start_time": "2024-06-19T11:42:00.507Z"
   },
   {
    "duration": 1260,
    "start_time": "2024-06-19T11:42:34.452Z"
   },
   {
    "duration": 3,
    "start_time": "2024-06-19T11:42:35.714Z"
   },
   {
    "duration": 53,
    "start_time": "2024-06-19T11:42:35.718Z"
   },
   {
    "duration": 8,
    "start_time": "2024-06-19T11:42:35.773Z"
   },
   {
    "duration": 22,
    "start_time": "2024-06-19T11:42:35.782Z"
   },
   {
    "duration": 16,
    "start_time": "2024-06-19T11:42:35.805Z"
   },
   {
    "duration": 11,
    "start_time": "2024-06-19T11:42:35.822Z"
   },
   {
    "duration": 12,
    "start_time": "2024-06-19T11:42:35.834Z"
   },
   {
    "duration": 11,
    "start_time": "2024-06-19T11:42:35.848Z"
   },
   {
    "duration": 11,
    "start_time": "2024-06-19T11:42:35.862Z"
   },
   {
    "duration": 7,
    "start_time": "2024-06-19T11:42:35.874Z"
   },
   {
    "duration": 567,
    "start_time": "2024-06-19T11:42:35.882Z"
   },
   {
    "duration": 531,
    "start_time": "2024-06-19T11:42:36.451Z"
   },
   {
    "duration": 310,
    "start_time": "2024-06-19T11:42:36.991Z"
   },
   {
    "duration": 284,
    "start_time": "2024-06-19T11:42:37.303Z"
   },
   {
    "duration": 28,
    "start_time": "2024-06-19T11:42:37.588Z"
   },
   {
    "duration": 265,
    "start_time": "2024-06-19T11:42:37.617Z"
   },
   {
    "duration": 504,
    "start_time": "2024-06-19T11:42:37.891Z"
   },
   {
    "duration": 62651,
    "start_time": "2024-06-19T11:42:38.397Z"
   },
   {
    "duration": 8,
    "start_time": "2024-06-19T11:43:41.049Z"
   },
   {
    "duration": 4,
    "start_time": "2024-06-19T11:43:41.058Z"
   },
   {
    "duration": 2772,
    "start_time": "2024-06-19T11:43:41.063Z"
   },
   {
    "duration": 8321,
    "start_time": "2024-06-19T11:43:43.837Z"
   },
   {
    "duration": 1302,
    "start_time": "2024-06-19T11:45:48.607Z"
   },
   {
    "duration": 2,
    "start_time": "2024-06-19T11:45:49.911Z"
   },
   {
    "duration": 46,
    "start_time": "2024-06-19T11:45:49.914Z"
   },
   {
    "duration": 8,
    "start_time": "2024-06-19T11:45:49.961Z"
   },
   {
    "duration": 9,
    "start_time": "2024-06-19T11:45:49.970Z"
   },
   {
    "duration": 12,
    "start_time": "2024-06-19T11:45:49.980Z"
   },
   {
    "duration": 3,
    "start_time": "2024-06-19T11:45:49.997Z"
   },
   {
    "duration": 8,
    "start_time": "2024-06-19T11:45:50.001Z"
   },
   {
    "duration": 13,
    "start_time": "2024-06-19T11:45:50.010Z"
   },
   {
    "duration": 12,
    "start_time": "2024-06-19T11:45:50.025Z"
   },
   {
    "duration": 5,
    "start_time": "2024-06-19T11:45:50.038Z"
   },
   {
    "duration": 505,
    "start_time": "2024-06-19T11:45:50.044Z"
   },
   {
    "duration": 529,
    "start_time": "2024-06-19T11:45:50.550Z"
   },
   {
    "duration": 320,
    "start_time": "2024-06-19T11:45:51.080Z"
   },
   {
    "duration": 253,
    "start_time": "2024-06-19T11:45:51.402Z"
   },
   {
    "duration": 33,
    "start_time": "2024-06-19T11:45:51.657Z"
   },
   {
    "duration": 250,
    "start_time": "2024-06-19T11:45:51.691Z"
   },
   {
    "duration": 468,
    "start_time": "2024-06-19T11:45:51.943Z"
   },
   {
    "duration": 63029,
    "start_time": "2024-06-19T11:45:52.489Z"
   },
   {
    "duration": 7,
    "start_time": "2024-06-19T11:46:55.520Z"
   },
   {
    "duration": 6,
    "start_time": "2024-06-19T11:46:55.528Z"
   },
   {
    "duration": 3211,
    "start_time": "2024-06-19T11:46:55.536Z"
   },
   {
    "duration": 1329,
    "start_time": "2024-06-19T12:03:25.660Z"
   },
   {
    "duration": 4,
    "start_time": "2024-06-19T12:03:27.001Z"
   },
   {
    "duration": 49,
    "start_time": "2024-06-19T12:03:27.006Z"
   },
   {
    "duration": 8,
    "start_time": "2024-06-19T12:03:27.057Z"
   },
   {
    "duration": 12,
    "start_time": "2024-06-19T12:03:27.066Z"
   },
   {
    "duration": 6,
    "start_time": "2024-06-19T12:03:27.079Z"
   },
   {
    "duration": 17,
    "start_time": "2024-06-19T12:03:27.087Z"
   },
   {
    "duration": 5,
    "start_time": "2024-06-19T12:03:27.106Z"
   },
   {
    "duration": 10,
    "start_time": "2024-06-19T12:03:27.113Z"
   },
   {
    "duration": 13,
    "start_time": "2024-06-19T12:03:27.125Z"
   },
   {
    "duration": 6,
    "start_time": "2024-06-19T12:03:27.140Z"
   },
   {
    "duration": 513,
    "start_time": "2024-06-19T12:03:27.148Z"
   },
   {
    "duration": 477,
    "start_time": "2024-06-19T12:03:27.662Z"
   },
   {
    "duration": 338,
    "start_time": "2024-06-19T12:03:28.140Z"
   },
   {
    "duration": 278,
    "start_time": "2024-06-19T12:03:28.483Z"
   },
   {
    "duration": 39,
    "start_time": "2024-06-19T12:03:28.762Z"
   },
   {
    "duration": 230,
    "start_time": "2024-06-19T12:03:28.802Z"
   },
   {
    "duration": 551,
    "start_time": "2024-06-19T12:03:29.033Z"
   },
   {
    "duration": 63546,
    "start_time": "2024-06-19T12:03:29.589Z"
   },
   {
    "duration": 1335,
    "start_time": "2024-06-19T12:11:40.329Z"
   },
   {
    "duration": 3,
    "start_time": "2024-06-19T12:11:41.666Z"
   },
   {
    "duration": 65,
    "start_time": "2024-06-19T12:11:41.670Z"
   },
   {
    "duration": 8,
    "start_time": "2024-06-19T12:11:41.737Z"
   },
   {
    "duration": 8,
    "start_time": "2024-06-19T12:11:41.746Z"
   },
   {
    "duration": 8,
    "start_time": "2024-06-19T12:11:41.756Z"
   },
   {
    "duration": 10,
    "start_time": "2024-06-19T12:11:41.765Z"
   },
   {
    "duration": 21,
    "start_time": "2024-06-19T12:11:41.776Z"
   },
   {
    "duration": 11,
    "start_time": "2024-06-19T12:11:41.798Z"
   },
   {
    "duration": 10,
    "start_time": "2024-06-19T12:11:41.811Z"
   },
   {
    "duration": 5,
    "start_time": "2024-06-19T12:11:41.823Z"
   },
   {
    "duration": 471,
    "start_time": "2024-06-19T12:11:41.830Z"
   },
   {
    "duration": 507,
    "start_time": "2024-06-19T12:11:42.302Z"
   },
   {
    "duration": 380,
    "start_time": "2024-06-19T12:11:42.811Z"
   },
   {
    "duration": 348,
    "start_time": "2024-06-19T12:11:43.193Z"
   },
   {
    "duration": 19,
    "start_time": "2024-06-19T12:11:43.543Z"
   },
   {
    "duration": 257,
    "start_time": "2024-06-19T12:11:43.564Z"
   },
   {
    "duration": 766,
    "start_time": "2024-06-19T12:11:43.822Z"
   },
   {
    "duration": 68151,
    "start_time": "2024-06-19T12:11:44.591Z"
   },
   {
    "duration": 2411149,
    "start_time": "2024-06-19T12:12:52.743Z"
   },
   {
    "duration": 10,
    "start_time": "2024-06-19T12:53:03.893Z"
   },
   {
    "duration": 13,
    "start_time": "2024-06-19T12:53:03.904Z"
   },
   {
    "duration": 18539,
    "start_time": "2024-06-19T12:53:03.918Z"
   },
   {
    "duration": 2633,
    "start_time": "2024-06-19T12:59:21.962Z"
   },
   {
    "duration": 1266,
    "start_time": "2024-06-19T13:02:30.153Z"
   },
   {
    "duration": 2,
    "start_time": "2024-06-19T13:02:31.421Z"
   },
   {
    "duration": 142,
    "start_time": "2024-06-19T13:02:31.424Z"
   },
   {
    "duration": 45,
    "start_time": "2024-06-19T13:02:31.568Z"
   },
   {
    "duration": 92,
    "start_time": "2024-06-19T13:02:31.614Z"
   },
   {
    "duration": 130,
    "start_time": "2024-06-19T13:02:31.707Z"
   },
   {
    "duration": 40,
    "start_time": "2024-06-19T13:02:31.839Z"
   },
   {
    "duration": 54,
    "start_time": "2024-06-19T13:02:31.880Z"
   },
   {
    "duration": 63,
    "start_time": "2024-06-19T13:02:31.935Z"
   },
   {
    "duration": 63,
    "start_time": "2024-06-19T13:02:32.000Z"
   },
   {
    "duration": 65,
    "start_time": "2024-06-19T13:02:32.064Z"
   },
   {
    "duration": 542,
    "start_time": "2024-06-19T13:02:32.131Z"
   },
   {
    "duration": 470,
    "start_time": "2024-06-19T13:02:32.675Z"
   },
   {
    "duration": 338,
    "start_time": "2024-06-19T13:02:33.146Z"
   },
   {
    "duration": 268,
    "start_time": "2024-06-19T13:02:33.486Z"
   },
   {
    "duration": 30,
    "start_time": "2024-06-19T13:02:33.755Z"
   },
   {
    "duration": 401,
    "start_time": "2024-06-19T13:02:33.787Z"
   },
   {
    "duration": 320,
    "start_time": "2024-06-19T13:02:34.190Z"
   },
   {
    "duration": 56033,
    "start_time": "2024-06-19T13:02:34.511Z"
   },
   {
    "duration": 840,
    "start_time": "2024-06-19T13:03:30.545Z"
   },
   {
    "duration": 8,
    "start_time": "2024-06-19T13:03:31.387Z"
   },
   {
    "duration": 71,
    "start_time": "2024-06-19T13:03:31.396Z"
   },
   {
    "duration": 2769,
    "start_time": "2024-06-19T13:03:31.468Z"
   },
   {
    "duration": 110,
    "start_time": "2024-06-19T13:03:57.273Z"
   },
   {
    "duration": 1244,
    "start_time": "2024-06-19T13:08:04.261Z"
   },
   {
    "duration": 3,
    "start_time": "2024-06-19T13:08:05.506Z"
   },
   {
    "duration": 91,
    "start_time": "2024-06-19T13:08:05.510Z"
   },
   {
    "duration": 8,
    "start_time": "2024-06-19T13:08:05.602Z"
   },
   {
    "duration": 32,
    "start_time": "2024-06-19T13:08:05.612Z"
   },
   {
    "duration": 17,
    "start_time": "2024-06-19T13:08:05.645Z"
   },
   {
    "duration": 37,
    "start_time": "2024-06-19T13:08:05.663Z"
   },
   {
    "duration": 23,
    "start_time": "2024-06-19T13:08:05.701Z"
   },
   {
    "duration": 38,
    "start_time": "2024-06-19T13:08:05.726Z"
   },
   {
    "duration": 9,
    "start_time": "2024-06-19T13:08:05.767Z"
   },
   {
    "duration": 6,
    "start_time": "2024-06-19T13:08:05.777Z"
   },
   {
    "duration": 481,
    "start_time": "2024-06-19T13:08:05.784Z"
   },
   {
    "duration": 504,
    "start_time": "2024-06-19T13:08:06.267Z"
   },
   {
    "duration": 329,
    "start_time": "2024-06-19T13:08:06.772Z"
   },
   {
    "duration": 310,
    "start_time": "2024-06-19T13:08:07.103Z"
   },
   {
    "duration": 19,
    "start_time": "2024-06-19T13:08:07.415Z"
   },
   {
    "duration": 450,
    "start_time": "2024-06-19T13:08:07.435Z"
   },
   {
    "duration": 346,
    "start_time": "2024-06-19T13:08:07.886Z"
   },
   {
    "duration": 57174,
    "start_time": "2024-06-19T13:08:08.233Z"
   },
   {
    "duration": 2876,
    "start_time": "2024-06-19T13:09:05.409Z"
   },
   {
    "duration": 9,
    "start_time": "2024-06-19T13:09:08.287Z"
   },
   {
    "duration": 29,
    "start_time": "2024-06-19T13:09:08.298Z"
   },
   {
    "duration": 2734,
    "start_time": "2024-06-19T13:09:08.328Z"
   },
   {
    "duration": 1262,
    "start_time": "2024-06-19T13:11:33.944Z"
   },
   {
    "duration": 2,
    "start_time": "2024-06-19T13:11:35.208Z"
   },
   {
    "duration": 44,
    "start_time": "2024-06-19T13:11:35.213Z"
   },
   {
    "duration": 8,
    "start_time": "2024-06-19T13:11:35.259Z"
   },
   {
    "duration": 10,
    "start_time": "2024-06-19T13:11:35.268Z"
   },
   {
    "duration": 7,
    "start_time": "2024-06-19T13:11:35.279Z"
   },
   {
    "duration": 6,
    "start_time": "2024-06-19T13:11:35.287Z"
   },
   {
    "duration": 3,
    "start_time": "2024-06-19T13:11:35.294Z"
   },
   {
    "duration": 7,
    "start_time": "2024-06-19T13:11:35.299Z"
   },
   {
    "duration": 9,
    "start_time": "2024-06-19T13:11:35.307Z"
   },
   {
    "duration": 5,
    "start_time": "2024-06-19T13:11:35.317Z"
   },
   {
    "duration": 457,
    "start_time": "2024-06-19T13:11:35.323Z"
   },
   {
    "duration": 490,
    "start_time": "2024-06-19T13:11:35.781Z"
   },
   {
    "duration": 315,
    "start_time": "2024-06-19T13:11:36.272Z"
   },
   {
    "duration": 276,
    "start_time": "2024-06-19T13:11:36.589Z"
   },
   {
    "duration": 27,
    "start_time": "2024-06-19T13:11:36.866Z"
   },
   {
    "duration": 591,
    "start_time": "2024-06-19T13:11:36.894Z"
   },
   {
    "duration": 116,
    "start_time": "2024-06-19T13:11:37.487Z"
   },
   {
    "duration": 0,
    "start_time": "2024-06-19T13:11:37.604Z"
   },
   {
    "duration": 0,
    "start_time": "2024-06-19T13:11:37.605Z"
   },
   {
    "duration": 0,
    "start_time": "2024-06-19T13:11:37.606Z"
   },
   {
    "duration": 0,
    "start_time": "2024-06-19T13:11:37.607Z"
   },
   {
    "duration": 0,
    "start_time": "2024-06-19T13:11:37.608Z"
   },
   {
    "duration": 0,
    "start_time": "2024-06-19T13:11:37.609Z"
   },
   {
    "duration": 1308,
    "start_time": "2024-06-19T13:12:22.806Z"
   },
   {
    "duration": 3,
    "start_time": "2024-06-19T13:12:24.115Z"
   },
   {
    "duration": 55,
    "start_time": "2024-06-19T13:12:24.119Z"
   },
   {
    "duration": 8,
    "start_time": "2024-06-19T13:12:24.176Z"
   },
   {
    "duration": 12,
    "start_time": "2024-06-19T13:12:24.186Z"
   },
   {
    "duration": 10,
    "start_time": "2024-06-19T13:12:24.199Z"
   },
   {
    "duration": 17,
    "start_time": "2024-06-19T13:12:24.210Z"
   },
   {
    "duration": 37,
    "start_time": "2024-06-19T13:12:24.229Z"
   },
   {
    "duration": 16,
    "start_time": "2024-06-19T13:12:24.267Z"
   },
   {
    "duration": 21,
    "start_time": "2024-06-19T13:12:24.286Z"
   },
   {
    "duration": 25,
    "start_time": "2024-06-19T13:12:24.308Z"
   },
   {
    "duration": 539,
    "start_time": "2024-06-19T13:12:24.334Z"
   },
   {
    "duration": 469,
    "start_time": "2024-06-19T13:12:24.874Z"
   },
   {
    "duration": 346,
    "start_time": "2024-06-19T13:12:25.344Z"
   },
   {
    "duration": 282,
    "start_time": "2024-06-19T13:12:25.692Z"
   },
   {
    "duration": 19,
    "start_time": "2024-06-19T13:12:25.985Z"
   },
   {
    "duration": 479,
    "start_time": "2024-06-19T13:12:26.006Z"
   },
   {
    "duration": 56335,
    "start_time": "2024-06-19T13:12:26.486Z"
   },
   {
    "duration": 92161,
    "start_time": "2024-06-19T13:13:22.823Z"
   },
   {
    "duration": 8,
    "start_time": "2024-06-19T13:14:54.986Z"
   },
   {
    "duration": 40,
    "start_time": "2024-06-19T13:14:54.995Z"
   },
   {
    "duration": 9,
    "start_time": "2024-06-19T13:14:55.036Z"
   },
   {
    "duration": 128,
    "start_time": "2024-06-19T13:14:55.046Z"
   },
   {
    "duration": 0,
    "start_time": "2024-06-19T13:14:55.175Z"
   },
   {
    "duration": 1233,
    "start_time": "2024-06-19T13:15:37.996Z"
   },
   {
    "duration": 3,
    "start_time": "2024-06-19T13:15:39.231Z"
   },
   {
    "duration": 50,
    "start_time": "2024-06-19T13:15:39.235Z"
   },
   {
    "duration": 9,
    "start_time": "2024-06-19T13:15:39.287Z"
   },
   {
    "duration": 8,
    "start_time": "2024-06-19T13:15:39.298Z"
   },
   {
    "duration": 4,
    "start_time": "2024-06-19T13:15:39.307Z"
   },
   {
    "duration": 6,
    "start_time": "2024-06-19T13:15:39.312Z"
   },
   {
    "duration": 3,
    "start_time": "2024-06-19T13:15:39.319Z"
   },
   {
    "duration": 8,
    "start_time": "2024-06-19T13:15:39.324Z"
   },
   {
    "duration": 9,
    "start_time": "2024-06-19T13:15:39.333Z"
   },
   {
    "duration": 43,
    "start_time": "2024-06-19T13:15:39.343Z"
   },
   {
    "duration": 478,
    "start_time": "2024-06-19T13:15:39.387Z"
   },
   {
    "duration": 484,
    "start_time": "2024-06-19T13:15:39.867Z"
   },
   {
    "duration": 341,
    "start_time": "2024-06-19T13:15:40.353Z"
   },
   {
    "duration": 265,
    "start_time": "2024-06-19T13:15:40.696Z"
   },
   {
    "duration": 30,
    "start_time": "2024-06-19T13:15:40.962Z"
   },
   {
    "duration": 493,
    "start_time": "2024-06-19T13:15:40.994Z"
   },
   {
    "duration": 55952,
    "start_time": "2024-06-19T13:15:41.489Z"
   },
   {
    "duration": 1398,
    "start_time": "2024-06-19T13:19:51.686Z"
   },
   {
    "duration": 2,
    "start_time": "2024-06-19T13:19:53.086Z"
   },
   {
    "duration": 63,
    "start_time": "2024-06-19T13:19:53.090Z"
   },
   {
    "duration": 10,
    "start_time": "2024-06-19T13:19:53.155Z"
   },
   {
    "duration": 44,
    "start_time": "2024-06-19T13:19:53.167Z"
   },
   {
    "duration": 14,
    "start_time": "2024-06-19T13:19:53.213Z"
   },
   {
    "duration": 21,
    "start_time": "2024-06-19T13:19:53.228Z"
   },
   {
    "duration": 27,
    "start_time": "2024-06-19T13:19:53.251Z"
   },
   {
    "duration": 21,
    "start_time": "2024-06-19T13:19:53.279Z"
   },
   {
    "duration": 40,
    "start_time": "2024-06-19T13:19:53.303Z"
   },
   {
    "duration": 36,
    "start_time": "2024-06-19T13:19:53.345Z"
   },
   {
    "duration": 574,
    "start_time": "2024-06-19T13:19:53.383Z"
   },
   {
    "duration": 502,
    "start_time": "2024-06-19T13:19:53.959Z"
   },
   {
    "duration": 353,
    "start_time": "2024-06-19T13:19:54.463Z"
   },
   {
    "duration": 344,
    "start_time": "2024-06-19T13:19:54.818Z"
   },
   {
    "duration": 34,
    "start_time": "2024-06-19T13:19:55.163Z"
   },
   {
    "duration": 485,
    "start_time": "2024-06-19T13:19:55.199Z"
   },
   {
    "duration": 60668,
    "start_time": "2024-06-19T13:19:55.687Z"
   },
   {
    "duration": 1269,
    "start_time": "2024-06-19T13:28:09.724Z"
   },
   {
    "duration": 2,
    "start_time": "2024-06-19T13:28:10.995Z"
   },
   {
    "duration": 49,
    "start_time": "2024-06-19T13:28:10.998Z"
   },
   {
    "duration": 8,
    "start_time": "2024-06-19T13:28:11.049Z"
   },
   {
    "duration": 10,
    "start_time": "2024-06-19T13:28:11.058Z"
   },
   {
    "duration": 4,
    "start_time": "2024-06-19T13:28:11.069Z"
   },
   {
    "duration": 5,
    "start_time": "2024-06-19T13:28:11.074Z"
   },
   {
    "duration": 5,
    "start_time": "2024-06-19T13:28:11.080Z"
   },
   {
    "duration": 8,
    "start_time": "2024-06-19T13:28:11.086Z"
   },
   {
    "duration": 9,
    "start_time": "2024-06-19T13:28:11.097Z"
   },
   {
    "duration": 5,
    "start_time": "2024-06-19T13:28:11.107Z"
   },
   {
    "duration": 448,
    "start_time": "2024-06-19T13:28:11.113Z"
   },
   {
    "duration": 469,
    "start_time": "2024-06-19T13:28:11.562Z"
   },
   {
    "duration": 370,
    "start_time": "2024-06-19T13:28:12.033Z"
   },
   {
    "duration": 287,
    "start_time": "2024-06-19T13:28:12.405Z"
   },
   {
    "duration": 24,
    "start_time": "2024-06-19T13:28:12.694Z"
   },
   {
    "duration": 469,
    "start_time": "2024-06-19T13:28:12.719Z"
   },
   {
    "duration": 56063,
    "start_time": "2024-06-19T13:28:13.189Z"
   },
   {
    "duration": 1297,
    "start_time": "2024-06-19T13:32:00.727Z"
   },
   {
    "duration": 3,
    "start_time": "2024-06-19T13:32:02.026Z"
   },
   {
    "duration": 115,
    "start_time": "2024-06-19T13:32:02.031Z"
   },
   {
    "duration": 18,
    "start_time": "2024-06-19T13:32:02.148Z"
   },
   {
    "duration": 24,
    "start_time": "2024-06-19T13:32:02.168Z"
   },
   {
    "duration": 10,
    "start_time": "2024-06-19T13:32:02.193Z"
   },
   {
    "duration": 20,
    "start_time": "2024-06-19T13:32:02.205Z"
   },
   {
    "duration": 18,
    "start_time": "2024-06-19T13:32:02.226Z"
   },
   {
    "duration": 18,
    "start_time": "2024-06-19T13:32:02.246Z"
   },
   {
    "duration": 17,
    "start_time": "2024-06-19T13:32:02.267Z"
   },
   {
    "duration": 7,
    "start_time": "2024-06-19T13:32:02.286Z"
   },
   {
    "duration": 527,
    "start_time": "2024-06-19T13:32:02.294Z"
   },
   {
    "duration": 502,
    "start_time": "2024-06-19T13:32:02.823Z"
   },
   {
    "duration": 382,
    "start_time": "2024-06-19T13:32:03.327Z"
   },
   {
    "duration": 341,
    "start_time": "2024-06-19T13:32:03.710Z"
   },
   {
    "duration": 32,
    "start_time": "2024-06-19T13:32:04.053Z"
   },
   {
    "duration": 207,
    "start_time": "2024-06-19T13:32:04.086Z"
   },
   {
    "duration": 1310,
    "start_time": "2024-06-19T13:32:42.703Z"
   },
   {
    "duration": 3,
    "start_time": "2024-06-19T13:32:44.015Z"
   },
   {
    "duration": 57,
    "start_time": "2024-06-19T13:32:44.019Z"
   },
   {
    "duration": 9,
    "start_time": "2024-06-19T13:32:44.078Z"
   },
   {
    "duration": 16,
    "start_time": "2024-06-19T13:32:44.088Z"
   },
   {
    "duration": 12,
    "start_time": "2024-06-19T13:32:44.105Z"
   },
   {
    "duration": 15,
    "start_time": "2024-06-19T13:32:44.118Z"
   },
   {
    "duration": 35,
    "start_time": "2024-06-19T13:32:44.135Z"
   },
   {
    "duration": 16,
    "start_time": "2024-06-19T13:32:44.172Z"
   },
   {
    "duration": 13,
    "start_time": "2024-06-19T13:32:44.191Z"
   },
   {
    "duration": 7,
    "start_time": "2024-06-19T13:32:44.205Z"
   },
   {
    "duration": 492,
    "start_time": "2024-06-19T13:32:44.213Z"
   },
   {
    "duration": 471,
    "start_time": "2024-06-19T13:32:44.707Z"
   },
   {
    "duration": 346,
    "start_time": "2024-06-19T13:32:45.180Z"
   },
   {
    "duration": 311,
    "start_time": "2024-06-19T13:32:45.527Z"
   },
   {
    "duration": 17,
    "start_time": "2024-06-19T13:32:45.840Z"
   },
   {
    "duration": 327,
    "start_time": "2024-06-19T13:32:45.858Z"
   },
   {
    "duration": 1341,
    "start_time": "2024-06-19T13:33:41.697Z"
   },
   {
    "duration": 3,
    "start_time": "2024-06-19T13:33:43.040Z"
   },
   {
    "duration": 66,
    "start_time": "2024-06-19T13:33:43.045Z"
   },
   {
    "duration": 10,
    "start_time": "2024-06-19T13:33:43.112Z"
   },
   {
    "duration": 26,
    "start_time": "2024-06-19T13:33:43.123Z"
   },
   {
    "duration": 9,
    "start_time": "2024-06-19T13:33:43.150Z"
   },
   {
    "duration": 33,
    "start_time": "2024-06-19T13:33:43.161Z"
   },
   {
    "duration": 6,
    "start_time": "2024-06-19T13:33:43.195Z"
   },
   {
    "duration": 9,
    "start_time": "2024-06-19T13:33:43.202Z"
   },
   {
    "duration": 15,
    "start_time": "2024-06-19T13:33:43.212Z"
   },
   {
    "duration": 9,
    "start_time": "2024-06-19T13:33:43.229Z"
   },
   {
    "duration": 494,
    "start_time": "2024-06-19T13:33:43.239Z"
   },
   {
    "duration": 500,
    "start_time": "2024-06-19T13:33:43.736Z"
   },
   {
    "duration": 347,
    "start_time": "2024-06-19T13:33:44.238Z"
   },
   {
    "duration": 298,
    "start_time": "2024-06-19T13:33:44.586Z"
   },
   {
    "duration": 19,
    "start_time": "2024-06-19T13:33:44.886Z"
   },
   {
    "duration": 182,
    "start_time": "2024-06-19T13:33:44.907Z"
   },
   {
    "duration": 59479,
    "start_time": "2024-06-19T13:33:45.091Z"
   },
   {
    "duration": 1311867,
    "start_time": "2024-06-19T13:34:44.571Z"
   },
   {
    "duration": 0,
    "start_time": "2024-06-19T13:56:36.439Z"
   },
   {
    "duration": 0,
    "start_time": "2024-06-19T13:56:36.439Z"
   },
   {
    "duration": 0,
    "start_time": "2024-06-19T13:56:36.440Z"
   },
   {
    "duration": 0,
    "start_time": "2024-06-19T13:56:36.441Z"
   },
   {
    "duration": 1191,
    "start_time": "2024-06-19T14:02:16.218Z"
   },
   {
    "duration": 2,
    "start_time": "2024-06-19T14:02:17.411Z"
   },
   {
    "duration": 65,
    "start_time": "2024-06-19T14:02:17.414Z"
   },
   {
    "duration": 10,
    "start_time": "2024-06-19T14:02:17.480Z"
   },
   {
    "duration": 12,
    "start_time": "2024-06-19T14:02:17.492Z"
   },
   {
    "duration": 11,
    "start_time": "2024-06-19T14:02:17.506Z"
   },
   {
    "duration": 7,
    "start_time": "2024-06-19T14:02:17.518Z"
   },
   {
    "duration": 10,
    "start_time": "2024-06-19T14:02:17.526Z"
   },
   {
    "duration": 13,
    "start_time": "2024-06-19T14:02:17.537Z"
   },
   {
    "duration": 28,
    "start_time": "2024-06-19T14:02:17.551Z"
   },
   {
    "duration": 16,
    "start_time": "2024-06-19T14:02:17.580Z"
   },
   {
    "duration": 464,
    "start_time": "2024-06-19T14:02:17.597Z"
   },
   {
    "duration": 496,
    "start_time": "2024-06-19T14:02:18.063Z"
   },
   {
    "duration": 335,
    "start_time": "2024-06-19T14:02:18.560Z"
   },
   {
    "duration": 264,
    "start_time": "2024-06-19T14:02:18.897Z"
   },
   {
    "duration": 26,
    "start_time": "2024-06-19T14:02:19.163Z"
   },
   {
    "duration": 196,
    "start_time": "2024-06-19T14:02:19.191Z"
   },
   {
    "duration": 59773,
    "start_time": "2024-06-19T14:02:19.388Z"
   },
   {
    "duration": 1252621,
    "start_time": "2024-06-19T14:03:19.163Z"
   },
   {
    "duration": 7,
    "start_time": "2024-06-19T14:24:11.786Z"
   },
   {
    "duration": 17,
    "start_time": "2024-06-19T14:24:11.794Z"
   },
   {
    "duration": 8,
    "start_time": "2024-06-19T14:24:11.812Z"
   },
   {
    "duration": 2726,
    "start_time": "2024-06-19T14:24:11.821Z"
   },
   {
    "duration": 1271,
    "start_time": "2024-06-19T14:50:49.966Z"
   },
   {
    "duration": 2,
    "start_time": "2024-06-19T14:50:51.239Z"
   },
   {
    "duration": 58,
    "start_time": "2024-06-19T14:50:51.242Z"
   },
   {
    "duration": 8,
    "start_time": "2024-06-19T14:50:51.302Z"
   },
   {
    "duration": 8,
    "start_time": "2024-06-19T14:50:51.312Z"
   },
   {
    "duration": 5,
    "start_time": "2024-06-19T14:50:51.321Z"
   },
   {
    "duration": 6,
    "start_time": "2024-06-19T14:50:51.327Z"
   },
   {
    "duration": 12,
    "start_time": "2024-06-19T14:50:51.334Z"
   },
   {
    "duration": 19,
    "start_time": "2024-06-19T14:50:51.347Z"
   },
   {
    "duration": 10,
    "start_time": "2024-06-19T14:50:51.367Z"
   },
   {
    "duration": 7,
    "start_time": "2024-06-19T14:50:51.378Z"
   },
   {
    "duration": 466,
    "start_time": "2024-06-19T14:50:51.387Z"
   },
   {
    "duration": 497,
    "start_time": "2024-06-19T14:50:51.855Z"
   },
   {
    "duration": 343,
    "start_time": "2024-06-19T14:50:52.354Z"
   },
   {
    "duration": 329,
    "start_time": "2024-06-19T14:50:52.699Z"
   },
   {
    "duration": 18,
    "start_time": "2024-06-19T14:50:53.030Z"
   },
   {
    "duration": 241,
    "start_time": "2024-06-19T14:50:53.049Z"
   },
   {
    "duration": 60635,
    "start_time": "2024-06-19T14:50:53.292Z"
   },
   {
    "duration": 1986760,
    "start_time": "2024-06-19T14:51:53.928Z"
   },
   {
    "duration": 8,
    "start_time": "2024-06-19T15:25:00.690Z"
   },
   {
    "duration": 44,
    "start_time": "2024-06-19T15:25:00.700Z"
   },
   {
    "duration": 36,
    "start_time": "2024-06-19T15:25:00.746Z"
   },
   {
    "duration": 2967,
    "start_time": "2024-06-19T15:25:00.783Z"
   },
   {
    "duration": 79,
    "start_time": "2024-06-19T18:51:40.433Z"
   }
  ],
  "kernelspec": {
   "display_name": "Python 3 (ipykernel)",
   "language": "python",
   "name": "python3"
  },
  "language_info": {
   "codemirror_mode": {
    "name": "ipython",
    "version": 3
   },
   "file_extension": ".py",
   "mimetype": "text/x-python",
   "name": "python",
   "nbconvert_exporter": "python",
   "pygments_lexer": "ipython3",
   "version": "3.9.5"
  },
  "toc": {
   "base_numbering": 1,
   "nav_menu": {},
   "number_sections": true,
   "sideBar": true,
   "skip_h1_title": true,
   "title_cell": "Содержание",
   "title_sidebar": "Contents",
   "toc_cell": true,
   "toc_position": {
    "height": "calc(100% - 180px)",
    "left": "10px",
    "top": "150px",
    "width": "165px"
   },
   "toc_section_display": true,
   "toc_window_display": true
  }
 },
 "nbformat": 4,
 "nbformat_minor": 2
}
